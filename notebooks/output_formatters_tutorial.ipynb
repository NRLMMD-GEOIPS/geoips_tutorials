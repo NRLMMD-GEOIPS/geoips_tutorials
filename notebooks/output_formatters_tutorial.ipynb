{
 "cells": [
  {
   "cell_type": "markdown",
   "id": "a721a2c3",
   "metadata": {},
   "source": [
    "# Output Formatters Tutorial\n",
    "\n",
    "---"
   ]
  },
  {
   "cell_type": "markdown",
   "id": "f94a7c89",
   "metadata": {},
   "source": [
    "### To Get the Most Out of this Tutorial\n",
    "You may read more about the `output_formatter` plugin type <br/>\n",
    "on the accompanying slides [hosted at this link](https://docs.google.com/presentation/d/1wFbrP4RBdwf6Hx30adD9DN4jNZm1f0hVaHxV--encS0/edit?usp=sharing)."
   ]
  },
  {
   "cell_type": "markdown",
   "id": "f70c06d6",
   "metadata": {},
   "source": [
    "## System requirements  \n",
    "- **CPU:** 1 CPU  \n",
    "- **RAM:** 40GB as the notebook is written, but could use more if modified.  \n",
    "  Reading the entire full-disk ABI image can take up to 100GB.  \n",
    "- **Disk Space:** 3GB storage space.  \n",
    "  \n",
    "***To see the default storage location for your system, run the cell below.***  \n",
    "To change the default location, change the value of `tmp_root` in the following cell.  "
   ]
  },
  {
   "cell_type": "code",
   "execution_count": null,
   "id": "78fdf4f6",
   "metadata": {},
   "outputs": [],
   "source": [
    "import tempfile\n",
    "from pathlib import Path\n",
    "\n",
    "# Set this to a different path if you would like to use a different location\n",
    "# `tempfile.gettempdir()` returns a different location on different OS.\n",
    "\n",
    "# tmp_root = \"/use/this/path/instead\"\n",
    "tmp_root = Path(tempfile.gettempdir()) / \"geoips_tutorial_tempdirs\"\n",
    "\n",
    "print(f\"Notebook temporary storage path: {tmp_root}\")"
   ]
  },
  {
   "cell_type": "markdown",
   "id": "5e9c02b0",
   "metadata": {},
   "source": [
    "## Important notes  \n",
    "This notebook downloads approximately 2GB of data and produces another 1GB. It <br />\n",
    "is stored in the location reported by running the next cell.  \n",
    "  \n",
    "This notebook makes an attempt at cleaning up after itself, but it is <br />\n",
    "recommended that, when done using this notebook, you check to be sure that the <br />\n",
    "directory reported by the next cell has been deleted.  \n",
    "  \n",
    "## Setting up your Environment  \n",
    "  \n",
    "**If you don't have an environment already set up, please follow the steps 2 and 3 of the** <br />\n",
    "**instructions linked [here](https://nrlmmd-geoips.github.io/geoips/getting-started/installing/index.html) based on the architecture of your machine.**  \n",
    "  \n",
    "You can quit following the instructions after you've activated your geoips environment via <br />\n",
    "``conda activate geoips``.  \n",
    "  \n",
    "Run the cell below to set up your environment. This will initialize a session-specific <br />\n",
    "storage directory, add it to the global notebook environment, and add a hook that attempts <br />\n",
    "to clean up the temporary storage when the notebook is closed.  \n",
    "  \n",
    "❗***Important:*** While this notebook makes an effort to clean up after itself, if you <br />\n",
    "are running this notebook on your own system, ***it is advisable tomanually delete the <br />\n",
    "temporary directory reported above when you are done using the notebook.***"
   ]
  },
  {
   "cell_type": "code",
   "execution_count": null,
   "id": "b751b09e",
   "metadata": {},
   "outputs": [],
   "source": [
    "import dotenv\n",
    "from IPython import get_ipython\n",
    "import os\n",
    "\n",
    "from geoips.utils import notebook_environment\n",
    "\n",
    "# Sets up the environment and sets a global variable named `temp_dir`\n",
    "notebook_environment.setup(tmp_root)\n",
    "\n",
    "with open(\"./.env\", \"w\") as env_file:\n",
    "    env_file.writelines(\n",
    "        [\n",
    "            f\"GEOIPS_TESTDATA_DIR={get_ipython().user_ns['temp_dir']}/test_data\\n\",\n",
    "            f\"GEOIPS_OUTDIRS={get_ipython().user_ns['temp_dir']}/outdirs\\n\",\n",
    "            f\"GEOIPS_PACKAGES_DIR={get_ipython().user_ns['temp_dir']}\\n\",\n",
    "            f\"GEOIPS_REBUILD_REGISTRIES=True\",\n",
    "            f\"MY_PKG_DIR={get_ipython().user_ns['temp_dir']}/cool_plugins\\n\",\n",
    "            \"MY_PKG_NAME=cool_plugins\"\n",
    "        ],\n",
    "    )\n",
    "\n",
    "dotenv.load_dotenv(\"./.env\", override=True)\n",
    "\n",
    "if not os.path.exists(os.environ[\"GEOIPS_TESTDATA_DIR\"]):\n",
    "    os.makedirs(os.environ[\"GEOIPS_TESTDATA_DIR\"])\n",
    "if not os.path.exists(os.environ[\"GEOIPS_OUTDIRS\"]):\n",
    "    os.makedirs(os.environ[\"GEOIPS_OUTDIRS\"])\n"
   ]
  },
  {
   "cell_type": "code",
   "execution_count": null,
   "id": "9c04c5e2",
   "metadata": {},
   "outputs": [],
   "source": [
    "# Initial Setup:\n",
    "from glob import glob\n",
    "import xarray as xr\n",
    "import logging\n",
    "from datetime import datetime, timezone\n",
    "import geoips\n",
    "\n",
    "LOG = logging.getLogger(__name__)"
   ]
  },
  {
   "cell_type": "markdown",
   "id": "6251d891",
   "metadata": {},
   "source": [
    "## Importing the GeoIPS Interfaces\n",
    "\n",
    "Since we are walking through this tutorial as a Python script, \n",
    "we need to import every plugin that we plan to use.\n",
    "\n",
    "We use the convention:\n",
    "`{interface_type}.get_plugin({plugin_name})` \n",
    "to load the plugins at runtime ."
   ]
  },
  {
   "cell_type": "code",
   "execution_count": null,
   "id": "7949bcda",
   "metadata": {},
   "outputs": [],
   "source": [
    "# import every interface type that we are going to use\n",
    "from geoips.interfaces import readers, algorithms, interpolators, sectors, output_formatters, colormappers, gridline_annotators, feature_annotators\n",
    "\n",
    "# Since we are reading abi data in a netCDF format, we will use this reader\n",
    "abi_reader = readers.get_plugin(\"abi_netcdf\")\n",
    "# Since we will be reading a single channel, we want to use the single_channel algorithm\n",
    "single_channel_algorithm = algorithms.get_plugin(\"single_channel\")\n",
    "# We want to use Nearest Neighbor resampling for this dataset, so we will use the interp_nearest interpolator plugin\n",
    "interp_nearest = interpolators.get_plugin(\"interp_nearest\")\n",
    "# We want to restrict our output to just the CONUS sector\n",
    "conus_sector_plugin = sectors.get_plugin(\"conus\")"
   ]
  },
  {
   "cell_type": "markdown",
   "id": "3e5c4b86",
   "metadata": {},
   "source": [
    "Since we load these plugins dynamically, it can take some extra work to check\n",
    "their call signatures.  \n",
    "We can look more closely at the reader plugin by calling:\n",
    "(this only works in ipython or jupyter notebooks)"
   ]
  },
  {
   "cell_type": "code",
   "execution_count": null,
   "id": "8baf0265",
   "metadata": {},
   "outputs": [],
   "source": [
    "abi_reader?"
   ]
  },
  {
   "cell_type": "markdown",
   "id": "f25638b2",
   "metadata": {},
   "source": [
    "Here we can see the call signature and docstring from the plugin.  \n",
    "This should be enough to help you figure out what arguments to pass."
   ]
  },
  {
   "cell_type": "markdown",
   "id": "b8875cbd",
   "metadata": {},
   "source": [
    "## Reading the ABI Test Data\n",
    "  \n",
    "For this test, we will use the data stored in the `GEOIPS_TESTDATA_DIR` directory.\n",
    "  \n",
    "We can access the current GeoIPS environment variables by calling:  \n",
    "`geoips.filenames.base_paths.PATHS`  \n",
    "which returns a dictionary with the environment variables."
   ]
  },
  {
   "cell_type": "code",
   "execution_count": null,
   "id": "ee19d3b7",
   "metadata": {},
   "outputs": [],
   "source": [
    "GEOIPS_TESTDATA_DIR = geoips.filenames.base_paths.PATHS['GEOIPS_TESTDATA_DIR']\n",
    "in_fpath = f\"{GEOIPS_TESTDATA_DIR}/test_data_abi/data/goes16_20200918_1950/*\"\n",
    "in_fpaths = glob(in_fpath)\n",
    "success_outputs=[]"
   ]
  },
  {
   "cell_type": "code",
   "execution_count": null,
   "id": "e38dfbe4",
   "metadata": {},
   "outputs": [],
   "source": [
    "# The conus_sector_plugin contains an area_definition.\n",
    "# We want to use that area_definition when calling our reader.\n",
    "conus_sector_area = conus_sector_plugin.area_definition\n",
    "\n",
    "# First we need to read the abi data for channel 14 Brightness Temperature\n",
    "# xdict = abi_reader(fnames=in_fpaths, chans=[\"B14BT\"])\n",
    "xdict = abi_reader(fnames=in_fpaths, area_def=conus_sector_area, chans=[\"B14BT\"])\n",
    "\n",
    "# Since we passed an area_def for \"conus\", that is the name of the Xarray Object we want to call.\n",
    "conus_xobj = xdict[\"conus\"]\n",
    "\n",
    "# Let's look at what conus_xobj contains within it:\n",
    "conus_xobj"
   ]
  },
  {
   "cell_type": "markdown",
   "id": "4af77c44",
   "metadata": {},
   "source": [
    "## Applying the Interpolator\n",
    "Now we will apply the interpolator. Let's look at the call signature:"
   ]
  },
  {
   "cell_type": "code",
   "execution_count": null,
   "id": "9859e267",
   "metadata": {},
   "outputs": [],
   "source": [
    "interp_nearest?"
   ]
  },
  {
   "cell_type": "code",
   "execution_count": null,
   "id": "02507f1a",
   "metadata": {},
   "outputs": [],
   "source": [
    "# Now let us apply the Nearest Neighbor interpolation to our data\n",
    "output_dataset = interp_nearest(conus_sector_area,\n",
    "                                conus_xobj,\n",
    "                                None,\n",
    "                                [\"B14BT\", \"longitude\", \"latitude\"])\n",
    "\n",
    "# Let's look at our output_dataset\n",
    "output_dataset"
   ]
  },
  {
   "cell_type": "code",
   "execution_count": null,
   "id": "f434f1bc",
   "metadata": {},
   "outputs": [],
   "source": [
    "channel_14_bt = output_dataset[\"B14BT\"].data\n",
    "\n",
    "# Now let us apply the single channel algorithm to our channel 14 Brightness Temperature data\n",
    "algorithm_output = single_channel_algorithm([channel_14_bt],\n",
    "                                            output_data_range=[-90.0, 30.0],\n",
    "                                            input_units=\"Kelvin\",\n",
    "                                            output_units=\"celsius\")\n",
    "\n",
    "output_dataset[\"Infrared\"] = xr.DataArray(algorithm_output)\n",
    "\n",
    "# Let's look at this dataset now that we have created it\n",
    "output_dataset"
   ]
  },
  {
   "cell_type": "markdown",
   "id": "8216bf61",
   "metadata": {},
   "source": [
    "## NetCDF Output Formatter\n",
    "\n",
    "To start off, let's try putting our final data into a netcdf file"
   ]
  },
  {
   "cell_type": "code",
   "execution_count": null,
   "id": "c88051cd",
   "metadata": {},
   "outputs": [],
   "source": [
    "ncdf_output_formatter = output_formatters.get_plugin(\"netcdf_geoips\")\n",
    "\n",
    "timestamp = datetime.strftime(datetime.now(timezone.utc), \"%Y%m%d%H%M%S\")\n",
    "GEOIPS_OUTDIRS = geoips.filenames.base_paths.PATHS['GEOIPS_OUTDIRS']\n",
    "out_fpath = f\"{GEOIPS_OUTDIRS}/abi_infrared_xarray_test_{timestamp}.nc\"\n",
    "\n",
    "netcdf_output = ncdf_output_formatter(output_dataset,\n",
    "                                        [\"Infrared\"],\n",
    "                                        [out_fpath])\n",
    "print(f\"NetCDF output located at:  {netcdf_output[0]}\")"
   ]
  },
  {
   "cell_type": "code",
   "execution_count": null,
   "id": "9476890f",
   "metadata": {},
   "outputs": [],
   "source": [
    "ncdf_output_formatter?"
   ]
  },
  {
   "cell_type": "code",
   "execution_count": null,
   "id": "4fb996c8",
   "metadata": {},
   "outputs": [],
   "source": [
    "# We need a colormapper to tell matplotlib what colors we want to use\n",
    "ir_colormapper = colormappers.get_plugin(\"Infrared\")\n",
    "\n",
    "ir_color_dict = ir_colormapper()"
   ]
  },
  {
   "cell_type": "code",
   "execution_count": null,
   "id": "adee2d4c",
   "metadata": {},
   "outputs": [],
   "source": [
    "#---------------#\n",
    "# imagery_clean #\n",
    "#---------------#\n",
    "\n",
    "# We can also create clean imagery\n",
    "img_clean_output_formatter = output_formatters.get_plugin(\"imagery_clean\")\n",
    "\n",
    "out_fpath = f\"{GEOIPS_OUTDIRS}/abi_infrared_clean_test_{timestamp}.png\"\n",
    "\n",
    "png_clean_output = img_clean_output_formatter(conus_sector_area,\n",
    "                                             output_dataset,\n",
    "                                             \"Infrared\",\n",
    "                                             [out_fpath],\n",
    "                                             mpl_colors_info=ir_color_dict)\n",
    "\n",
    "png_clean_output"
   ]
  },
  {
   "cell_type": "markdown",
   "id": "aae72e45",
   "metadata": {},
   "source": [
    "![image](/home/coleman/geoips/outdirs/abi_infrared_clean_test_20250718183819.png)"
   ]
  },
  {
   "cell_type": "code",
   "execution_count": null,
   "id": "22502aa9",
   "metadata": {},
   "outputs": [],
   "source": [
    "# We need to tell matplotlib how we want the resulting plot to appear\n",
    "# using a feature_annotator and a gridline_annotator.\n",
    "# This time we will use the default versions of these plugins.\n",
    "local_feature_annotator = feature_annotators.get_plugin(\"default\")\n",
    "\n",
    "local_gridline_annotator = gridline_annotators.get_plugin(\"default\")"
   ]
  },
  {
   "cell_type": "code",
   "execution_count": null,
   "id": "f634519e",
   "metadata": {},
   "outputs": [],
   "source": [
    "#-------------------#\n",
    "# imagery_annotated #\n",
    "#-------------------#\n",
    "\n",
    "# Now that we have all the setup completed, we can call our output formatter.\n",
    "# Let's start by loading the imagery_annotated plugin\n",
    "img_ann_output_formatter = output_formatters.get_plugin(\"imagery_annotated\")\n",
    "\n",
    "formatter_result_dict = {}\n",
    "out_fpath = f\"{GEOIPS_OUTDIRS}/abi_infrared_annotated_test_{timestamp}.png\"\n",
    "\n",
    "# And then we call the plugin\n",
    "png_annotated_output = img_ann_output_formatter(conus_sector_area,\n",
    "                                           output_dataset,\n",
    "                                           \"Infrared\",\n",
    "                                           [out_fpath],\n",
    "                                           mpl_colors_info=ir_color_dict,\n",
    "                                           feature_annotator=local_feature_annotator,\n",
    "                                           gridline_annotator=local_gridline_annotator,\n",
    "                                           output_dict=formatter_result_dict)\n",
    "\n",
    "# Let's print the path to the image on your disk\n",
    "png_annotated_output"
   ]
  },
  {
   "cell_type": "markdown",
   "id": "f8922f7d",
   "metadata": {},
   "source": [
    "![image](/home/coleman/geoips/outdirs/abi_infrared_annotated_test_20250718183819.png)"
   ]
  },
  {
   "cell_type": "markdown",
   "id": "8291bc91",
   "metadata": {},
   "source": [
    "### Clean Up\n",
    "\n",
    "Run the following segment to clean up the output files we created with this notebook:"
   ]
  },
  {
   "cell_type": "code",
   "execution_count": null,
   "id": "a8028211",
   "metadata": {},
   "outputs": [],
   "source": [
    "try:\n",
    "    if netcdf_output:\n",
    "        Path(netcdf_output[0]).unlink(missing_ok=True)\n",
    "        print(f\"Deleted {netcdf_output[0]}\")\n",
    "except NameError:\n",
    "    None\n",
    "\n",
    "try:\n",
    "    if png_clean_output:\n",
    "        Path(png_clean_output[0]).unlink(missing_ok=True)\n",
    "        print(f\"Deleted {png_clean_output[0]}\")\n",
    "except NameError:\n",
    "    None\n",
    "\n",
    "try:\n",
    "    if png_annotated_output:\n",
    "        Path(png_annotated_output[0]).unlink(missing_ok=True)\n",
    "        print(f\"Deleted {png_annotated_output[0]}\")\n",
    "except NameError:\n",
    "    None"
   ]
  }
 ],
 "metadata": {
  "kernelspec": {
   "display_name": "geoips",
   "language": "python",
   "name": "python3"
  },
  "language_info": {
   "codemirror_mode": {
    "name": "ipython",
    "version": 3
   },
   "file_extension": ".py",
   "mimetype": "text/x-python",
   "name": "python",
   "nbconvert_exporter": "python",
   "pygments_lexer": "ipython3",
   "version": "3.11.13"
  }
 },
 "nbformat": 4,
 "nbformat_minor": 5
}
