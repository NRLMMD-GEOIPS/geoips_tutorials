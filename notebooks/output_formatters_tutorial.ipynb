{
 "cells": [
  {
   "cell_type": "markdown",
   "id": "a721a2c3",
   "metadata": {},
   "source": [
    "# Output Formatters Tutorial\n",
    "\n",
    "---"
   ]
  },
  {
   "cell_type": "markdown",
   "id": "f94a7c89",
   "metadata": {},
   "source": [
    "### To Get the Most Out of this Tutorial\n",
    "You may read more about the `output_formatter` plugin type <br/>\n",
    "on the accompanying slides [hosted at this link](https://docs.google.com/presentation/d/1wFbrP4RBdwf6Hx30adD9DN4jNZm1f0hVaHxV--encS0/edit?usp=sharing)."
   ]
  },
  {
   "cell_type": "markdown",
   "id": "43dbba7b-b32e-43c2-a1af-df3d2f7ef06d",
   "metadata": {},
   "source": [
    "## Exploring Output Formatters With Scripting\n",
    "\n",
    "We will walk through three examples of existing output formatters to get a better understanding of the existing options.  \n",
    "That way you can jump right into using these plugins for common use-cases."
   ]
  },
  {
   "cell_type": "markdown",
   "id": "6251d891",
   "metadata": {},
   "source": [
    "### Importing the GeoIPS Interfaces\n",
    "\n",
    "Since we are walking through this portion of the tutorial as a Python script, \n",
    "we need to import every plugin that we plan to use.\n",
    "\n",
    "We use the convention:\n",
    "`{interface_type}.get_plugin({plugin_name})` \n",
    "to load the plugins at runtime ."
   ]
  },
  {
   "cell_type": "code",
   "execution_count": null,
   "id": "98593f7f-1f71-4723-b3a2-d1a0548074cc",
   "metadata": {},
   "outputs": [],
   "source": [
    "!geoips config create-registries"
   ]
  },
  {
   "cell_type": "code",
   "execution_count": null,
   "id": "7949bcda",
   "metadata": {},
   "outputs": [],
   "source": [
    "import geoips\n",
    "from geoips import interfaces\n",
    "\n",
    "# Since we are reading abi data in a netCDF format, we will use this reader\n",
    "abi_reader = interfaces.readers.get_plugin(\"abi_netcdf\")"
   ]
  },
  {
   "cell_type": "markdown",
   "id": "3e5c4b86",
   "metadata": {},
   "source": [
    "Since we load these plugins dynamically, it can take some extra work to check\n",
    "their call signatures.  \n",
    "We can look more closely at the reader plugin by calling:\n",
    "(this only works in ipython or jupyter notebooks)"
   ]
  },
  {
   "cell_type": "code",
   "execution_count": null,
   "id": "8baf0265",
   "metadata": {},
   "outputs": [],
   "source": [
    "abi_reader?"
   ]
  },
  {
   "cell_type": "markdown",
   "id": "f25638b2",
   "metadata": {},
   "source": [
    "Here we can see the call signature and docstring from the plugin.  \n",
    "This should be enough to help you figure out what arguments to pass."
   ]
  },
  {
   "cell_type": "markdown",
   "id": "b8875cbd",
   "metadata": {},
   "source": [
    "### Reading the ABI Test Data\n",
    "  \n",
    "For this test, we will use the data stored in the `GEOIPS_TESTDATA_DIR` directory.\n",
    "  \n",
    "We can access the current GeoIPS environment variables by calling:  \n",
    "`geoips.filenames.base_paths.PATHS`  \n",
    "which returns a dictionary with the environment variables."
   ]
  },
  {
   "cell_type": "code",
   "execution_count": null,
   "id": "ee19d3b7",
   "metadata": {},
   "outputs": [],
   "source": [
    "from glob import glob\n",
    "from geoips.filenames.base_paths import PATHS as GPATHS\n",
    "GEOIPS_TESTDATA_DIR = GPATHS['GEOIPS_TESTDATA_DIR']\n",
    "in_fpath = f\"{GEOIPS_TESTDATA_DIR}/test_data_abi/data/goes16_20200918_1950/*\"\n",
    "in_fpaths = glob(in_fpath)"
   ]
  },
  {
   "cell_type": "markdown",
   "id": "07a25888-a266-4568-8dab-4defa34da459",
   "metadata": {},
   "source": [
    "We want to restrict our output to just the CONUS sector"
   ]
  },
  {
   "cell_type": "code",
   "execution_count": null,
   "id": "c8b6e30c-cb01-42de-a200-5ba1e66b39f5",
   "metadata": {},
   "outputs": [],
   "source": [
    "%%bash\n",
    "find $HOME -path \"*/plugins/*\" -type d -name \".ipynb_checkpoints\" -exec rm -rf {} +\n",
    "geoips config create-registries"
   ]
  },
  {
   "cell_type": "code",
   "execution_count": null,
   "id": "4916c610-981a-46f0-9fb0-1b8b9562c37e",
   "metadata": {},
   "outputs": [],
   "source": [
    "conus = interfaces.sectors.get_plugin(\"conus\")"
   ]
  },
  {
   "cell_type": "markdown",
   "id": "c99e3d0c-2a4e-4e48-a3c1-cba37fd73452",
   "metadata": {},
   "source": [
    "First we need to read the abi data for channel 14 Brightness Temperature"
   ]
  },
  {
   "cell_type": "code",
   "execution_count": null,
   "id": "53078920-2fd4-4da8-a753-0eb0bdfb9c66",
   "metadata": {},
   "outputs": [],
   "source": [
    "xdict = abi_reader(fnames=in_fpaths, area_def=conus.area_definition, chans=[\"B14BT\"])\n",
    "\n",
    "# Since we passed an area_def for \"conus\", that is the name of the Xarray Object we want to call.\n",
    "conus_xobj = xdict[\"conus\"]\n",
    "\n",
    "# Let's look at what conus_xobj contains within it:\n",
    "conus_xobj"
   ]
  },
  {
   "cell_type": "markdown",
   "id": "4af77c44",
   "metadata": {},
   "source": [
    "### Applying the Interpolator\n",
    "We want to use Nearest Neighbor resampling for this dataset, so we will use the interp_nearest interpolator plugin"
   ]
  },
  {
   "cell_type": "code",
   "execution_count": null,
   "id": "9859e267",
   "metadata": {},
   "outputs": [],
   "source": [
    "\n",
    "interp_nearest = interfaces.interpolators.get_plugin(\"interp_nearest\")\n",
    "\n",
    "interp_nearest?"
   ]
  },
  {
   "cell_type": "code",
   "execution_count": null,
   "id": "02507f1a",
   "metadata": {},
   "outputs": [],
   "source": [
    "# Now let us apply the Nearest Neighbor interpolation to our data\n",
    "output_dataset = interp_nearest(conus.area_definition,\n",
    "                                conus_xobj,\n",
    "                                None,\n",
    "                                [\"B14BT\", \"longitude\", \"latitude\"])\n",
    "\n",
    "# Let's look at our output_dataset\n",
    "output_dataset"
   ]
  },
  {
   "cell_type": "markdown",
   "id": "aff2661f-afd3-4186-83bd-df1789059cb6",
   "metadata": {},
   "source": [
    "### Applying the Algorithm\n",
    "Since we will be reading a single channel, we want to use the single_channel algorithm"
   ]
  },
  {
   "cell_type": "code",
   "execution_count": null,
   "id": "f434f1bc",
   "metadata": {},
   "outputs": [],
   "source": [
    "import xarray as xr\n",
    "\n",
    "single_channel_algorithm = interfaces.algorithms.get_plugin(\"single_channel\")\n",
    "\n",
    "channel_14_bt = output_dataset[\"B14BT\"].data\n",
    "\n",
    "# Now let us apply the single channel algorithm to our channel 14 Brightness Temperature data\n",
    "algorithm_output = single_channel_algorithm([channel_14_bt],\n",
    "                                            output_data_range=[-90.0, 30.0],\n",
    "                                            input_units=\"Kelvin\",\n",
    "                                            output_units=\"celsius\")\n",
    "\n",
    "output_dataset[\"Infrared\"] = xr.DataArray(algorithm_output)\n",
    "\n",
    "# Let's look at this dataset now that we have created it\n",
    "output_dataset"
   ]
  },
  {
   "cell_type": "markdown",
   "id": "8216bf61",
   "metadata": {},
   "source": [
    "### NetCDF Output Formatter\n",
    "\n",
    "To start off, let's try putting our final data into a netcdf file"
   ]
  },
  {
   "cell_type": "code",
   "execution_count": null,
   "id": "c88051cd",
   "metadata": {},
   "outputs": [],
   "source": [
    "from datetime import datetime, timezone\n",
    "\n",
    "ncdf_output_formatter = interfaces.output_formatters.get_plugin(\"netcdf_geoips\")"
   ]
  },
  {
   "cell_type": "code",
   "execution_count": null,
   "id": "9476890f",
   "metadata": {},
   "outputs": [],
   "source": [
    "ncdf_output_formatter?\n",
    "\n",
    "timestamp = datetime.strftime(datetime.now(timezone.utc), \"%Y%m%d%H%M%S\")\n",
    "GEOIPS_OUTDIRS = geoips.filenames.base_paths.PATHS['GEOIPS_OUTDIRS']\n",
    "out_fpath = f\"{GEOIPS_OUTDIRS}/abi_infrared_xarray_test_{timestamp}.nc\"\n",
    "\n",
    "netcdf_output = ncdf_output_formatter(output_dataset,\n",
    "                                        [\"Infrared\"],\n",
    "                                        [out_fpath])\n",
    "print(f\"NetCDF output located at:  {netcdf_output[0]}\")"
   ]
  },
  {
   "cell_type": "markdown",
   "id": "671740e5-6492-4cb1-a560-5764651dbdc3",
   "metadata": {},
   "source": [
    "### Non-Annotated Imagery Output Formatter\n",
    "Taking a step up in complexity, we can call the `imagery_clean` plugin  \n",
    "which will allow us to write non-annotated imagery"
   ]
  },
  {
   "cell_type": "code",
   "execution_count": null,
   "id": "9a74a349-c3df-4beb-890a-c7e36e254863",
   "metadata": {},
   "outputs": [],
   "source": [
    "img_clean_output_formatter = interfaces.output_formatters.get_plugin(\"imagery_clean\")\n",
    "\n",
    "img_clean_output_formatter?"
   ]
  },
  {
   "cell_type": "markdown",
   "id": "62db3029-378a-4a4c-ae03-d0a45869f1bc",
   "metadata": {},
   "source": [
    "We need a colormapper to tell matplotlib what colors we want to use"
   ]
  },
  {
   "cell_type": "code",
   "execution_count": null,
   "id": "4fb996c8",
   "metadata": {},
   "outputs": [],
   "source": [
    "ir_colormapper = interfaces.colormappers.get_plugin(\"Infrared\")\n",
    "\n",
    "ir_color_dict = ir_colormapper()"
   ]
  },
  {
   "cell_type": "code",
   "execution_count": null,
   "id": "adee2d4c",
   "metadata": {},
   "outputs": [],
   "source": [
    "\n",
    "out_fpath = f\"{GEOIPS_OUTDIRS}/abi_infrared_clean_test_{timestamp}.png\"\n",
    "\n",
    "png_clean_output = img_clean_output_formatter(conus.area_definition,\n",
    "                                             output_dataset,\n",
    "                                             \"Infrared\",\n",
    "                                             [out_fpath],\n",
    "                                             mpl_colors_info=ir_color_dict)\n",
    "\n",
    "print(f\"Clean Infrared Imagery output located at:  {png_clean_output[0]}\")"
   ]
  },
  {
   "cell_type": "code",
   "execution_count": null,
   "id": "60e59932-01c4-447e-bf4e-878aa2f96211",
   "metadata": {},
   "outputs": [],
   "source": [
    "from IPython.display import Image\n",
    "\n",
    "Image(png_clean_output[0])"
   ]
  },
  {
   "cell_type": "markdown",
   "id": "623be034-eca2-4cd9-aa98-4c3e93b8fb4c",
   "metadata": {},
   "source": [
    "### Annotated Imagery Output Formatter\n",
    "Let's start by loading the imagery_annotated plugin"
   ]
  },
  {
   "cell_type": "code",
   "execution_count": null,
   "id": "7871ab3e-d975-4775-9d4b-5ca0e73b9202",
   "metadata": {},
   "outputs": [],
   "source": [
    "img_ann_output_formatter = interfaces.output_formatters.get_plugin(\"imagery_annotated\")\n",
    "\n",
    "img_ann_output_formatter?"
   ]
  },
  {
   "cell_type": "markdown",
   "id": "68c5c59e-3cad-4228-8d45-e045d4f2ed83",
   "metadata": {},
   "source": [
    "We need to tell matplotlib how we want the resulting plot to appear  \n",
    "using a feature_annotator and a gridline_annotator.  \n",
    "This time we will use the default versions of these plugins."
   ]
  },
  {
   "cell_type": "code",
   "execution_count": null,
   "id": "22502aa9",
   "metadata": {},
   "outputs": [],
   "source": [
    "local_feature_annotator = interfaces.feature_annotators.get_plugin(\"default\")\n",
    "\n",
    "local_gridline_annotator = interfaces.gridline_annotators.get_plugin(\"default\")"
   ]
  },
  {
   "cell_type": "markdown",
   "id": "0e1f4975-b13e-4531-8758-7cc27f85e779",
   "metadata": {},
   "source": [
    "Now that we have all the setup completed, we can call our output formatter.  "
   ]
  },
  {
   "cell_type": "code",
   "execution_count": null,
   "id": "f634519e",
   "metadata": {},
   "outputs": [],
   "source": [
    "out_fpath = f\"{GEOIPS_OUTDIRS}/abi_infrared_annotated_test_{timestamp}.png\"\n",
    "\n",
    "# And then we call the plugin\n",
    "formatter_result_dict={}\n",
    "png_annotated_output = img_ann_output_formatter(conus.area_definition,\n",
    "                                           output_dataset,\n",
    "                                           \"Infrared\",\n",
    "                                           [out_fpath],\n",
    "                                           mpl_colors_info=ir_color_dict,\n",
    "                                           feature_annotator=local_feature_annotator,\n",
    "                                           gridline_annotator=local_gridline_annotator,\n",
    "                                           output_dict=formatter_result_dict)\n",
    "\n",
    "# Let's print the path to the image on your disk\n",
    "print(f\"Annotated Imagery output located at:  {png_annotated_output}\")"
   ]
  },
  {
   "cell_type": "code",
   "execution_count": null,
   "id": "f92210e9-4100-4d80-8645-291a01d9677e",
   "metadata": {},
   "outputs": [],
   "source": [
    "Image(png_annotated_output[0])"
   ]
  },
  {
   "cell_type": "markdown",
   "id": "87e4ae0f-2c45-4aa0-ae0f-36c07e064fe8",
   "metadata": {},
   "source": [
    "# Creating Your Own Output Formatter\n",
    "\n",
    "First we need to re-do some of the setup work we completed yesterday in the beginner tutorial."
   ]
  },
  {
   "cell_type": "code",
   "execution_count": null,
   "id": "26fc2f8f-44ea-4e66-bed8-a1be3400a90b",
   "metadata": {},
   "outputs": [],
   "source": [
    "%%bash\n",
    "\n",
    "cd $GEOIPS_PACKAGES_DIR\n",
    "\n",
    "if [[ ! -d \"template_basic_plugin\" && ! -d \"$MY_PKG_NAME\" ]]; then\n",
    "    echo \"Cloning template_basic_plugin package\"\n",
    "    git clone --no-tags --single-branch $GEOIPS_REPO_URL/template_basic_plugin.git\n",
    "else\n",
    "    echo \"Package already exists\"\n",
    "fi\n",
    "\n",
    "# Rename your package\n",
    "if [[ ! -d \"$MY_PKG_NAME\" ]]; then\n",
    "    echo \"Renaming template_basic_plugin to $MY_PKG_NAME\"\n",
    "    mv -v template_basic_plugin/ $MY_PKG_NAME\n",
    "else\n",
    "    echo \"Package already renamed\"\n",
    "fi\n",
    "\n",
    "# This will remove references to our upstream repository for safety's sake\n",
    "cd $MY_PKG_DIR\n",
    "git remote remove origin 2> /dev/null || true"
   ]
  },
  {
   "cell_type": "code",
   "execution_count": null,
   "id": "6e092dc3-c9c8-4f09-bf29-1bffd42663d3",
   "metadata": {},
   "outputs": [],
   "source": [
    "%%bash\n",
    "cd $MY_PKG_DIR\n",
    "\n",
    "# Rename the package directory\n",
    "if [[ -d \"my_package\" ]]; then\n",
    "    echo \"Moving my_package to $MY_PKG_NAME\"\n",
    "    git mv my_package $MY_PKG_NAME\n",
    "else\n",
    "    echo \"Already moved\"\n",
    "fi"
   ]
  },
  {
   "cell_type": "code",
   "execution_count": null,
   "id": "a106448b-806c-4e18-89ed-ead08bbe07e4",
   "metadata": {},
   "outputs": [],
   "source": [
    "\"\"\"Overwrite cool_plugins' pyproject.toml and README.md with correct contents.\"\"\"\n",
    "\n",
    "import os\n",
    "\n",
    "with open(\"./updated_files/pyproject.toml\", \"r\") as rf:\n",
    "    toml_lines = rf.readlines()\n",
    "\n",
    "with open(f\"{os.environ['MY_PKG_DIR']}/pyproject.toml\", \"w\") as wf:\n",
    "    wf.writelines(toml_lines)\n",
    "\n",
    "with open(\"./updated_files/README.md\", \"r\") as rf:\n",
    "    md_lines = rf.readlines()\n",
    "\n",
    "with open(f\"{os.environ['MY_PKG_DIR']}/README.md\", \"w\") as wf:\n",
    "    wf.writelines(md_lines)"
   ]
  },
  {
   "cell_type": "code",
   "execution_count": null,
   "id": "6f98bd88-a71b-4105-8ca7-88593c132e43",
   "metadata": {},
   "outputs": [],
   "source": [
    "%%bash\n",
    "\n",
    "pip install -e $MY_PKG_DIR"
   ]
  },
  {
   "cell_type": "code",
   "execution_count": null,
   "id": "6814679a-7f6e-4a79-a1c3-43dd1bf8d513",
   "metadata": {},
   "outputs": [],
   "source": [
    "%%bash\n",
    "\n",
    "geoips list packages\n"
   ]
  },
  {
   "cell_type": "markdown",
   "id": "9e213eda-b06d-4053-acd2-ae10b754ce23",
   "metadata": {},
   "source": [
    "^^^^^^^^^^^^^^^^^^^  \n",
    "After running the previous cells, you should see `cool_plugins` in the output directly above this cell!\n",
    "\n",
    "Otherwise, please ask for help so that we can get you situated!"
   ]
  },
  {
   "cell_type": "markdown",
   "id": "3d265ccc-1537-49e3-b049-94f81b72ae65",
   "metadata": {},
   "source": [
    "We will start out by creating a blank output formatter in the cool_plugins package:"
   ]
  },
  {
   "cell_type": "code",
   "execution_count": null,
   "id": "7aa4c5d7-8188-4bbb-96c4-dc5ed6c09e43",
   "metadata": {},
   "outputs": [],
   "source": [
    "%%bash\n",
    "\n",
    "mkdir -p $MY_PKG_DIR/$MY_PKG_NAME/plugins/modules/output_formatters\n",
    "\n",
    "touch $MY_PKG_DIR/$MY_PKG_NAME/plugins/modules/output_formatters/my_netcdf_output.py\n",
    "touch $MY_PKG_DIR/$MY_PKG_NAME/plugins/modules/output_formatters/__init__.py"
   ]
  },
  {
   "cell_type": "markdown",
   "id": "df9c84ef-0de9-4c51-8dfe-792594793b27",
   "metadata": {},
   "source": [
    "Now you should have a blank Python file ready for you to write your great ideas into.  \n",
    "Open [my_netcdf_output.py](../../cool_plugins/cool_plugins/plugins/modules/output_formatters/my_netcdf_output.py) and now we should give ourselves something to work with...  \n",
    "\n",
    "By copying the great work that has already been done by others!  \n",
    "\n",
    "Imagine what sort of output you want to create...  \n",
    "Do you want to save this data as a bar plot? A blob inside a relational database? Bytes stored as plaintext?  \n",
    "Or maybe as a beautiful glossy png that you can print out and hang on your wall?  \n",
    "\n",
    "Let's pretend you all have the same idea, to create a netcdf file with details about the hit 2001 movie, Spy Kids!"
   ]
  },
  {
   "cell_type": "markdown",
   "id": "1edc0359-1f1e-477b-a627-82814126d952",
   "metadata": {},
   "source": [
    "Paste the following lines of code into my_netcdf_output.py:  \n",
    "\n",
    "```\n",
    "\"\"\"My NetCDF output format.\"\"\"  \n",
    "import logging  \n",
    "import xarray    \n",
    "from geoips.geoips_utils import copy_standard_metadata \n",
    "from geoips.plugins.modules.output_formatters.netcdf_xarray import write_xarray_netcdf\n",
    "\n",
    "LOG = logging.getLogger(__name__)  \n",
    "\n",
    "interface = \"output_formatters\"  \n",
    "family = \"xarray_data\"  \n",
    "name = \"my_netcdf_output\"  \n",
    "  \n",
    "def call(xarray_obj, product_names, output_fnames):  \n",
    "    \"\"\"Write GeoIPS style NetCDF to disk.\"\"\"  \n",
    "    prod_xarray = xarray.Dataset()  \n",
    "  \n",
    "    copy_standard_metadata(xarray_obj, prod_xarray)  \n",
    "    for product_name in product_names:  \n",
    "        prod_xarray[product_name] = xarray_obj[product_name]  \n",
    "  \n",
    "    prod_xarray = prod_xarray.assign_attrs(Starring=\"Danny Trejo\",  \n",
    "                                           Featuring=\"Antonio Banderas\",  \n",
    "                                           ProducedBy=\"Elizabeth Avellán\")  \n",
    "  \n",
    "    for ncdf_fname in output_fnames:  \n",
    "        write_xarray_netcdf(prod_xarray, ncdf_fname)  \n",
    "    return output_fnames  \n",
    "```"
   ]
  },
  {
   "cell_type": "markdown",
   "id": "273b2723-f993-4fde-8e20-36aaf3bd57eb",
   "metadata": {},
   "source": [
    "Notice that this code has the following key features of any GeoIPS plugin:  \n",
    "- A descriptive top-level docstring which tells users what the plugin does\n",
    "- Top-level imports of third-party and native Python libraries\n",
    "- A defined logging method **use it!**\n",
    "- Interface, Family, and Plugin Name\n",
    "- A call function with its own descriptive docstring\n",
    "- The call function returns a list of filenames (required by this type of family)"
   ]
  },
  {
   "cell_type": "code",
   "execution_count": null,
   "id": "50ad6623-1b0d-48ad-b3ff-08c2c46133a2",
   "metadata": {},
   "outputs": [],
   "source": [
    "%%bash\n",
    "find $HOME -path \"*/plugins/*\" -type d -name \".ipynb_checkpoints\" -exec rm -rf {} +\n",
    "\n",
    "geoips run single_source $GEOIPS_TESTDATA_DIR/test_data_abi/data/goes16_20200918_1950/* \\\n",
    "    --product_name Infrared \\\n",
    "    --reader_name abi_netcdf \\\n",
    "    --filename_formatter geoips_netcdf_fname \\\n",
    "    --output_formatter my_netcdf_output \\\n",
    "    --resampled_read \\\n",
    "    --logging_level info \\\n",
    "    --sector_list conus  "
   ]
  },
  {
   "cell_type": "markdown",
   "id": "832a07da-f81a-43ee-9525-7304aaf74514",
   "metadata": {},
   "source": [
    "Look throught the log output for these lines. If you see them, you’ve successfully created a new output formatter!  \n",
    "\n",
    "```\n",
    ":Starring = \"Danny Trejo\" ;\n",
    ":Featuring = \"Antonio Banderas\" ;\n",
    ":ProducedBy = \"Elizabeth Avellán\" ;\n",
    "```"
   ]
  }
 ],
 "metadata": {
  "kernelspec": {
   "display_name": "GeoIPS - Python 3.11",
   "language": "python",
   "name": "geoips"
  },
  "language_info": {
   "codemirror_mode": {
    "name": "ipython",
    "version": 3
   },
   "file_extension": ".py",
   "mimetype": "text/x-python",
   "name": "python",
   "nbconvert_exporter": "python",
   "pygments_lexer": "ipython3",
   "version": "3.11.13"
  }
 },
 "nbformat": 4,
 "nbformat_minor": 5
}
