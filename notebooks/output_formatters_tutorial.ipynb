{
 "cells": [
  {
   "cell_type": "markdown",
   "id": "a721a2c3",
   "metadata": {},
   "source": [
    "# Output Formatters Tutorial\n",
    "\n",
    "---"
   ]
  },
  {
   "cell_type": "code",
   "execution_count": null,
   "id": "9c04c5e2",
   "metadata": {},
   "outputs": [],
   "source": [
    "# Initial Setup:\n",
    "from glob import glob\n",
    "import xarray as xr\n",
    "import logging\n",
    "import os\n",
    "from datetime import datetime, timezone\n",
    "import geoips\n",
    "\n",
    "LOG = logging.getLogger(__name__)"
   ]
  },
  {
   "cell_type": "markdown",
   "id": "6251d891",
   "metadata": {},
   "source": [
    "## Importing the GeoIPS Interfaces\n",
    "\n",
    "Since we are walking through this tutorial as a Python script, \n",
    "we need to import every plugin that we plan to use.\n",
    "\n",
    "We use the convention:\n",
    "`{interface_type}.get_plugin({plugin_name})` \n",
    "to load the plugins at runtime ."
   ]
  },
  {
   "cell_type": "code",
   "execution_count": null,
   "id": "7949bcda",
   "metadata": {},
   "outputs": [],
   "source": [
    "# import every interface type that we are going to use\n",
    "from geoips.interfaces import readers, algorithms, interpolators, sectors, output_formatters, colormappers, gridline_annotators, feature_annotators\n",
    "\n",
    "# Since we are reading abi data in a netCDF format, we will use this reader\n",
    "abi_reader = readers.get_plugin(\"abi_netcdf\")\n",
    "# Since we will be reading a single channel, we want to use the single_channel algorithm\n",
    "single_channel_algorithm = algorithms.get_plugin(\"single_channel\")\n",
    "# We want to use Nearest Neighbor resampling for this dataset, so we will use the interp_nearest interpolator plugin\n",
    "interp_nearest = interpolators.get_plugin(\"interp_nearest\")\n",
    "# We want to restrict our output to just the CONUS sector\n",
    "conus_sector_plugin = sectors.get_plugin(\"conus\")"
   ]
  },
  {
   "cell_type": "markdown",
   "id": "3e5c4b86",
   "metadata": {},
   "source": [
    "Since we load these plugins dynamically, it can take some extra work to check\n",
    "their call signatures.  \n",
    "We can look more closely at the reader plugin by calling:\n",
    "(this only works in ipython or jupyter notebooks)\n",
    "(There are other ways to get this info...)"
   ]
  },
  {
   "cell_type": "code",
   "execution_count": null,
   "id": "8baf0265",
   "metadata": {},
   "outputs": [],
   "source": [
    "abi_reader?"
   ]
  },
  {
   "cell_type": "markdown",
   "id": "f25638b2",
   "metadata": {},
   "source": [
    "Here we can see the call signature and docstring from the plugin.  \n",
    "Hopefully this is enough to help you figure out what arguments to pass."
   ]
  },
  {
   "cell_type": "markdown",
   "id": "b8875cbd",
   "metadata": {},
   "source": [
    "## Reading the ABI Test Data\n",
    "  \n",
    "For this test, we will use the data stored in the `GEOIPS_TESTDATA_DIR` directory.\n",
    "  \n",
    "We can access the current GeoIPS environment variables by calling:  \n",
    "`geoips.filenames.base_paths.PATHS`  \n",
    "which returns a dictionary with the environment variables."
   ]
  },
  {
   "cell_type": "code",
   "execution_count": null,
   "id": "ee19d3b7",
   "metadata": {},
   "outputs": [],
   "source": [
    "GEOIPS_TESTDATA_DIR = geoips.filenames.base_paths.PATHS['GEOIPS_TESTDATA_DIR']\n",
    "in_fpath = f\"{GEOIPS_TESTDATA_DIR}/test_data_abi/data/goes16_20200918_1950/*\"\n",
    "in_fpaths = glob(in_fpath)"
   ]
  },
  {
   "cell_type": "code",
   "execution_count": null,
   "id": "e38dfbe4",
   "metadata": {},
   "outputs": [],
   "source": [
    "# The conus_sector_plugin contains an area_definition.\n",
    "# We want to use that area_definition when calling our reader.\n",
    "conus_sector_area = conus_sector_plugin.area_definition\n",
    "\n",
    "# First we need to read the abi data for channel 14 Brightness Temperature\n",
    "# xdict = abi_reader(fnames=in_fpaths, chans=[\"B14BT\"])\n",
    "xdict = abi_reader(fnames=in_fpaths, area_def=conus_sector_area, chans=[\"B14BT\"])\n",
    "\n",
    "# Since we passed an area_def for \"conus\", that is the name of the Xarray Object we want to call.\n",
    "conus_xobj = xdict[\"conus\"]\n",
    "\n",
    "# Let's look at what conus_xobj contains within it:\n",
    "conus_xobj"
   ]
  },
  {
   "cell_type": "markdown",
   "id": "4af77c44",
   "metadata": {},
   "source": [
    "## Applying the Interpolator\n",
    "Now we will apply the interpolator. Let's look at the call signature:"
   ]
  },
  {
   "cell_type": "code",
   "execution_count": null,
   "id": "9859e267",
   "metadata": {},
   "outputs": [],
   "source": [
    "interp_nearest?"
   ]
  },
  {
   "cell_type": "code",
   "execution_count": null,
   "id": "02507f1a",
   "metadata": {},
   "outputs": [],
   "source": [
    "# Now let us apply the Nearest Neighbor interpolation to our data\n",
    "output_dataset = interp_nearest(conus_sector_area,\n",
    "                                conus_xobj,\n",
    "                                None,\n",
    "                                [\"B14BT\", \"longitude\", \"latitude\"])\n",
    "\n",
    "# Let's look at our output_dataset\n",
    "output_dataset"
   ]
  },
  {
   "cell_type": "code",
   "execution_count": null,
   "id": "f434f1bc",
   "metadata": {},
   "outputs": [],
   "source": [
    "channel_14_bt = output_dataset[\"B14BT\"].data\n",
    "\n",
    "# Now let us apply the single channel algorithm to our channel 14 Brightness Temperature data\n",
    "algorithm_output = single_channel_algorithm([channel_14_bt],\n",
    "                                            output_data_range=[-90.0, 30.0],\n",
    "                                            input_units=\"Kelvin\",\n",
    "                                            output_units=\"celsius\")\n",
    "\n",
    "output_dataset[\"Infrared\"] = xr.DataArray(algorithm_output)\n",
    "\n",
    "# Let's look at this dataset now that we have created it\n",
    "output_dataset"
   ]
  },
  {
   "cell_type": "code",
   "execution_count": null,
   "id": "c88051cd",
   "metadata": {},
   "outputs": [],
   "source": [
    "#--------#\n",
    "# NetCDF #\n",
    "#--------#\n",
    "\n",
    "# We can also put our final data into a NetCDF file\n",
    "ncdf_output_formatter = output_formatters.get_plugin(\"netcdf_geoips\")\n",
    "\n",
    "timestamp = datetime.strftime(datetime.now(timezone.utc), \"%Y%m%d%H%M%S\")\n",
    "GEOIPS_OUTDIRS = geoips.filenames.base_paths.PATHS['GEOIPS_OUTDIRS']\n",
    "out_fpath = f\"{GEOIPS_OUTDIRS}/abi_infrared_xarray_test_{timestamp}.nc\"\n",
    "\n",
    "success_outputs = ncdf_output_formatter(output_dataset,\n",
    "                                        [\"Infrared\"],\n",
    "                                        [out_fpath])\n",
    "success_outputs"
   ]
  },
  {
   "cell_type": "code",
   "execution_count": null,
   "id": "4fb996c8",
   "metadata": {},
   "outputs": [],
   "source": [
    "# We need a colormapper to tell matplotlib what colors we want to use\n",
    "ir_colormapper = colormappers.get_plugin(\"Infrared\")\n",
    "\n",
    "ir_color_dict = ir_colormapper()"
   ]
  },
  {
   "cell_type": "code",
   "execution_count": null,
   "id": "adee2d4c",
   "metadata": {},
   "outputs": [],
   "source": [
    "#---------------#\n",
    "# imagery_clean #\n",
    "#---------------#\n",
    "\n",
    "# We can also create clean imagery\n",
    "img_clean_output_formatter = output_formatters.get_plugin(\"imagery_clean\")\n",
    "\n",
    "out_fpath = f\"{GEOIPS_OUTDIRS}/abi_infrared_clean_test_{timestamp}.png\"\n",
    "\n",
    "success_outputs = img_clean_output_formatter(conus_sector_area,\n",
    "                                             output_dataset,\n",
    "                                             \"Infrared\",\n",
    "                                             [out_fpath],\n",
    "                                             mpl_colors_info=ir_color_dict)\n",
    "\n",
    "success_outputs"
   ]
  },
  {
   "cell_type": "markdown",
   "id": "aae72e45",
   "metadata": {},
   "source": [
    "![image](/home/coleman/geoips/outdirs/abi_infrared_clean_test_20250718183819.png)"
   ]
  },
  {
   "cell_type": "code",
   "execution_count": null,
   "id": "22502aa9",
   "metadata": {},
   "outputs": [],
   "source": [
    "# We need to tell matplotlib how we want the resulting plot to appear\n",
    "# using a feature_annotator and a gridline_annotator.\n",
    "# This time we will use the default versions of these plugins.\n",
    "local_feature_annotator = feature_annotators.get_plugin(\"default\")\n",
    "\n",
    "local_gridline_annotator = gridline_annotators.get_plugin(\"default\")"
   ]
  },
  {
   "cell_type": "code",
   "execution_count": null,
   "id": "f634519e",
   "metadata": {},
   "outputs": [],
   "source": [
    "#-------------------#\n",
    "# imagery_annotated #\n",
    "#-------------------#\n",
    "\n",
    "# Now that we have all the setup completed, we can call our output formatter.\n",
    "# Let's start by loading the imagery_annotated plugin\n",
    "img_ann_output_formatter = output_formatters.get_plugin(\"imagery_annotated\")\n",
    "\n",
    "formatter_result_dict = {}\n",
    "out_fpath = f\"{GEOIPS_OUTDIRS}/abi_infrared_annotated_test_{timestamp}.png\"\n",
    "\n",
    "# And then we call the plugin\n",
    "success_outputs = img_ann_output_formatter(conus_sector_area,\n",
    "                                           output_dataset,\n",
    "                                           \"Infrared\",\n",
    "                                           [out_fpath],\n",
    "                                           mpl_colors_info=ir_color_dict,\n",
    "                                           feature_annotator=local_feature_annotator,\n",
    "                                           gridline_annotator=local_gridline_annotator,\n",
    "                                           output_dict=formatter_result_dict)\n",
    "\n",
    "# Let's print the path to the image on your disk\n",
    "success_outputs"
   ]
  },
  {
   "cell_type": "markdown",
   "id": "f8922f7d",
   "metadata": {},
   "source": [
    "![image](/home/coleman/geoips/outdirs/abi_infrared_annotated_test_20250718183819.png)"
   ]
  },
  {
   "cell_type": "markdown",
   "id": "8291bc91",
   "metadata": {},
   "source": [
    "This is using the scripting approach, is that the correct approach?\n",
    "There are ways to edit the YAML in jupyter notebooks?"
   ]
  }
 ],
 "metadata": {
  "kernelspec": {
   "display_name": "geoips",
   "language": "python",
   "name": "python3"
  },
  "language_info": {
   "codemirror_mode": {
    "name": "ipython",
    "version": 3
   },
   "file_extension": ".py",
   "mimetype": "text/x-python",
   "name": "python",
   "nbconvert_exporter": "python",
   "pygments_lexer": "ipython3",
   "version": "3.11.13"
  }
 },
 "nbformat": 4,
 "nbformat_minor": 5
}
