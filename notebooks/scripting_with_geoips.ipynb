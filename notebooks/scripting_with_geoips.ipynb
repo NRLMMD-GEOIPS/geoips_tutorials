{
 "cells": [
  {
   "cell_type": "markdown",
   "id": "478c02b8",
   "metadata": {},
   "source": [
    "# Scripting with GeoIPS\n",
    "Most of the documentation describing GeoIPS describes how to configure and use GeoIPS\n",
    "via \"yaml-based\" plugins. It is possible, and sometimes simpler, to develop scripts that\n",
    "directly call GeoIPS module-based plugins rather than relying on the built-in procflows.\n",
    "While set-up via yaml-based plugins is advisable for near real-time processing,\n",
    "scripting can be a good method for prototyping and developing new scientific\n",
    "applications.\n",
    "\n",
    "This tutorial will show how to:\n",
    "1. Discover installed GeoIPS plugins.\n",
    "2. Import GeoIPS interfaces and load plugins from them.\n",
    "3. Call module-based plugins and work with their results."
   ]
  },
  {
   "cell_type": "markdown",
   "id": "cf760af3",
   "metadata": {},
   "source": [
    "## Set up environment variables\n",
    "Call this cell once to set up environment variables required by GeoIPS.\n",
    "\n",
    "### Environment variables set\n",
    "- GEOIPS_OUTDIRS - Where output data products should go. Will be set to `$PWD/outputs`.\n",
    "- GEOIPS_TESTDATA_DIR - Where GeoIPS will install and look for test datasets.\n",
    "  will be set to `$PWD/test_data`.\n",
    "  to the current working directory if not set."
   ]
  },
  {
   "cell_type": "code",
   "execution_count": 1,
   "id": "08c5f96b",
   "metadata": {},
   "outputs": [
    {
     "name": "stdout",
     "output_type": "stream",
     "text": [
      "./outputs\n",
      "./test_data\n",
      "GEOIPS_OUTDIRS: ./outputs\n",
      "GEOIPS_TESTDATA_DIR: ./test_data\n"
     ]
    }
   ],
   "source": [
    "import os\n",
    "from dotenv import load_dotenv\n",
    "print(os.environ.get(\"GEOIPS_OUTDIRS\"))\n",
    "print(os.environ.get(\"GEOIPS_TESTDATA_DIR\"))\n",
    "load_dotenv(override=False)\n",
    "print(f\"GEOIPS_OUTDIRS: {os.getenv('GEOIPS_OUTDIRS')}\")\n",
    "print(f\"GEOIPS_TESTDATA_DIR: {os.getenv('GEOIPS_TESTDATA_DIR')}\")"
   ]
  },
  {
   "cell_type": "code",
   "execution_count": 2,
   "id": "b86eb167",
   "metadata": {},
   "outputs": [
    {
     "name": "stdout",
     "output_type": "stream",
     "text": [
      "GEOIPS_TESTDATA_DIR set to: ./test_data\n",
      "GEOIPS_OUTDIRS set to: ./outputs\n"
     ]
    }
   ],
   "source": [
    "import os\n",
    "from pathlib import Path\n",
    "\n",
    "# Get the current working directory\n",
    "CWD = Path.cwd()\n",
    "\n",
    "# Set GEOIPS_TESTDATA_DIR to CWD/test_data if not already set\n",
    "try:\n",
    "    GEOIPS_TESTDATA_DIR = Path(os.environ[\"GEOIPS_TESTDATA_DIR\"])\n",
    "except KeyError:\n",
    "    GEOIPS_TESTDATA_DIR = CWD / \"test_data\"\n",
    "    os.environ[\"GEOIPS_TESTDATA_DIR\"] = str(GEOIPS_TESTDATA_DIR)\n",
    "    %env GEOIPS_TESTDATA_DIR=os.environ[\"GEOIPS_TESTDATA_DIR\"]\n",
    "# Set GEOIPS_OUTDIRS to CWD/outputs if not already set\n",
    "try:\n",
    "    GEOIPS_OUTDIRS = Path(os.environ[\"GEOIPS_OUTDIRS\"])\n",
    "except KeyError:\n",
    "    GEOIPS_OUTDIRS = CWD / \"outputs\"\n",
    "    os.environ[\"GEOIPS_OUTDIRS\"] = str(GEOIPS_OUTDIRS)\n",
    "    %env GEOIPS_OUTDIRS=os.environ[\"GEOIPS_OUTDIRS\"]\n",
    "# Make sure the directories exist\n",
    "GEOIPS_TESTDATA_DIR.mkdir(parents=True, exist_ok=True)\n",
    "GEOIPS_OUTDIRS.mkdir(parents=True, exist_ok=True)\n",
    "\n",
    "print(f\"GEOIPS_TESTDATA_DIR set to: {os.environ['GEOIPS_TESTDATA_DIR']}\")\n",
    "print(f\"GEOIPS_OUTDIRS set to: {os.environ['GEOIPS_OUTDIRS']}\")\n",
    "\n"
   ]
  }
 ],
 "metadata": {
  "kernelspec": {
   "display_name": "geoips-review",
   "language": "python",
   "name": "python3"
  },
  "language_info": {
   "codemirror_mode": {
    "name": "ipython",
    "version": 3
   },
   "file_extension": ".py",
   "mimetype": "text/x-python",
   "name": "python",
   "nbconvert_exporter": "python",
   "pygments_lexer": "ipython3",
   "version": "3.11.13"
  }
 },
 "nbformat": 4,
 "nbformat_minor": 5
}
