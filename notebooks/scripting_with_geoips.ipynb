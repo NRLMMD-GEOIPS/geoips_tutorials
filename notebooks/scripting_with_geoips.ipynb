{
 "cells": [
  {
   "cell_type": "markdown",
   "id": "31005c13",
   "metadata": {},
   "source": [
    "# Scripting with GeoIPS\n",
    "\n",
    "This tutorial is intended to teach users how GeoIPS plugins can be used in\n",
    "custom scripts.\n",
    "\n",
    "Most current documentation for GeoIPS describes how to use the system\n",
    "in a manner intended for near real-time processing and does not focus on\n",
    "algorithm development and scripted use. However, it is possible, and sometimes\n",
    "simpler, to use GeoIPS plugins in your own custom scripts. GeoIPS plugin\n",
    "`interfaces` can be directly imported and used to load individual plugins. Those\n",
    "plugins can then be called to manipulate your data.\n",
    "\n",
    "## Plugins introduced\n",
    "\n",
    "In this tutorial, we will use the following plugin types:\n",
    "- reader\n",
    "- sector\n",
    "- interpolator\n",
    "- output_formatter\n",
    "\n",
    "## System requirements\n",
    "\n",
    "- **CPU:** 1 CPU\n",
    "- **RAM:** 40GB as the notebook is written, but could use more if modified.\n",
    "  Reading the entire full-disk ABI image can take up to 100GB.\n",
    "- **Disk Space:** 10GB storage space."
   ]
  },
  {
   "cell_type": "markdown",
   "id": "56d74554",
   "metadata": {},
   "source": [
    "# Install ABI test data\n",
    "Running the command below will use the GeoIPS CLI to download and install test data for ABI. The\n",
    "download will consume about 2GB of disk space and will contain one complete\n",
    "full-disk level 1-B dataset for both GOES-16 and GOES 18.\n",
    "\n",
    "The data are installed by calling `geoips config install test_data_abi`. Other test datasets are\n",
    "available. A list of available test datasets can be obtained by calling `geoips list test-datasets`.\n",
    "\n",
    "📝 Note: If this command is run multiple times, it will not re-download the same dataset. If you need to update\n",
    "a dataset, you will need to delete it, then re-download it."
   ]
  },
  {
   "cell_type": "code",
   "execution_count": null,
   "id": "fb3a993a",
   "metadata": {},
   "outputs": [],
   "source": [
    "%%bash\n",
    "echo \"Installing ABI test data to ${GEOIPS_TESTDATA_DIR}\"\n",
    "\n",
    "# This command downloads the test_data_abi dataset\n",
    "# This will be installed into $GEOIPS_TESTDATA_DIR\n",
    "geoips config install test_data_abi"
   ]
  },
  {
   "cell_type": "markdown",
   "id": "3fcd4870",
   "metadata": {},
   "source": [
    "# Plugin Interfaces\n",
    "\n",
    "GeoIPS provides programmatic access to its plugins through plugin `interfaces`.\n",
    "Each plugin type (e.g. readers, algorithms, etc.) belongs to an interface.\n",
    "Interfaces are used to load specific plugins and provide some limited ability to\n",
    "discover plugins."
   ]
  },
  {
   "cell_type": "markdown",
   "id": "986c4882-0c0b-419f-98e5-28878a9833bb",
   "metadata": {},
   "source": [
    "## List the available interfaces\n",
    "While the CLI provides more useful interrogation functions, information about the GeoIPS artifacts can also be obtained programmatically. To retrieve a list of the available plugin interfaces (plugin types), call `geoips.interfaces.list_available_interfaces()`.\n",
    "\n",
    "The cell below will print the available interfaces. There are several module-based and yaml-based interfaces in core GeoIPS, but no current text_based interfaces.\n",
    "\n",
    "📝 Note: Additional details about each interface can be obtained via the CLI by calling `geoips describe interface <interface-name>`"
   ]
  },
  {
   "cell_type": "code",
   "execution_count": null,
   "id": "9058e1be",
   "metadata": {},
   "outputs": [],
   "source": [
    "from pprint import pprint\n",
    "\n",
    "# Import the interfaces module\n",
    "from geoips import interfaces\n",
    "\n",
    "# List the available interface\n",
    "print(\"Available interfaces:\")\n",
    "print(\"---------------------\")\n",
    "pprint(interfaces.list_available_interfaces())"
   ]
  },
  {
   "cell_type": "markdown",
   "id": "74c66a9c-008d-4b17-b7c4-ce2079a2f947",
   "metadata": {},
   "source": [
    "## Import the sectors interface and list the available sector plugins\n",
    "Each interface has plugins registered to it. Those plugins are accessed via the interface object. To access sector plugins, use the `sectors` interface.\n",
    "\n",
    "The cell below imports the sectors interface and prints a list of the available sector plugins."
   ]
  },
  {
   "cell_type": "code",
   "execution_count": null,
   "id": "5ea3063a-42fd-4a50-97ac-026dea148c15",
   "metadata": {},
   "outputs": [],
   "source": [
    "# Import the sectors interface, specifically\n",
    "from geoips.interfaces import sectors\n",
    "\n",
    "# List the available sectors\n",
    "print(\"Available sectors:\")\n",
    "print(\"------------------\")\n",
    "pprint(sorted([sect.name for sect in sectors.get_plugins()]))"
   ]
  },
  {
   "cell_type": "markdown",
   "id": "3bac6cb3-008d-4424-a038-8b3a350799f0",
   "metadata": {},
   "source": [
    "## Import the readers interface and list the available readers plugins\n",
    "All interfaces behave the same. The cell below imports the readers interface and lists the available readers. Unlike the CLI, it does not provide additional context for the plugins.\n",
    "\n",
    "📝 Note: At the time of writing this notebook, plugins do not have useful string representations so their names must be accessed via their `name` attribute. There is a pending issue to fix this. Once fixed, there would be no need for the loop used here."
   ]
  },
  {
   "cell_type": "code",
   "execution_count": null,
   "id": "85628d08",
   "metadata": {},
   "outputs": [],
   "source": [
    "# Import the readers interface, specifically\n",
    "from geoips.interfaces import readers\n",
    "\n",
    "# List the available readers\n",
    "print(\"Available readers:\")\n",
    "pprint(sorted([rdr.name for rdr in readers.get_plugins()]))"
   ]
  },
  {
   "cell_type": "markdown",
   "id": "e4910308-93fb-48f4-864b-43ce3d56ecf3",
   "metadata": {},
   "source": [
    "## Loading a Sector\n",
    "Plugins can be loaded by calling the `get_plugin()` method of their interface. Below, we load the `conus` sector.\n",
    "\n",
    "Each plugin can be inspected to better understand it. Yaml-based plugins like Sectors have a `yaml` attribute that prints the original yaml. `sector` plugins, additionally, have an `area_definition` attribute that contains the pyresample `AreaDefinition` for the sector"
   ]
  },
  {
   "cell_type": "code",
   "execution_count": null,
   "id": "f380deeb-5072-4a76-8dbd-8cc3a83e0a85",
   "metadata": {},
   "outputs": [],
   "source": [
    "# Load the CONUS sector and inspect it\n",
    "conus = sectors.get_plugin(\"conus\")\n",
    "\n",
    "# Print the sector's details\n",
    "print(\"Sector YAML definition:\")\n",
    "print(\"-----------------------\")\n",
    "pprint(conus.yaml)\n",
    "print(\"\\nArea Definition:\")\n",
    "print(\"----------------\")\n",
    "pprint(conus.area_definition)\n"
   ]
  },
  {
   "cell_type": "code",
   "execution_count": null,
   "id": "880c20fe-b4d3-4ce7-bcb9-a8b4b3fb81f1",
   "metadata": {},
   "outputs": [],
   "source": [
    "!geoips test sector conus"
   ]
  },
  {
   "cell_type": "code",
   "execution_count": null,
   "id": "61f04fd1-5772-41b7-96d6-55097f89317b",
   "metadata": {},
   "outputs": [],
   "source": [
    "from IPython.display import Image\n",
    "import os\n",
    "\n",
    "Image(f\"{os.environ['GEOIPS_OUTDIRS']}/conus.png\")"
   ]
  },
  {
   "cell_type": "markdown",
   "id": "4073b68f",
   "metadata": {},
   "source": [
    "# Load the ABI L1B NetCDF reader\n",
    "To load the reader plugin, again call `get_plugin()` on the interface object with the name of the plugin to load.\n",
    "\n",
    "To get detailed information about the plugin in IPython, call `abi_reader?`. This method only works in IPython, but gives very useful information without needing to dig into the documentation. It will provide:\n",
    "- Call Signature\n",
    "- Plugin Type\n",
    "- String Form of the Plugin\n",
    "- Path to the plugin's file\n",
    "- Docstring"
   ]
  },
  {
   "cell_type": "code",
   "execution_count": null,
   "id": "17c0729f-9c78-4450-a0e2-a2ea1e8e4446",
   "metadata": {},
   "outputs": [],
   "source": [
    "abi_reader = readers.get_plugin(\"abi_netcdf\")\n",
    "abi_reader?"
   ]
  },
  {
   "cell_type": "markdown",
   "id": "87c191f9-cb61-42d0-ac6d-afd283555eb9",
   "metadata": {},
   "source": [
    "## Reading ABI Data\n",
    "Using the various plugins is straightforward. Using their particular call signature, simply call the plugin. To read ABI data, we construct a list of input files, then pass them to the ABI reader. The reader will read the files and output the results as a dictionary of xarrays where each key represents a data resolution.\n",
    "\n",
    "In this case, we also specify two optional arguments:\n",
    "- `area_def` tells the reader to use nearest neighbor interpolation to return data for a particular sector.\n",
    "- `chans` tells the reader which channels to read.\n",
    "\n",
    "Providing both of these options helps us limit the memory footprint of the data. Reading the full dataset requires about 100GB of RAM (which is expensive when serving this notebook in the cloud)."
   ]
  },
  {
   "cell_type": "code",
   "execution_count": null,
   "id": "a637b97c",
   "metadata": {},
   "outputs": [],
   "source": [
    "import os\n",
    "from glob import glob\n",
    "import xarray as xr\n",
    "\n",
    "# Collect the file list\n",
    "files = glob(f\"{os.environ['GEOIPS_TESTDATA_DIR']}/test_data_abi/data/goes16_20200918_1950/*\")\n",
    "print(f\"Found {len(files)} files.\")\n",
    "\n",
    "# Read in ABI test data\n",
    "# - files must be a list, not a glob pattern\n",
    "# - We pass the area sector's area definition here to only read the data that we need.\n",
    "#   This is significantly faster and uses much less memory (and costs less in cloud costs!)\n",
    "#   Note that this will read the portion of the data that covers the area definition\n",
    "#   but will keep all pixels in that region.\n",
    "print(\"Reading ABI data - Channels 1, 2, and 3 reflectance\")\n",
    "# Describe what is returned here.\n",
    "abi_reader = readers.get_plugin(\"abi_netcdf\")\n",
    "xarray_dict = abi_reader(files, area_def=conus.area_definition, chans=[\"B01Ref\", \"B02Ref\", \"B03Ref\"])\n",
    "print(xarray_dict.keys())\n",
    "pprint(xarray_dict)\n"
   ]
  },
  {
   "cell_type": "markdown",
   "id": "c67b75cf-2885-4472-a4ab-ebf0b9905089",
   "metadata": {},
   "source": [
    "### Examining the data\n",
    "The data returned are in a dictionary of Xarray DataSets. The names of the elements can be listed by calling `xarray_dict.keys()`."
   ]
  },
  {
   "cell_type": "code",
   "execution_count": null,
   "id": "685e1848-019a-46d6-9aea-de6f53afab6f",
   "metadata": {},
   "outputs": [],
   "source": [
    "xarray_dict.keys()"
   ]
  },
  {
   "cell_type": "markdown",
   "id": "f5c3c90a-cbb4-448d-a48d-cbb909e6b42e",
   "metadata": {},
   "source": [
    "One key is always present, `\"METADATA\"`. This key provides information about the dataset itself."
   ]
  },
  {
   "cell_type": "code",
   "execution_count": null,
   "id": "45b78d0e-0cd9-4d95-b006-43cefaadae04",
   "metadata": {},
   "outputs": [],
   "source": [
    "xarray_dict[\"METADATA\"]"
   ]
  },
  {
   "cell_type": "markdown",
   "id": "2d87dacd-e1f0-45c7-aca4-0d77cdd640e5",
   "metadata": {},
   "source": [
    "All other elements have dynamic names. Each of these elements represents a specific shape of data. Here we only have `\"conus\"` because we specifically only read CONUS data. If, however, we had read the full ABI dataset without specifying a sector, the dictionary would contain DataSet elements for `\"HIGH\"`, `\"MED\"`, and `\"LOW\"`. These correspond to the three data resolutions provided by ABI.\n",
    "\n",
    "To inspect the contents of one of these data arrays, simply print it."
   ]
  },
  {
   "cell_type": "code",
   "execution_count": null,
   "id": "a0f7f907-762d-40d4-b857-34e99ff81c0f",
   "metadata": {},
   "outputs": [],
   "source": [
    "print(xarray_dict[\"conus\"])"
   ]
  },
  {
   "cell_type": "markdown",
   "id": "89ed04f7-09f2-4b60-916b-be105a325669",
   "metadata": {},
   "source": [
    "To access a particular variable, reference it by name like a dictionary element."
   ]
  },
  {
   "cell_type": "code",
   "execution_count": null,
   "id": "9dba3b08-6b82-4620-9114-f0ad79d1b348",
   "metadata": {},
   "outputs": [],
   "source": [
    "print(xarray_dict[\"conus\"][\"B01Ref\"])"
   ]
  },
  {
   "cell_type": "markdown",
   "id": "198b457d-ebb4-44bf-9936-f3ef8455c7c0",
   "metadata": {},
   "source": [
    "You can also slice it like any normal array. For example, to get a 10x10 pixel slice:"
   ]
  },
  {
   "cell_type": "code",
   "execution_count": null,
   "id": "0a45c952-456d-4cf9-895f-95707d95d8a3",
   "metadata": {},
   "outputs": [],
   "source": [
    "print(xarray_dict[\"conus\"][\"B01Ref\"][600:610, 1200:1210])"
   ]
  },
  {
   "cell_type": "markdown",
   "id": "a74ea491-9284-4f5a-8ca0-cfd248639043",
   "metadata": {},
   "source": [
    "Or to get every 4th pixel:"
   ]
  },
  {
   "cell_type": "code",
   "execution_count": null,
   "id": "efb8f5c6-f7bf-408d-99a1-f4acfbb3b3d1",
   "metadata": {},
   "outputs": [],
   "source": [
    "print(xarray_dict[\"conus\"][\"B01Ref\"][::4, ::4])"
   ]
  },
  {
   "cell_type": "markdown",
   "id": "adb814ec-6b47-4010-9962-7bdc38aa5aaa",
   "metadata": {},
   "source": [
    "## Interpolating Data\n",
    "Data can be interpolated to a new domain using interpolator plugins. While our data is already interpolated (to save on RAM) we can still re-apply the interpolation as an example.\n",
    "\n",
    "Below, we import the interpolators interface, load the `interp_nearest` plugin, then interpolate each data resolution separately.\n",
    "\n",
    "Note: Currently, each resolution needs to be interpolated separately, requiring a loop. Additionally, the `METADATA` dataset needs to be skipped. We have issues to address both of these issues in a backwards compatible way."
   ]
  },
  {
   "cell_type": "code",
   "execution_count": null,
   "id": "ed064349",
   "metadata": {},
   "outputs": [],
   "source": [
    "from geoips.interfaces import interpolators\n",
    "\n",
    "print(\"Loading interpolator plugin\")\n",
    "interpolator = interpolators.get_plugin(\"interp_nearest\")\n",
    "\n",
    "# Initialize an empty xarray instance into which the output will be placed\n",
    "# This is a step that should disappear in the near future\n",
    "interp_data = xr.Dataset()\n",
    "for res in xarray_dict.keys():\n",
    "    if res == \"METADATA\":\n",
    "        continue\n",
    "    print(f\"Interpolating {res} resolution data\")\n",
    "    interp_data = interpolator(conus.area_definition, xarray_dict[res], interp_data, list(xarray_dict[res].data_vars))\n",
    "pprint(interp_data)"
   ]
  },
  {
   "cell_type": "markdown",
   "id": "8d3997b9-16cd-4052-813f-be58fb55cbb0",
   "metadata": {},
   "source": [
    "### Plot the results\n",
    "To see the results, you can just use Matplotlib like normal. Below we plot NIR, Red, and Blue as an RGB with no atmospheric correction. It isn't pretty both due to the lack of atmospheric correction and a lack of intention in which channels to combine."
   ]
  },
  {
   "cell_type": "code",
   "execution_count": null,
   "id": "e5b1dcc3",
   "metadata": {},
   "outputs": [],
   "source": [
    "%matplotlib inline\n",
    "\n",
    "import numpy as np\n",
    "import matplotlib\n",
    "from matplotlib import pyplot as plt\n",
    "\n",
    "image = np.stack(\n",
    "    [\n",
    "        interp_data[\"B03Ref\"].data,\n",
    "        interp_data[\"B02Ref\"].data,\n",
    "        interp_data[\"B01Ref\"].data,\n",
    "    ],\n",
    "    axis=-1,\n",
    ")\n",
    "print(image.shape)\n",
    "print(matplotlib.get_backend())\n",
    "plt.imshow(image)\n",
    "plt.axis(\"off\")\n",
    "plt.show()"
   ]
  },
  {
   "cell_type": "markdown",
   "id": "bbe378c3-907b-421a-9c95-0057c89e419f",
   "metadata": {},
   "source": [
    "## Using an Algorithm\n",
    "Algorithms can also be loaded and applied programmatically. Below we load the \"single_channel\" algorithm which, as it's name suggests, operates on a single variable.\n",
    "\n",
    "Each plugin carries attributes that describe it. You can retrieve its `interface`, `family`, `name`, and other useful attributes. Running the cell below will load the \"single_channel\" algorithm and print these attributes."
   ]
  },
  {
   "cell_type": "code",
   "execution_count": null,
   "id": "590d03f5",
   "metadata": {},
   "outputs": [],
   "source": [
    "from geoips.interfaces import algorithms\n",
    "\n",
    "# Load the single-channel algorithm\n",
    "single_channel = algorithms.get_plugin(\"single_channel\")\n",
    "print(f\"Interface: {single_channel.interface}\")\n",
    "print(f\"Family: {single_channel.family}\")\n",
    "print(f\"Name: {single_channel.name}\")"
   ]
  },
  {
   "cell_type": "markdown",
   "id": "9a16d223-7ab7-4764-85f5-85c8900aead9",
   "metadata": {},
   "source": [
    "The family of an algorithm is particularly important. It defines what its input and output data types are. In this case, the family is \"list_numpy_to_numpy\". This indicates that this algorithm expects a list of numpy arrays and returns a single numpy array.\n",
    "\n",
    "***We are working to standardize all algorithms over the next year to use Xarray DataTrees but, until then, the families are vitally important.***\n",
    "\n",
    "### Calling the Algorithm\n",
    "\n",
    "To get an understanding of how to call the algorithm, we can get more information about it using the `?` trick again."
   ]
  },
  {
   "cell_type": "code",
   "execution_count": null,
   "id": "4a469b9d-b02c-4fa1-97ab-6610ecd7c6e8",
   "metadata": {},
   "outputs": [],
   "source": [
    "single_channel?"
   ]
  },
  {
   "cell_type": "markdown",
   "id": "ebd0e556-eb3f-4983-91ad-0cfc783648d5",
   "metadata": {},
   "source": [
    "`\"single_channel\"` is a fairly general algorithm, meant for use in many situations. As such, it has quite a few options. Let's apply just a few of them.\n",
    "- We will pass `xarray_data[\"conus\"][\"B01Ref\"]` as the input data (the blue band).\n",
    "- We'll pass `output_data_range` to specify the range of the data we expect.\n",
    "- `min_outbounds` and `max_outbouds` as \"crop\" to indicate to reduce any values outside our range to be either the min or max value.\n",
    "\n",
    "What data range should we apply? Let's examine the data?"
   ]
  },
  {
   "cell_type": "code",
   "execution_count": null,
   "id": "75ca8de2-9a4a-4e25-ad9b-fd81d052a3ba",
   "metadata": {},
   "outputs": [],
   "source": [
    "print(xarray_dict[\"conus\"][\"B01Ref\"].min(), xarray_dict[\"conus\"][\"B01Ref\"].max())"
   ]
  },
  {
   "cell_type": "markdown",
   "id": "21b71ee7-fc8f-4d01-86a4-d463cd6fa242",
   "metadata": {},
   "source": [
    "Given the range, we can see that the data range from 0-1, kind of. Some values go beyond a reflectance of 1. How about we crop values at 1?"
   ]
  },
  {
   "cell_type": "code",
   "execution_count": null,
   "id": "951200a4-57e0-431e-87ee-b6bb45c42e81",
   "metadata": {},
   "outputs": [],
   "source": [
    "%matplotlib inline\n",
    "\n",
    "blue = single_channel([xarray_dict[\"conus\"][\"B01Ref\"]], output_data_range=[0, 1], min_outbounds=\"crop\", max_outbounds=\"crop\")\n",
    "plt.imshow(blue, cmap=\"Greys_r\")\n",
    "plt.axis(\"off\")\n",
    "plt.show()"
   ]
  },
  {
   "cell_type": "markdown",
   "id": "7437c0e2-7a5d-40d6-83ef-b3677ccd8d58",
   "metadata": {},
   "source": [
    "# Last Thing\n",
    "Let's make something more fun! Below is a full demonstration script that produces the Natural Color RGB."
   ]
  },
  {
   "cell_type": "code",
   "execution_count": null,
   "id": "ea2ca075-045d-4cc0-b3d5-bc3142e60e3e",
   "metadata": {},
   "outputs": [],
   "source": [
    "import os\n",
    "from glob import glob\n",
    "import xarray as xr\n",
    "from geoips.interfaces import readers, sectors\n",
    "\n",
    "# Collect the file list\n",
    "files = glob(f\"{os.environ['GEOIPS_TESTDATA_DIR']}/test_data_abi/data/goes16_20200918_1950/*\")\n",
    "print(f\"Found {len(files)} files.\")\n",
    "\n",
    "sector = sectors.get_plugin(\"south_america\")\n",
    "\n",
    "# Read in ABI test data\n",
    "# - files must be a list, not a glob pattern\n",
    "# - We pass the area sector's area definition here to only read the data that we need.\n",
    "#   This is significantly faster and uses much less memory (and costs less in cloud costs!)\n",
    "#   Note that this will read the portion of the data that covers the area definition\n",
    "#   but will keep all pixels in that region.\n",
    "\n",
    "# Describe what is returned here.\n",
    "print(\"Reading data - Channels 1, 2, 3\")\n",
    "abi_reader = readers.get_plugin(\"abi_netcdf\")\n",
    "xarray_dict = abi_reader(files, area_def=sector.area_definition, chans=[\"B02Ref\", \"B03Ref\", \"B05Ref\"])\n",
    "print(\"Done reading data\")\n",
    "\n",
    "# Build the channels\n",
    "red = xarray_dict[sector.name][\"B05Ref\"]  # 1.6 um\n",
    "grn = xarray_dict[sector.name][\"B03Ref\"]  # 0.86 um\n",
    "blu = xarray_dict[sector.name][\"B02Ref\"]  # 0.64 um\n",
    "\n",
    "img = np.dstack([red, grn, blu])\n",
    "\n",
    "%matplotlib inline\n",
    "# Should normally retrieve the correct DPI from matplotlib. Default is 100 DPI.\n",
    "fig = plt.figure(figsize=(img.shape[1] / 100.0, img.shape[0] / 100.0))\n",
    "ax = fig.add_axes((0, 0, 1, 1))\n",
    "ax.imshow(img)\n",
    "ax.axis(\"off\")\n",
    "plt.show()"
   ]
  },
  {
   "cell_type": "markdown",
   "id": "9588b526-1291-4ed0-add5-ba42d190f4e3",
   "metadata": {},
   "source": [
    "# Play with it! Can you make it look better? Different sector? Different RGB recipe?\n",
    "\n",
    "# Bonus! Why is this image dark? Can you use the data to figure out why?"
   ]
  }
 ],
 "metadata": {
  "kernelspec": {
   "display_name": "GeoIPS - Python 3.11",
   "language": "python",
   "name": "geoips"
  },
  "language_info": {
   "codemirror_mode": {
    "name": "ipython",
    "version": 3
   },
   "file_extension": ".py",
   "mimetype": "text/x-python",
   "name": "python",
   "nbconvert_exporter": "python",
   "pygments_lexer": "ipython3",
   "version": "3.11.13"
  }
 },
 "nbformat": 4,
 "nbformat_minor": 5
}
