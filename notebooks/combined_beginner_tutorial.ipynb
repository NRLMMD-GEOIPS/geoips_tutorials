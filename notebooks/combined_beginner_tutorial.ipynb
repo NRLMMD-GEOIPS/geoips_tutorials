{
 "cells": [
  {
   "cell_type": "markdown",
   "id": "8e55f54d",
   "metadata": {},
   "source": [
    "### Welcome\n",
    "\n",
    "This is the first section of the introductory GeoIPS tutorial, which includes running GeoIPS \n",
    "using the CLI, and creating your first plugin! \n",
    "\n",
    "\n",
    "Link to these slides \n",
    "https://github.com/NRLMMD-GEOIPS/presentations"
   ]
  },
  {
   "cell_type": "markdown",
   "id": "7ca70cad",
   "metadata": {},
   "source": [
    "### Tutorial Scope\n",
    "\n",
    "This tutorial does not address running GeoIPS in near real-time. GeoIPS plugins \n",
    "are intended to be developed and tested on a specific dataset, and setting up the \n",
    "real-time processing infrastructure is a separate conversation. \n",
    "\n",
    "This tutorial focuses on: \n",
    "\n",
    "  - Installing GeoIPS \n",
    "  - Running GeoIPS \n",
    "  - Product development and testing \n"
   ]
  },
  {
   "cell_type": "markdown",
   "id": "a490cd6b",
   "metadata": {},
   "source": [
    "### To get the most out of this tutorial… \n",
    "\n",
    "- [Aug 2024 - Intro GeoIPS Tutorial - Google Slides](https://docs.google.com/presentation/d/151tR2hycoM3WqC9-7s9laMcCTZ9StY2fVLTpA_FwYBs/edit#slide=id.g2e736e3f9ff_3_94) \n",
    "- Please keep these slides up to copy/paste from as needed throughout the \n",
    "tutorial \n",
    "- Please copy/paste rather than typing everything word for word! \n",
    "  - Trick - Triple click to select a full code block for copy/paste! \n",
    "- [NRLMMD-GEOIPS/template_basic_plugin workshop-2024-beginner-solutions](https://github.com/NRLMMD-GEOIPS/template_basic_plugin/tree/workshop-2024-beginner-solutions) \n",
    "- If all else fails, you can access the solutions on github.com "
   ]
  },
  {
   "cell_type": "markdown",
   "id": "9e437abf",
   "metadata": {},
   "source": [
    "## System requirements\n",
    "\n",
    "- **CPU:** 1 CPU\n",
    "- **RAM:** 40GB as the notebook is written, but could use more if modified.\n",
    "  Reading the entire full-disk ABI image can take up to 100GB.\n",
    "- **Disk Space:** 3GB storage space.\n",
    "\n",
    "***To see the default storage location for your system, run the cell below.***\n",
    "To change the default location, change the value of `tmp_root` in the following cell."
   ]
  },
  {
   "cell_type": "code",
   "execution_count": null,
   "id": "3288eeee",
   "metadata": {
    "vscode": {
     "languageId": "shellscript"
    }
   },
   "outputs": [],
   "source": [
    "%%bash\n",
    "\n",
    "# Run this if this notebook has been ran on your system previously -- doesn't hurt if you haven't\n",
    "pip uninstall -y cool_plugins"
   ]
  },
  {
   "cell_type": "markdown",
   "id": "bfe8e933",
   "metadata": {},
   "source": [
    "\n",
    "## Setting up your Environment\n",
    "\n",
    "**If you don't have an environment already set up, please follow the steps 2 and 3 of <br />\n",
    "the instructions linked [here](https://nrlmmd-geoips.github.io/geoips/getting-started/installing/index.html) based on the architecture of your machine.**\n",
    "\n",
    "You can quit following the instructions after you've activated your geoips environment via <br />\n",
    "``conda activate geoips``.\n",
    "\n",
    "If running locally, run the python module below via `python setup_environment.py` to set <br />\n",
    "your environment. This must be done manually in the terminal.\n",
    "\n",
    "```bash\n",
    "python setup_environment.py\n",
    "```\n",
    "\n",
    "**After** running the python command above in the terminal, run the code block below.\n"
   ]
  },
  {
   "cell_type": "code",
   "execution_count": null,
   "id": "cbc305d4",
   "metadata": {},
   "outputs": [],
   "source": [
    "import os\n",
    "\n",
    "import dotenv\n",
    "\n",
    "dotenv.load_dotenv(\"./.env\", override=True)\n",
    "\n",
    "if not os.path.exists(os.environ[\"GEOIPS_TESTDATA_DIR\"]):\n",
    "    os.makedirs(os.environ[\"GEOIPS_TESTDATA_DIR\"])\n",
    "if not os.path.exists(os.environ[\"GEOIPS_OUTDIRS\"]):\n",
    "    os.makedirs(os.environ[\"GEOIPS_OUTDIRS\"])"
   ]
  },
  {
   "cell_type": "markdown",
   "id": "d4eae42e",
   "metadata": {},
   "source": [
    "### Installing Appropriate Test Datasets\n",
    "\n",
    "For this tutorial, you'll need GeoIPS test datasets that can be used to produce imagery \n",
    "or scientific datasets. \n",
    "\n",
    "If just attending the beginner tutorial, you'll need:\n",
    "\n",
    "  - `test_data_clavrx`\n",
    "\n",
    "These datasets might take a while to download so go ahead and download the appropriate \n",
    "datasets based on the following commands,."
   ]
  },
  {
   "cell_type": "code",
   "execution_count": null,
   "id": "7c518041",
   "metadata": {
    "vscode": {
     "languageId": "shellscript"
    }
   },
   "outputs": [],
   "source": [
    "%%bash\n",
    "\n",
    "# This is needed for both the beginner and advanced tutorial\n",
    "geoips config install test_data_clavrx --outdir $GEOIPS_TESTDATA_DIR"
   ]
  },
  {
   "cell_type": "markdown",
   "id": "26050255",
   "metadata": {},
   "source": [
    "### Introduction to GeoIPS\n",
    "\n",
    "GeoIPS is a plugin-based system for processing geolocated data: \n",
    "  - produce imagery in several formats (most often PNG). \n",
    "  - produce output data products in NetCDF4 format. \n",
    "  - extended to add other output formats via plugins. \n",
    "\n",
    "![1111𝝁 infrared imagery](./images/conus_infrared.png)\n",
    "\n",
    "![Himawari-9 CLAVR-x Cloud-Top-Height](./images/ahi_cloud_top_height.png)\n",
    "\n",
    "![ABI CLAVR-x Cloud Top Height](./images/abi_cloud_top_height.png)\n",
    "\n",
    "GeoIPS is almost entirely composed of plugins:\n",
    "\n",
    "  - GeoIPS can be extended by developing new plugins in external python packages. \n",
    "  - No need to edit the main GeoIPS code to add new functionality. \n",
    "  - Most types of functionality in GeoIPS can be extended (and if something can’t be \n",
    "  extended, and you think it should, let us know!). \n"
   ]
  },
  {
   "cell_type": "markdown",
   "id": "ec0cb1f2",
   "metadata": {},
   "source": [
    "### Vocabulary\n",
    "\n",
    "**YAML**\n",
    "  - \"Yet Another Markdown Language\" \n",
    "  - A human-readable data serialization language that is often used for writing configuration files \n",
    "\n",
    "**Plugin**\n",
    "  - A Python module or YAML file that defines GeoIPS functionality \n",
    "  - Stored in an installable Python package that registers its plugin payload with GeoIPS \n",
    "\n",
    "**Interface**\n",
    "  - A class of Python plugins that modify the same type of functionality within GeoIPS \n",
    "  (e.g., “the algorithms interface” or “the colormappers interface”) \n",
    "  \n",
    "**Family**\n",
    "  - A subset of an interface whose plugins accept different sets of arguments/properties \n",
    "  - Planning to deprecate this 'artifact' in the near future.\n"
   ]
  },
  {
   "cell_type": "markdown",
   "id": "5d35708b",
   "metadata": {},
   "source": [
    "### Commonly used GeoIPS Plugin Types \n",
    "\n",
    "**algorithm**\n",
    "  - Implements a function that modifies data and outputs new data\n",
    "\n",
    "**colormapper**\n",
    "  - Defines a method of applying a colormap to imagery\n",
    "\n",
    "**feature_annotator**\n",
    "  - Defines how to plot map features (e.g. coastlines, borders, rivers, etc.)\n",
    "\n",
    "**gridline_annotator**\n",
    "  - Defines how to plot gridlines and labels\n",
    "\n",
    "**interpolator**\n",
    "  - Defines a method of interpolating data to a sector\n",
    "\n",
    "**output_formatter**\n",
    "  - Defines a method for plotting imagery or outputting a data file \n",
    "\n",
    "**procflow**\n",
    "  - Defines the order of operations to use when producing a product from GeoIPS \n",
    "\n",
    "**product**\n",
    "  - Defines how to produce a specific product as a combination of other plugins\n",
    "  - Uses other plugins (e.g. algorithm, colormapper, interpolator)\n",
    "\n",
    "**product_defaults**\n",
    "  - Defines a default set of plugins and arguments for producing a specific type of product \n",
    "  - Can be reused across multiple products to allow consistency between similar products \n",
    "\n",
    "**reader**\n",
    "  - Defines a data reader \n",
    "\n",
    "**sector**\n",
    "  - Describes an domain for reprojection of data "
   ]
  },
  {
   "cell_type": "markdown",
   "id": "26530c2b",
   "metadata": {},
   "source": [
    "## Hands On: Modify a plugin template to create your own installable plugin package  \n"
   ]
  },
  {
   "cell_type": "markdown",
   "id": "b6833494",
   "metadata": {},
   "source": [
    "### Get the Template Repo\n",
    "\n",
    "Run the following series of commands to get the template repository."
   ]
  },
  {
   "cell_type": "code",
   "execution_count": null,
   "id": "4d4f2703",
   "metadata": {
    "vscode": {
     "languageId": "shellscript"
    }
   },
   "outputs": [],
   "source": [
    "%%bash\n",
    "\n",
    "cd $GEOIPS_PACKAGES_DIR\n",
    "git clone --no-tags --single-branch $GEOIPS_REPO_URL/template_basic_plugin.git\n",
    "# Rename your package\n",
    "mv template_basic_plugin/ $MY_PKG_NAME\n",
    "cd $MY_PKG_NAME\n",
    "# No longer point to github.com template_basic_plugin.git\n",
    "git remote remove origin"
   ]
  },
  {
   "cell_type": "markdown",
   "id": "e1917a32",
   "metadata": {},
   "source": [
    "### Update the Package Name\n",
    "\n",
    "Ensure you’re in your package directory and look around.\n",
    "\n",
    "This repository is set up with a working installable plugin called \"my_package\", so we \n",
    "just need to swap out the name and build upon what's already there! "
   ]
  },
  {
   "cell_type": "markdown",
   "id": "a80053e8",
   "metadata": {},
   "source": [
    "![Package listing](./images/cool_plugins_top_level.png)\n",
    "\n",
    "This repository is set up with a working installable plugin called \"my_package\", so we \n",
    "just need to swap out the name and build upon what's already there!"
   ]
  },
  {
   "cell_type": "markdown",
   "id": "9e4f7ec3",
   "metadata": {},
   "source": [
    "### Structure of a Plugin Package\n",
    "\n",
    "Rename the default plugin package directory to your new package name"
   ]
  },
  {
   "cell_type": "code",
   "execution_count": null,
   "id": "ed17c6cd",
   "metadata": {
    "vscode": {
     "languageId": "shellscript"
    }
   },
   "outputs": [],
   "source": [
    "%%bash\n",
    "\n",
    "cd $MY_PKG_DIR\n",
    "git mv my_package $MY_PKG_NAME\n",
    "tree -L 2"
   ]
  },
  {
   "cell_type": "markdown",
   "id": "88c91376",
   "metadata": {},
   "source": [
    "### Your directory structure should now look like this:"
   ]
  },
  {
   "cell_type": "markdown",
   "id": "47a3f8e8",
   "metadata": {},
   "source": [
    "![cool_plugins directory structure](./images/cool_plugins_directory_structure.png)"
   ]
  },
  {
   "cell_type": "code",
   "execution_count": null,
   "id": "3aae8120",
   "metadata": {
    "vscode": {
     "languageId": "shellscript"
    }
   },
   "outputs": [],
   "source": [
    "%%bash\n",
    "\n",
    "cd $MY_PKG_DIR/cool_plugins\n",
    "tree"
   ]
  },
  {
   "cell_type": "markdown",
   "id": "917a042b",
   "metadata": {},
   "source": [
    "![plugins directory structure](./images/plugins_directory_structure.png)"
   ]
  },
  {
   "cell_type": "markdown",
   "id": "edebaf05",
   "metadata": {},
   "source": [
    "### Update Pertinent Files\n",
    "\n",
    "1. Update README.md (`vim README.md`)\n",
    "  - Find/replace all occurrences of @package@  with your package name \n",
    "  - Vim Tip :%s/@package@/cool_plugins/g \n",
    "  \n",
    "**Note**: The @ symbols are for ease of searching, take them out when you put your \n",
    "package name in!\n",
    "\n",
    "2. Update pyproject.toml (`vim pyproject.toml`, more on this in soon.)\n",
    "  - Find/replace all occurrences of my_package  with your package name \n",
    "\n",
    "3. Add and commit your changes.\n",
    "\n",
    "#### Note\n",
    "\n",
    "Due to the nature of Jupyter Notebooks, we are not able to edit files in place (that is <br />\n",
    "opening them up and manually editing files (such as YAML or TOML)). Instead we'll <br />\n",
    "update these files with Python. Keep in mind if you were running this notebook locally <br />\n",
    "via an IDE, you'd be able to edit these files manually rather than using Python."
   ]
  },
  {
   "cell_type": "code",
   "execution_count": null,
   "id": "fd8cf952",
   "metadata": {},
   "outputs": [],
   "source": [
    "\"\"\"Overwrite cool_plugins' pyproject.toml and README.md with correct contents.\"\"\"\n",
    "\n",
    "import os\n",
    "\n",
    "with open(\"./updated_files/pyproject.toml\", \"r\") as rf:\n",
    "    toml_lines = rf.readlines()\n",
    "\n",
    "with open(f\"{os.environ['MY_PKG_DIR']}/pyproject.toml\", \"w\") as wf:\n",
    "    wf.writelines(toml_lines)\n",
    "\n",
    "with open(\"./updated_files/README.md\", \"r\") as rf:\n",
    "    md_lines = rf.readlines()\n",
    "\n",
    "with open(f\"{os.environ['MY_PKG_DIR']}/README.md\", \"w\") as wf:\n",
    "    wf.writelines(md_lines)"
   ]
  },
  {
   "cell_type": "code",
   "execution_count": null,
   "id": "441118ae",
   "metadata": {
    "vscode": {
     "languageId": "shellscript"
    }
   },
   "outputs": [],
   "source": [
    "%%bash\n",
    "\n",
    "cd $MY_PKG_DIR\n",
    "git add README.md pyproject.toml\n",
    "git commit -m \"Updated name of template plugin package to mine\""
   ]
  },
  {
   "cell_type": "markdown",
   "id": "4028932b",
   "metadata": {},
   "source": [
    "4. Install your package (-e means `editable` so we can edit the package after it is \n",
    "installed and changes will be reflected in the installed package)\n",
    "\n",
    "Maybe mention a symlink -- similar to if you've symlinked your package to python installation path (site-packages)"
   ]
  },
  {
   "cell_type": "code",
   "execution_count": null,
   "id": "e2241759",
   "metadata": {
    "vscode": {
     "languageId": "shellscript"
    }
   },
   "outputs": [],
   "source": [
    "%%bash\n",
    "\n",
    "pip install -e $MY_PKG_DIR"
   ]
  },
  {
   "cell_type": "markdown",
   "id": "74253bb8",
   "metadata": {},
   "source": [
    "5. Register your plugins so GeoIPS knows where to find them"
   ]
  },
  {
   "cell_type": "code",
   "execution_count": null,
   "id": "e4d29a61",
   "metadata": {
    "vscode": {
     "languageId": "shellscript"
    }
   },
   "outputs": [],
   "source": [
    "%%bash\n",
    "\n",
    "geoips config create-registries"
   ]
  },
  {
   "cell_type": "markdown",
   "id": "4871f0fa",
   "metadata": {},
   "source": [
    "### See what you just installed \n",
    "\n",
    "List all installed packages:"
   ]
  },
  {
   "cell_type": "code",
   "execution_count": null,
   "id": "b69ec482",
   "metadata": {
    "vscode": {
     "languageId": "shellscript"
    }
   },
   "outputs": [],
   "source": [
    "%%bash\n",
    "\n",
    "geoips list packages"
   ]
  },
  {
   "cell_type": "markdown",
   "id": "d92d21f5",
   "metadata": {},
   "source": [
    "List all installed plugins:"
   ]
  },
  {
   "cell_type": "code",
   "execution_count": null,
   "id": "bf82e148",
   "metadata": {
    "vscode": {
     "languageId": "shellscript"
    }
   },
   "outputs": [],
   "source": [
    "%%bash\n",
    "\n",
    "geoips list plugins"
   ]
  },
  {
   "cell_type": "markdown",
   "id": "38b296ca",
   "metadata": {},
   "source": [
    "### A bit about pyproject.toml\n",
    "\n",
    "Installing Python packages requires metadata that describes the package and how to \n",
    "install it. \n",
    "\n",
    "`pyproject.toml` defines this information for pip, including: \n",
    "  - Package name, version, description, license, etc. \n",
    "  - Which files should be contained in the package when installed \n",
    "  - How to build the package \n",
    "\n",
    "We make GeoIPS aware of our package using the `geoips.plugin_packages` namespace.\n",
    "This allows GeoIPS to find all plugins within packages registered to this namespace.\n",
    "\n",
    "GeoIPS automatically identifies all plugins defined within a plugin package via a plugin\n",
    "registry. You can manually create these files via `geoips config create-registries`, \n",
    "however, GeoIPS will automatically create these files if a requested plugin cannot be\n",
    "found. This usually occurs the first time GeoIPS is initialized.\n",
    "\n",
    "**NOTE** for plugin registries to write successfully: \n",
    "\n",
    "1. All installed  plugin names within a given interface must be unique \n",
    "\n",
    "2. All installed plugins must be formatted and defined correctly \n",
    "\n",
    "We will make use of this more later! Modify plugin template solutions on \n",
    "[NRLMMD github.com](https://github.com/NRLMMD-GEOIPS/template_basic_plugin/tree/workshop-2023-solutions).\n",
    "\n",
    "```\n",
    "[tool.poetry.plugins.\"geoips.plugin_packages\"]\n",
    "\"cool_plugins\" = \"cool_plugins\" \n",
    "``` "
   ]
  },
  {
   "cell_type": "markdown",
   "id": "89cc9dab",
   "metadata": {},
   "source": [
    "## GeoIPS Command Line Interface (CLI) Tutorial\n",
    "\n",
    "Please follow this [Jupyter Notebook](./CLI_Tutorial.ipynb) for instructions on how to \n",
    "make use of the GeoIPS CLI."
   ]
  },
  {
   "cell_type": "markdown",
   "id": "73093623",
   "metadata": {},
   "source": [
    "## Hands on: Create a Product Plugin (products  YAML-based interface) \n",
    "\n",
    "Solutions on \n",
    "[NRLMMD github.com](https://github.com/NRLMMD-GEOIPS/template_basic_plugin/tree/workshop-2023-solutions)."
   ]
  },
  {
   "cell_type": "markdown",
   "id": "9fa30ad4",
   "metadata": {},
   "source": [
    "### First Product Plugin: Cloud Top Height (CTH) from CLAVR-x data\n",
    "\n",
    "- Copy the existing product plugin to a new file to modify "
   ]
  },
  {
   "cell_type": "code",
   "execution_count": null,
   "id": "2f1e5dc8",
   "metadata": {
    "vscode": {
     "languageId": "shellscript"
    }
   },
   "outputs": [],
   "source": [
    "%%bash\n",
    "\n",
    "cd $MY_PKG_DIR/$MY_PKG_NAME/plugins/yaml/products\n",
    "cp amsr2_using_product_defaults.yaml my_clavrx_products.yaml"
   ]
  },
  {
   "cell_type": "markdown",
   "id": "a8480dad",
   "metadata": {},
   "source": [
    "- Edit my_clavrx_products.yaml properties (I.e. `vim my_clavrx_products.yaml`)\n",
    "\n",
    "    a. (Feel free to remove all lines preceded by `# @`) \n",
    "  \n",
    "![Product top level keys](./images/product_top_level_keys.png)\n",
    "\n",
    "All YAML plugins will begin with these same four properties!\n",
    "\n",
    "In a future code cell we'll replace the YAML shown on the left of the image with the <br />\n",
    "following in my_clavrx_products.yaml\n",
    "\n",
    "```yaml\n",
    "interface: products\n",
    "family: list\n",
    "name: my_clavrx_products\n",
    "docstring: |\n",
    "  CLAVR-x imagery products\n",
    "```"
   ]
  },
  {
   "cell_type": "markdown",
   "id": "0e9152fd",
   "metadata": {},
   "source": [
    "### First Product Plugin: Cloud Top Height (CTH) from CLAVR-x data \n",
    "\n",
    "Edit the product specifications as shown below:\n",
    "\n",
    "![Update product spec](./images/update_product_spec.png)\n",
    "\n",
    "In the next code cell we'll replace the YAML shown on the upper left of the with the <br />\n",
    "following in my_clavrx_products.yaml\n",
    "\n",
    "```yaml\n",
    "spec:\n",
    "  products:\n",
    "    - name: My-Cloud-Top-Height\n",
    "      source_names: [clavrx]\n",
    "      docstring: |\n",
    "        CLAVR-x Cloud Top Height\n",
    "      product_defaults: Cloud-Height\n",
    "      spec:\n",
    "        variables: [\"cld_height_acha\", \"latitude\", \"longitude\"]\n",
    "```"
   ]
  },
  {
   "cell_type": "code",
   "execution_count": null,
   "id": "f5ca9841",
   "metadata": {},
   "outputs": [],
   "source": [
    "\"\"\"Update the contents of my_clavrx_products.yaml.\"\"\"\n",
    "\n",
    "import os\n",
    "\n",
    "import yaml\n",
    "\n",
    "with open(\"./updated_files/my_clavrx_products.yaml\", \"r\") as yaml_file:\n",
    "    updated_products = yaml.safe_load(yaml_file)\n",
    "\n",
    "my_cloud_top_height = updated_products[\"spec\"][\"products\"][0]\n",
    "\n",
    "updated_products[\"spec\"][\"products\"] = [my_cloud_top_height]\n",
    "\n",
    "print(updated_products)\n",
    "\n",
    "with open(f\"{os.environ['MY_PKG_DIR']}/cool_plugins/plugins/yaml/products/my_clavrx_products.yaml\", \"w\") as f:\n",
    "    yaml.safe_dump(updated_products, f, default_flow_style=False, sort_keys=False)\n"
   ]
  },
  {
   "cell_type": "code",
   "execution_count": null,
   "id": "ff3b76c4",
   "metadata": {
    "vscode": {
     "languageId": "shellscript"
    }
   },
   "outputs": [],
   "source": [
    "%%bash\n",
    "\n",
    "cd $MY_PKG_DIR/cool_plugins/plugins/yaml/products\n",
    "pwd\n",
    "cat my_clavrx_products.yaml"
   ]
  },
  {
   "cell_type": "markdown",
   "id": "a293753a",
   "metadata": {},
   "source": [
    "### Command: `geoips describe`\n",
    "\n",
    " \n",
    "Let's use the CLI to get more information about the plugin we just created. \n",
    "\n",
    "You'll notice that the plugin registry is rebuilt, as GeoIPS was unable to locate the \n",
    "plugin we just created (since it was not already in the registry)."
   ]
  },
  {
   "cell_type": "code",
   "execution_count": null,
   "id": "30028ff5",
   "metadata": {
    "vscode": {
     "languageId": "shellscript"
    }
   },
   "outputs": [],
   "source": [
    "%%bash\n",
    "\n",
    "geoips config create-registries\n",
    "geoips describe product clavrx.My-Cloud-Top-Height"
   ]
  },
  {
   "cell_type": "markdown",
   "id": "88f99a2a",
   "metadata": {},
   "source": [
    "If you need a reminder what your new product is called, you can always check via:"
   ]
  },
  {
   "cell_type": "code",
   "execution_count": null,
   "id": "3bf3de9c",
   "metadata": {
    "vscode": {
     "languageId": "shellscript"
    }
   },
   "outputs": [],
   "source": [
    "%%bash\n",
    "\n",
    "geoips ls products -p cool_plugins"
   ]
  },
  {
   "cell_type": "markdown",
   "id": "132bd869",
   "metadata": {},
   "source": [
    "For any description of a product plugin, this is the generic format to follow via the CLI:\n",
    "\n",
    "`geoips describe <interface_name> <source_name>.<plugin_name>`"
   ]
  },
  {
   "cell_type": "markdown",
   "id": "c8c0486a",
   "metadata": {},
   "source": [
    "### `family: null`\n",
    "\n",
    "You may have noticed that your product’s family was `null` in the output of \n",
    "\n",
    "`geoips describe product clavrx.My-Cloud-Top-Height`. \n",
    "\n",
    "This isn’t the actual case. \n",
    "\n",
    "Products are the only plugin that can depend on another type of plugin \n",
    "(product_defaults), and that is where this information lies. \n",
    "\n",
    "For now, an easy way to check the family of your product is by describing its product \n",
    "default plugin. \n",
    "\n",
    "The family of the derived product_default is the same family as the product plugin."
   ]
  },
  {
   "cell_type": "code",
   "execution_count": null,
   "id": "abaa68da",
   "metadata": {
    "vscode": {
     "languageId": "shellscript"
    }
   },
   "outputs": [],
   "source": [
    "%%bash\n",
    "\n",
    "geoips desc pdef Cloud-Height"
   ]
  },
  {
   "cell_type": "markdown",
   "id": "ac555aaf",
   "metadata": {},
   "source": [
    "### Use your new product!\n",
    "\n",
    "To use the plugin you just created, we'll make use of the `geoips run` command.\n",
    "\n",
    "- GeoIPS is called via a command line interface (CLI), as we've shown previously.\n",
    "- The main command that you will use is `geoips run single_source`, which will run your \n",
    "  data through the specified procflow using the specified plugins \n",
    "- It's easiest to do this via a script, and scripts are stored in your plugin package's \n",
    "  `tests/` directory because they can be used later to regression test your package \n",
    "- Since we're running this in a notebook, we can easily run these commands with a code cell!"
   ]
  },
  {
   "cell_type": "code",
   "execution_count": null,
   "id": "5ebfb253",
   "metadata": {
    "vscode": {
     "languageId": "shellscript"
    }
   },
   "outputs": [],
   "source": [
    "%%bash\n",
    "\n",
    "geoips run single_source \\\n",
    "    $GEOIPS_TESTDATA_DIR/test_data_clavrx/data/goes16_2023101_1600/clavrx_OR_ABI-L1b-RadF-M6C01_G16_s20231011600207.level2.hdf \\\n",
    "  --reader_name clavrx_hdf4 \\\n",
    "  --product_name My-Cloud-Top-Height \\\n",
    "  --output_formatter imagery_annotated \\\n",
    "  --filename_formatter geoips_fname \\\n",
    "  --minimum_coverage 0 \\\n",
    "  --sector_list conus"
   ]
  },
  {
   "cell_type": "markdown",
   "id": "bc7cf745",
   "metadata": {},
   "source": [
    "### Viewing the log output\n",
    "\n",
    "This will write some log output.  If your script succeeded it will end with \n",
    "`INTERACTIVE: Return Value 0`.\n",
    "\n",
    "To view your output, look for a line that says `SINGLESOURCESUCCESS`.\n",
    "\n",
    "Open the PNG file that this script produces.\n",
    "\n",
    "If successful, the output image should look like this:\n",
    "\n",
    "![CLAVR-x CONUS My-Cloud-Top-Height](./images/clavrx-conus-my-cloud-top-height.png)"
   ]
  },
  {
   "cell_type": "markdown",
   "id": "d71d027e",
   "metadata": {},
   "source": [
    "### A word about Product Defaults \n",
    "\n",
    "- GeoIPS has a number of product_defaults plugins defined to help you not reinvent the \n",
    "  wheel, **but**\n",
    "    - You can override any of the product defaults within your product definition \n",
    "    - You can absolutely define all of the available options within your product plugin \n",
    "- [Pre-defined CLAVR-x product defaults](https://github.com/NRLMMD-GEOIPS/geoips_clavrx/tree/main/geoips_clavrx/plugins/yaml/product_defaults) (part of the CLAVR-x plugin) \n",
    "- [Pre-defined GeoIPS product defaults](https://github.com/NRLMMD-GEOIPS/geoips/tree/main/geoips/plugins/yaml/product_defaults) \n",
    "- If you have product definition parameters that you want to reuse (i.e. if you're \n",
    "  copy/pasting product definition parameters!),consider creating a product default for \n",
    "  your plugin \n",
    "\n",
    "  ![Cloud-Height Product Defaults](./images/Cloud-Height-product_defaults.png)"
   ]
  },
  {
   "cell_type": "markdown",
   "id": "fb25312b",
   "metadata": {},
   "source": [
    "### Different Implementations of Product Defaults within a Product \n",
    "\n",
    "In your product you can use the product_defaults verbatim. \n",
    "\n",
    "![Product using product default](./images/product_using_product_default.png)"
   ]
  },
  {
   "cell_type": "markdown",
   "id": "ebad57c6",
   "metadata": {},
   "source": [
    "### Different Implementations of Product Defaults within a Product \n",
    "\n",
    "You can also override just some parts of the product_defaults. \n",
    "\n",
    "In this example, we override the `algorithm` plugin contained in the Cloud-Height \n",
    "product_defaults, with our own specification. \n",
    "\n",
    "![Product default overridden](./images/product_default_overridden.png)"
   ]
  },
  {
   "cell_type": "markdown",
   "id": "f193c6c3",
   "metadata": {},
   "source": [
    "### Different Implementations of Product Defaults within a Product\n",
    "\n",
    "We also have the option to define a product without using product_defaults.\n",
    "\n",
    "To do this: \n",
    "  - remove the `product_defaults` property \n",
    "  - add the `family` property\n",
    "\n",
    "![Product fully specified](./images/product_fully_specified.png)"
   ]
  },
  {
   "cell_type": "markdown",
   "id": "2011b415",
   "metadata": {},
   "source": [
    "## Hands on: Add Additional Products to Your Product Plugin \n"
   ]
  },
  {
   "cell_type": "markdown",
   "id": "83371ed2",
   "metadata": {},
   "source": [
    "### Add Cloud Base Height (CBH) to the CLAVR-x Product Definition\n",
    "\n",
    "- Using your definition of `My-Cloud-Top-Height` as an example, create a product \n",
    "  definition for `My-Cloud-Base-Height`\n",
    "\n",
    "**Helpful Hints:** \n",
    "- The relevant variable in the CLAVR-x output file (and the equivalent GeoIPS reader) \n",
    "  is called `cld_height_base`\n",
    "- The Cloud-Height product_default  can be used to simplify this product \n",
    "  definition (or you can DIY or override if you'd like!) "
   ]
  },
  {
   "cell_type": "code",
   "execution_count": null,
   "id": "44f3b1d3",
   "metadata": {},
   "outputs": [],
   "source": [
    "\"\"\"Add My-Cloud-Base-Height to the contents of my_clavrx_products.yaml.\"\"\"\n",
    "\n",
    "import os\n",
    "\n",
    "import yaml\n",
    "\n",
    "with open(\"./updated_files/my_clavrx_products.yaml\", \"r\") as yaml_file:\n",
    "    updated_products = yaml.safe_load(yaml_file)\n",
    "\n",
    "my_cloud_top_height = updated_products[\"spec\"][\"products\"][0]\n",
    "my_cloud_base_height = updated_products[\"spec\"][\"products\"][1]\n",
    "\n",
    "updated_products[\"spec\"][\"products\"] = [my_cloud_top_height, my_cloud_base_height]\n",
    "\n",
    "print(updated_products)\n",
    "\n",
    "with open(f\"{os.environ['MY_PKG_DIR']}/cool_plugins/plugins/yaml/products/my_clavrx_products.yaml\", \"w\") as f:\n",
    "    yaml.safe_dump(updated_products, f, default_flow_style=False, sort_keys=False)"
   ]
  },
  {
   "cell_type": "markdown",
   "id": "2d12d702",
   "metadata": {},
   "source": [
    "### First Product Plugins: CTH and CBH from CLAVR-x data (my_clavrx_products.yaml) \n",
    "\n",
    "After running the code cell above, the `spec` portion of `my_clavrx_products.yaml` <br />\n",
    "should now look like this:\n",
    "\n",
    "```yaml\n",
    "spec:\n",
    "  products: \n",
    "    - name: My-Cloud-Top-Height\n",
    "      source_names: [clavrx] \n",
    "      docstring:  |\n",
    "        CLAVR-x Cloud Top Height \n",
    "      product_defaults: Cloud-Height \n",
    "      spec:\n",
    "        variables: [\"cld_height_acha\", \"latitude\", \"longitude\"] \n",
    "    - name: My-Cloud-Base-Height \n",
    "      source_names: [clavrx] \n",
    "      docstring:  |\n",
    "        CLAVR-x Cloud Base Height \n",
    "      product_defaults: Cloud-Height \n",
    "      spec:\n",
    "        variables: [\"cld_height_base\", \"latitude\", \"longitude\"] \n",
    "```"
   ]
  },
  {
   "cell_type": "code",
   "execution_count": null,
   "id": "c7b1b7f0",
   "metadata": {
    "vscode": {
     "languageId": "shellscript"
    }
   },
   "outputs": [],
   "source": [
    "%%bash\n",
    "\n",
    "# verify that the contents of my_clavrx_products.yaml have the spec shown above\n",
    "cd $MY_PKG_DIR/cool_plugins/plugins/yaml/products\n",
    "cat my_clavrx_products.yaml"
   ]
  },
  {
   "cell_type": "markdown",
   "id": "a3041738",
   "metadata": {},
   "source": [
    "### Add Cloud Depth to the CLAVR-x Product Definition \n",
    "\n",
    "- Using your definitions of `My-Cloud-Top-Height` and `My-Cloud-Base-Height` as examples, \n",
    "  create a product definition for `My-Cloud-Depth`\n",
    "\n",
    "**Helpful Hints:** \n",
    "- We will define Cloud Depth for this tutorial as the difference between CTH and CBH \n",
    "\n",
    "**Note:**\n",
    "- This is meant to challenge you a bit! Give it a try and we'll go over the solution in \n",
    "  the next markdown block "
   ]
  },
  {
   "cell_type": "markdown",
   "id": "b9d1f6f9",
   "metadata": {},
   "source": [
    "### Cloud Depth Product with Default Algorithm Applied (my_clavrx_products.yaml) \n",
    "\n",
    "After running the code block below, the `spec` portion of `my_clavrx_products.yaml` <br />\n",
    "should now look like this:\n",
    "\n",
    "```yaml\n",
    "spec:\n",
    "  products: \n",
    "    - name: My-Cloud-Top-Height \n",
    "      source_names: [clavrx] \n",
    "      docstring:  |\n",
    "        CLAVR-x Cloud Top Height \n",
    "      product_defaults: Cloud-Height \n",
    "      spec:\n",
    "        variables: [\"cld_height_acha\", \"latitude\", \"longitude\"] \n",
    "    - name: My-Cloud-Base-Height \n",
    "      source_names: [clavrx] \n",
    "      docstring:  |\n",
    "        CLAVR-x Cloud Base Height \n",
    "      product_defaults: Cloud-Height \n",
    "      spec:\n",
    "        variables: [\"cld_height_base\", \"latitude\", \"longitude\"]\n",
    "    - name: My-Cloud-Depth\n",
    "      source_names: [clavrx]\n",
    "      docstring: |\n",
    "        CLAVR-x Cloud my Cloud Depth\n",
    "      product_defaults: Cloud-Height\n",
    "      spec:\n",
    "        variables: [\"cld_height_acha\", \"cld_height_base\", \"latitude\", \"longitude\"]\n",
    "```\n",
    "\n",
    "We now have two variables, but if we examine the Cloud-Height Product Defaults we see \n",
    "that it uses the `single_channel` algorithm.\n",
    "\n",
    "This algorithm just manipulates a single data variable and plots it. \n",
    "\n",
    "Therefore, we need a new algorithm plugin!"
   ]
  },
  {
   "cell_type": "code",
   "execution_count": null,
   "id": "28325b79",
   "metadata": {},
   "outputs": [],
   "source": [
    "\"\"\"Add My-Cloud-Depth to the contents of my_clavrx_products.yaml.\"\"\"\n",
    "\n",
    "import os\n",
    "\n",
    "import yaml\n",
    "\n",
    "with open(\"./updated_files/my_clavrx_products.yaml\", \"r\") as yaml_file:\n",
    "    updated_products = yaml.safe_load(yaml_file)\n",
    "\n",
    "my_cloud_top_height = updated_products[\"spec\"][\"products\"][0]\n",
    "my_cloud_base_height = updated_products[\"spec\"][\"products\"][1]\n",
    "my_cloud_depth = updated_products[\"spec\"][\"products\"][2]\n",
    "\n",
    "updated_products[\"spec\"][\"products\"] = [\n",
    "    my_cloud_top_height,\n",
    "    my_cloud_base_height,\n",
    "    my_cloud_depth,\n",
    "]\n",
    "\n",
    "print(updated_products)\n",
    "\n",
    "with open(f\"{os.environ['MY_PKG_DIR']}/cool_plugins/plugins/yaml/products/my_clavrx_products.yaml\", \"w\") as f:\n",
    "    yaml.safe_dump(updated_products, f, default_flow_style=False, sort_keys=False)"
   ]
  },
  {
   "cell_type": "code",
   "execution_count": null,
   "id": "7fc0ed49",
   "metadata": {
    "vscode": {
     "languageId": "shellscript"
    }
   },
   "outputs": [],
   "source": [
    "%%bash\n",
    "\n",
    "# verify that the contents of my_clavrx_products.yaml have the spec shown above\n",
    "cd $MY_PKG_DIR/cool_plugins/plugins/yaml/products\n",
    "cat my_clavrx_products.yaml"
   ]
  },
  {
   "cell_type": "markdown",
   "id": "75c7ae02",
   "metadata": {},
   "source": [
    "### Validate your new product plugins\n",
    "\n",
    "Before you go ahead creating your new algorithm plugin, let's validate that the product\n",
    "plugins we just created are working as expected."
   ]
  },
  {
   "cell_type": "code",
   "execution_count": null,
   "id": "88f9f6d6",
   "metadata": {
    "vscode": {
     "languageId": "shellscript"
    }
   },
   "outputs": [],
   "source": [
    "%%bash\n",
    "\n",
    "geoips config create-registries\n",
    "geoips describe product clavrx.My-Cloud-Top-Height\n",
    "geoips describe product clavrx.My-Cloud-Base-Height\n",
    "geoips describe product clavrx.My-Cloud-Depth"
   ]
  },
  {
   "cell_type": "markdown",
   "id": "b6adff9e",
   "metadata": {},
   "source": [
    "### Command: `geoips list`\n",
    "\n",
    "Additionally, before creating a new algorithm, let’s make sure your products are \n",
    "registered within GeoIPS. "
   ]
  },
  {
   "cell_type": "code",
   "execution_count": null,
   "id": "0117e109",
   "metadata": {
    "vscode": {
     "languageId": "shellscript"
    }
   },
   "outputs": [],
   "source": [
    "%%bash\n",
    "\n",
    "geoips list products -p cool_plugins"
   ]
  },
  {
   "cell_type": "markdown",
   "id": "e1f5f6fc",
   "metadata": {},
   "source": [
    "## Hands on: Create an Algorithm Plugin \n",
    "\n",
    "1. Copy the existing algorithm plugin to a new file to modify"
   ]
  },
  {
   "cell_type": "code",
   "execution_count": null,
   "id": "c65e6eb7",
   "metadata": {
    "vscode": {
     "languageId": "shellscript"
    }
   },
   "outputs": [],
   "source": [
    "%%bash\n",
    "\n",
    "cd $MY_PKG_DIR/$MY_PKG_NAME/plugins/modules/algorithms\n",
    "cp pmw_89test.py my_cloud_depth.py"
   ]
  },
  {
   "cell_type": "markdown",
   "id": "fe61306c",
   "metadata": {},
   "source": [
    "![Updating top level portions of new algorithm](./images/updating_algorithm_top_level.png)"
   ]
  },
  {
   "cell_type": "markdown",
   "id": "a2ebc285",
   "metadata": {},
   "source": [
    "Shown in the image above, let's update our `my_cloud_depth` algorithm with the following:\n",
    "\n",
    "```python\n",
    "\"\"\"Cloud depth product.\n",
    "\n",
    "Difference of cloud top height and cloud base height.\n",
    "\"\"\"\n",
    "\n",
    "import logging\n",
    "\n",
    "from xarray import DataArray\n",
    "\n",
    "LOG = logging.getLogger(__name__)\n",
    "\n",
    "interface = \"algorithms\"\n",
    "family = \"xarray_to_xarray\"\n",
    "name = \"my_cloud_depth\"\n",
    "```"
   ]
  },
  {
   "cell_type": "markdown",
   "id": "5da6e56b",
   "metadata": {},
   "source": [
    "### Updating your Algorithm\n",
    "\n",
    "Algorithms (alongside all `module-based` plugins) must include a `call()` function.\n",
    "\n",
    "This function is what is called when the algorithm is used.\n",
    "\n",
    "The `cal()` function's signature is determined by the algorithm's family.\n",
    "\n",
    "To create your new algorithm, add the `\"scale_factor\"` parameter to the call signature.\n",
    "\n",
    "Replace the signature of the `call()` function and its docstring with the following. You \n",
    "can remove the comments if desired.\n",
    "\n",
    "```python\n",
    "def call(\n",
    "    xobj,  # Xarray Dataset holding DataArrays\n",
    "    variables, # list of required input variables for the algorithm. These are ordered as specified in your product plugin.\n",
    "    product_name,\n",
    "    output_data_range,\n",
    "    scale_factor,  # Adding a scale factor here for use in converting input meters to output kilometers\n",
    "    min_outbounds=\"crop\",\n",
    "    max_outbounds=\"mask\",\n",
    "    norm=False,\n",
    "    inverse=False,\n",
    "):\n",
    "    \"\"\"My cloud depth product algorithm manipulation steps.\"\"\"\n",
    "```"
   ]
  },
  {
   "cell_type": "markdown",
   "id": "f428a6ec",
   "metadata": {},
   "source": [
    "This is where the actual data manipulation occurs. Make sure to index the variable list \n",
    "to the order of the variables you defined in your product.\n",
    "\n",
    "Replace the contents of the `call()` function with the following. You can remove the \n",
    "comments if desired.\n",
    "\n",
    "```python\n",
    "    # Variables in the order defined in your Cloud-Depth Plugin\n",
    "    cth = xobj[variables[0]]\n",
    "    cbh = xobj[variables[1]]\n",
    "\n",
    "    out = (cth - cbh) * scale_factor\n",
    "\n",
    "    from geoips.data_manipulations.corrections import apply_data_range\n",
    "\n",
    "    # Data manipulation: Anything you want!\n",
    "    data = apply_data_range(\n",
    "        out,\n",
    "        min_val=output_data_range[0],\n",
    "        max_val=output_data_range[1],\n",
    "        min_outbounds=min_outbounds,\n",
    "        max_outbounds=max_outbounds,\n",
    "        norm=norm,\n",
    "        inverse=inverse,\n",
    "    )\n",
    "    xobj[product_name] = DataArray(data)\n",
    "\n",
    "    return xobj\n",
    "```\n",
    "\n",
    "Once complete, let's describe the plugin you just created to make sure it registered\n",
    "appropriately."
   ]
  },
  {
   "cell_type": "code",
   "execution_count": null,
   "id": "443d366f",
   "metadata": {},
   "outputs": [],
   "source": [
    "\"\"\"Replace the contents of my_cloud_depth.py with the correct depth algorithm.\"\"\"\n",
    "\n",
    "import os\n",
    "\n",
    "with open(\"./updated_files/my_cloud_depth.py\", \"r\") as rf:\n",
    "    python_lines = rf.readlines()\n",
    "\n",
    "with open(f\"{os.environ['MY_PKG_DIR']}/cool_plugins/plugins/modules/algorithms/my_cloud_depth.py\", \"w\") as wf:\n",
    "    wf.writelines(python_lines)"
   ]
  },
  {
   "cell_type": "code",
   "execution_count": null,
   "id": "22bed150",
   "metadata": {
    "vscode": {
     "languageId": "shellscript"
    }
   },
   "outputs": [],
   "source": [
    "%%bash\n",
    "\n",
    "geoips config create-registries\n",
    "# In case you forgot the name of your plugin, you can run:\n",
    "geoips ls algs -p cool_plugins\n",
    "# Now let's describe that plugin\n",
    "geoips describe algorithm my_cloud_depth"
   ]
  },
  {
   "cell_type": "markdown",
   "id": "cd07d252",
   "metadata": {},
   "source": [
    "## Overriding the My-Cloud-Depth Algorithm\n",
    "\n",
    "As mentioned earlier, we can override a product's defaults by adding new information to <br />\n",
    "that product's `spec` object. \n",
    "\n",
    "This was complete when we previously added our `My-Cloud-Depth` product, however it's <br />\n",
    "important to understand how this functionality works. Since that product inherits from <br />\n",
    "the `Cloud-Height` product_defaults plugin, `My-Cloud-Depth` assumes it would use the <br />\n",
    "`single_channel` algorithm. We want to override that with the algorithm we just created. <br />\n",
    "\n",
    "The following YAML code demonstrates how you can override a product_default plugin in <br />\n",
    "a product plugin.\n",
    "\n",
    "```yaml\n",
    "spec:\n",
    "  products:\n",
    "    - name: My-Cloud-Top-Height\n",
    "      source_names: [clavrx] \n",
    "      docstring:  |\n",
    "        CLAVR-x Cloud Top Height \n",
    "      product_defaults: Cloud-Height \n",
    "      spec:\n",
    "        variables: [\"cld_height_acha\", \"latitude\", \"longitude\"] \n",
    "    - name: My-Cloud-Base-Height \n",
    "      source_names: [clavrx] \n",
    "      docstring:  |\n",
    "        CLAVR-x Cloud Base Height \n",
    "      product_defaults: Cloud-Height \n",
    "      spec:\n",
    "        variables: [\"cld_height_base\", \"latitude\", \"longitude\"]\n",
    "    # Update the code block below\n",
    "    - name: My-Cloud-Depth \n",
    "      source_names:  [clavrx] \n",
    "      docstring:  |\n",
    "        CLAVR-x Cloud my Cloud Depth \n",
    "      product_defaults:  Cloud-Height \n",
    "      spec:\n",
    "        variables:  [\"cld_height_acha\", \"cld_height_base\", \"latitude\", \"longitude\"] \n",
    "        # Algorithm override portion\n",
    "        algorithm: \n",
    "          plugin:\n",
    "            name: my_cloud_depth # The name we assigned our algorithm when we defined it\n",
    "            arguments: \n",
    "              output_data_range:  [0, 20]\n",
    "              scale_factor:  0.001\n",
    "```"
   ]
  },
  {
   "cell_type": "markdown",
   "id": "29954277",
   "metadata": {},
   "source": [
    "### Hands on: Using Your Algorithm Plugin\n",
    "\n",
    "Run the following command to make use of your new algorithm plugin, referenced in our <br />\n",
    "`My-Cloud-Depth` product."
   ]
  },
  {
   "cell_type": "code",
   "execution_count": null,
   "id": "cca29812",
   "metadata": {
    "vscode": {
     "languageId": "shellscript"
    }
   },
   "outputs": [],
   "source": [
    "%%bash\n",
    "\n",
    "geoips run single_source \\\n",
    "  $GEOIPS_TESTDATA_DIR/test_data_clavrx/data/goes16_2023101_1600/clavrx_OR_ABI-L1b-RadF-M6C01_G16_s20231011600207.level2.hdf \\\n",
    "  --reader_name clavrx_hdf4 \\\n",
    "  --product_name My-Cloud-Depth \\\n",
    "  --output_formatter imagery_annotated \\\n",
    "  --filename_formatter geoips_fname \\\n",
    "  --minimum_coverage 0 \\\n",
    "  --sector_list conus"
   ]
  },
  {
   "cell_type": "markdown",
   "id": "271d4ac5",
   "metadata": {},
   "source": [
    "### Using Your Algorithm Plugin \n",
    "\n",
    "Run your script.\n",
    "\n",
    "This will output a bunch of log output.  \n",
    "\n",
    "If your script succeeded it will end with `INTERACTIVE: Return Value 0`.\n",
    "\n",
    "To view your output, look for a line that says `SINGLESOURCESUCCESS`.\n",
    "\n",
    "Open the PNG file. It should look like this:\n",
    "\n",
    "![My Cloud Depth Image](./images/my-cloud-depth.png)\n"
   ]
  },
  {
   "cell_type": "markdown",
   "id": "5a3cb77a",
   "metadata": {},
   "source": [
    "## Part 2 -- Tutorial Contents\n",
    "\n",
    "We're going to show you how to extend GeoIPS by adding new plugins for five new interfaces. \n",
    "\n",
    "We will add:  \n",
    "- One new sector \n",
    "- One new feature_annotator , one new gridline_annotator \n",
    "- Three new colormappers \n",
    "- One new output_formatter\n",
    "\n",
    "We will also show you how to: \n",
    "- Produce a NetCDF4 file using your algorithm output \n",
    "- Read your custom NetCDF4 file back in, and produce imagery from it "
   ]
  },
  {
   "cell_type": "markdown",
   "id": "ae9c4357",
   "metadata": {},
   "source": [
    "### Hands on: Outputting your new product as NetCDF \n",
    "\n",
    "The following code block produces your `My-Cloud-Depth` product using the `netcdf_geoips`<br />\n",
    "output formatter plugin. Instead of an image, this command will produce a NetCDF file <br />\n",
    "using the same data as the previous image.\n"
   ]
  },
  {
   "cell_type": "code",
   "execution_count": null,
   "id": "227bcda2",
   "metadata": {
    "vscode": {
     "languageId": "shellscript"
    }
   },
   "outputs": [],
   "source": [
    "%%bash\n",
    "\n",
    "geoips run single_source \\\n",
    "   $GEOIPS_TESTDATA_DIR/test_data_clavrx/data/goes16_2023101_1600/clavrx_OR_ABI-L1b-RadF-M6C01_G16_s20231011600207.level2.hdf \\\n",
    "   --reader_name clavrx_hdf4 \\\n",
    "   --product_name My-Cloud-Depth \\\n",
    "   --output_formatter netcdf_geoips \\\n",
    "   --filename_formatter geoips_netcdf_fname \\\n",
    "   --minimum_coverage 0 \\\n",
    "   --sector_list conus"
   ]
  },
  {
   "cell_type": "markdown",
   "id": "d088a495",
   "metadata": {},
   "source": [
    "There will output a bunch of log output. If your script succeeded it will end with <br />\n",
    "`INTERACTIVE: Return Value 0`. To view your output, look for a line that says <br />\n",
    "`SINGLESOURCESUCCESS`.\n",
    "\n",
    "Open the NetCDF file to view its contents (e.g. with Panoply; shown below)<br />\n",
    "![My Cloud Depth NetCDF Output](./images/panoply-netcdf-output.png)\n",
    "\n",
    "**Note** - For more information on the output_formatter \n",
    "you just used, run:  "
   ]
  },
  {
   "cell_type": "code",
   "execution_count": null,
   "id": "459fbc8e",
   "metadata": {
    "vscode": {
     "languageId": "shellscript"
    }
   },
   "outputs": [],
   "source": [
    "%%bash\n",
    "\n",
    "geoips describe output-formatter netcdf_geoips"
   ]
  },
  {
   "cell_type": "markdown",
   "id": "60953f5a",
   "metadata": {},
   "source": [
    "### A Word About Sectors\n",
    "\n",
    "Sectors are YAML plugins that define an area of interest for plotting in GeoIPS.\n",
    "\n",
    "**Two types:** \n",
    "- **static**: static sector of a specific area \n",
    "- **dynamic**: sectors that are generated at run-time to follow an event (e.g. \n",
    "  tropical cyclone, atmospheric river, pyro-Cb, etc.) \n",
    "\n",
    "For this tutorial, we will be creating a **static**  sector. \n",
    "\n",
    "**Static Sector Properties:** \n",
    "- **Metadata**: Contains information related to the origin of the sector. This includes \n",
    "  continent, country, state, etc.\n",
    "- **Projection**: Proj projection information \n",
    "  - **a**: The radius of the earth (in meters) \n",
    "  - **lat_0**: Center latitude coordinate \n",
    "  - **lon_0**: Center longitude coordinate \n",
    "  - **proj**: String representing projection type \n",
    "  - **units**: String representing units of the \n",
    "    projection \n",
    "- **Resolution**: The size of each pixel in meters \n",
    "- **Shape**: Image shape in pixels (width + height) \n",
    "- **Center**: The center x/y coordinates of the sector "
   ]
  },
  {
   "cell_type": "markdown",
   "id": "3321cbbe",
   "metadata": {},
   "source": [
    "### Example Sectors\n",
    "\n",
    "![Example Sectors](./images/example_sectors.png)\n",
    "\n",
    "You can run the following commands to get more information about each of the sectors \n",
    "shown here by running:"
   ]
  },
  {
   "cell_type": "code",
   "execution_count": null,
   "id": "1969cdc0",
   "metadata": {
    "vscode": {
     "languageId": "shellscript"
    }
   },
   "outputs": [],
   "source": [
    "%%bash\n",
    "\n",
    "geoips describe sector australia\n",
    "geoips describe sector central_america\n",
    "geoips describe sector south_pole"
   ]
  },
  {
   "cell_type": "markdown",
   "id": "5172e7b5",
   "metadata": {},
   "source": [
    "### Generating Static Sector Properties \n",
    "\n",
    "To generate the properties necessary to create a static sector, you must first define <br /> \n",
    "the area you want to display (captured by the appropriate satellite), based on center <br /> \n",
    "latitude and longitude bounds. \n",
    "\n",
    "The easiest way to do this is to open a [Google Maps](https://www.google.com/maps/) tab, <br /> \n",
    "then right click the center of your sector to obtain the center latitude and longitude <br /> \n",
    "values. \n",
    "\n",
    "Once you have those center latitude and longitude values, you’re ready to create your <br />\n",
    "custom sector. \n",
    "\n",
    "The next slide will display the changes you will need to make to create a custom conus <br />\n",
    "sector plugin. \n",
    "\n",
    "![Google Maps CONUS](./images/google_maps_conus.png)\n",
    "\n",
    "**Note** - For listing of sector plugins, run: "
   ]
  },
  {
   "cell_type": "code",
   "execution_count": null,
   "id": "3128657b",
   "metadata": {
    "vscode": {
     "languageId": "shellscript"
    }
   },
   "outputs": [],
   "source": [
    "%%bash\n",
    "\n",
    "geoips list sectors"
   ]
  },
  {
   "cell_type": "markdown",
   "id": "153c17eb",
   "metadata": {},
   "source": [
    "### Hands on: Creating Custom Sectors \n",
    "\n",
    "Let's start by copying a sector file to edit"
   ]
  },
  {
   "cell_type": "code",
   "execution_count": null,
   "id": "699d49d5",
   "metadata": {
    "vscode": {
     "languageId": "shellscript"
    }
   },
   "outputs": [],
   "source": [
    "%%bash\n",
    "\n",
    "# Make a sectors folder and change directories into it\n",
    "mkdir -pv $MY_PKG_DIR/$MY_PKG_NAME/plugins/yaml/sectors/static\n",
    "cd $MY_PKG_DIR/$MY_PKG_NAME/plugins/yaml/sectors/static\n",
    "\n",
    "# Copy a sector file from GeoIPS\n",
    "geoips_path=\"$(pip show geoips | awk '/^Location: / {print $2 \"/geoips\"}')\"\n",
    "cp \"$geoips_path/plugins/yaml/sectors/static/australia.yaml\" my_conus_sector.yaml"
   ]
  },
  {
   "cell_type": "markdown",
   "id": "be932cd7",
   "metadata": {},
   "source": [
    "### Generating Static Sector Properties \n",
    "\n",
    "The following YAML code demonstrates how to implement your own custom sector. <br />\n",
    "Since we're running this in a notebook, we'll update this file for you automatically, <br />\n",
    "via the following **code block**.\n",
    "\n",
    "You'll notice that the metadata remains untouched, however it's important to note that <br />\n",
    "this section is very helpful for displaying additional information about the sector, not <br />\n",
    "only for the backend of GeoIPS, but also for people using this sector plugin.\n",
    "\n",
    "```yaml\n",
    "interface: sectors\n",
    "family: area_definition_static \n",
    "name: my_conus_sector \n",
    "docstring: \"My CONUS Sector\" \n",
    "metadata: \n",
    "  region: \n",
    "    continent: NorthAmerica \n",
    "    country: UnitedStates \n",
    "    area: x\n",
    "    subarea: x\n",
    "    state: x\n",
    "    city: x\n",
    "spec:\n",
    "  area_id: my_conus_sector \n",
    "  description: CONUS\n",
    "  projection: \n",
    "    a: 6371228.0 \n",
    "    lat_0: 37.0\n",
    "    lon_0: -96.0\n",
    "    proj: eqc\n",
    "    units: m\n",
    "  resolution: \n",
    "    - 3000\n",
    "    - 3000\n",
    "  shape: \n",
    "    height: 1000\n",
    "    width: 2200\n",
    "  center: [0, 0]\n",
    "```\n"
   ]
  },
  {
   "cell_type": "code",
   "execution_count": null,
   "id": "d1b3478b",
   "metadata": {},
   "outputs": [],
   "source": [
    "\"\"\"Update my_conus_sector with the correct contents.\"\"\"\n",
    "\n",
    "import os\n",
    "\n",
    "with open(\"./updated_files/my_conus_sector.yaml\", \"r\") as yaml_file:\n",
    "    updated_sector = yaml.safe_load(yaml_file)\n",
    "\n",
    "with open(f\"{os.environ['MY_PKG_DIR']}/cool_plugins/plugins/yaml/sectors/static/my_conus_sector.yaml\", \"w\") as f:\n",
    "    yaml.safe_dump(updated_sector, f, default_flow_style=False, sort_keys=False)"
   ]
  },
  {
   "cell_type": "markdown",
   "id": "e8b7f66b",
   "metadata": {},
   "source": [
    "### Testing Your Custom Static Sector \n",
    "\n",
    "The commands you ran in the previous slide create a custom conus sector. <br />\n",
    "`my_conus_sector.yaml` will be an  example plugin, showing you that you can create sectors <br />\n",
    "just like `conus.yaml`, to your own specifications. \n",
    "\n",
    "To quickly check whether or not you like the shape and resolution of your custom sector, <br />\n",
    "you can use the command line function create_sector_image . This will plot and save <br />\n",
    "images containing the borders and coastlines of the inputted sectors. For example, to test <br />\n",
    "your custom sector, run the following: "
   ]
  },
  {
   "cell_type": "code",
   "execution_count": null,
   "id": "f613f2dd",
   "metadata": {
    "vscode": {
     "languageId": "shellscript"
    }
   },
   "outputs": [],
   "source": [
    "%%bash\n",
    "\n",
    "geoips config create-registries\n",
    "geoips test sector my_conus_sector"
   ]
  },
  {
   "cell_type": "markdown",
   "id": "66dfaecd",
   "metadata": {},
   "source": [
    "Once completed, open the `my_conus_sector.png`  image to see what your sector will look like. <br />\n",
    "It should look like this:\n",
    "\n",
    "![My CONUS Sector](./images/my_conus_sector.png)\n",
    "\n",
    "**Note** -  You can describe the sector plugin you just \n",
    "created by running:  "
   ]
  },
  {
   "cell_type": "code",
   "execution_count": null,
   "id": "8b01c64e",
   "metadata": {
    "vscode": {
     "languageId": "shellscript"
    }
   },
   "outputs": [],
   "source": [
    "%%bash\n",
    "\n",
    "geoips describe sector my_conus_sector"
   ]
  },
  {
   "cell_type": "markdown",
   "id": "42e9b300",
   "metadata": {},
   "source": [
    "### Using Your Custom Static Sector\n",
    "\n",
    "To use `my_conus_sector.yaml` in your test script, simply replace `--sector_list conus` <br />\n",
    "with `--sector_list my_conus_sector`.\n",
    "\n",
    "Let's run a command that now uses your new sector plugin.\n"
   ]
  },
  {
   "cell_type": "markdown",
   "id": "c2d976f4",
   "metadata": {},
   "source": [
    "Let's run that script you just created and modified."
   ]
  },
  {
   "cell_type": "code",
   "execution_count": null,
   "id": "094fe1a1",
   "metadata": {
    "vscode": {
     "languageId": "shellscript"
    }
   },
   "outputs": [],
   "source": [
    "%%bash\n",
    "\n",
    "geoips run single_source \\\n",
    "    $GEOIPS_TESTDATA_DIR/test_data_clavrx/data/goes16_2023101_1600/clavrx_OR_ABI-L1b-RadF-M6C01_G16_s20231011600207.level2.hdf \\\n",
    "  --reader_name clavrx_hdf4 \\\n",
    "  --product_name My-Cloud-Top-Height \\\n",
    "  --output_formatter imagery_annotated \\\n",
    "  --filename_formatter geoips_fname \\\n",
    "  --minimum_coverage 0 \\\n",
    "  --sector_list my_conus_sector"
   ]
  },
  {
   "cell_type": "markdown",
   "id": "b5b00f91",
   "metadata": {},
   "source": [
    "The result of executing that script should look like this:\n",
    "\n",
    "![CTH my conus sector](./images/my_conus_sector_cloud_top_height.png)"
   ]
  },
  {
   "cell_type": "markdown",
   "id": "16133fd9",
   "metadata": {},
   "source": [
    "## Hands on: Creating Custom Gridline/Feature Annotators "
   ]
  },
  {
   "cell_type": "markdown",
   "id": "d45e9248",
   "metadata": {},
   "source": [
    "### Defining gridline_annotators and feature_annotators \n",
    "\n",
    "**gridline_annotators:**\n",
    "- Describe the format of the grid lines shown in your imagery. Can control: \n",
    "- **Labels**, and which to display \n",
    "- **Lines**, such as their **color**, **linestyle**, and **linewidth** \n",
    "- **Spacing**, such as the distance between **latitude** and **longitude** labels, and \n",
    "  the grid lines that represent them. \n",
    "\n",
    "**feature_annotators:**\n",
    "- Describe the format of the features shown in your imagery. Can control: \n",
    "- **Coastlines**, **Borders**, **States**, and **Rivers**. All of these features have \n",
    "  the same parameters: \n",
    "  - Whether they are **enabled** \n",
    "  - The **color** of the feature \n",
    "  - The **linewidth** of the feature displayed "
   ]
  },
  {
   "cell_type": "markdown",
   "id": "16387b0f",
   "metadata": {},
   "source": [
    "### Example Gridline and Feature Annotators \n",
    "\n",
    "![Example gridline and feature annotators](./images/example_gridline_and_feature_annotators.png)\n",
    "\n",
    "You can describe the aforementioned plugins via:"
   ]
  },
  {
   "cell_type": "code",
   "execution_count": null,
   "id": "dcaa7930",
   "metadata": {
    "vscode": {
     "languageId": "shellscript"
    }
   },
   "outputs": [],
   "source": [
    "%%bash\n",
    "\n",
    "geoips describe feature-annotator default\n",
    "geoips describe gridline-annotator default"
   ]
  },
  {
   "cell_type": "markdown",
   "id": "b1ae2c74",
   "metadata": {},
   "source": [
    "### Creating a Custom gridline_annotator \n",
    "\n",
    "Let's begin by setting up a directory for your gridline annotators and copy over an \n",
    "existing plugin from GeoIPS."
   ]
  },
  {
   "cell_type": "code",
   "execution_count": null,
   "id": "ebd7076a",
   "metadata": {
    "vscode": {
     "languageId": "shellscript"
    }
   },
   "outputs": [],
   "source": [
    "%%bash\n",
    "\n",
    "# Make a gridline_annotators folder and change directories into it\n",
    "mkdir -pv $MY_PKG_DIR/$MY_PKG_NAME/plugins/yaml/gridline_annotators\n",
    "cd $MY_PKG_DIR/$MY_PKG_NAME/plugins/yaml/gridline_annotators\n",
    "\n",
    "# Copy a gridline_annotator file from GeoIPS\n",
    "geoips_path=\"$(pip show geoips | awk '/^Location: / {print $2 \"/geoips\"}')\"\n",
    "cp \"$geoips_path/plugins/yaml/gridline_annotators/default.yaml\" tutorial.yaml"
   ]
  },
  {
   "cell_type": "markdown",
   "id": "d9743cfc",
   "metadata": {},
   "source": [
    "### Breaking down a gridline_annotator\n",
    "\n",
    "The following image explains each component of a gridline_annotator plugin.\n",
    "\n",
    "![Gridline Annotator Explained](./images/gridline_annotator_explained.png)\n",
    "\n",
    "Now that you understand what a gridline_annotator plugin does, we'll modify the plugin we <br />\n",
    "copied over. \n",
    "\n",
    "Since we're running in a notebook, we'll automatically do this for you. However, please <br />\n",
    "take in the contents of `tutorial.yaml` with the YAML shown below.\n",
    "\n",
    "```yaml\n",
    "interface: gridline_annotators \n",
    "family: cartopy\n",
    "name: tutorial \n",
    "docstring: |\n",
    "  The tutorial gridline_annotators configuration.  \n",
    "  All gridline labels enabled, latitude and \n",
    "  Longitude lines colored mediumseagreen, 2.5 degree \n",
    "  spacing, 1px linewidth, and [5, 3] linestyle. \n",
    "spec:\n",
    "  labels:  \n",
    "    top: true\n",
    "    bottom: true\n",
    "    left: true\n",
    "    right: true\n",
    "  lines:  \n",
    "    color: mediumseagreen \n",
    "    linestyle: [5, 3]\n",
    "    linewidth: 1\n",
    "  spacing:  \n",
    "    latitude: 2.5\n",
    "    longitude: 2.5\n",
    "```"
   ]
  },
  {
   "cell_type": "code",
   "execution_count": null,
   "id": "bd5d05b1",
   "metadata": {},
   "outputs": [],
   "source": [
    "\"\"\"Update gridline_annotator - tutorial.yaml with the correct contents.\"\"\"\n",
    "\n",
    "import os\n",
    "\n",
    "with open(\"./updated_files/gridline_annotators/tutorial.yaml\", \"r\") as yaml_file:\n",
    "    updated_gridline_annotator = yaml.safe_load(yaml_file)\n",
    "\n",
    "with open(f\"{os.environ['MY_PKG_DIR']}/cool_plugins/plugins/yaml/gridline_annotators/tutorial.yaml\", \"w\") as f:\n",
    "    yaml.safe_dump(updated_gridline_annotator, f, default_flow_style=False, sort_keys=False)"
   ]
  },
  {
   "cell_type": "markdown",
   "id": "db54de39",
   "metadata": {},
   "source": [
    "### Creating custom feature_annotator \n",
    "\n",
    "Now that we've created a custom gridline_annotator plugin, let's do the same for a <br />\n",
    "feature_annotator plugin."
   ]
  },
  {
   "cell_type": "code",
   "execution_count": null,
   "id": "850ad36e",
   "metadata": {
    "vscode": {
     "languageId": "shellscript"
    }
   },
   "outputs": [],
   "source": [
    "%%bash\n",
    "\n",
    "# Make a feature_annotators folder and change directories into it\n",
    "mkdir -pv $MY_PKG_DIR/$MY_PKG_NAME/plugins/yaml/feature_annotators\n",
    "cd $MY_PKG_DIR/$MY_PKG_NAME/plugins/yaml/feature_annotators\n",
    "\n",
    "# Copy a feature_annotator file from GeoIPS\n",
    "geoips_path=\"$(pip show geoips | awk '/^Location: / {print $2 \"/geoips\"}')\"\n",
    "cp \"$geoips_path/plugins/yaml/feature_annotators/default.yaml\" tutorial.yaml"
   ]
  },
  {
   "cell_type": "markdown",
   "id": "31301fff",
   "metadata": {},
   "source": [
    "### Breaking down a feature_annotator\n",
    "\n",
    "The following image explains how a feature is set up in a feature_annotator plugin.\n",
    "\n",
    "You'll notice that a feature can either be disabled, and if not, you must define its <br /> \n",
    "color and linewidth.\n",
    "\n",
    "![Feature Annotator Explained](./images/feature_annotator_explained.png)\n",
    "\n",
    "Now that you understand what a feature_annotator plugin does, we'll modify the plugin we <br />\n",
    "copied over. \n",
    "\n",
    "Since we're running in a notebook, we'll automatically do this for you. However, please <br />\n",
    "take in the contents of `tutorial.yaml` with the YAML shown below.\n",
    "\n",
    "\n",
    "```yaml\n",
    "interface: feature_annotators\n",
    "family: cartopy\n",
    "name: tutorial \n",
    "docstring: |\n",
    "  The tutorial feature annotators configuration.  \n",
    "  All line types enabled. All colored  \n",
    "  [midnightblue, red, yellow, cyan]. 2px coastlines, \n",
    "  2px borders, 2px states, 1px rivers .\n",
    "spec:\n",
    "  coastline:  \n",
    "    enabled: true\n",
    "    edgecolor : midnightblue \n",
    "    linewidth : 2\n",
    "  borders:  \n",
    "    enabled: true\n",
    "    edgecolor: red\n",
    "    linewidth: 2\n",
    "  states:  \n",
    "    enabled: true\n",
    "    edgecolor: darkslategray \n",
    "    linewidth: 2\n",
    "  rivers:  \n",
    "    enabled: true\n",
    "    edgecolor: cyan\n",
    "    linewidth: 1\n",
    "```"
   ]
  },
  {
   "cell_type": "code",
   "execution_count": null,
   "id": "b1de2a22",
   "metadata": {},
   "outputs": [],
   "source": [
    "\"\"\"Update feature_annotators - tutorial.yaml with the correct contents.\"\"\"\n",
    "\n",
    "import os\n",
    "\n",
    "with open(\"./updated_files/feature_annotators/tutorial.yaml\", \"r\") as yaml_file:\n",
    "    updated_feature_annotator = yaml.safe_load(yaml_file)\n",
    "\n",
    "with open(f\"{os.environ['MY_PKG_DIR']}/cool_plugins/plugins/yaml/feature_annotators/tutorial.yaml\", \"w\") as f:\n",
    "    yaml.safe_dump(updated_feature_annotator, f, default_flow_style=False, sort_keys=False)"
   ]
  },
  {
   "cell_type": "markdown",
   "id": "24ac66b2",
   "metadata": {},
   "source": [
    "### Using Your Custom Annotators\n",
    "\n",
    "To add the effects of these plugins to your final output, simply add the following lines <br /> \n",
    "to your command that uses the `\"imagery_annotated”` output formatter."
   ]
  },
  {
   "cell_type": "markdown",
   "id": "56671642",
   "metadata": {},
   "source": [
    "```bash\n",
    "--feature_annotator tutorial \\\n",
    "--gridline_annotator tutorial \\\n",
    "```\n",
    "\n",
    "Once you've added those, you can run the script via:"
   ]
  },
  {
   "cell_type": "code",
   "execution_count": null,
   "id": "8a592543",
   "metadata": {
    "vscode": {
     "languageId": "shellscript"
    }
   },
   "outputs": [],
   "source": [
    "%%bash\n",
    "\n",
    "# build the new plugin registries\n",
    "geoips config create-registries\n",
    "\n",
    "geoips run single_source $GEOIPS_TESTDATA_DIR/test_data_clavrx/data/goes16_2023101_1600/clavrx_OR_ABI-L1b-RadF-M6C01_G16_s20231011600207.level2.hdf \\\n",
    "  --reader_name clavrx_hdf4 \\\n",
    "  --product_name My-Cloud-Depth \\\n",
    "  --output_formatter imagery_annotated \\\n",
    "  --filename_formatter geoips_fname \\\n",
    "  --minimum_coverage 0 \\\n",
    "  --feature_annotator tutorial \\\n",
    "  --gridline_annotator tutorial \\\n",
    "  --sector_list conus"
   ]
  },
  {
   "cell_type": "markdown",
   "id": "41e3ea20",
   "metadata": {},
   "source": [
    "If you copied the YAML for the gridline and feature -annotators verbatim, the result of <br />\n",
    "that script should look like this:\n",
    "\n",
    "![Feature / Gridline annotator image](./images/feature_gridline_annotator.png)"
   ]
  },
  {
   "cell_type": "markdown",
   "id": "1744c638",
   "metadata": {},
   "source": [
    "## Colorbars and Colormaps Background and Introduction \n"
   ]
  },
  {
   "cell_type": "markdown",
   "id": "85ab7170",
   "metadata": {},
   "source": [
    "### Using a Matplotlib Colormap \n",
    "\n",
    "Matplotlib has many predefined colormaps.\n",
    "\n",
    "The `matplotlib_linear_norm` colormapper plugin is capable of using these predefined <br />\n",
    "colormaps - simply provide the name of the colormap in the `“cmap_name”` argument when <br />\n",
    "you define your product plugin.\n",
    "\n",
    "For now `matplotlib_linear_norm` is the only plugin that can directly use named <br />\n",
    "colormaps (which explicitly normalizes the colors using matplotlib’s `“Normalize”` <br />\n",
    "function), though others may be added in the future with additional methods of <br />\n",
    "manipulating the color scales.\n",
    "\n",
    "The image below displays a sample product plugin using matplotlib built-in colormap.\n",
    "\n",
    "![Product using matplotlib_linear_norm](./images/product_using_mpl_linear_norm.png)"
   ]
  },
  {
   "cell_type": "markdown",
   "id": "4a4a6940",
   "metadata": {},
   "source": [
    "### Using an ASCII Colormap \n",
    "\n",
    "The `matplotlib_linear_norm` plugin can also leverage `ASCII` colormap files installed <br />\n",
    "within GeoIPS, installed within a plugin package, or stored in an arbitrary location on disk. \n",
    "\n",
    "To use an ascii colormap, specify:\n",
    "  - `cmap_source: ascii` \n",
    "  - `cmap_name: <cmap_name>`\n",
    "\n",
    "  \n",
    "Installed ASCII colormaps are stored within a plugin package under `plugins/txt/ascii_palettes/`.\n",
    "  - The filename must be of the form `<cmap_name>.txt` (this is how geoips finds the given <br />\n",
    "    `cmap_name`)\n",
    "  - The colors are defined as RGB triplets ranging from 0 to 256 and should be formatted <br /> \n",
    "    as three columns of 256 integers. \n",
    "  - Commented lines are allowed (prefaced by “#”), to provide additional context relating <br />\n",
    "    to the physical meaning of the colormap (ie, min and max expected values/units, <br />\n",
    "    transition points, etc) \n",
    "  - For an example, see the [tpw_purple](https://github.com/NRLMMD-GEOIPS/geoips/blob/710b58ae82f479168e7da49dfccd8650730478d8/geoips/plugins/txt/ascii_palettes/tpw_purple.txt) colormap in the geoips package. \n",
    "\n",
    "If you would like to specify an arbitrary full path on disk rather than installing your <br />\n",
    "ascii palette within your  plugin package, additionally specify cmap_path . This is most <br />\n",
    "useful for research, development, and testing purposes. \n",
    "  - `cmap_path: <full_path>/<any_name>.txt`\n",
    "\n",
    "`matplotlib_linear_norm` provides a number of options that can be used to customize how <br />\n",
    "the colormap is used and how the colorbar is drawn. \n",
    "\n",
    "The following image displays a sample product using ascii palette -based colormap.\n",
    "\n",
    "![Product using ascii colormap](./images/product_using_ascii_colormap.png)"
   ]
  },
  {
   "cell_type": "markdown",
   "id": "a6a867dd",
   "metadata": {},
   "source": [
    "### Using a custom GeoIPS Python-based colormapper\n",
    "\n",
    "Color information can also be specified via a python-based GeoIPS `“colormapper”` plugin, <br />\n",
    "allowing customization using specific matplotlib commands and utilities. <br />\n",
    "This is the most flexible method.\n",
    "\n",
    "The following images walk you through each part of a colormapper plugin.\n",
    "\n",
    "![Colormapper top level](./images/colormapper_top_level.png)\n",
    "\n",
    "![Colormapper inside call function](./images/colormapper_inside_call_function.png)\n",
    "\n",
    "The `“mpl_colors_info”` return dictionary is what GeoIPS uses within the matplotlib-based <br />\n",
    "utilities and output formatters in order to ensure consistent application of colors, in <br />\n",
    "both the imagery and the colorbars. \n",
    "\n",
    "Coming up, we'll walk you through creating both GeoIPS Python-based colormapper, as well <br />\n",
    "as ASCII-palette based matplotlib_linear_norm products.\n",
    "\n",
    "![Colormapper mpl_colors_info](./images/mpl_colors_info.png)"
   ]
  },
  {
   "cell_type": "markdown",
   "id": "3db892de",
   "metadata": {},
   "source": [
    "## Hands on: Creating your own custom Python-based colormapper \n",
    "\n",
    "Let's begin by creating a directory to hold our colormappers and copying over an existing <br />\n",
    "colormapper from GeoIPS."
   ]
  },
  {
   "cell_type": "code",
   "execution_count": null,
   "id": "0bacabcb",
   "metadata": {
    "vscode": {
     "languageId": "shellscript"
    }
   },
   "outputs": [],
   "source": [
    "%%bash\n",
    "\n",
    "# Make a colormappers folder and change directories into it\n",
    "mkdir -pv $MY_PKG_DIR/$MY_PKG_NAME/plugins/modules/colormappers\n",
    "cd $MY_PKG_DIR/$MY_PKG_NAME/plugins/modules/colormappers\n",
    "\n",
    "# Create an __init__.py file\n",
    "touch __init__.py\n",
    "\n",
    "# Copy a colormapper file from GeoIPS\n",
    "geoips_path=\"$(pip show geoips_clavrx | awk '/^Location: / {print $2 \"/geoips_clavrx\"}')\"\n",
    "cp \"$geoips_path/plugins/modules/colormappers/cmap_cldHeight.py\" colorful_cloud_height.py"
   ]
  },
  {
   "cell_type": "markdown",
   "id": "d252f2f9",
   "metadata": {},
   "source": [
    "Now, lets update the file we copied over with new content. We'll replace the upper <br />\n",
    "portions of `colorful_cloud_height.py` with the following python code.\n",
    "\n",
    "Note: Since we're using a notebook, this will be done for you in the following code block.\n",
    "\n",
    "```python\n",
    "\"\"\"Module containing colormap for colorful cloud height product.\"\"\" \n",
    "\n",
    "import logging\n",
    "\n",
    "LOG = logging.getLogger(__name__) \n",
    "\n",
    "interface = \"colormappers\" \n",
    "family = \"matplotlib\" \n",
    "name = \"colorful_cloud_height\" \n",
    "\n",
    "\n",
    "def call(data_range=[ 0, 20]):\n",
    "    \"\"\"Colorful cloud height colormap.\"\"\"\n",
    "```\n",
    "\n",
    "Once that's complete, let's update the contents of the `call()` function to change the <br />\n",
    "colormap we'll produce. Feel free to choose different colors if you'ld like.\n",
    "\n",
    "In this case, we only modify the colors, but you just as easily could modify the transition <br />\n",
    "values as well. These are all just direct matplotlib/python commands creating the desired <br />\n",
    "color information.\n",
    "\n",
    "```python\n",
    "    transition_vals = [\n",
    "        (min_val, 1),\n",
    "        (1, 2),\n",
    "        (2, 3),\n",
    "        (3, 4),\n",
    "        (4, 6),\n",
    "        (6, 8),\n",
    "        (8, 10),\n",
    "        (10, 15),\n",
    "        (15, max_val),\n",
    "    ]\n",
    "    transition_colors = [\n",
    "        (\"pink\", \"red\"),\n",
    "        (\"paleturquoise\", \"teal\"),\n",
    "        (\"plum\", \"rebeccapurple\"),\n",
    "        (\"yellow\", \"chartreuse\"),\n",
    "        (\"limegreen\", \"darkgreen\"),\n",
    "        (\"wheat\", \"darkorange\"),\n",
    "        (\"darkgray\", \"black\"),\n",
    "        (\"lightgray\", \"silver\"),\n",
    "        (\"lightskyblue\", \"deepskyblue\"),\n",
    "    ]\n",
    "```"
   ]
  },
  {
   "cell_type": "code",
   "execution_count": null,
   "id": "de4b3544",
   "metadata": {},
   "outputs": [],
   "source": [
    "\"\"\"Replace the contents of colorful_cloud_height.py with the correct colormapper information.\"\"\"\n",
    "\n",
    "import os\n",
    "\n",
    "with open(\"./updated_files/colorful_cloud_height.py\", \"r\") as rf:\n",
    "    python_lines = rf.readlines()\n",
    "\n",
    "with open(f\"{os.environ['MY_PKG_DIR']}/cool_plugins/plugins/modules/colormappers/colorful_cloud_height.py\", \"w\") as wf:\n",
    "    wf.writelines(python_lines)"
   ]
  },
  {
   "cell_type": "markdown",
   "id": "fac3f314",
   "metadata": {},
   "source": [
    "## Hands on: Using your new python-based colormapper in a new product"
   ]
  },
  {
   "cell_type": "markdown",
   "id": "37c09079",
   "metadata": {},
   "source": [
    "### Add custom colormapper to new product. \n",
    "\n",
    "Let's begin by creating a new `Cloud-Base-Python-Colors` product, using `Cloud-Height` <br />\n",
    "as the product_defaults.\n",
    "\n",
    "We'll do this automatically in the next code cell.\n",
    "\n",
    "Normally, you'd just add the following product entry to your `my_clavrx_products.yaml` <br />\n",
    "file. Note that it makes use of the colormapper we just put together!\n",
    "\n",
    "```yaml\n",
    "    - name: Cloud-Base-Python-Colors\n",
    "      source_names:  [clavrx] \n",
    "      docstring:  |\n",
    "        CLAVR-x Colorful Cloud Base Height, \n",
    "        Using a python-based custom colormapper. \n",
    "      product_defaults:  Cloud-Height \n",
    "      spec:\n",
    "        variables:  [\"cld_height_base\", \"latitude\", \"longitude\"] \n",
    "        colormapper: \n",
    "          plugin: \n",
    "            name: colorful_cloud_height \n",
    "            arguments: {}\n",
    "```"
   ]
  },
  {
   "cell_type": "code",
   "execution_count": null,
   "id": "98132cf1",
   "metadata": {},
   "outputs": [],
   "source": [
    "\"\"\"Add My-Cloud-Depth to the contents of my_clavrx_products.yaml.\"\"\"\n",
    "\n",
    "import os\n",
    "\n",
    "import yaml\n",
    "\n",
    "with open(\"./updated_files/my_clavrx_products.yaml\", \"r\") as yaml_file:\n",
    "    updated_products = yaml.safe_load(yaml_file)\n",
    "\n",
    "my_cloud_top_height = updated_products[\"spec\"][\"products\"][0]\n",
    "my_cloud_base_height = updated_products[\"spec\"][\"products\"][1]\n",
    "my_cloud_depth = updated_products[\"spec\"][\"products\"][2]\n",
    "cloud_base_python_colors = updated_products[\"spec\"][\"products\"][3]\n",
    "\n",
    "updated_products[\"spec\"][\"products\"] = [\n",
    "    my_cloud_top_height,\n",
    "    my_cloud_base_height,\n",
    "    my_cloud_depth,\n",
    "    cloud_base_python_colors,\n",
    "]\n",
    "\n",
    "print(updated_products)\n",
    "\n",
    "with open(f\"{os.environ['MY_PKG_DIR']}/cool_plugins/plugins/yaml/products/my_clavrx_products.yaml\", \"w\") as f:\n",
    "    yaml.safe_dump(updated_products, f, default_flow_style=False, sort_keys=False)"
   ]
  },
  {
   "cell_type": "markdown",
   "id": "0a4abb6c",
   "metadata": {},
   "source": [
    "Let's modify the following line of our previous product command with the following.\n",
    "\n",
    "```bash\n",
    "--product_name My-Cloud-Top-Height \\\n",
    "```\n",
    "\n",
    "with\n",
    "\n",
    "```bash\n",
    "--product_name Cloud-Base-Python-Colors \\\n",
    "```\n",
    "\n",
    "Now, you can produce your new product which uses the colormapper we created!"
   ]
  },
  {
   "cell_type": "code",
   "execution_count": null,
   "id": "58e3e807",
   "metadata": {
    "vscode": {
     "languageId": "shellscript"
    }
   },
   "outputs": [],
   "source": [
    "%%bash\n",
    "\n",
    "# rebuild your registry files\n",
    "geoips config create-registries\n",
    "geoips run single_source $GEOIPS_TESTDATA_DIR/test_data_clavrx/data/goes16_2023101_1600/clavrx_OR_ABI-L1b-RadF-M6C01_G16_s20231011600207.level2.hdf \\\n",
    "  --reader_name clavrx_hdf4 \\\n",
    "  --product_name Cloud-Base-Python-Colors \\\n",
    "  --output_formatter imagery_annotated \\\n",
    "  --filename_formatter geoips_fname \\\n",
    "  --minimum_coverage 0 \\\n",
    "  --sector_list conus"
   ]
  },
  {
   "cell_type": "markdown",
   "id": "76ded29f",
   "metadata": {},
   "source": [
    "You should get the following image from that script:\n",
    "\n",
    "![Colorful Cloud Height](./images/colorful_cloud_height.png)"
   ]
  },
  {
   "cell_type": "markdown",
   "id": "1d7c679b",
   "metadata": {},
   "source": [
    "## Hands on: Creating a new Output Formatter"
   ]
  },
  {
   "cell_type": "markdown",
   "id": "7b328a3b",
   "metadata": {},
   "source": [
    "### What are output formatters? \n",
    "\n",
    "- Output formatters take native GeoIPS xarray data and convert it into something interpretable! \n",
    "    - NetCDF, an image, HDF5, <you name it!>\n",
    "- Required arguments depend on the intent of your output!\n",
    "\n",
    "You can see what arguments are required for each family of output formatters [here](https://github.com/NRLMMD-GEOIPS/geoips/blob/main/geoips/interfaces/module_based/output_formatters.py).\n",
    "\n",
    "You'll notice that output formatters have few to many arguments, depending on the family <br />\n",
    "they inherit from.\n",
    "\n",
    "![Easy output formatter](./images/easy_output_formatter.png)\n",
    "\n",
    "![Hard output formatter](./images/hard_output_formatter.png)"
   ]
  },
  {
   "cell_type": "markdown",
   "id": "0e651c2b",
   "metadata": {},
   "source": [
    "### Making your own output formatter\n",
    "\n",
    "Now, let's create our own output formatter. We'll begin by creating a directory for these <br />\n",
    "plugins and copying over an existing output formatter from GeoIPS."
   ]
  },
  {
   "cell_type": "code",
   "execution_count": null,
   "id": "97e8f7e5",
   "metadata": {
    "vscode": {
     "languageId": "shellscript"
    }
   },
   "outputs": [],
   "source": [
    "%%bash\n",
    "\n",
    "# Make a output_formatters folder and change directories into it\n",
    "mkdir -pv $MY_PKG_DIR/$MY_PKG_NAME/plugins/modules/output_formatters\n",
    "cd $MY_PKG_DIR/$MY_PKG_NAME/plugins/modules/output_formatters\n",
    "\n",
    "# Create an __init__.py file\n",
    "touch __init__.py\n",
    "\n",
    "# Copy a output_formatter file from GeoIPS\n",
    "geoips_path=\"$(pip show geoips | awk '/^Location: / {print $2 \"/geoips\"}')\"\n",
    "cp \"$geoips_path/plugins/modules/output_formatters/netcdf_geoips.py\" my_netcdf_output.py"
   ]
  },
  {
   "cell_type": "markdown",
   "id": "cd429f92",
   "metadata": {},
   "source": [
    "Now that we have our own output formatter file, let's edit it.\n",
    "\n",
    "We'll do this automatically for you, but please take in what this product does.\n",
    "\n",
    "`Step 1: Update this section` \n",
    "\n",
    "```python\n",
    "interface = \"output_formatters\"\n",
    "family = \"xarray_data\"\n",
    "name = \"my_netcdf_output\"\n",
    "```\n",
    "\n",
    "`Step 2: Add some new attributes!`\n",
    "\n",
    "```python\n",
    "# This is inside the call() function\n",
    "copy_standard_metadata (xarray_obj, prod_xarray) \n",
    "for product_name in product_names: \n",
    "    prod_xarray[product_name] = xarray_obj[product_name] \n",
    "# Let's add some additional attributes that are necessary for us \n",
    "# Add the section below! \n",
    "prod_xarray = prod_xarray.assign_attrs (\n",
    "    Starring= \"Richard Karn\" ,\n",
    "    Featuring= \"Jonathan Taylor Thomas\" ,\n",
    "    ProducedBy= \"Carmen Finestra\" ,\n",
    ")\n",
    "```\n",
    "\n",
    "Reminder: you can always review your plugins via `geoips describe`."
   ]
  },
  {
   "cell_type": "code",
   "execution_count": null,
   "id": "cc7b55cf",
   "metadata": {},
   "outputs": [],
   "source": [
    "\"\"\"Replace the contents of my_netcdf_output.py with the correct output_formatter information.\"\"\"\n",
    "\n",
    "import os\n",
    "\n",
    "with open(\"./updated_files/my_netcdf_output.py\", \"r\") as rf:\n",
    "    python_lines = rf.readlines()\n",
    "\n",
    "with open(f\"{os.environ['MY_PKG_DIR']}/cool_plugins/plugins/modules/output_formatters/my_netcdf_output.py\", \"w\") as wf:\n",
    "    wf.writelines(python_lines)"
   ]
  },
  {
   "cell_type": "code",
   "execution_count": null,
   "id": "11d951a8",
   "metadata": {
    "vscode": {
     "languageId": "shellscript"
    }
   },
   "outputs": [],
   "source": [
    "%%bash\n",
    "\n",
    "# rebuild your registry files\n",
    "geoips config create-registries\n",
    "geoips describe output-formatter my_netcdf_output"
   ]
  },
  {
   "cell_type": "markdown",
   "id": "17c62c34",
   "metadata": {},
   "source": [
    "### Using your new output_formatter\n",
    "\n",
    "Let's make use of our new output_formatter running the following command.\n",
    "\n",
    "All that's modified is the following:\n",
    "\n",
    "```bash\n",
    "--output_formatter netcdf_geoips \\\n",
    "```\n",
    "\n",
    "with\n",
    "\n",
    "```bash\n",
    "--output_formatter my_netcdf_output \\\n",
    "```\n",
    "\n",
    "Run your new script!"
   ]
  },
  {
   "cell_type": "code",
   "execution_count": null,
   "id": "d2edf16a",
   "metadata": {
    "vscode": {
     "languageId": "shellscript"
    }
   },
   "outputs": [],
   "source": [
    "%%bash\n",
    "\n",
    "geoips run single_source $GEOIPS_TESTDATA_DIR/test_data_clavrx/data/goes16_2023101_1600/clavrx_OR_ABI-L1b-RadF-M6C01_G16_s20231011600207.level2.hdf \\\n",
    "  --reader_name clavrx_hdf4 \\\n",
    "  --product_name My-Cloud-Depth \\\n",
    "  --output_formatter my_netcdf_output \\\n",
    "  --filename_formatter geoips_netcdf_fname \\\n",
    "  --minimum_coverage 0 \\\n",
    "  --sector_list conus"
   ]
  },
  {
   "cell_type": "code",
   "execution_count": null,
   "id": "c543d5cb",
   "metadata": {},
   "outputs": [],
   "source": [
    "import os\n",
    "\n",
    "import xarray\n",
    "\n",
    "fpath = (\n",
    "    f\"{os.environ['GEOIPS_OUTDIRS']}/preprocessed/algorithms/My-Cloud-Depth_latitude_lo\"\n",
    "    \"ngitude/clavrx/goes-16/conus/20230411/20230411.160020.goes-16.My-Cloud-Depth_latit\"\n",
    "    \"ude_longitude.conus.nc\"\n",
    ")\n",
    "\n",
    "ds = xarray.open_dataset(fpath)\n",
    "\n",
    "ds.attrs"
   ]
  },
  {
   "cell_type": "markdown",
   "id": "0b7617db",
   "metadata": {},
   "source": [
    "The produced file should look like this:\n",
    "\n",
    "![NetCDF Output](./images/netcdf_output.png)"
   ]
  },
  {
   "cell_type": "markdown",
   "id": "bc4a3aa0",
   "metadata": {},
   "source": [
    "## A word about Readers \n"
   ]
  },
  {
   "cell_type": "markdown",
   "id": "88f2f962",
   "metadata": {},
   "source": [
    "### Readers Overview - Content\n",
    "\n",
    "- GeoIPS readers return a dictionary of xarrays minimally containing the following variables:\n",
    "\n",
    "\n",
    "| Common Name(s) | Required name in xarray | Data format |\n",
    "| :------------: | :---------------------: | :---------: |\n",
    "| Latitude, Longitude | latitude, longitude | float or int |\n",
    "| Variables of Interest | **<customizable but should match <br /> names used by <br /> products!>** | float or int |\n",
    "| Time of Observation | time | datetime object |\n",
    "| Metadata attribute: Data Source | **source_name** | string |\n",
    "| Metadata attribute: Time of First <br /> Observation | start_datetime | datetime object |\n",
    "| Metadata attribute: Time of Final <br /> Observation | end_datetime | datetime object |"
   ]
  },
  {
   "cell_type": "markdown",
   "id": "751e7baf",
   "metadata": {},
   "source": [
    "### Why are those bolded ones so important? \n",
    "\n",
    "- Those two determine how GeoIPS interfaces with your reader and product! \n",
    "\n",
    "![Reader Bolded Items Explained](./images/reader_bolded_items.png)"
   ]
  },
  {
   "cell_type": "markdown",
   "id": "34955590",
   "metadata": {},
   "source": [
    "### Reader overview - Structure \n",
    "\n",
    "- A GeoIPS reader typically consists of the following: \n",
    "    - `The call function`<br />\n",
    "      The call function is the main driver of a GeoIPS reader. It accepts the kwargs that <br />\n",
    "      contain the list of files to be read, and a handful of instructions that adjust how <br />\n",
    "      the reader functions. \n",
    "    - `One or several read functions`<br />\n",
    "      Read functions populate xarrays with data from the files themselves. Read functions <br />\n",
    "      are technically optional... but they are a best practice! \n",
    "    - `Optional utility functions`<br />\n",
    "      Utility functions perform some kind of operation on inputs, typically to convert <br />\n",
    "      them to a format understandable by GeoIPS \n",
    "\n",
    "![Reader Functions](./images/reader_functions.png)"
   ]
  },
  {
   "cell_type": "markdown",
   "id": "baab41a8",
   "metadata": {},
   "source": [
    "### *call* function key points \n",
    "\n",
    "![Reader call function key points](./images/reader_call_function_key_points.png)"
   ]
  },
  {
   "cell_type": "markdown",
   "id": "ebdb324b",
   "metadata": {},
   "source": [
    "### A typical *read* function \n",
    "\n",
    "- Largely a *dealer’s choice* (and *you’re* the dealer!) \n",
    "    - The read function needs to open the file and read the contents (remember the minimum <br />\n",
    "      content slide) into a dictionary of xarrays to be passed along to GeoIPS \n",
    "- Common challenges to be aware of: \n",
    "    - 1D variables: It’s okay if your variables are 1D... so long as *all of them* are 1D.<br /> \n",
    "      You may need to do some array manipulation to get everything even! This is a common <br />\n",
    "      issue particularly with times! \n",
    "    - Seaking of times, time formatting is a common issue: TAI93… UTC… binary string... <br />\n",
    "      seconds since epoch… there are a lot of ways time is reported in data! Consult the <br /> \n",
    "      user’s guide for your data to figure out what how to convert time variables to the <br />\n",
    "      required datetime object format. \n",
    "    - Reading in necessary channels: GeoIPS cannot intelligently read required channels <br />\n",
    "      unless you code your reader to do so. Remember your call script is invoked with the <br />\n",
    "      *chans* parameter– use that information to save you and your customer’s time! \n"
   ]
  },
  {
   "cell_type": "markdown",
   "id": "b2237f5a",
   "metadata": {},
   "source": [
    "### An Example Read Function from GMI (1) \n",
    "\n",
    "![GMI Read Function](./images/gmi_read_function.png)\n",
    "\n",
    "Continued...\n",
    "\n",
    "![GMI Read Function 2](./images/gmi_read_function2.png)\n",
    "\n",
    "One last cool thing you can do!\n",
    "\n",
    "![Vertical data stacking](./images/vertical_stack_data.png)"
   ]
  },
  {
   "cell_type": "markdown",
   "id": "78a74231",
   "metadata": {},
   "source": [
    "## Wrap Up"
   ]
  },
  {
   "cell_type": "markdown",
   "id": "11c0fac4",
   "metadata": {},
   "source": [
    "### Additional Information \n",
    "\n",
    "- Bonus exercises can be found in the [slide package](https://docs.google.com/presentation/d/1tkdRUFjZh_AdA98G1jIjaEjXn_HjYQD3PcweVmTUmTo/edit?slide=id.g224c8803d80_0_82#slide=id.g224c8803d80_0_82) \n",
    "    - Read that NetCDF4 file to produce imagery \n",
    "    - Change which colormap you are using to create your imagery \n",
    "- GeoIPS Slack Workspace<br />\n",
    "  https://geoips.slack.com/  \n"
   ]
  },
  {
   "cell_type": "markdown",
   "id": "e42a0399",
   "metadata": {},
   "source": [
    "### Handy Links \n",
    "\n",
    "- Solution repository \n",
    "    - Github: https://github.com/NRLMMD-GEOIPS/plugin_tutorial_solution  \n",
    "- GeoIPS repository: https://github.com/NRLMMD-GEOIPS/geoips "
   ]
  }
 ],
 "metadata": {
  "kernelspec": {
   "display_name": "geoips",
   "language": "python",
   "name": "python3"
  },
  "language_info": {
   "codemirror_mode": {
    "name": "ipython",
    "version": 3
   },
   "file_extension": ".py",
   "mimetype": "text/x-python",
   "name": "python",
   "nbconvert_exporter": "python",
   "pygments_lexer": "ipython3",
   "version": "3.11.13"
  }
 },
 "nbformat": 4,
 "nbformat_minor": 5
}
