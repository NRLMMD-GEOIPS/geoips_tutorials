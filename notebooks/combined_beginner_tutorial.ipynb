{
 "cells": [
  {
   "cell_type": "markdown",
   "id": "8e55f54d",
   "metadata": {},
   "source": [
    "### Welcome\n",
    "\n",
    "This is the first section of the introductory GeoIPS tutorial, which includes running GeoIPS \n",
    "using the CLI, and creating your first plugin! \n",
    "\n",
    "\n",
    "Link to these slides \n",
    "https://github.com/NRLMMD-GEOIPS/presentations"
   ]
  },
  {
   "cell_type": "markdown",
   "id": "7ca70cad",
   "metadata": {},
   "source": [
    "### Tutorial Scope\n",
    "\n",
    "This tutorial does not address running GeoIPS in near real-time. GeoIPS plugins \n",
    "are intended to be developed and tested on a specific dataset, and setting up the \n",
    "real-time processing infrastructure is a separate conversation. \n",
    "\n",
    "This tutorial focuses on: \n",
    "\n",
    "  - Installing GeoIPS \n",
    "  - Running GeoIPS \n",
    "  - Product development and testing \n"
   ]
  },
  {
   "cell_type": "markdown",
   "id": "a490cd6b",
   "metadata": {},
   "source": [
    "### To get the most out of this tutorial… \n",
    "\n",
    "- [Aug 2024 - Intro GeoIPS Tutorial - Google Slides](https://docs.google.com/presentation/d/151tR2hycoM3WqC9-7s9laMcCTZ9StY2fVLTpA_FwYBs/edit#slide=id.g2e736e3f9ff_3_94) \n",
    "- Please keep these slides up to copy/paste from as needed throughout the \n",
    "tutorial \n",
    "- Please copy/paste rather than typing everything word for word! \n",
    "  - Trick - Triple click to select a full code block for copy/paste! \n",
    "- [NRLMMD-GEOIPS/template_basic_plugin workshop-2024-beginner-solutions](https://github.com/NRLMMD-GEOIPS/template_basic_plugin/tree/workshop-2024-beginner-solutions) \n",
    "- If all else fails, you can access the solutions on github.com "
   ]
  },
  {
   "cell_type": "markdown",
   "id": "9e437abf",
   "metadata": {},
   "source": [
    "## System requirements\n",
    "\n",
    "- **CPU:** 1 CPU\n",
    "- **RAM:** 40GB as the notebook is written, but could use more if modified.\n",
    "  Reading the entire full-disk ABI image can take up to 100GB.\n",
    "- **Disk Space:** 10GB storage space."
   ]
  },
  {
   "cell_type": "markdown",
   "id": "d4eae42e",
   "metadata": {},
   "source": [
    "### Installing Appropriate Test Datasets\n",
    "\n",
    "For this tutorial, you'll need GeoIPS test datasets that can be used to produce imagery \n",
    "or scientific datasets. \n",
    "\n",
    "If just attending the beginner tutorial, you'll need:\n",
    "\n",
    "  - `test_data_clavrx`\n",
    "\n",
    "These datasets might take a while to download so go ahead and download the appropriate \n",
    "datasets based on the following commands,."
   ]
  },
  {
   "cell_type": "code",
   "execution_count": null,
   "id": "7c518041",
   "metadata": {
    "vscode": {
     "languageId": "shellscript"
    }
   },
   "outputs": [],
   "source": [
    "%%bash\n",
    "\n",
    "# This is needed for both the beginner and advanced tutorial\n",
    "geoips config install test_data_clavrx --outdir $GEOIPS_TESTDATA_DIR"
   ]
  },
  {
   "cell_type": "markdown",
   "id": "26050255",
   "metadata": {},
   "source": [
    "### Introduction to GeoIPS\n",
    "\n",
    "GeoIPS is a plugin-based system for processing geolocated data: \n",
    "  - produce imagery in several formats (most often PNG). \n",
    "  - produce output data products in NetCDF4 format. \n",
    "  - extended to add other output formats via plugins. \n",
    "\n",
    "![1111𝝁 infrared imagery](./images/conus_infrared.png)\n",
    "\n",
    "![Himawari-9 CLAVR-x Cloud-Top-Height](./images/ahi_cloud_top_height.png)\n",
    "\n",
    "![ABI CLAVR-x Cloud Top Height](./images/abi_cloud_top_height.png)\n",
    "\n",
    "GeoIPS is almost entirely composed of plugins:\n",
    "\n",
    "  - GeoIPS can be extended by developing new plugins in external python packages. \n",
    "  - No need to edit the main GeoIPS code to add new functionality. \n",
    "  - Most types of functionality in GeoIPS can be extended (and if something can’t be \n",
    "  extended, and you think it should, let us know!). \n"
   ]
  },
  {
   "cell_type": "markdown",
   "id": "ec0cb1f2",
   "metadata": {},
   "source": [
    "### Vocabulary\n",
    "\n",
    "**YAML**\n",
    "  - \"Yet Another Markdown Language\" \n",
    "  - A human-readable data serialization language that is often used for writing configuration files \n",
    "\n",
    "**Plugin**\n",
    "  - A Python module or YAML file that defines GeoIPS functionality \n",
    "  - Stored in an installable Python package that registers its plugin payload with GeoIPS \n",
    "\n",
    "**Interface**\n",
    "  - A class of Python plugins that modify the same type of functionality within GeoIPS \n",
    "  (e.g., “the algorithms interface” or “the colormappers interface”) \n",
    "  \n",
    "**Family**\n",
    "  - A subset of an interface whose plugins accept different sets of arguments/properties \n",
    "  - Planning to deprecate this 'artifact' in the near future.\n"
   ]
  },
  {
   "cell_type": "markdown",
   "id": "5d35708b",
   "metadata": {},
   "source": [
    "### Commonly used GeoIPS Plugin Types \n",
    "\n",
    "**algorithm**\n",
    "  - Implements a function that modifies data and outputs new data\n",
    "\n",
    "**colormapper**\n",
    "  - Defines a method of applying a colormap to imagery\n",
    "\n",
    "**feature_annotator**\n",
    "  - Defines how to plot map features (e.g. coastlines, borders, rivers, etc.)\n",
    "\n",
    "**gridline_annotator**\n",
    "  - Defines how to plot gridlines and labels\n",
    "\n",
    "**interpolator**\n",
    "  - Defines a method of interpolating data to a sector\n",
    "\n",
    "**output_formatter**\n",
    "  - Defines a method for plotting imagery or outputting a data file \n",
    "\n",
    "**procflow**\n",
    "  - Defines the order of operations to use when producing a product from GeoIPS \n",
    "\n",
    "**product**\n",
    "  - Defines how to produce a specific product as a combination of other plugins\n",
    "  - Uses other plugins (e.g. algorithm, colormapper, interpolator)\n",
    "\n",
    "**product_defaults**\n",
    "  - Defines a default set of plugins and arguments for producing a specific type of product \n",
    "  - Can be reused across multiple products to allow consistency between similar products \n",
    "\n",
    "**reader**\n",
    "  - Defines a data reader \n",
    "\n",
    "**sector**\n",
    "  - Describes an domain for reprojection of data "
   ]
  },
  {
   "cell_type": "markdown",
   "id": "26530c2b",
   "metadata": {},
   "source": [
    "## Hands On: Modify a plugin template to create your own installable plugin package  \n"
   ]
  },
  {
   "cell_type": "markdown",
   "id": "b6833494",
   "metadata": {},
   "source": [
    "### Get the Template Repository\n",
    "\n",
    "To add new plugins to GeoIPS, we use Plugin Packages. You will use a template repository to build your own, installable plugin package containing custom plugins.\n",
    "\n",
    "The following commands will clone the template plugin repository. Typically, when staring a new plugin package, you would choose the name of your package. We've taken that joy from you and have named your new package \"cool_plugins\". This name is stored in `$MY_PKG_NAME` for later use. \n",
    "\n",
    "`$MY_PKG_DIR` is also provided for convenience and contains the full path to your new package.\n",
    "\n"
   ]
  },
  {
   "cell_type": "code",
   "execution_count": null,
   "id": "4d4f2703",
   "metadata": {
    "vscode": {
     "languageId": "shellscript"
    }
   },
   "outputs": [],
   "source": [
    "%%bash\n",
    "\n",
    "cd $GEOIPS_PACKAGES_DIR\n",
    "\n",
    "if [[ ! -d \"template_basic_plugin\" && ! -d \"$MY_PKG_NAME\" ]]; then\n",
    "    echo \"Cloning template_basic_plugin package\"\n",
    "    git clone --no-tags --single-branch $GEOIPS_REPO_URL/template_basic_plugin.git\n",
    "else\n",
    "    echo \"Package already exists\"\n",
    "fi\n",
    "\n",
    "# Rename your package\n",
    "if [[ ! -d \"$MY_PKG_NAME\" ]]; then\n",
    "    echo \"Renaming template_basic_plugin to $MY_PKG_NAME\"\n",
    "    mv -v template_basic_plugin/ $MY_PKG_NAME\n",
    "else\n",
    "    echo \"Package already renamed\"\n",
    "fi\n",
    "\n",
    "# This will remove references to our upstream repository for safety's sake\n",
    "cd $MY_PKG_DIR\n",
    "git remote remove origin 2> /dev/null || true"
   ]
  },
  {
   "cell_type": "markdown",
   "id": "e1917a32",
   "metadata": {},
   "source": [
    "### Update the Package Name\n",
    "\n",
    "Now, we can use `ls` to look around in your package directory.\n"
   ]
  },
  {
   "cell_type": "code",
   "execution_count": null,
   "id": "b2898252-7b49-45a4-b795-971d97037a0c",
   "metadata": {},
   "outputs": [],
   "source": [
    "%%bash\n",
    "cd $MY_PKG_DIR\n",
    "\n",
    "ls --color"
   ]
  },
  {
   "cell_type": "markdown",
   "id": "8f7c30eb-e3e7-4c29-8eac-e5f1eb704ed5",
   "metadata": {},
   "source": [
    "This package is set up to be an installable Python package named \"my_package\". Let's update it to install as \"cool_plugins\" instead.\n",
    "\n",
    "Rename the default plugin package directory to \"cool_plugins\", then call `tree` to see the entire directory structure."
   ]
  },
  {
   "cell_type": "code",
   "execution_count": null,
   "id": "ed17c6cd",
   "metadata": {
    "vscode": {
     "languageId": "shellscript"
    }
   },
   "outputs": [],
   "source": [
    "%%bash\n",
    "cd $MY_PKG_DIR\n",
    "\n",
    "# Rename the package directory\n",
    "if [[ -d \"my_package\" ]]; then\n",
    "    echo \"Moving my_package to $MY_PKG_NAME\"\n",
    "    git mv my_package $MY_PKG_NAME\n",
    "else\n",
    "    echo \"Already moved\"\n",
    "fi\n",
    "\n",
    "# Show the directory tree two-levels deep\n",
    "tree -L 2"
   ]
  },
  {
   "cell_type": "code",
   "execution_count": null,
   "id": "3aae8120",
   "metadata": {
    "vscode": {
     "languageId": "shellscript"
    }
   },
   "outputs": [],
   "source": [
    "%%bash\n",
    "\n",
    "cd $MY_PKG_DIR/cool_plugins\n",
    "tree"
   ]
  },
  {
   "cell_type": "markdown",
   "id": "917a042b",
   "metadata": {},
   "source": [
    "![plugins directory structure](./images/plugins_directory_structure.png)"
   ]
  },
  {
   "cell_type": "markdown",
   "id": "edebaf05",
   "metadata": {},
   "source": [
    "### Update Pertinent Files\n",
    "\n",
    "1. Update README.md (`vim README.md`)\n",
    "  - Find/replace all occurrences of @package@  with your package name \n",
    "  - Vim Tip :%s/@package@/cool_plugins/g \n",
    "  \n",
    "**Note**: The @ symbols are for ease of searching, take them out when you put your \n",
    "package name in!\n",
    "\n",
    "2. Update pyproject.toml (`vim pyproject.toml`, more on this in soon.)\n",
    "  - Find/replace all occurrences of my_package  with your package name \n",
    "\n",
    "3. Add and commit your changes.\n",
    "\n",
    "#### Note\n",
    "\n",
    "Due to the nature of Jupyter Notebooks, we are not able to edit files in place (that is <br />\n",
    "opening them up and manually editing files (such as YAML or TOML)). Instead we'll <br />\n",
    "update these files with Python. Keep in mind if you were running this notebook locally <br />\n",
    "via an IDE, you'd be able to edit these files manually rather than using Python.\n",
    "\n",
    "[Edit me](../../cool_plugins/README.md)"
   ]
  },
  {
   "cell_type": "code",
   "execution_count": null,
   "id": "fd8cf952",
   "metadata": {},
   "outputs": [],
   "source": [
    "\"\"\"Overwrite cool_plugins' pyproject.toml and README.md with correct contents.\"\"\"\n",
    "\n",
    "import os\n",
    "\n",
    "with open(\"./updated_files/pyproject.toml\", \"r\") as rf:\n",
    "    toml_lines = rf.readlines()\n",
    "\n",
    "with open(f\"{os.environ['MY_PKG_DIR']}/pyproject.toml\", \"w\") as wf:\n",
    "    wf.writelines(toml_lines)\n",
    "\n",
    "with open(\"./updated_files/README.md\", \"r\") as rf:\n",
    "    md_lines = rf.readlines()\n",
    "\n",
    "with open(f\"{os.environ['MY_PKG_DIR']}/README.md\", \"w\") as wf:\n",
    "    wf.writelines(md_lines)"
   ]
  },
  {
   "cell_type": "code",
   "execution_count": null,
   "id": "441118ae",
   "metadata": {
    "vscode": {
     "languageId": "shellscript"
    }
   },
   "outputs": [],
   "source": [
    "%%bash\n",
    "\n",
    "cd $MY_PKG_DIR\n",
    "git add README.md pyproject.toml\n",
    "git commit -m \"Updated name of template plugin package to mine\" || true"
   ]
  },
  {
   "cell_type": "markdown",
   "id": "4028932b",
   "metadata": {},
   "source": [
    "#### Install your package \n",
    "Now that your package is updated, you can install it! \n",
    "\n",
    "We'll use `pip install -e $MY_PKG_DIR` where `-e` means \"editable\". This installs the package in \"editable\" mode so we can edit the package after it is installed and changes will be reflected in the installed package.\n",
    "\n",
    "*For those who are interested, this acts similarly to a symlink in Linux, but has some more complexity behind it.*"
   ]
  },
  {
   "cell_type": "code",
   "execution_count": null,
   "id": "e2241759",
   "metadata": {
    "vscode": {
     "languageId": "shellscript"
    }
   },
   "outputs": [],
   "source": [
    "%%bash\n",
    "\n",
    "pip install -e $MY_PKG_DIR"
   ]
  },
  {
   "cell_type": "markdown",
   "id": "4871f0fa",
   "metadata": {},
   "source": [
    "### See what you just installed \n",
    "\n",
    "Use the GeoIPS CLI to list the installed packages. Yours should be there!"
   ]
  },
  {
   "cell_type": "code",
   "execution_count": null,
   "id": "b69ec482",
   "metadata": {
    "vscode": {
     "languageId": "shellscript"
    }
   },
   "outputs": [],
   "source": [
    "%%bash\n",
    "\n",
    "geoips list packages"
   ]
  },
  {
   "cell_type": "markdown",
   "id": "38b296ca",
   "metadata": {},
   "source": [
    "### A bit about pyproject.toml\n",
    "\n",
    "Installing Python packages requires metadata that describes the package and how to \n",
    "install it. \n",
    "\n",
    "`pyproject.toml` defines this information for pip, including: \n",
    "  - Package name, version, description, license, etc. \n",
    "  - Which files should be contained in the package when installed \n",
    "  - How to build the package \n",
    "\n",
    "We make GeoIPS aware of our package using the `geoips.plugin_packages` namespace.\n",
    "This allows GeoIPS to find all plugins within packages registered to this namespace.\n",
    "\n",
    "GeoIPS automatically identifies all plugins defined within a plugin package via a plugin\n",
    "registry. You can manually create these files via `geoips config create-registries`, \n",
    "however, GeoIPS will automatically create these files if a requested plugin cannot be\n",
    "found. This usually occurs the first time GeoIPS is initialized.\n",
    "\n",
    "**NOTE** for plugin registries to write successfully: \n",
    "\n",
    "1. All installed  plugin names within a given interface must be unique \n",
    "\n",
    "2. All installed plugins must be formatted and defined correctly \n",
    "\n",
    "We will make use of this more later! Modify plugin template solutions on \n",
    "[NRLMMD github.com](https://github.com/NRLMMD-GEOIPS/template_basic_plugin/tree/workshop-2023-solutions).\n",
    "\n",
    "```\n",
    "[tool.poetry.plugins.\"geoips.plugin_packages\"]\n",
    "\"cool_plugins\" = \"cool_plugins\" \n",
    "``` "
   ]
  },
  {
   "cell_type": "markdown",
   "id": "89cc9dab",
   "metadata": {},
   "source": [
    "## GeoIPS Command Line Interface (CLI) Tutorial\n",
    "\n",
    "The GeoIPS CLI can provide you with a lot of information about the installed plugin packages and their plugins. Please follow this [Jupyter Notebook](./CLI_Tutorial.ipynb) for instructions on how to \n",
    "make use of the GeoIPS CLI."
   ]
  },
  {
   "cell_type": "markdown",
   "id": "73093623",
   "metadata": {},
   "source": [
    "## Hands on: Create a Product Plugin (products  YAML-based interface) \n",
    "\n",
    "Solutions on \n",
    "[NRLMMD github.com](https://github.com/NRLMMD-GEOIPS/template_basic_plugin/tree/workshop-2023-solutions)."
   ]
  },
  {
   "cell_type": "markdown",
   "id": "9fa30ad4",
   "metadata": {},
   "source": [
    "### First Product Plugin: Cloud Top Height (CTH) from CLAVR-x data\n",
    "\n",
    "Let's start by copying an existing product plugin to a new file. We'll modify it to create a new plugin."
   ]
  },
  {
   "cell_type": "code",
   "execution_count": null,
   "id": "2f1e5dc8",
   "metadata": {
    "vscode": {
     "languageId": "shellscript"
    }
   },
   "outputs": [],
   "source": [
    "%%bash\n",
    "cd $MY_PKG_DIR/$MY_PKG_NAME/plugins/yaml/products\n",
    "cp -v amsr2_using_product_defaults.yaml my_clavrx_products.yaml"
   ]
  },
  {
   "cell_type": "markdown",
   "id": "a8480dad",
   "metadata": {},
   "source": [
    "### GeoIPS Yaml-based plugin properties\n",
    "\n",
    "All YAML plugins will begin with these same four properties as shown below.\n",
    "\n",
    "![Product top level keys](./images/product_top_level_keys.png)\n",
    "\n",
    "### Edit my_clavrx_products.yaml properties\n",
    "\n",
    "Update `my_clavrx_products.yaml` to match the following four lines *(Feel free to remove all lines preceded by `# @`)*:\n",
    "\n",
    "```yaml\n",
    "interface: products\n",
    "family: list\n",
    "name: my_clavrx_products\n",
    "docstring: |\n",
    "  CLAVR-x imagery products\n",
    "```\n",
    "\n",
    "Click to edit in a new tab: [my_clavrx_products.yaml](../../cool_plugins/cool_plugins/plugins/yaml/products/my_clavrx_products.yaml)"
   ]
  },
  {
   "cell_type": "markdown",
   "id": "0e9152fd",
   "metadata": {},
   "source": [
    "### First Product Plugin: Cloud Top Height (CTH) from CLAVR-x data \n",
    "\n",
    "Next, let's add our first new product! We'll start by adding a Cloud Top Height product based on CLAVR-x cloud property data. To do so, update the existing product as shown below.\n",
    "\n",
    "![Update product spec](./images/update_product_spec.png)\n",
    "\n",
    "Edit the file (**click me:** [my_clavrx_products.yaml](../../cool_plugins/cool_plugins/plugins/yaml/products/my_clavrx_products.yaml)) again to update the product to match the following lines:\n",
    "\n",
    "```yaml\n",
    "spec:\n",
    "  products:\n",
    "    - name: My-Cloud-Top-Height\n",
    "      source_names: [clavrx]\n",
    "      docstring: |\n",
    "        CLAVR-x Cloud Top Height\n",
    "      product_defaults: Cloud-Height\n",
    "      spec:\n",
    "        variables: [\"cld_height_acha\", \"latitude\", \"longitude\"]\n",
    "```"
   ]
  },
  {
   "cell_type": "markdown",
   "id": "a293753a",
   "metadata": {},
   "source": [
    "### Update the Plugin Registry\n",
    "\n",
    "Let's use the CLI to get more information about the plugin we just created.\n",
    "\n",
    "While this won't be needed in the future (there is a bug...) we need to first rebuild the plugin registry to allow GeoIPS to locate your new plugin."
   ]
  },
  {
   "cell_type": "code",
   "execution_count": null,
   "id": "30028ff5",
   "metadata": {
    "vscode": {
     "languageId": "shellscript"
    }
   },
   "outputs": [],
   "source": [
    "!geoips config create-registry"
   ]
  },
  {
   "cell_type": "markdown",
   "id": "88f99a2a",
   "metadata": {},
   "source": [
    "### List the plugins\n",
    "\n",
    "To ensure that your new plugin was installed and registered, you can call `geoips list products` or `geoips ls products`. With just that, you will list all products from all packages, though. To see only the plugins from the `cool_plugins` package, we add the `-p cool_plugins` option.\n",
    "\n",
    "You should see your new plugin in the output below!"
   ]
  },
  {
   "cell_type": "code",
   "execution_count": null,
   "id": "3bf3de9c",
   "metadata": {
    "vscode": {
     "languageId": "shellscript"
    }
   },
   "outputs": [],
   "source": [
    "!geoips ls products -p cool_plugins"
   ]
  },
  {
   "cell_type": "markdown",
   "id": "132bd869",
   "metadata": {},
   "source": [
    "### Describing plugins\n",
    "\n",
    "To get more information about a particular plugin (or interface), call `geoips describe`. This is the generic format to follow via the CLI:\n",
    "\n",
    "`geoips describe <interface_name> <source_name>.<plugin_name>`"
   ]
  },
  {
   "cell_type": "code",
   "execution_count": null,
   "id": "739720f0-01f3-4f15-8c1e-f4b65b243987",
   "metadata": {},
   "outputs": [],
   "source": [
    "!geoips describe product clavrx.My-Cloud-Top-Height"
   ]
  },
  {
   "cell_type": "markdown",
   "id": "c8c0486a",
   "metadata": {},
   "source": [
    "#### `family: null`\n",
    "\n",
    "You may have noticed that your product’s family was `null` in the output above. This isn’t the actual case. \n",
    "\n",
    "Products are the only plugin that may depend on another type of plugin. Products that depend on a `ProductDefaults` plugin will inherit their contents unless explicitly overridden. The family of the derived product_default is inherited by the product plugin.\n",
    "\n",
    "For now, an easy way to check the family of your product is by describing its product \n",
    "default plugin (see above for its name).\n",
    "\n",
    "*`ProductDefaults` plugins are discussed more later in this tutorial.*"
   ]
  },
  {
   "cell_type": "code",
   "execution_count": null,
   "id": "abaa68da",
   "metadata": {
    "vscode": {
     "languageId": "shellscript"
    }
   },
   "outputs": [],
   "source": [
    "!geoips desc pdef Cloud-Height"
   ]
  },
  {
   "cell_type": "markdown",
   "id": "ac555aaf",
   "metadata": {},
   "source": [
    "### Use your new product!\n",
    "\n",
    "To use the plugin you just created, we'll make use of the `geoips run` command.\n",
    "\n",
    "- GeoIPS is called via a command line interface (CLI), as we've shown previously.\n",
    "- The main command that you will use is `geoips run single_source`, which will run your \n",
    "  data through the specified procflow using the specified plugins \n",
    "- It's easiest to do this via a script, and scripts are stored in your plugin package's \n",
    "  `tests/` directory because they can be used later to regression test your package \n",
    "- Since we're running this in a notebook, we can easily run these commands with a code cell!"
   ]
  },
  {
   "cell_type": "code",
   "execution_count": null,
   "id": "5ebfb253",
   "metadata": {
    "vscode": {
     "languageId": "shellscript"
    }
   },
   "outputs": [],
   "source": [
    "%%bash\n",
    "\n",
    "export CARTOPY_DATA_DIR=$HOME/cartopy\n",
    "\n",
    "geoips run single_source \\\n",
    "    $GEOIPS_TESTDATA_DIR/test_data_clavrx/data/goes16_2023101_1600/clavrx_OR_ABI-L1b-RadF-M6C01_G16_s20231011600207.level2.hdf \\\n",
    "  --reader_name clavrx_hdf4 \\\n",
    "  --product_name My-Cloud-Top-Height \\\n",
    "  --output_formatter imagery_annotated \\\n",
    "  --sector_list conus"
   ]
  },
  {
   "cell_type": "markdown",
   "id": "bc7cf745",
   "metadata": {},
   "source": [
    "### Viewing the log output\n",
    "\n",
    "This will write some log output.  If your script succeeded it will end with \n",
    "`INTERACTIVE: Return Value 0`.\n",
    "\n",
    "To view your output, look for a line that says `SINGLESOURCESUCCESS` and open the file shown there (or run the cell below).\n",
    "\n",
    "If successful, the output image should look like this:\n",
    "\n",
    "![CLAVR-x CONUS My-Cloud-Top-Height](./images/clavrx-conus-my-cloud-top-height.png)"
   ]
  },
  {
   "cell_type": "code",
   "execution_count": null,
   "id": "61e6125f-cd59-4d69-b78a-4387fc4c4a05",
   "metadata": {},
   "outputs": [],
   "source": [
    "from IPython.display import Image\n",
    "\n",
    "Image(f\"{os.environ['GEOIPS_OUTDIRS']}/preprocessed/annotated_imagery/NorthAmerica-UnitedStates-Continental/x-x-x/My-Cloud-Top-Height/clavrx/20230411.160020.goes-16.clavrx.My-Cloud-Top-Height.conus.52p06.cira.3p0.png\")"
   ]
  },
  {
   "cell_type": "markdown",
   "id": "d71d027e",
   "metadata": {},
   "source": [
    "### A word about Product Defaults \n",
    "\n",
    "GeoIPS has a number of product_defaults plugins defined to help you not reinvent the \n",
    "wheel. If specified in a Product, the values specified by a ProductDefaults plugin will\n",
    "be added to the Product. **but**\n",
    "- You can override any of the values from the ProductDefaults by re-specifying them in your Product.\n",
    "- You can absolutely fully define a product without the use of a ProductDefaults plugin.\n",
    "\n",
    "#### When to use Product Defaults\n",
    "If you have product definition parameters that you want to reuse (i.e. if you're \n",
    "copy/pasting products), consider creating a ProductDefaults plugin.\n",
    "\n",
    "\n",
    "This link will take you to the [product defaults defined by CLAVR-x plugin package](https://github.com/NRLMMD-GEOIPS/geoips_clavrx/tree/main/geoips_clavrx/plugins/yaml/product_defaults).\n",
    "\n",
    "This link will take you to the [product defaults defined by the core GeoIPS package](https://github.com/NRLMMD-GEOIPS/geoips/tree/main/geoips/plugins/yaml/product_defaults).\n",
    "\n",
    "The image below depicts the Cloud Height product defaults used by the CLAVR-x package. It defines:\n",
    "- What interpolator to use on the data.\n",
    "- How to call the `single_channel` algorithm for cloud height data (e.g. cloud top height or cloud base height).\n",
    "- What colormap to apply to cloud height data and the data range it should be applied over.\n",
    "\n",
    "\n",
    "![Cloud-Height Product Defaults](./images/Cloud-Height-product_defaults.png)"
   ]
  },
  {
   "cell_type": "markdown",
   "id": "fb25312b",
   "metadata": {},
   "source": [
    "### Using ProductDefaults verbatim \n",
    "\n",
    "In your product you can use the product_defaults verbatim simply by specifying which product defaults to use.\n",
    "\n",
    "![Product using product default](./images/product_using_product_default.png)"
   ]
  },
  {
   "cell_type": "markdown",
   "id": "ebad57c6",
   "metadata": {},
   "source": [
    "### Using ProductDefaults, but overriding some values \n",
    "\n",
    "You can also override just some parts of the product_defaults. \n",
    "\n",
    "In this example, we override the `algorithm` plugin contained in the Cloud-Height \n",
    "product_defaults, with our own specification. \n",
    "\n",
    "![Product default overridden](./images/product_default_overridden.png)"
   ]
  },
  {
   "cell_type": "markdown",
   "id": "f193c6c3",
   "metadata": {},
   "source": [
    "### Explicitly defining a Product (no ProductDefaults)\n",
    "\n",
    "We also have the option to define a product without using product_defaults.\n",
    "\n",
    "To do this: \n",
    "  - remove the `product_defaults` property \n",
    "  - add the `family` property\n",
    "\n",
    "![Product fully specified](./images/product_fully_specified.png)"
   ]
  },
  {
   "cell_type": "markdown",
   "id": "2011b415",
   "metadata": {},
   "source": [
    "## Hands on: Add Additional Products to Your Product Plugin \n"
   ]
  },
  {
   "cell_type": "markdown",
   "id": "83371ed2",
   "metadata": {},
   "source": [
    "### Add Cloud Base Height (CBH) to the CLAVR-x Product Definition\n",
    "\n",
    "- Using your definition of `My-Cloud-Top-Height` as an example, create a product \n",
    "  definition for `My-Cloud-Base-Height`\n",
    "\n",
    "**Helpful Hints:** \n",
    "- The relevant variable in the CLAVR-x output file (and the equivalent GeoIPS reader) \n",
    "  is called `cld_height_base`\n",
    "- The Cloud-Height product_default  can be used to simplify this product \n",
    "  definition (or you can DIY or override if you'd like!)\n",
    "\n",
    "#### Edit me: [my_clavrx_products.yaml](../../cool_plugins/cool_plugins/plugins/yaml/products/my_clavrx_products.yaml) (Close and save the file when done)\n",
    "\n",
    "The block below will update the plugin registry and list the plugins from `cool_plugins`. Your new plugins should appear here!"
   ]
  },
  {
   "cell_type": "code",
   "execution_count": null,
   "id": "5bc55646-2c44-4a8a-a576-a6851f4d9d56",
   "metadata": {},
   "outputs": [],
   "source": [
    "%%bash\n",
    "\n",
    "geoips config create-registry\n",
    "geoips list products -p cool_plugins"
   ]
  },
  {
   "cell_type": "markdown",
   "id": "fba330df-c87b-43d4-877a-7d951d5ddd24",
   "metadata": {},
   "source": [
    "### Run the Cloud-Base-Height product"
   ]
  },
  {
   "cell_type": "code",
   "execution_count": null,
   "id": "da92296a-9da6-4b98-8fea-f45fb033630a",
   "metadata": {},
   "outputs": [],
   "source": [
    "%%bash\n",
    "\n",
    "export CARTOPY_DATA_DIR=$HOME/cartopy\n",
    "\n",
    "geoips run single_source \\\n",
    "    $GEOIPS_TESTDATA_DIR/test_data_clavrx/data/goes16_2023101_1600/clavrx_OR_ABI-L1b-RadF-M6C01_G16_s20231011600207.level2.hdf \\\n",
    "  --reader_name clavrx_hdf4 \\\n",
    "  --product_name My-Cloud-Base-Height \\\n",
    "  --output_formatter imagery_annotated \\\n",
    "  --sector_list conus"
   ]
  },
  {
   "cell_type": "code",
   "execution_count": null,
   "id": "04d660dd-3c33-4db9-8c5a-1cce0901ca4c",
   "metadata": {},
   "outputs": [],
   "source": [
    "Image(f\"{os.environ['GEOIPS_OUTDIRS']}/preprocessed/annotated_imagery/NorthAmerica-UnitedStates-Continental/x-x-x/My-Cloud-Base-Height/clavrx/20230411.160020.goes-16.clavrx.My-Cloud-Base-Height.conus.51p94.cira.3p0.png\")"
   ]
  },
  {
   "cell_type": "markdown",
   "id": "a3041738",
   "metadata": {},
   "source": [
    "### Add Cloud Depth to the CLAVR-x Product Definition \n",
    "\n",
    "Using your definitions of `My-Cloud-Top-Height` and `My-Cloud-Base-Height` as examples, \n",
    "create a product definition for `My-Cloud-Depth`\n",
    "\n",
    "**Helpful Hints:** \n",
    "We will define Cloud Depth for this tutorial as the difference between CTH and CBH \n",
    "\n",
    "**Note:**\n",
    "This is meant to challenge you a bit! Give it a try and we'll go over the solution in \n",
    "the next markdown block\n",
    "\n",
    "#### Edit me: [my_clavrx_products.yaml](../../cool_plugins/cool_plugins/plugins/yaml/products/my_clavrx_products.yaml) (Close and save the file when done)"
   ]
  },
  {
   "cell_type": "markdown",
   "id": "b9d1f6f9",
   "metadata": {},
   "source": [
    "### Solution \n",
    "\n",
    "After editing, the `spec` portion of `my_clavrx_products.yaml` should now look like below. \n",
    "\n",
    "```yaml\n",
    "spec:\n",
    "  products: \n",
    "    - name: My-Cloud-Top-Height \n",
    "      source_names: [clavrx] \n",
    "      docstring:  |\n",
    "        CLAVR-x Cloud Top Height \n",
    "      product_defaults: Cloud-Height \n",
    "      spec:\n",
    "        variables: [\"cld_height_acha\", \"latitude\", \"longitude\"] \n",
    "    - name: My-Cloud-Base-Height \n",
    "      source_names: [clavrx] \n",
    "      docstring:  |\n",
    "        CLAVR-x Cloud Base Height \n",
    "      product_defaults: Cloud-Height \n",
    "      spec:\n",
    "        variables: [\"cld_height_base\", \"latitude\", \"longitude\"]\n",
    "    - name: My-Cloud-Depth\n",
    "      source_names: [clavrx]\n",
    "      docstring: |\n",
    "        CLAVR-x Cloud my Cloud Depth\n",
    "      product_defaults: Cloud-Height\n",
    "      spec:\n",
    "        variables: [\"cld_height_acha\", \"cld_height_base\", \"latitude\", \"longitude\"]\n",
    "```\n",
    "\n",
    "### A Problem\n",
    "Take another look at the Product we just implemented, though. Note that it requires **two** non-geolocation variables, `cld_height_acha` and `cld_height_base`. Also, notice that we are using the `single_channel` algorithm. This is an algorithm that manipulates a single variable.\n",
    "\n",
    "**We need a new Algorithm plugin!**"
   ]
  },
  {
   "cell_type": "markdown",
   "id": "75c7ae02",
   "metadata": {},
   "source": [
    "### Validate your new product plugins\n",
    "\n",
    "Before you go ahead creating your new algorithm plugin, let's validate that the product\n",
    "plugins we just created are found by GeoIPS. After running the block below, you should see the registry update, then each of the new Products descriptions."
   ]
  },
  {
   "cell_type": "code",
   "execution_count": null,
   "id": "88f9f6d6",
   "metadata": {
    "vscode": {
     "languageId": "shellscript"
    }
   },
   "outputs": [],
   "source": [
    "%%bash\n",
    "\n",
    "geoips config create-registries\n",
    "geoips describe product clavrx.My-Cloud-Top-Height\n",
    "geoips describe product clavrx.My-Cloud-Base-Height\n",
    "geoips describe product clavrx.My-Cloud-Depth"
   ]
  },
  {
   "cell_type": "markdown",
   "id": "b6adff9e",
   "metadata": {},
   "source": [
    "### Command: `geoips list`\n",
    "\n",
    "You can also list all of the Products implemented by `cool_plugins` by listing them."
   ]
  },
  {
   "cell_type": "code",
   "execution_count": null,
   "id": "0117e109",
   "metadata": {
    "vscode": {
     "languageId": "shellscript"
    }
   },
   "outputs": [],
   "source": [
    "%%bash\n",
    "\n",
    "geoips list products -p cool_plugins"
   ]
  },
  {
   "cell_type": "markdown",
   "id": "e1f5f6fc",
   "metadata": {},
   "source": [
    "## Hands on: Create an Algorithm Plugin\n",
    "\n",
    "Let's create our new Algorithm plugin!\n",
    "\n",
    "First, let's copy an existing algorithm plugin to a new file named \"my_cloud_depth.py\" so we can use it as a template."
   ]
  },
  {
   "cell_type": "code",
   "execution_count": null,
   "id": "c65e6eb7",
   "metadata": {
    "vscode": {
     "languageId": "shellscript"
    }
   },
   "outputs": [],
   "source": [
    "%%bash\n",
    "\n",
    "cd $MY_PKG_DIR/$MY_PKG_NAME/plugins/modules/algorithms\n",
    "cp -v pmw_89test.py my_cloud_depth.py"
   ]
  },
  {
   "cell_type": "markdown",
   "id": "794e1bee-b372-4e32-972c-1e59d6dbe243",
   "metadata": {},
   "source": [
    "### The same three top-level attributes\n",
    "Just like the Yaml-based plugins, this Module-based plugin has three top-level attributes that are common to all GeoIPS plugins: interface, family, and name. Here:\n",
    "- `interface` is \"algorithms\" to indicate that this plugin belongs to the Algorithms interface.\n",
    "- `family` is \"xarray_to_xarray\", a common family for algorithms indicating that it accepts an Xarray DataSet as input and returns an Xarray DataSet as output.\n",
    "- `name` is the name of the algorithm (which we will update)."
   ]
  },
  {
   "cell_type": "markdown",
   "id": "fe61306c",
   "metadata": {},
   "source": [
    "![Updating top level portions of new algorithm](./images/updating_algorithm_top_level.png)"
   ]
  },
  {
   "cell_type": "markdown",
   "id": "a2ebc285",
   "metadata": {},
   "source": [
    "### Let's update our `my_cloud_depth` algorithm with the following:\n",
    "\n",
    "```python\n",
    "\"\"\"Cloud depth product.\n",
    "\n",
    "Difference of cloud top height and cloud base height.\n",
    "\"\"\"\n",
    "\n",
    "import logging\n",
    "\n",
    "from xarray import DataArray\n",
    "\n",
    "LOG = logging.getLogger(__name__)\n",
    "\n",
    "interface = \"algorithms\"\n",
    "family = \"xarray_to_xarray\"\n",
    "name = \"my_cloud_depth\"\n",
    "```\n",
    "\n",
    "#### Edit me: [my_cloud_depth.py](../../cool_plugins/cool_plugins/plugins/modules/algorithms/my_cloud_depth.py) (Close and save the file when done)"
   ]
  },
  {
   "cell_type": "markdown",
   "id": "5da6e56b",
   "metadata": {},
   "source": [
    "### Updating your Algorithm\n",
    "\n",
    "All module-based plugins, including Algorithms, must include a `call()` function. This function is what is called when the plugin is executed. The `call()` function's signature is determined by the algorithm's family.\n",
    "\n",
    "Our cloud height algorithms have an addional `\"scale_factor\"` parameter in their call signatures that the algorithm we copied does not.\n",
    "To update this algorithm, replace the signature of the `call()` function and its docstring with the following. \n",
    "\n",
    "*You can remove the comments if desired.*\n",
    "\n",
    "```python\n",
    "def call(\n",
    "    xobj,  # Xarray Dataset holding DataArrays\n",
    "    variables, # list of required input variables for the algorithm. These are ordered as specified in your product plugin.\n",
    "    product_name,\n",
    "    output_data_range,\n",
    "    scale_factor,  # Adding a scale factor here for use in converting input meters to output kilometers\n",
    "    min_outbounds=\"crop\",\n",
    "    max_outbounds=\"mask\",\n",
    "    norm=False,\n",
    "    inverse=False,\n",
    "):\n",
    "    \"\"\"My cloud depth product algorithm manipulation steps.\"\"\"\n",
    "```\n",
    "\n",
    "#### Edit me: [my_cloud_depth.py](../../cool_plugins/cool_plugins/plugins/modules/algorithms/my_cloud_depth.py) (Close and save the file when done)"
   ]
  },
  {
   "cell_type": "markdown",
   "id": "f428a6ec",
   "metadata": {},
   "source": [
    "### Update the call function's functionality\n",
    "\n",
    "Inside the `call()` is where the actual data manipulation occurs. To update the algorithm to produce cloud depth, replace the contents of the `call()` function with the following. If you examine the code below, you will see that it:\n",
    "- Extracts the relevant variables from the xarray object.\n",
    "- Subtracts cloud base from cloud top height.\n",
    "- Normalizes over the specified data range.\n",
    "- Packages the data as an Xarray DataArray.\n",
    "- Adds the DataArray to the DataSet using the product name as the key.\n",
    "- Returns the resulting Xarray DataSet.\n",
    "\n",
    "The returned DataSet will contain all of the original input data as well as the newly created data.\n",
    "\n",
    "**Hint: Make sure to index the variable list to the order of the variables you defined in your product.**\n",
    "\n",
    "```python\n",
    "    # Variables in the order defined in your Cloud-Depth Plugin\n",
    "    cth = xobj[variables[0]]\n",
    "    cbh = xobj[variables[1]]\n",
    "\n",
    "    out = (cth - cbh) * scale_factor\n",
    "\n",
    "    from geoips.data_manipulations.corrections import apply_data_range\n",
    "\n",
    "    # Data manipulation: Anything you want!\n",
    "    data = apply_data_range(\n",
    "        out,\n",
    "        min_val=output_data_range[0],\n",
    "        max_val=output_data_range[1],\n",
    "        min_outbounds=min_outbounds,\n",
    "        max_outbounds=max_outbounds,\n",
    "        norm=norm,\n",
    "        inverse=inverse,\n",
    "    )\n",
    "    xobj[product_name] = DataArray(data)\n",
    "\n",
    "    return xobj\n",
    "```\n",
    "\n",
    "#### Edit me: [my_cloud_depth.py](../../cool_plugins/cool_plugins/plugins/modules/algorithms/my_cloud_depth.py) (Close and save the file when done)\n",
    "\n",
    "Once complete, let's describe the plugin you just created to make sure it registered appropriately."
   ]
  },
  {
   "cell_type": "code",
   "execution_count": null,
   "id": "22bed150",
   "metadata": {
    "vscode": {
     "languageId": "shellscript"
    }
   },
   "outputs": [],
   "source": [
    "%%bash\n",
    "\n",
    "# This is a bug-fix. I am not sure why this gets created, but let's just delete it.\n",
    "rm $HOME/cool_plugins/cool_plugins/plugins/modules/algorithms/.ipynb_checkpoints/my_cloud_depth-checkpoint.py\n",
    "\n",
    "geoips config create-registries\n",
    "# In case you forgot the name of your plugin, you can run:\n",
    "geoips ls algs -p cool_plugins\n",
    "# Now let's describe that plugin\n",
    "geoips describe algorithm my_cloud_depth"
   ]
  },
  {
   "cell_type": "markdown",
   "id": "cd07d252",
   "metadata": {},
   "source": [
    "## Overriding the My-Cloud-Depth Algorithm\n",
    "\n",
    "As mentioned earlier, we can override a product's defaults by adding new information to <br />\n",
    "that product's `spec` object. \n",
    "\n",
    "This was complete when we previously added our `My-Cloud-Depth` product, however it's <br />\n",
    "important to understand how this functionality works. Since that product inherits from <br />\n",
    "the `Cloud-Height` product_defaults plugin, `My-Cloud-Depth` assumes it would use the <br />\n",
    "`single_channel` algorithm. We want to override that with the algorithm we just created. <br />\n",
    "\n",
    "The following YAML code demonstrates how you can override a product_default plugin in <br />\n",
    "a product plugin.\n",
    "\n",
    "```yaml\n",
    "spec:\n",
    "  products:\n",
    "    - name: My-Cloud-Top-Height\n",
    "      source_names: [clavrx] \n",
    "      docstring:  |\n",
    "        CLAVR-x Cloud Top Height \n",
    "      product_defaults: Cloud-Height \n",
    "      spec:\n",
    "        variables: [\"cld_height_acha\", \"latitude\", \"longitude\"] \n",
    "    - name: My-Cloud-Base-Height \n",
    "      source_names: [clavrx] \n",
    "      docstring:  |\n",
    "        CLAVR-x Cloud Base Height \n",
    "      product_defaults: Cloud-Height \n",
    "      spec:\n",
    "        variables: [\"cld_height_base\", \"latitude\", \"longitude\"]\n",
    "    # Update the code block below\n",
    "    - name: My-Cloud-Depth \n",
    "      source_names:  [clavrx] \n",
    "      docstring:  |\n",
    "        CLAVR-x Cloud my Cloud Depth \n",
    "      product_defaults:  Cloud-Height \n",
    "      spec:\n",
    "        variables:  [\"cld_height_acha\", \"cld_height_base\", \"latitude\", \"longitude\"] \n",
    "        # Algorithm override portion\n",
    "        algorithm: \n",
    "          plugin:\n",
    "            name: my_cloud_depth # The name we assigned our algorithm when we defined it\n",
    "            arguments: \n",
    "              output_data_range:  [0, 20]\n",
    "              scale_factor:  0.001\n",
    "```\n",
    "\n",
    "#### Edit me: [my_clavrx_products.yaml](../../cool_plugins/cool_plugins/plugins/yaml/products/my_clavrx_products.yaml) (Close and save the file when done)"
   ]
  },
  {
   "cell_type": "markdown",
   "id": "29954277",
   "metadata": {},
   "source": [
    "### Hands on: Using Your Algorithm Plugin\n",
    "\n",
    "Run the following command to make use of your new algorithm plugin, referenced in our <br />\n",
    "`My-Cloud-Depth` product."
   ]
  },
  {
   "cell_type": "code",
   "execution_count": null,
   "id": "cca29812",
   "metadata": {
    "vscode": {
     "languageId": "shellscript"
    }
   },
   "outputs": [],
   "source": [
    "%%bash\n",
    "\n",
    "export CARTOPY_DATA_DIR=$HOME/cartopy\n",
    "\n",
    "geoips run single_source \\\n",
    "  $GEOIPS_TESTDATA_DIR/test_data_clavrx/data/goes16_2023101_1600/clavrx_OR_ABI-L1b-RadF-M6C01_G16_s20231011600207.level2.hdf \\\n",
    "  --reader_name clavrx_hdf4 \\\n",
    "  --product_name My-Cloud-Depth \\\n",
    "  --output_formatter imagery_annotated \\\n",
    "  --sector_list conus"
   ]
  },
  {
   "cell_type": "code",
   "execution_count": null,
   "id": "898842e3-2186-422a-a999-eb6444cf6ffc",
   "metadata": {},
   "outputs": [],
   "source": [
    "Image(f\"{os.environ['GEOIPS_OUTDIRS']}/preprocessed/annotated_imagery/NorthAmerica-UnitedStates-Continental/x-x-x/My-Cloud-Depth/clavrx/20230411.160020.goes-16.clavrx.My-Cloud-Depth.conus.51p94.cira.3p0.png\")"
   ]
  },
  {
   "cell_type": "markdown",
   "id": "5a3cb77a",
   "metadata": {},
   "source": [
    "## Part 2 -- Tutorial Contents\n",
    "\n",
    "We're going to show you how to extend GeoIPS by adding new plugins for five new interfaces. \n",
    "\n",
    "We will add:  \n",
    "- One new sector \n",
    "- One new feature_annotator , one new gridline_annotator \n",
    "- Three new colormappers \n",
    "- One new output_formatter\n",
    "\n",
    "We will also show you how to: \n",
    "- Produce a NetCDF4 file using your algorithm output \n",
    "- Read your custom NetCDF4 file back in, and produce imagery from it "
   ]
  },
  {
   "cell_type": "markdown",
   "id": "ae9c4357",
   "metadata": {},
   "source": [
    "### Hands on: Outputting your new product as NetCDF \n",
    "\n",
    "The following code block produces your `My-Cloud-Depth` product using the `netcdf_geoips`<br />\n",
    "output formatter plugin. Instead of an image, this command will produce a NetCDF file <br />\n",
    "using the same data as the previous image.\n"
   ]
  },
  {
   "cell_type": "code",
   "execution_count": null,
   "id": "227bcda2",
   "metadata": {
    "vscode": {
     "languageId": "shellscript"
    }
   },
   "outputs": [],
   "source": [
    "%%bash\n",
    "\n",
    "geoips run single_source \\\n",
    "   $GEOIPS_TESTDATA_DIR/test_data_clavrx/data/goes16_2023101_1600/clavrx_OR_ABI-L1b-RadF-M6C01_G16_s20231011600207.level2.hdf \\\n",
    "   --reader_name clavrx_hdf4 \\\n",
    "   --product_name My-Cloud-Depth \\\n",
    "   --output_formatter netcdf_geoips \\\n",
    "   --filename_formatter geoips_netcdf_fname \\\n",
    "   --sector_list conus"
   ]
  },
  {
   "cell_type": "markdown",
   "id": "d088a495",
   "metadata": {},
   "source": [
    "There will output a bunch of log output. If your script succeeded it will end with <br />\n",
    "`INTERACTIVE: Return Value 0`. To view your output, look for a line that says <br />\n",
    "`SINGLESOURCESUCCESS`.\n",
    "\n",
    "Open the NetCDF file to view its contents (e.g. with Panoply; shown below)<br />\n",
    "![My Cloud Depth NetCDF Output](./images/panoply-netcdf-output.png)\n",
    "\n",
    "**Note** - For more information on the output_formatter \n",
    "you just used, run:  "
   ]
  },
  {
   "cell_type": "code",
   "execution_count": null,
   "id": "459fbc8e",
   "metadata": {
    "vscode": {
     "languageId": "shellscript"
    }
   },
   "outputs": [],
   "source": [
    "%%bash\n",
    "\n",
    "geoips describe output-formatter netcdf_geoips"
   ]
  },
  {
   "cell_type": "markdown",
   "id": "60953f5a",
   "metadata": {},
   "source": [
    "### Sectors\n",
    "\n",
    "Sectors are YAML plugins that define an area of interest for plotting in GeoIPS.\n",
    "\n",
    "**Two types:** \n",
    "- **static**: static sector of a specific area \n",
    "- **dynamic**: sectors that are generated at run-time to follow an event (e.g. \n",
    "  tropical cyclone, atmospheric river, pyro-Cb, etc.) \n",
    "\n",
    "For this tutorial, we will be creating a **static**  sector. \n",
    "\n",
    "**Static Sector Properties:** \n",
    "- **Metadata**: Contains information related to the origin of the sector. This includes \n",
    "  continent, country, state, etc.\n",
    "- **Projection**: Proj projection information \n",
    "  - **a**: The radius of the earth (in meters) \n",
    "  - **lat_0**: Center latitude coordinate \n",
    "  - **lon_0**: Center longitude coordinate \n",
    "  - **proj**: String representing projection type \n",
    "  - **units**: String representing units of the \n",
    "    projection \n",
    "- **Resolution**: The size of each pixel in meters \n",
    "- **Shape**: Image shape in pixels (width + height) \n",
    "- **Center**: The center x/y coordinates of the sector "
   ]
  },
  {
   "cell_type": "markdown",
   "id": "3321cbbe",
   "metadata": {},
   "source": [
    "### Example Sectors\n",
    "\n",
    "![Example Sectors](./images/example_sectors.png)\n",
    "\n",
    "You can run the following commands to get more information about each of the sectors \n",
    "shown here by running:"
   ]
  },
  {
   "cell_type": "code",
   "execution_count": null,
   "id": "1969cdc0",
   "metadata": {
    "vscode": {
     "languageId": "shellscript"
    }
   },
   "outputs": [],
   "source": [
    "%%bash\n",
    "\n",
    "geoips describe sector australia\n",
    "geoips describe sector central_america\n",
    "geoips describe sector south_pole"
   ]
  },
  {
   "cell_type": "markdown",
   "id": "5172e7b5",
   "metadata": {},
   "source": [
    "### Generating Static Sector Properties \n",
    "\n",
    "To generate the properties necessary to create a static sector, you must first define <br /> \n",
    "the area you want to display (captured by the appropriate satellite), based on center <br /> \n",
    "latitude and longitude bounds. \n",
    "\n",
    "The easiest way to do this is to open a [Google Maps](https://www.google.com/maps/) tab, <br /> \n",
    "then right click the center of your sector to obtain the center latitude and longitude <br /> \n",
    "values. \n",
    "\n",
    "Once you have those center latitude and longitude values, you’re ready to create your <br />\n",
    "custom sector. \n",
    "\n",
    "The next slide will display the changes you will need to make to create a custom conus <br />\n",
    "sector plugin. \n",
    "\n",
    "![Google Maps CONUS](./images/google_maps_conus.png)\n",
    "\n",
    "**Note** - For listing of sector plugins, run: "
   ]
  },
  {
   "cell_type": "code",
   "execution_count": null,
   "id": "3128657b",
   "metadata": {
    "vscode": {
     "languageId": "shellscript"
    }
   },
   "outputs": [],
   "source": [
    "%%bash\n",
    "\n",
    "geoips list sectors"
   ]
  },
  {
   "cell_type": "markdown",
   "id": "153c17eb",
   "metadata": {},
   "source": [
    "### Hands on: Creating Custom Sectors \n",
    "\n",
    "Let's start by copying a sector file to edit"
   ]
  },
  {
   "cell_type": "code",
   "execution_count": null,
   "id": "699d49d5",
   "metadata": {
    "vscode": {
     "languageId": "shellscript"
    }
   },
   "outputs": [],
   "source": [
    "%%bash\n",
    "\n",
    "# Make a sectors folder and change directories into it\n",
    "mkdir -pv $MY_PKG_DIR/$MY_PKG_NAME/plugins/yaml/sectors/static\n",
    "cd $MY_PKG_DIR/$MY_PKG_NAME/plugins/yaml/sectors/static\n",
    "\n",
    "# Copy a sector file from GeoIPS\n",
    "geoips_path=\"$(pip show geoips | awk '/^Location: / {print $2 \"/geoips\"}')\"\n",
    "cp -v \"$geoips_path/plugins/yaml/sectors/static/australia.yaml\" my_conus_sector.yaml"
   ]
  },
  {
   "cell_type": "markdown",
   "id": "be932cd7",
   "metadata": {},
   "source": [
    "### Generating Static Sector Properties \n",
    "\n",
    "The following YAML code demonstrates how to implement your own custom sector. <br />\n",
    "Since we're running this in a notebook, we'll update this file for you automatically, <br />\n",
    "via the following **code block**.\n",
    "\n",
    "You'll notice that the metadata remains untouched, however it's important to note that <br />\n",
    "this section is very helpful for displaying additional information about the sector, not <br />\n",
    "only for the backend of GeoIPS, but also for people using this sector plugin.\n",
    "\n",
    "```yaml\n",
    "interface: sectors\n",
    "family: area_definition_static \n",
    "name: my_conus_sector \n",
    "docstring: \"My CONUS Sector\" \n",
    "metadata: \n",
    "  region: \n",
    "    continent: NorthAmerica \n",
    "    country: UnitedStates \n",
    "    area: x\n",
    "    subarea: x\n",
    "    state: x\n",
    "    city: x\n",
    "spec:\n",
    "  area_id: my_conus_sector \n",
    "  description: CONUS\n",
    "  projection: \n",
    "    a: 6371228.0 \n",
    "    lat_0: 37.0\n",
    "    lon_0: -96.0\n",
    "    proj: eqc\n",
    "    units: m\n",
    "  resolution: \n",
    "    - 3000\n",
    "    - 3000\n",
    "  shape: \n",
    "    height: 1000\n",
    "    width: 2200\n",
    "  center: [0, 0]\n",
    "```\n"
   ]
  },
  {
   "cell_type": "code",
   "execution_count": null,
   "id": "d1b3478b",
   "metadata": {},
   "outputs": [],
   "source": [
    "\"\"\"Update my_conus_sector with the correct contents.\"\"\"\n",
    "\n",
    "import os\n",
    "import yaml\n",
    "\n",
    "with open(\"./updated_files/my_conus_sector.yaml\", \"r\") as yaml_file:\n",
    "    updated_sector = yaml.safe_load(yaml_file)\n",
    "\n",
    "with open(f\"{os.environ['MY_PKG_DIR']}/cool_plugins/plugins/yaml/sectors/static/my_conus_sector.yaml\", \"w\") as f:\n",
    "    yaml.safe_dump(updated_sector, f, default_flow_style=False, sort_keys=False)"
   ]
  },
  {
   "cell_type": "markdown",
   "id": "e8b7f66b",
   "metadata": {},
   "source": [
    "### Testing Your Custom Static Sector \n",
    "\n",
    "The commands you ran in the previous slide create a custom conus sector. <br />\n",
    "`my_conus_sector.yaml` will be an  example plugin, showing you that you can create sectors <br />\n",
    "just like `conus.yaml`, to your own specifications. \n",
    "\n",
    "To quickly check whether or not you like the shape and resolution of your custom sector, <br />\n",
    "you can use the command line function create_sector_image . This will plot and save <br />\n",
    "images containing the borders and coastlines of the inputted sectors. For example, to test <br />\n",
    "your custom sector, run the following: "
   ]
  },
  {
   "cell_type": "code",
   "execution_count": null,
   "id": "f613f2dd",
   "metadata": {
    "vscode": {
     "languageId": "shellscript"
    }
   },
   "outputs": [],
   "source": [
    "%%bash\n",
    "\n",
    "export CARTOPY_DATA_DIR=$HOME/cartopy\n",
    "\n",
    "geoips config create-registries\n",
    "geoips test sector my_conus_sector"
   ]
  },
  {
   "cell_type": "markdown",
   "id": "66dfaecd",
   "metadata": {},
   "source": [
    "Once completed, open the `my_conus_sector.png`  image to see what your sector will look like. <br />\n",
    "It should look like this:\n",
    "\n",
    "![My CONUS Sector](./images/my_conus_sector.png)\n",
    "\n",
    "**Note** -  You can describe the sector plugin you just \n",
    "created by running:  "
   ]
  },
  {
   "cell_type": "code",
   "execution_count": null,
   "id": "8b01c64e",
   "metadata": {
    "vscode": {
     "languageId": "shellscript"
    }
   },
   "outputs": [],
   "source": [
    "%%bash\n",
    "\n",
    "geoips describe sector my_conus_sector"
   ]
  },
  {
   "cell_type": "markdown",
   "id": "42e9b300",
   "metadata": {},
   "source": [
    "### Using Your Custom Static Sector\n",
    "\n",
    "To use `my_conus_sector.yaml` in your test script, simply replace `--sector_list conus` <br />\n",
    "with `--sector_list my_conus_sector`.\n",
    "\n",
    "Let's run a command that now uses your new sector plugin.\n"
   ]
  },
  {
   "cell_type": "markdown",
   "id": "c2d976f4",
   "metadata": {},
   "source": [
    "Let's run that script you just created and modified."
   ]
  },
  {
   "cell_type": "code",
   "execution_count": null,
   "id": "094fe1a1",
   "metadata": {
    "vscode": {
     "languageId": "shellscript"
    }
   },
   "outputs": [],
   "source": [
    "%%bash\n",
    "\n",
    "export CARTOPY_DATA_DIR=$HOME/cartopy\n",
    "\n",
    "geoips run single_source \\\n",
    "    $GEOIPS_TESTDATA_DIR/test_data_clavrx/data/goes16_2023101_1600/clavrx_OR_ABI-L1b-RadF-M6C01_G16_s20231011600207.level2.hdf \\\n",
    "  --reader_name clavrx_hdf4 \\\n",
    "  --product_name My-Cloud-Top-Height \\\n",
    "  --output_formatter imagery_annotated \\\n",
    "  --sector_list my_conus_sector"
   ]
  },
  {
   "cell_type": "markdown",
   "id": "b5b00f91",
   "metadata": {},
   "source": [
    "The result of executing that script should look like this:\n",
    "\n",
    "![CTH my conus sector](./images/my_conus_sector_cloud_top_height.png)"
   ]
  },
  {
   "cell_type": "markdown",
   "id": "16133fd9",
   "metadata": {},
   "source": [
    "## Hands on: Creating Custom Gridline/Feature Annotators "
   ]
  },
  {
   "cell_type": "markdown",
   "id": "d45e9248",
   "metadata": {},
   "source": [
    "### Defining gridline_annotators and feature_annotators \n",
    "\n",
    "**gridline_annotators:**\n",
    "- Describe the format of the grid lines shown in your imagery. Can control: \n",
    "- **Labels**, and which to display \n",
    "- **Lines**, such as their **color**, **linestyle**, and **linewidth** \n",
    "- **Spacing**, such as the distance between **latitude** and **longitude** labels, and \n",
    "  the grid lines that represent them. \n",
    "\n",
    "**feature_annotators:**\n",
    "- Describe the format of the features shown in your imagery. Can control: \n",
    "- **Coastlines**, **Borders**, **States**, and **Rivers**. All of these features have \n",
    "  the same parameters: \n",
    "  - Whether they are **enabled** \n",
    "  - The **color** of the feature \n",
    "  - The **linewidth** of the feature displayed "
   ]
  },
  {
   "cell_type": "markdown",
   "id": "16387b0f",
   "metadata": {},
   "source": [
    "### Example Gridline and Feature Annotators \n",
    "\n",
    "![Example gridline and feature annotators](./images/example_gridline_and_feature_annotators.png)\n",
    "\n",
    "You can describe the aforementioned plugins via:"
   ]
  },
  {
   "cell_type": "code",
   "execution_count": null,
   "id": "dcaa7930",
   "metadata": {
    "vscode": {
     "languageId": "shellscript"
    }
   },
   "outputs": [],
   "source": [
    "%%bash\n",
    "\n",
    "geoips describe feature-annotator default\n",
    "geoips describe gridline-annotator default"
   ]
  },
  {
   "cell_type": "markdown",
   "id": "b1ae2c74",
   "metadata": {},
   "source": [
    "### Creating a Custom gridline_annotator \n",
    "\n",
    "Let's begin by setting up a directory for your gridline annotators and copy over an \n",
    "existing plugin from GeoIPS."
   ]
  },
  {
   "cell_type": "code",
   "execution_count": null,
   "id": "ebd7076a",
   "metadata": {
    "vscode": {
     "languageId": "shellscript"
    }
   },
   "outputs": [],
   "source": [
    "%%bash\n",
    "\n",
    "# Make a gridline_annotators folder and change directories into it\n",
    "mkdir -pv $MY_PKG_DIR/$MY_PKG_NAME/plugins/yaml/gridline_annotators\n",
    "cd $MY_PKG_DIR/$MY_PKG_NAME/plugins/yaml/gridline_annotators\n",
    "\n",
    "# Copy a gridline_annotator file from GeoIPS\n",
    "geoips_path=\"$(pip show geoips | awk '/^Location: / {print $2 \"/geoips\"}')\"\n",
    "cp -v \"$geoips_path/plugins/yaml/gridline_annotators/default.yaml\" tutorial.yaml"
   ]
  },
  {
   "cell_type": "markdown",
   "id": "d9743cfc",
   "metadata": {},
   "source": [
    "### Breaking down a gridline_annotator\n",
    "\n",
    "The following image explains each component of a gridline_annotator plugin.\n",
    "\n",
    "![Gridline Annotator Explained](./images/gridline_annotator_explained.png)\n",
    "\n",
    "Now that you understand what a gridline_annotator plugin does, we'll modify the plugin we <br />\n",
    "copied over. \n",
    "\n",
    "Since we're running in a notebook, we'll automatically do this for you. However, please <br />\n",
    "take in the contents of `tutorial.yaml` with the YAML shown below.\n",
    "\n",
    "```yaml\n",
    "interface: gridline_annotators \n",
    "family: cartopy\n",
    "name: tutorial \n",
    "docstring: |\n",
    "  The tutorial gridline_annotators configuration.  \n",
    "  All gridline labels enabled, latitude and \n",
    "  Longitude lines colored mediumseagreen, 2.5 degree \n",
    "  spacing, 1px linewidth, and [5, 3] linestyle. \n",
    "spec:\n",
    "  labels:  \n",
    "    top: true\n",
    "    bottom: true\n",
    "    left: true\n",
    "    right: true\n",
    "  lines:  \n",
    "    color: mediumseagreen \n",
    "    linestyle: [5, 3]\n",
    "    linewidth: 1\n",
    "  spacing:  \n",
    "    latitude: 2.5\n",
    "    longitude: 2.5\n",
    "```"
   ]
  },
  {
   "cell_type": "code",
   "execution_count": null,
   "id": "bd5d05b1",
   "metadata": {},
   "outputs": [],
   "source": [
    "\"\"\"Update gridline_annotator - tutorial.yaml with the correct contents.\"\"\"\n",
    "\n",
    "import os\n",
    "\n",
    "with open(\"./updated_files/gridline_annotators/tutorial.yaml\", \"r\") as yaml_file:\n",
    "    updated_gridline_annotator = yaml.safe_load(yaml_file)\n",
    "\n",
    "with open(f\"{os.environ['MY_PKG_DIR']}/cool_plugins/plugins/yaml/gridline_annotators/tutorial.yaml\", \"w\") as f:\n",
    "    yaml.safe_dump(updated_gridline_annotator, f, default_flow_style=False, sort_keys=False)"
   ]
  },
  {
   "cell_type": "markdown",
   "id": "db54de39",
   "metadata": {},
   "source": [
    "### Creating custom feature_annotator \n",
    "\n",
    "Now that we've created a custom gridline_annotator plugin, let's do the same for a <br />\n",
    "feature_annotator plugin."
   ]
  },
  {
   "cell_type": "code",
   "execution_count": null,
   "id": "850ad36e",
   "metadata": {
    "vscode": {
     "languageId": "shellscript"
    }
   },
   "outputs": [],
   "source": [
    "%%bash\n",
    "\n",
    "# Make a feature_annotators folder and change directories into it\n",
    "mkdir -pv $MY_PKG_DIR/$MY_PKG_NAME/plugins/yaml/feature_annotators\n",
    "cd $MY_PKG_DIR/$MY_PKG_NAME/plugins/yaml/feature_annotators\n",
    "\n",
    "# Copy a feature_annotator file from GeoIPS\n",
    "geoips_path=\"$(pip show geoips | awk '/^Location: / {print $2 \"/geoips\"}')\"\n",
    "cp -v \"$geoips_path/plugins/yaml/feature_annotators/default.yaml\" tutorial.yaml"
   ]
  },
  {
   "cell_type": "markdown",
   "id": "31301fff",
   "metadata": {},
   "source": [
    "### Breaking down a feature_annotator\n",
    "\n",
    "The following image explains how a feature is set up in a feature_annotator plugin.\n",
    "\n",
    "You'll notice that a feature can either be disabled, and if not, you must define its <br /> \n",
    "color and linewidth.\n",
    "\n",
    "![Feature Annotator Explained](./images/feature_annotator_explained.png)\n",
    "\n",
    "Now that you understand what a feature_annotator plugin does, we'll modify the plugin we <br />\n",
    "copied over. \n",
    "\n",
    "Since we're running in a notebook, we'll automatically do this for you. However, please <br />\n",
    "take in the contents of `tutorial.yaml` with the YAML shown below.\n",
    "\n",
    "\n",
    "```yaml\n",
    "interface: feature_annotators\n",
    "family: cartopy\n",
    "name: tutorial \n",
    "docstring: |\n",
    "  The tutorial feature annotators configuration.  \n",
    "  All line types enabled. All colored  \n",
    "  [midnightblue, red, yellow, cyan]. 2px coastlines, \n",
    "  2px borders, 2px states, 1px rivers .\n",
    "spec:\n",
    "  coastline:  \n",
    "    enabled: true\n",
    "    edgecolor : midnightblue \n",
    "    linewidth : 2\n",
    "  borders:  \n",
    "    enabled: true\n",
    "    edgecolor: red\n",
    "    linewidth: 2\n",
    "  states:  \n",
    "    enabled: true\n",
    "    edgecolor: darkslategray \n",
    "    linewidth: 2\n",
    "  rivers:  \n",
    "    enabled: true\n",
    "    edgecolor: cyan\n",
    "    linewidth: 1\n",
    "```"
   ]
  },
  {
   "cell_type": "code",
   "execution_count": null,
   "id": "b1de2a22",
   "metadata": {},
   "outputs": [],
   "source": [
    "\"\"\"Update feature_annotators - tutorial.yaml with the correct contents.\"\"\"\n",
    "\n",
    "import os\n",
    "\n",
    "with open(\"./updated_files/feature_annotators/tutorial.yaml\", \"r\") as yaml_file:\n",
    "    updated_feature_annotator = yaml.safe_load(yaml_file)\n",
    "\n",
    "with open(f\"{os.environ['MY_PKG_DIR']}/cool_plugins/plugins/yaml/feature_annotators/tutorial.yaml\", \"w\") as f:\n",
    "    yaml.safe_dump(updated_feature_annotator, f, default_flow_style=False, sort_keys=False)"
   ]
  },
  {
   "cell_type": "markdown",
   "id": "24ac66b2",
   "metadata": {},
   "source": [
    "### Using Your Custom Annotators\n",
    "\n",
    "To add the effects of these plugins to your final output, simply add the following lines <br /> \n",
    "to your command that uses the `\"imagery_annotated”` output formatter."
   ]
  },
  {
   "cell_type": "markdown",
   "id": "56671642",
   "metadata": {},
   "source": [
    "```bash\n",
    "--feature_annotator tutorial \\\n",
    "--gridline_annotator tutorial \\\n",
    "```\n",
    "\n",
    "Once you've added those, you can run the script via:"
   ]
  },
  {
   "cell_type": "code",
   "execution_count": null,
   "id": "8a592543",
   "metadata": {
    "vscode": {
     "languageId": "shellscript"
    }
   },
   "outputs": [],
   "source": [
    "%%bash\n",
    "\n",
    "export CARTOPY_DATA_DIR=$HOME/cartopy\n",
    "\n",
    "# build the new plugin registries\n",
    "geoips config create-registries\n",
    "\n",
    "geoips run single_source $GEOIPS_TESTDATA_DIR/test_data_clavrx/data/goes16_2023101_1600/clavrx_OR_ABI-L1b-RadF-M6C01_G16_s20231011600207.level2.hdf \\\n",
    "  --reader_name clavrx_hdf4 \\\n",
    "  --product_name My-Cloud-Depth \\\n",
    "  --output_formatter imagery_annotated \\\n",
    "  --feature_annotator tutorial \\\n",
    "  --gridline_annotator tutorial \\\n",
    "  --sector_list conus"
   ]
  },
  {
   "cell_type": "markdown",
   "id": "41e3ea20",
   "metadata": {},
   "source": [
    "If you copied the YAML for the gridline and feature -annotators verbatim, the result of <br />\n",
    "that script should look like this:\n",
    "\n",
    "![Feature / Gridline annotator image](./images/feature_gridline_annotator.png)"
   ]
  },
  {
   "cell_type": "markdown",
   "id": "1744c638",
   "metadata": {},
   "source": [
    "## Colorbars and Colormaps Background and Introduction \n"
   ]
  },
  {
   "cell_type": "markdown",
   "id": "85ab7170",
   "metadata": {},
   "source": [
    "### Using a Matplotlib Colormap \n",
    "\n",
    "Matplotlib has many predefined colormaps.\n",
    "\n",
    "The `matplotlib_linear_norm` colormapper plugin is capable of using these predefined <br />\n",
    "colormaps - simply provide the name of the colormap in the `“cmap_name”` argument when <br />\n",
    "you define your product plugin.\n",
    "\n",
    "For now `matplotlib_linear_norm` is the only plugin that can directly use named <br />\n",
    "colormaps (which explicitly normalizes the colors using matplotlib’s `“Normalize”` <br />\n",
    "function), though others may be added in the future with additional methods of <br />\n",
    "manipulating the color scales.\n",
    "\n",
    "The image below displays a sample product plugin using matplotlib built-in colormap.\n",
    "\n",
    "![Product using matplotlib_linear_norm](./images/product_using_mpl_linear_norm.png)"
   ]
  },
  {
   "cell_type": "markdown",
   "id": "4a4a6940",
   "metadata": {},
   "source": [
    "### Using an ASCII Colormap \n",
    "\n",
    "The `matplotlib_linear_norm` plugin can also leverage `ASCII` colormap files installed <br />\n",
    "within GeoIPS, installed within a plugin package, or stored in an arbitrary location on disk. \n",
    "\n",
    "To use an ascii colormap, specify:\n",
    "  - `cmap_source: ascii` \n",
    "  - `cmap_name: <cmap_name>`\n",
    "\n",
    "  \n",
    "Installed ASCII colormaps are stored within a plugin package under `plugins/txt/ascii_palettes/`.\n",
    "  - The filename must be of the form `<cmap_name>.txt` (this is how geoips finds the given <br />\n",
    "    `cmap_name`)\n",
    "  - The colors are defined as RGB triplets ranging from 0 to 256 and should be formatted <br /> \n",
    "    as three columns of 256 integers. \n",
    "  - Commented lines are allowed (prefaced by “#”), to provide additional context relating <br />\n",
    "    to the physical meaning of the colormap (ie, min and max expected values/units, <br />\n",
    "    transition points, etc) \n",
    "  - For an example, see the [tpw_purple](https://github.com/NRLMMD-GEOIPS/geoips/blob/710b58ae82f479168e7da49dfccd8650730478d8/geoips/plugins/txt/ascii_palettes/tpw_purple.txt) colormap in the geoips package. \n",
    "\n",
    "If you would like to specify an arbitrary full path on disk rather than installing your <br />\n",
    "ascii palette within your  plugin package, additionally specify cmap_path . This is most <br />\n",
    "useful for research, development, and testing purposes. \n",
    "  - `cmap_path: <full_path>/<any_name>.txt`\n",
    "\n",
    "`matplotlib_linear_norm` provides a number of options that can be used to customize how <br />\n",
    "the colormap is used and how the colorbar is drawn. \n",
    "\n",
    "The following image displays a sample product using ascii palette -based colormap.\n",
    "\n",
    "![Product using ascii colormap](./images/product_using_ascii_colormap.png)"
   ]
  },
  {
   "cell_type": "markdown",
   "id": "a6a867dd",
   "metadata": {},
   "source": [
    "### Using a custom GeoIPS Python-based colormapper\n",
    "\n",
    "Color information can also be specified via a python-based GeoIPS `“colormapper”` plugin, <br />\n",
    "allowing customization using specific matplotlib commands and utilities. <br />\n",
    "This is the most flexible method.\n",
    "\n",
    "The following images walk you through each part of a colormapper plugin.\n",
    "\n",
    "![Colormapper top level](./images/colormapper_top_level.png)\n",
    "\n",
    "![Colormapper inside call function](./images/colormapper_inside_call_function.png)\n",
    "\n",
    "The `“mpl_colors_info”` return dictionary is what GeoIPS uses within the matplotlib-based <br />\n",
    "utilities and output formatters in order to ensure consistent application of colors, in <br />\n",
    "both the imagery and the colorbars. \n",
    "\n",
    "Coming up, we'll walk you through creating both GeoIPS Python-based colormapper, as well <br />\n",
    "as ASCII-palette based matplotlib_linear_norm products.\n",
    "\n",
    "![Colormapper mpl_colors_info](./images/mpl_colors_info.png)"
   ]
  },
  {
   "cell_type": "markdown",
   "id": "3db892de",
   "metadata": {},
   "source": [
    "## Hands on: Creating your own custom Python-based colormapper \n",
    "\n",
    "Let's begin by creating a directory to hold our colormappers and copying over an existing <br />\n",
    "colormapper from GeoIPS."
   ]
  },
  {
   "cell_type": "code",
   "execution_count": null,
   "id": "0bacabcb",
   "metadata": {
    "vscode": {
     "languageId": "shellscript"
    }
   },
   "outputs": [],
   "source": [
    "%%bash\n",
    "\n",
    "# Make a colormappers folder and change directories into it\n",
    "mkdir -pv $MY_PKG_DIR/$MY_PKG_NAME/plugins/modules/colormappers\n",
    "cd $MY_PKG_DIR/$MY_PKG_NAME/plugins/modules/colormappers\n",
    "\n",
    "# Create an __init__.py file\n",
    "touch __init__.py\n",
    "\n",
    "# Copy a colormapper file from GeoIPS\n",
    "geoips_path=\"$(pip show geoips_clavrx | awk '/^Location: / {print $2 \"/geoips_clavrx\"}')\"\n",
    "cp -v \"$geoips_path/plugins/modules/colormappers/cmap_cldHeight.py\" colorful_cloud_height.py"
   ]
  },
  {
   "cell_type": "markdown",
   "id": "d252f2f9",
   "metadata": {},
   "source": [
    "Now, lets update the file we copied over with new content. We'll replace the upper <br />\n",
    "portions of `colorful_cloud_height.py` with the following python code.\n",
    "\n",
    "Note: Since we're using a notebook, this will be done for you in the following code block.\n",
    "\n",
    "```python\n",
    "\"\"\"Module containing colormap for colorful cloud height product.\"\"\" \n",
    "\n",
    "import logging\n",
    "\n",
    "LOG = logging.getLogger(__name__) \n",
    "\n",
    "interface = \"colormappers\" \n",
    "family = \"matplotlib\" \n",
    "name = \"colorful_cloud_height\" \n",
    "\n",
    "\n",
    "def call(data_range=[ 0, 20]):\n",
    "    \"\"\"Colorful cloud height colormap.\"\"\"\n",
    "```\n",
    "\n",
    "Once that's complete, let's update the contents of the `call()` function to change the <br />\n",
    "colormap we'll produce. Feel free to choose different colors if you'ld like.\n",
    "\n",
    "In this case, we only modify the colors, but you just as easily could modify the transition <br />\n",
    "values as well. These are all just direct matplotlib/python commands creating the desired <br />\n",
    "color information.\n",
    "\n",
    "```python\n",
    "    transition_vals = [\n",
    "        (min_val, 1),\n",
    "        (1, 2),\n",
    "        (2, 3),\n",
    "        (3, 4),\n",
    "        (4, 6),\n",
    "        (6, 8),\n",
    "        (8, 10),\n",
    "        (10, 15),\n",
    "        (15, max_val),\n",
    "    ]\n",
    "    transition_colors = [\n",
    "        (\"pink\", \"red\"),\n",
    "        (\"paleturquoise\", \"teal\"),\n",
    "        (\"plum\", \"rebeccapurple\"),\n",
    "        (\"yellow\", \"chartreuse\"),\n",
    "        (\"limegreen\", \"darkgreen\"),\n",
    "        (\"wheat\", \"darkorange\"),\n",
    "        (\"darkgray\", \"black\"),\n",
    "        (\"lightgray\", \"silver\"),\n",
    "        (\"lightskyblue\", \"deepskyblue\"),\n",
    "    ]\n",
    "```"
   ]
  },
  {
   "cell_type": "code",
   "execution_count": null,
   "id": "de4b3544",
   "metadata": {},
   "outputs": [],
   "source": [
    "\"\"\"Replace the contents of colorful_cloud_height.py with the correct colormapper information.\"\"\"\n",
    "\n",
    "import os\n",
    "\n",
    "with open(\"./updated_files/colorful_cloud_height.py\", \"r\") as rf:\n",
    "    python_lines = rf.readlines()\n",
    "\n",
    "with open(f\"{os.environ['MY_PKG_DIR']}/cool_plugins/plugins/modules/colormappers/colorful_cloud_height.py\", \"w\") as wf:\n",
    "    wf.writelines(python_lines)"
   ]
  },
  {
   "cell_type": "markdown",
   "id": "fac3f314",
   "metadata": {},
   "source": [
    "## Hands on: Using your new python-based colormapper in a new product"
   ]
  },
  {
   "cell_type": "markdown",
   "id": "37c09079",
   "metadata": {},
   "source": [
    "### Add custom colormapper to new product. \n",
    "\n",
    "Let's begin by creating a new `Cloud-Base-Python-Colors` product, using `Cloud-Height` <br />\n",
    "as the product_defaults.\n",
    "\n",
    "We'll do this automatically in the next code cell.\n",
    "\n",
    "Normally, you'd just add the following product entry to your `my_clavrx_products.yaml` <br />\n",
    "file. Note that it makes use of the colormapper we just put together!\n",
    "\n",
    "```yaml\n",
    "    - name: Cloud-Base-Python-Colors\n",
    "      source_names:  [clavrx] \n",
    "      docstring:  |\n",
    "        CLAVR-x Colorful Cloud Base Height, \n",
    "        Using a python-based custom colormapper. \n",
    "      product_defaults:  Cloud-Height \n",
    "      spec:\n",
    "        variables:  [\"cld_height_base\", \"latitude\", \"longitude\"] \n",
    "        colormapper: \n",
    "          plugin: \n",
    "            name: colorful_cloud_height \n",
    "            arguments: {}\n",
    "```"
   ]
  },
  {
   "cell_type": "code",
   "execution_count": null,
   "id": "98132cf1",
   "metadata": {},
   "outputs": [],
   "source": [
    "\"\"\"Add My-Cloud-Depth to the contents of my_clavrx_products.yaml.\"\"\"\n",
    "\n",
    "import os\n",
    "\n",
    "import yaml\n",
    "\n",
    "with open(\"./updated_files/my_clavrx_products.yaml\", \"r\") as yaml_file:\n",
    "    updated_products = yaml.safe_load(yaml_file)\n",
    "\n",
    "my_cloud_top_height = updated_products[\"spec\"][\"products\"][0]\n",
    "my_cloud_base_height = updated_products[\"spec\"][\"products\"][1]\n",
    "my_cloud_depth = updated_products[\"spec\"][\"products\"][2]\n",
    "cloud_base_python_colors = updated_products[\"spec\"][\"products\"][3]\n",
    "\n",
    "updated_products[\"spec\"][\"products\"] = [\n",
    "    my_cloud_top_height,\n",
    "    my_cloud_base_height,\n",
    "    my_cloud_depth,\n",
    "    cloud_base_python_colors,\n",
    "]\n",
    "\n",
    "print(updated_products)\n",
    "\n",
    "with open(f\"{os.environ['MY_PKG_DIR']}/cool_plugins/plugins/yaml/products/my_clavrx_products.yaml\", \"w\") as f:\n",
    "    yaml.safe_dump(updated_products, f, default_flow_style=False, sort_keys=False)"
   ]
  },
  {
   "cell_type": "markdown",
   "id": "0a4abb6c",
   "metadata": {},
   "source": [
    "Let's modify the following line of our previous product command with the following.\n",
    "\n",
    "```bash\n",
    "--product_name My-Cloud-Top-Height \\\n",
    "```\n",
    "\n",
    "with\n",
    "\n",
    "```bash\n",
    "--product_name Cloud-Base-Python-Colors \\\n",
    "```\n",
    "\n",
    "Now, you can produce your new product which uses the colormapper we created!"
   ]
  },
  {
   "cell_type": "code",
   "execution_count": null,
   "id": "58e3e807",
   "metadata": {
    "vscode": {
     "languageId": "shellscript"
    }
   },
   "outputs": [],
   "source": [
    "%%bash\n",
    "\n",
    "export CARTOPY_DATA_DIR=$HOME/cartopy\n",
    "\n",
    "# rebuild your registry files\n",
    "geoips config create-registries\n",
    "geoips run single_source $GEOIPS_TESTDATA_DIR/test_data_clavrx/data/goes16_2023101_1600/clavrx_OR_ABI-L1b-RadF-M6C01_G16_s20231011600207.level2.hdf \\\n",
    "  --reader_name clavrx_hdf4 \\\n",
    "  --product_name Cloud-Base-Python-Colors \\\n",
    "  --output_formatter imagery_annotated \\\n",
    "  --sector_list conus"
   ]
  },
  {
   "cell_type": "markdown",
   "id": "76ded29f",
   "metadata": {},
   "source": [
    "You should get the following image from that script:\n",
    "\n",
    "![Colorful Cloud Height](./images/colorful_cloud_height.png)"
   ]
  },
  {
   "cell_type": "code",
   "execution_count": null,
   "id": "54e6cf6f-7efe-4add-9602-8b81d16eea09",
   "metadata": {},
   "outputs": [],
   "source": []
  }
 ],
 "metadata": {
  "kernelspec": {
   "display_name": "Python 3 (ipykernel)",
   "language": "python",
   "name": "python3"
  },
  "language_info": {
   "codemirror_mode": {
    "name": "ipython",
    "version": 3
   },
   "file_extension": ".py",
   "mimetype": "text/x-python",
   "name": "python",
   "nbconvert_exporter": "python",
   "pygments_lexer": "ipython3",
   "version": "3.9.21"
  }
 },
 "nbformat": 4,
 "nbformat_minor": 5
}
