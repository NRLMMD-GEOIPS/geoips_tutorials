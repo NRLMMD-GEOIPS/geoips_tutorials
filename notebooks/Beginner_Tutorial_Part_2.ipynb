{
 "cells": [
  {
   "cell_type": "markdown",
   "id": "34c121a5",
   "metadata": {},
   "source": [
    "## Beginner GeoIPS Tutorial \n",
    "\n",
    "Adding Sectors, Feature and Gridline Annotators, Colormappers, and Output Formatters.\n",
    "\n",
    "\n",
    "Link to these slides can be found [here](https://github.com/NRLMMD-GEOIPS/presentations)"
   ]
  },
  {
   "cell_type": "markdown",
   "id": "4f3c4536",
   "metadata": {},
   "source": [
    "### To get the most out of this tutorial...\n",
    "\n",
    "[Solutions](https://github.com/NRLMMD-GEOIPS/plugin_tutorial_solutions/tree/main)\n",
    "\n",
    "Please keep the tutorial solutions up throughout this tutorial\n",
    "\n",
    "[Beginner Tutorial Part 2 Slides](https://docs.google.com/presentation/d/1tkdRUFjZh_AdA98G1jIjaEjXn_HjYQD3PcweVmTUmTo/edit?slide=id.g2e736e3f9ff_3_94#slide=id.g2e736e3f9ff_3_94)\n",
    "\n",
    "Also please keep these slides up to copy/paste from here as needed. \n"
   ]
  },
  {
   "cell_type": "markdown",
   "id": "3c92131f",
   "metadata": {},
   "source": [
    "## System requirements\n",
    "\n",
    "- **CPU:** 1 CPU\n",
    "- **RAM:** 40GB as the notebook is written, but could use more if modified.\n",
    "  Reading the entire full-disk ABI image can take up to 100GB.\n",
    "- **Disk Space:** 3GB storage space.\n",
    "\n",
    "***To see the default storage location for your system, run the cell below.***\n",
    "To change the default location, change the value of `tmp_root` in the following cell."
   ]
  },
  {
   "cell_type": "code",
   "execution_count": null,
   "id": "96d26040",
   "metadata": {},
   "outputs": [],
   "source": [
    "import tempfile\n",
    "from pathlib import Path\n",
    "\n",
    "# Set this to a different path if you would like to use a different location\n",
    "# `tempfile.gettempdir()` returns a different location on different OS.\n",
    "\n",
    "# tmp_root = \"/use/this/path/instead\"\n",
    "tmp_root = Path(tempfile.gettempdir()) / \"geoips_tutorial_tempdirs\"\n",
    "\n",
    "print(f\"Notebook temporary storage path: {tmp_root}\")"
   ]
  },
  {
   "cell_type": "markdown",
   "id": "eb0f5839",
   "metadata": {},
   "source": [
    "## Important notes\n",
    "This notebook downloads approximately 2GB of data and produces another 1GB. It\n",
    "is stored in the location reported by running the next cell.\n",
    "\n",
    "This notebook makes an attempt at cleaning up after itself, but it is\n",
    "recommended that, when done using this notebook, you check to be sure that the\n",
    "directory reported by the next cell has been deleted.\n",
    "\n",
    "## Setting up your Environment\n",
    "\n",
    "**If you don't have an environment already set up, please follow the steps 2 and 3 of the instructions linked [here](https://nrlmmd-geoips.github.io/geoips/getting-started/installing/index.html) based on the architecture of your machine.**\n",
    "\n",
    "You can quit following the instructions after you've activated your geoips environment via <br />\n",
    "``conda activate geoips``.\n",
    "\n",
    "Run the cell below to set up your environment. This will initialize a session-specific <br />\n",
    "storage directory, add it to the global notebook environment, and add a hook that attempts <br />\n",
    "to clean up the temporary storage when the notebook is closed.\n",
    "\n",
    "❗\n",
    "***Important:*** While this notebook makes an effort to clean up after itself, if you <br />\n",
    "are running this notebook on your own system, ***it is advisable tomanually delete the <br />\n",
    "temporary directory reported above when you are done using the notebook.***"
   ]
  },
  {
   "cell_type": "code",
   "execution_count": null,
   "id": "f09f3b65",
   "metadata": {},
   "outputs": [],
   "source": [
    "import dotenv\n",
    "from IPython import get_ipython\n",
    "import os\n",
    "\n",
    "from utils import notebook_environment\n",
    "\n",
    "# Sets up the environment and sets a global variable named `temp_dir`\n",
    "notebook_environment.setup(tmp_root)\n",
    "\n",
    "with open(\"./.env\", \"w\") as env_file:\n",
    "    env_file.writelines(\n",
    "        [\n",
    "            f\"GEOIPS_TESTDATA_DIR={get_ipython().user_ns['temp_dir']}/test_data\\n\",\n",
    "            f\"GEOIPS_OUTDIRS={get_ipython().user_ns['temp_dir']}/outdirs\\n\",\n",
    "            f\"GEOIPS_PACKAGES_DIR={get_ipython().user_ns['temp_dir']}\\n\",\n",
    "            f\"GEOIPS_REBUILD_REGISTRIES=True\",\n",
    "            f\"MY_PKG_DIR={get_ipython().user_ns['temp_dir']}/cool_plugins\\n\",\n",
    "            \"MY_PKG_NAME=cool_plugins\"\n",
    "        ],\n",
    "    )\n",
    "\n",
    "dotenv.load_dotenv(\"./.env\", override=True)\n",
    "\n",
    "if not os.path.exists(os.environ[\"GEOIPS_TESTDATA_DIR\"]):\n",
    "    os.makedirs(os.environ[\"GEOIPS_TESTDATA_DIR\"])\n",
    "if not os.path.exists(os.environ[\"GEOIPS_OUTDIRS\"]):\n",
    "    os.makedirs(os.environ[\"GEOIPS_OUTDIRS\"])\n"
   ]
  },
  {
   "cell_type": "markdown",
   "id": "5a3cb77a",
   "metadata": {},
   "source": [
    "### Tutorial Contents\n",
    "\n",
    "We're going to show you how to extend GeoIPS by adding new plugins for five new interfaces. \n",
    "\n",
    "We will add:  \n",
    "- One new sector \n",
    "- One new feature_annotator , one new gridline_annotator \n",
    "- Three new colormappers \n",
    "- One new output_formatter\n",
    "\n",
    "We will also show you how to: \n",
    "- Produce a NetCDF4 file using your algorithm output \n",
    "- Read your custom NetCDF4 file back in, and produce imagery from it "
   ]
  },
  {
   "cell_type": "markdown",
   "id": "ae9c4357",
   "metadata": {},
   "source": [
    "### Hands on: Outputting your new product as NetCDF \n",
    "\n",
    "1. Copy the Cloud Depth Imagery script to a new file \n",
    "    - **Note:** the reason to keep making new scripts rather than editing in place is that \n",
    "      you can use all of these later as regression tests for your package! \n",
    "2. Edit `clavrx.conus_netcdf.my-cloud-depth-netcdf.sh`"
   ]
  },
  {
   "cell_type": "markdown",
   "id": "35542daa",
   "metadata": {},
   "source": [
    "Update `clavrx.conus_netcdf.my-cloud-depth-netcdf.sh` with the following (we updated \n",
    "what output_formatter and file_formatter we use):\n",
    "\n",
    "```bash\n",
    "#!/bin/bash\n",
    "\n",
    "geoips run single_source \\\n",
    "   $GEOIPS_TESTDATA_DIR/test_data_clavrx/data/goes16_2023101_1600/clavrx_OR_ABI-L1b-RadF-M6C01_G16_s20231011600207.level2.hdf \\\n",
    "   --reader_name clavrx_hdf4 \\\n",
    "   --product_name My-Cloud-Depth \\\n",
    "   --output_formatter netcdf_geoips \\\n",
    "   --filename_formatter geoips_netcdf_fname \\\n",
    "   --minimum_coverage 0 \\\n",
    "   --sector_list conus\n",
    "ss_retval=$?\n",
    "\n",
    "exit $((ss_retval))\n",
    "```"
   ]
  },
  {
   "cell_type": "markdown",
   "id": "a1ea5f46",
   "metadata": {},
   "source": [
    "### Running Your Script \n",
    "\n",
    "Activate the code block below to run your modified script."
   ]
  },
  {
   "cell_type": "code",
   "execution_count": null,
   "id": "2345d8b5",
   "metadata": {
    "vscode": {
     "languageId": "shellscript"
    }
   },
   "outputs": [],
   "source": [
    "%%bash\n",
    "\n",
    "cd $MY_PKG_DIR/tests/scripts\n",
    "$MY_PKG_DIR/tests/scripts/clavrx.conus_netcdf.my-cloud-depth.netcdf.sh"
   ]
  },
  {
   "cell_type": "markdown",
   "id": "d088a495",
   "metadata": {},
   "source": [
    "This will output a bunch of log output.\n",
    "\n",
    "If your script succeeded it will end with `INTERACTIVE: Return Value 0`.\n",
    "\n",
    "To view your output, look for a line that says `SINGLESOURCESUCCESS`.\n",
    "\n",
    "Open the NetCDF file to view its contents (e.g. with Panoply; shown below)\n",
    "\n",
    "![My Cloud Depth NetCDF Output](./images/panoply-netcdf-output.png)\n",
    "\n",
    "**Note** - For more information on the output_formatter \n",
    "you just used, run:  "
   ]
  },
  {
   "cell_type": "code",
   "execution_count": null,
   "id": "459fbc8e",
   "metadata": {
    "vscode": {
     "languageId": "shellscript"
    }
   },
   "outputs": [],
   "source": [
    "%%bash\n",
    "\n",
    "geoips describe output-formatter netcdf_geoips"
   ]
  },
  {
   "cell_type": "markdown",
   "id": "60953f5a",
   "metadata": {},
   "source": [
    "### A Word About Sectors\n",
    "\n",
    "Sectors are YAML plugins that define an area of interest for plotting in GeoIPS.\n",
    "\n",
    "**Two types:** \n",
    "- **static**: static sector of a specific area \n",
    "- **dynamic**: sectors that are generated at run-time to follow an event (e.g. \n",
    "  tropical cyclone, atmospheric river, pyro-Cb, etc.) \n",
    "\n",
    "For this tutorial, we will be creating a **static**  sector. \n",
    "\n",
    "**Static Sector Properties:** \n",
    "- **Metadata**: Contains information related to the origin of the sector. This includes \n",
    "  continent, country, state, etc.\n",
    "- **Projection**: Proj projection information \n",
    "  - **a**: The radius of the earth (in meters) \n",
    "  - **lat_0**: Center latitude coordinate \n",
    "  - **lon_0**: Center longitude coordinate \n",
    "  - **proj**: String representing projection type \n",
    "  - **units**: String representing units of the \n",
    "    projection \n",
    "- **Resolution**: The size of each pixel in meters \n",
    "- **Shape**: Image shape in pixels (width + height) \n",
    "- **Center**: The center x/y coordinates of the sector "
   ]
  },
  {
   "cell_type": "markdown",
   "id": "3321cbbe",
   "metadata": {},
   "source": [
    "### Example Sectors\n",
    "\n",
    "![Example Sectors](./images/example_sectors.png)\n",
    "\n",
    "You can run the following commands to get more information about each of the sectors \n",
    "shown here by running:"
   ]
  },
  {
   "cell_type": "code",
   "execution_count": null,
   "id": "1969cdc0",
   "metadata": {
    "vscode": {
     "languageId": "shellscript"
    }
   },
   "outputs": [],
   "source": [
    "%%bash\n",
    "\n",
    "geoips describe sector australia\n",
    "geoips describe sector central_america\n",
    "geoips describe sector south_pole"
   ]
  },
  {
   "cell_type": "markdown",
   "id": "5172e7b5",
   "metadata": {},
   "source": [
    "### Generating Static Sector Properties \n",
    "\n",
    "To generate the properties necessary to create a static sector, you must first define \n",
    "the area you want to display (captured by the appropriate satellite), based on center \n",
    "latitude and longitude bounds. \n",
    "\n",
    "The easiest way to do this is to open a [Google Maps](https://www.google.com/maps/) tab, \n",
    "then right click the center of your sector to obtain the center latitude and longitude \n",
    "values. \n",
    "\n",
    "Once you have those center latitude and longitude values, you’re ready to create \n",
    "your custom sector. \n",
    "\n",
    "The next slide will display the changes you will need to make to \n",
    "create a custom conus sector plugin. \n",
    "\n",
    "![Google Maps CONUS](./images/google_maps_conus.png)\n",
    "\n",
    "**Note** - For listing of sector plugins, run: "
   ]
  },
  {
   "cell_type": "code",
   "execution_count": null,
   "id": "3128657b",
   "metadata": {
    "vscode": {
     "languageId": "shellscript"
    }
   },
   "outputs": [],
   "source": [
    "%%bash\n",
    "\n",
    "geoips list sectors"
   ]
  },
  {
   "cell_type": "markdown",
   "id": "153c17eb",
   "metadata": {},
   "source": [
    "### Hands on: Creating Custom Sectors \n",
    "\n",
    "Let's start by copying a sector file to edit"
   ]
  },
  {
   "cell_type": "code",
   "execution_count": null,
   "id": "699d49d5",
   "metadata": {
    "vscode": {
     "languageId": "shellscript"
    }
   },
   "outputs": [],
   "source": [
    "%%bash\n",
    "\n",
    "# Make a sectors folder and change directories into it\n",
    "mkdir -pv $MY_PKG_DIR/$MY_PKG_NAME/plugins/yaml/sectors/static\n",
    "cd $MY_PKG_DIR/$MY_PKG_NAME/plugins/yaml/sectors/static\n",
    "\n",
    "# Copy a sector file from GeoIPS\n",
    "geoips_path=\"$(pip show geoips | awk '/^Location: / {print $2 \"/geoips\"}')\"\n",
    "cp \"$geoips_path/plugins/yaml/sectors/static/australia.yaml\" my_conus_sector.yaml"
   ]
  },
  {
   "cell_type": "markdown",
   "id": "be932cd7",
   "metadata": {},
   "source": [
    "### Generating Static Sector Properties \n",
    "\n",
    "Update the contents of `my_conus_sector.yaml` with the following. \n",
    "\n",
    "You'll notice that the metadata remains untouched, however it's important to note that <br />\n",
    "this section is very helpful for displaying additional information about the sector, not <br />\n",
    "only for the backend of GeoIPS, but also for people using this sector plugin.\n",
    "```yaml\n",
    "interface: sectors\n",
    "family: area_definition_static \n",
    "name: my_conus_sector \n",
    "docstring: \"My CONUS Sector\" \n",
    "metadata: \n",
    "  region: \n",
    "    continent: NorthAmerica \n",
    "    country: UnitedStates \n",
    "    area: x\n",
    "    subarea: x\n",
    "    state: x\n",
    "    city: x\n",
    "spec:\n",
    "  area_id: my_conus_sector \n",
    "  description: CONUS\n",
    "  projection: \n",
    "    a: 6371228.0 \n",
    "    lat_0: 37.0\n",
    "    lon_0: -96.0\n",
    "    proj: eqc\n",
    "    units: m\n",
    "  resolution: \n",
    "    - 3000\n",
    "    - 3000\n",
    "  shape: \n",
    "    height: 1000\n",
    "    width: 2200\n",
    "  center: [0, 0]\n",
    "```\n"
   ]
  },
  {
   "cell_type": "markdown",
   "id": "e8b7f66b",
   "metadata": {},
   "source": [
    "### Testing Your Custom Static Sector \n",
    "\n",
    "The commands you ran in the previous slide create a custom conus sector. <br />\n",
    "`my_conus_sector.yaml` will be an  example plugin, showing you that you can create sectors <br />\n",
    "just like `conus.yaml`, to your own specifications. \n",
    "\n",
    "To quickly check whether or not you like the shape and resolution of your custom sector, <br />\n",
    "you can use the command line function create_sector_image . This will plot and save <br />\n",
    "images containing the borders and coastlines of the inputted sectors. For example, to test <br />\n",
    "your custom sector, run the following: "
   ]
  },
  {
   "cell_type": "code",
   "execution_count": null,
   "id": "f613f2dd",
   "metadata": {
    "vscode": {
     "languageId": "shellscript"
    }
   },
   "outputs": [],
   "source": [
    "%%bash\n",
    "\n",
    "geoips test sector my_conus_sector"
   ]
  },
  {
   "cell_type": "markdown",
   "id": "66dfaecd",
   "metadata": {},
   "source": [
    "Once completed, open the `my_conus_sector.png`  image to see what your sector will look like. <br />\n",
    "It should look like this:\n",
    "\n",
    "![My CONUS Sector](./images/my_conus_sector.png)\n",
    "\n",
    "**Note** -  You can describe the sector plugin you just \n",
    "created by running:  "
   ]
  },
  {
   "cell_type": "code",
   "execution_count": null,
   "id": "8b01c64e",
   "metadata": {
    "vscode": {
     "languageId": "shellscript"
    }
   },
   "outputs": [],
   "source": [
    "%%bash\n",
    "\n",
    "geoips describe sector my_conus_sector"
   ]
  },
  {
   "cell_type": "markdown",
   "id": "42e9b300",
   "metadata": {},
   "source": [
    "### Using Your Custom Static Sector\n",
    "\n",
    "To use `my_conus_sector.yaml` in your test script, simply replace `--sector_list conus` <br />\n",
    "with `--sector_list my_conus_sector` . This change means that <br />\n",
    "`clavrx.conus_annotated.my-cloud-top-height.sh` will use the sector you just created, <br />\n",
    "rather than the GeoIPS conus sector we’ve been using previously. \n",
    "\n",
    "You'll now create a new `clavrx.my_conus_sector.my-cloud-top-height.sh` to use new <br />\n",
    "my_conus_sector sector plugin. \n"
   ]
  },
  {
   "cell_type": "code",
   "execution_count": null,
   "id": "b126bf51",
   "metadata": {
    "vscode": {
     "languageId": "shellscript"
    }
   },
   "outputs": [],
   "source": [
    "%%bash\n",
    "\n",
    "cd $MY_PKG_DIR/tests/scripts\n",
    "cp clavrx.conus_annotated.my-cloud-top-height.sh clavrx.my_conus_sector.my-cloud-top-height.sh\n",
    "vim clavrx.my_conus_sector.my-cloud-top-height.sh # or another method of editing a file (if you're using an IDE, you can just open the file and edit it)"
   ]
  },
  {
   "cell_type": "markdown",
   "id": "cfc1d0e3",
   "metadata": {},
   "source": [
    "Replace the contents of `clavrx.my_conus_sector.my-cloud-top-height.sh` with the following <br />\n",
    "(the only thing changed is the sector we're using):\n",
    "\n",
    "```bash\n",
    "#!/bin/bash\n",
    "\n",
    "geoips run single_source \\\n",
    "    $GEOIPS_TESTDATA_DIR/test_data_clavrx/data/goes16_2023101_1600/clavrx_OR_ABI-L1b-RadF-M6C01_G16_s20231011600207.level2.hdf \\\n",
    "  --reader_name clavrx_hdf4 \\\n",
    "  --product_name My-Cloud-Top-Height \\\n",
    "  --output_formatter imagery_annotated \\\n",
    "  --filename_formatter geoips_fname \\\n",
    "  --minimum_coverage 0 \\\n",
    "  --sector_list my_conus_sector\n",
    "ss_retval=$?\n",
    "\n",
    "exit $((ss_retval))\n",
    "```"
   ]
  },
  {
   "cell_type": "markdown",
   "id": "c2d976f4",
   "metadata": {},
   "source": [
    "Let's run that script you just created and modified."
   ]
  },
  {
   "cell_type": "code",
   "execution_count": null,
   "id": "fe896144",
   "metadata": {
    "vscode": {
     "languageId": "shellscript"
    }
   },
   "outputs": [],
   "source": [
    "%%bash\n",
    "\n",
    "$MY_PKG_DIR/tests/scripts/clavrx.my_conus_sector.my-cloud-top-height.sh"
   ]
  },
  {
   "cell_type": "markdown",
   "id": "b5b00f91",
   "metadata": {},
   "source": [
    "The result of executing that script should look like this:\n",
    "\n",
    "![CTH my conus sector](./images/my_conus_sector_cloud_top_height.png)"
   ]
  },
  {
   "cell_type": "markdown",
   "id": "16133fd9",
   "metadata": {},
   "source": [
    "## Hands on: Creating Custom Gridline/Feature Annotators "
   ]
  },
  {
   "cell_type": "markdown",
   "id": "d45e9248",
   "metadata": {},
   "source": [
    "### Defining gridline_annotators and feature_annotators \n",
    "\n",
    "**gridline_annotators:**\n",
    "- Describe the format of the grid lines shown in your imagery. Can control: \n",
    "- **Labels**, and which to display \n",
    "- **Lines**, such as their **color**, **linestyle**, and **linewidth** \n",
    "- **Spacing**, such as the distance between **latitude** and **longitude** labels, and \n",
    "  the grid lines that represent them. \n",
    "\n",
    "**feature_annotators:**\n",
    "- Describe the format of the features shown in your imagery. Can control: \n",
    "- **Coastlines**, **Borders**, **States**, and **Rivers**. All of these features have \n",
    "  the same parameters: \n",
    "  - Whether they are **enabled** \n",
    "  - The **color** of the feature \n",
    "  - The **linewidth** of the feature displayed "
   ]
  },
  {
   "cell_type": "markdown",
   "id": "16387b0f",
   "metadata": {},
   "source": [
    "### Example Gridline and Feature Annotators \n",
    "\n",
    "![Example gridline and feature annotators](./images/example_gridline_and_feature_annotators.png)\n",
    "\n",
    "You can describe the aforementioned plugins via:"
   ]
  },
  {
   "cell_type": "code",
   "execution_count": null,
   "id": "dcaa7930",
   "metadata": {
    "vscode": {
     "languageId": "shellscript"
    }
   },
   "outputs": [],
   "source": [
    "%%bash\n",
    "\n",
    "geoips describe feature-annotator default\n",
    "geoips describe gridline-annotator default"
   ]
  },
  {
   "cell_type": "markdown",
   "id": "b1ae2c74",
   "metadata": {},
   "source": [
    "### Creating a Custom gridline_annotator \n",
    "\n",
    "Let's begin by setting up a directory for your gridline annotators and copy over an \n",
    "existing plugin from GeoIPS."
   ]
  },
  {
   "cell_type": "code",
   "execution_count": null,
   "id": "ebd7076a",
   "metadata": {
    "vscode": {
     "languageId": "shellscript"
    }
   },
   "outputs": [],
   "source": [
    "%%bash\n",
    "\n",
    "# Make a gridline_annotators folder and change directories into it\n",
    "mkdir -pv $MY_PKG_DIR/$MY_PKG_NAME/plugins/yaml/gridline_annotators\n",
    "cd $MY_PKG_DIR/$MY_PKG_NAME/plugins/yaml/gridline_annotators\n",
    "\n",
    "# Copy a gridline_annotator file from GeoIPS\n",
    "geoips_path=\"$(pip show geoips | awk '/^Location: / {print $2 \"/geoips\"}')\"\n",
    "cp \"$geoips_path/plugins/yaml/gridline_annotators/default.yaml\" tutorial.yaml"
   ]
  },
  {
   "cell_type": "markdown",
   "id": "d9743cfc",
   "metadata": {},
   "source": [
    "### Breaking down a gridline_annotator\n",
    "\n",
    "The following image explains each component of a gridline_annotator plugin.\n",
    "\n",
    "![Gridline Annotator Explained](./images/gridline_annotator_explained.png)\n",
    "\n",
    "Now that you understand what a gridline_annotator plugin does, lets modify the plugin we <br />\n",
    "copied over. Replace the contents of `tutorial.yaml` with the YAML shown below. <br />\n",
    "Feel free to modify the values in this YAML if you'd like.\n",
    "\n",
    "```yaml\n",
    "interface: gridline_annotators \n",
    "family: cartopy\n",
    "name: tutorial \n",
    "docstring: |\n",
    "  The tutorial gridline_annotators configuration.  \n",
    "  All gridline labels enabled, latitude and \n",
    "  Longitude lines colored mediumseagreen, 2.5 degree \n",
    "  spacing, 1px linewidth, and [5, 3] linestyle. \n",
    "spec:\n",
    "  labels:  \n",
    "    top: true\n",
    "    bottom: true\n",
    "    left: true\n",
    "    right: true\n",
    "  lines:  \n",
    "    color: mediumseagreen \n",
    "    linestyle: [5, 3]\n",
    "    linewidth: 1\n",
    "  spacing:  \n",
    "    latitude: 2.5\n",
    "    longitude: 2.5\n",
    "```"
   ]
  },
  {
   "cell_type": "markdown",
   "id": "db54de39",
   "metadata": {},
   "source": [
    "### Creating custom feature_annotator \n",
    "\n",
    "Now that we've created a custom gridline_annotator plugin, let's do the same for a <br />\n",
    "feature_annotator plugin."
   ]
  },
  {
   "cell_type": "code",
   "execution_count": null,
   "id": "850ad36e",
   "metadata": {
    "vscode": {
     "languageId": "shellscript"
    }
   },
   "outputs": [],
   "source": [
    "%%bash\n",
    "\n",
    "# Make a feature_annotators folder and change directories into it\n",
    "mkdir -pv $MY_PKG_DIR/$MY_PKG_NAME/plugins/yaml/feature_annotators\n",
    "cd $MY_PKG_DIR/$MY_PKG_NAME/plugins/yaml/feature_annotators\n",
    "\n",
    "# Copy a feature_annotator file from GeoIPS\n",
    "geoips_path=\"$(pip show geoips | awk '/^Location: / {print $2 \"/geoips\"}')\"\n",
    "cp \"$geoips_path/plugins/yaml/feature_annotators/default.yaml\" tutorial.yaml"
   ]
  },
  {
   "cell_type": "markdown",
   "id": "31301fff",
   "metadata": {},
   "source": [
    "### Breaking down a feature_annotator\n",
    "\n",
    "The following image explains how a feature is set up in a feature_annotator plugin.\n",
    "\n",
    "You'll notice that a feature can either be disabled, and if not, you must define its <br /> \n",
    "color and linewidth.\n",
    "\n",
    "![Feature Annotator Explained](./images/feature_annotator_explained.png)\n",
    "\n",
    "Replace the contents of `tutorial.yaml` with the following. Feel free to modify feature\n",
    "values if you'd like.\n",
    "\n",
    "```yaml\n",
    "interface: feature_annotators\n",
    "family: cartopy\n",
    "name: tutorial \n",
    "docstring: |\n",
    "  The tutorial feature annotators configuration.  \n",
    "  All line types enabled. All colored  \n",
    "  [midnightblue, red, yellow, cyan]. 2px coastlines, \n",
    "  2px borders, 2px states, 1px rivers .\n",
    "spec:\n",
    "  coastline:  \n",
    "    enabled: true\n",
    "    edgecolor : midnightblue \n",
    "    linewidth : 2\n",
    "  borders:  \n",
    "    enabled: true\n",
    "    edgecolor: red\n",
    "    linewidth: 2\n",
    "  states:  \n",
    "    enabled: true\n",
    "    edgecolor: darkslategray \n",
    "    linewidth: 2\n",
    "  rivers:  \n",
    "    enabled: true\n",
    "    edgecolor: cyan\n",
    "    linewidth: 1\n",
    "```"
   ]
  },
  {
   "cell_type": "markdown",
   "id": "24ac66b2",
   "metadata": {},
   "source": [
    "### Using Your Custom Annotators\n",
    "\n",
    "To add the effects of these plugins to your final output, simply add the following lines <br /> \n",
    "to your test script that uses the `\"imagery_annotated”` output formatter.\n",
    "\n",
    "**Note** - If you named your custom feature_annotator or gridline_annotators with <br />\n",
    "different names, replace `‘tutorial’` with such names. Don’t forget you can view your <br />\n",
    "new plugins using `geoips describe`!\n",
    "\n",
    "Let's add these changes to your bash script and run it. "
   ]
  },
  {
   "cell_type": "code",
   "execution_count": null,
   "id": "af5bf011",
   "metadata": {
    "vscode": {
     "languageId": "shellscript"
    }
   },
   "outputs": [],
   "source": [
    "%%bash\n",
    "\n",
    "cd $MY_PKG_DIR/tests/scripts\n",
    "cp clavrx.conus_annotated.my-cloud-depth.sh clavrx.conus_annotated_features_gridlines.my-cloud-depth.sh\n"
   ]
  },
  {
   "cell_type": "markdown",
   "id": "56671642",
   "metadata": {},
   "source": [
    "Now, add the following lines to `clavrx.conus_annotated_features_gridlines.my-cloud-depth.sh` <br />\n",
    "(the bash script you just created).\n",
    "\n",
    "```bash\n",
    "--feature_annotator tutorial \\\n",
    "--gridline_annotator tutorial \\\n",
    "```\n",
    "\n",
    "Once you've added those, you can run the script via:"
   ]
  },
  {
   "cell_type": "code",
   "execution_count": null,
   "id": "f08c5a08",
   "metadata": {
    "vscode": {
     "languageId": "shellscript"
    }
   },
   "outputs": [],
   "source": [
    "%%bash\n",
    "\n",
    "$MY_PKG_DIR/tests/scripts/clavrx.conus_annotated_features_gridlines.my-cloud-depth.sh"
   ]
  },
  {
   "cell_type": "markdown",
   "id": "41e3ea20",
   "metadata": {},
   "source": [
    "If you copied the YAML for the gridline and feature -annotators verbatim, the result of <br />\n",
    "that script should look like this:\n",
    "\n",
    "![Feature / Gridline annotator image](./images/feature_gridline_annotator.png)"
   ]
  },
  {
   "cell_type": "markdown",
   "id": "1744c638",
   "metadata": {},
   "source": [
    "## Colorbars and Colormaps Background and Introduction \n"
   ]
  },
  {
   "cell_type": "markdown",
   "id": "85ab7170",
   "metadata": {},
   "source": [
    "### Using a Matplotlib Colormap \n",
    "\n",
    "Matplotlib has many predefined colormaps.\n",
    "\n",
    "The `matplotlib_linear_norm` colormapper plugin is capable of using these predefined <br />\n",
    "colormaps - simply provide the name of the colormap in the `“cmap_name”` argument when <br />\n",
    "you define your product plugin.\n",
    "\n",
    "For now `matplotlib_linear_norm` is the only plugin that can directly use named <br />\n",
    "colormaps (which explicitly normalizes the colors using matplotlib’s `“Normalize”` <br />\n",
    "function), though others may be added in the future with additional methods of <br />\n",
    "manipulating the color scales.\n",
    "\n",
    "The image below displays a sample product plugin using matplotlib built-in colormap.\n",
    "\n",
    "![Product using matplotlib_linear_norm](./images/product_using_mpl_linear_norm.png)"
   ]
  },
  {
   "cell_type": "markdown",
   "id": "4a4a6940",
   "metadata": {},
   "source": [
    "### Using an ASCII Colormap \n",
    "\n",
    "The `matplotlib_linear_norm` plugin can also leverage `ASCII` colormap files installed <br />\n",
    "within GeoIPS, installed within a plugin package, or stored in an arbitrary location on disk. \n",
    "\n",
    "To use an ascii colormap, specify:\n",
    "  - `cmap_source: ascii` \n",
    "  - `cmap_name: <cmap_name>`\n",
    "\n",
    "  \n",
    "Installed ASCII colormaps are stored within a plugin package under `plugins/txt/ascii_palettes/`.\n",
    "  - The filename must be of the form `<cmap_name>.txt` (this is how geoips finds the given <br />\n",
    "    `cmap_name`)\n",
    "  - The colors are defined as RGB triplets ranging from 0 to 256 and should be formatted <br /> \n",
    "    as three columns of 256 integers. \n",
    "  - Commented lines are allowed (prefaced by “#”), to provide additional context relating <br />\n",
    "    to the physical meaning of the colormap (ie, min and max expected values/units, <br />\n",
    "    transition points, etc) \n",
    "  - For an example, see the [tpw_purple](https://github.com/NRLMMD-GEOIPS/geoips/blob/710b58ae82f479168e7da49dfccd8650730478d8/geoips/plugins/txt/ascii_palettes/tpw_purple.txt) colormap in the geoips package. \n",
    "\n",
    "If you would like to specify an arbitrary full path on disk rather than installing your <br />\n",
    "ascii palette within your  plugin package, additionally specify cmap_path . This is most <br />\n",
    "useful for research, development, and testing purposes. \n",
    "  - `cmap_path: <full_path>/<any_name>.txt`\n",
    "\n",
    "`matplotlib_linear_norm` provides a number of options that can be used to customize how <br />\n",
    "the colormap is used and how the colorbar is drawn. \n",
    "\n",
    "The following image displays a sample product using ascii palette -based colormap.\n",
    "\n",
    "![Product using ascii colormap](./images/product_using_ascii_colormap.png)"
   ]
  },
  {
   "cell_type": "markdown",
   "id": "a6a867dd",
   "metadata": {},
   "source": [
    "### Using a custom GeoIPS Python-based colormapper\n",
    "\n",
    "Color information can also be specified via a python-based GeoIPS `“colormapper”` plugin, <br />\n",
    "allowing customization using specific matplotlib commands and utilities. <br />\n",
    "This is the most flexible method.\n",
    "\n",
    "The following images walk you through each part of a colormapper plugin.\n",
    "\n",
    "![Colormapper top level](./images/colormapper_top_level.png)\n",
    "\n",
    "![Colormapper inside call function](./images/colormapper_inside_call_function.png)\n",
    "\n",
    "The “mpl_colors_info” return dictionary is what GeoIPS uses within the matplotlib-based <br />\n",
    "utilities and output formatters in order to ensure consistent application of colors, in <br />\n",
    "both the imagery and the colorbars. \n",
    "\n",
    "Coming up, we'll walk you through creating both GeoIPS Python-based colormapper, as well <br />\n",
    "as ASCII-palette based matplotlib_linear_norm products.\n",
    "\n",
    "![Colormapper mpl_colors_info](./images/mpl_colors_info.png)"
   ]
  },
  {
   "cell_type": "markdown",
   "id": "3db892de",
   "metadata": {},
   "source": [
    "## Hands on: Creating your own custom Python-based colormapper \n",
    "\n",
    "Let's begin by creating a directory to hold our colormappers and copying over an existing <br />\n",
    "colormapper from GeoIPS."
   ]
  },
  {
   "cell_type": "code",
   "execution_count": null,
   "id": "0bacabcb",
   "metadata": {
    "vscode": {
     "languageId": "shellscript"
    }
   },
   "outputs": [],
   "source": [
    "%%bash\n",
    "\n",
    "# Make a colormappers folder and change directories into it\n",
    "mkdir -pv $MY_PKG_DIR/$MY_PKG_NAME/plugins/modules/colormappers\n",
    "cd $MY_PKG_DIR/$MY_PKG_NAME/plugins/modules/colormappers\n",
    "\n",
    "# Create an __init__.py file\n",
    "touch __init__.py\n",
    "\n",
    "# Copy a colormapper file from GeoIPS\n",
    "geoips_path=\"$(pip show geoips_clavrx | awk '/^Location: / {print $2 \"/geoips_clavrx\"}')\"\n",
    "cp \"$geoips_path/plugins/modules/colormappers/cmap_cldHeight.py\" colorful_cloud_height.py"
   ]
  },
  {
   "cell_type": "markdown",
   "id": "d252f2f9",
   "metadata": {},
   "source": [
    "Now, lets update the file we copied over with new content. Replace the upper portions of <br />\n",
    "`colorful_cloud_height.py` with the following python code.\n",
    "\n",
    "```python\n",
    "\"\"\"Module containing colormap for colorful cloud height product.\"\"\" \n",
    "\n",
    "import logging\n",
    "\n",
    "LOG = logging.getLogger(__name__) \n",
    "\n",
    "interface = \"colormappers\" \n",
    "family = \"matplotlib\" \n",
    "name = \"colorful_cloud_height\" \n",
    "\n",
    "\n",
    "def call(data_range=[ 0, 20]):\n",
    "    \"\"\"Colorful cloud height colormap.\"\"\"\n",
    "```\n",
    "\n",
    "Once that's complete, let's update the contents of the `call()` function to change the <br />\n",
    "colormap we'll produce. Feel free to choose different colors if you'ld like.\n",
    "\n",
    "In this case, we only modify the colors, but you just as easily could modify the transition <br />\n",
    "values as well. These are all just direct matplotlib/python commands creating the desired <br />\n",
    "color information.\n",
    "\n",
    "```python\n",
    "    transition_vals = [\n",
    "        (min_val, 1),\n",
    "        (1, 2),\n",
    "        (2, 3),\n",
    "        (3, 4),\n",
    "        (4, 6),\n",
    "        (6, 8),\n",
    "        (8, 10),\n",
    "        (10, 15),\n",
    "        (15, max_val),\n",
    "    ]\n",
    "    transition_colors = [\n",
    "        (\"pink\", \"red\"),\n",
    "        (\"paleturquoise\", \"teal\"),\n",
    "        (\"plum\", \"rebeccapurple\"),\n",
    "        (\"yellow\", \"chartreuse\"),\n",
    "        (\"limegreen\", \"darkgreen\"),\n",
    "        (\"wheat\", \"darkorange\"),\n",
    "        (\"darkgray\", \"black\"),\n",
    "        (\"lightgray\", \"silver\"),\n",
    "        (\"lightskyblue\", \"deepskyblue\"),\n",
    "    ]\n",
    "```"
   ]
  },
  {
   "cell_type": "markdown",
   "id": "fac3f314",
   "metadata": {},
   "source": [
    "## Hands on: Using your new python-based colormapper in a new product"
   ]
  },
  {
   "cell_type": "markdown",
   "id": "37c09079",
   "metadata": {},
   "source": [
    "### Add custom colormapper to new product. \n",
    "\n",
    "Let's begin by creating a new `Cloud-Base-Python-Colors` product, using `Cloud-Height` <br />\n",
    "as the product_defaults:"
   ]
  },
  {
   "cell_type": "code",
   "execution_count": null,
   "id": "b7c9c60f",
   "metadata": {
    "vscode": {
     "languageId": "shellscript"
    }
   },
   "outputs": [],
   "source": [
    "%%bash\n",
    "\n",
    "cd $MY_PKG_DIR/$MY_PKG_NAME/plugins/yaml/products"
   ]
  },
  {
   "cell_type": "markdown",
   "id": "29bde6db",
   "metadata": {},
   "source": [
    "Add the following product entry to your `my_clavrx_products.yaml` file. Note that it <br />\n",
    "makes use of the colormapper we just put together!\n",
    "\n",
    "```yaml\n",
    "    - name: Cloud-Base-Python-Colors \n",
    "      source_names:  [clavrx] \n",
    "      docstring:  |\n",
    "        CLAVR-x Colorful Cloud Base Height, \n",
    "        Using a python-based custom colormapper. \n",
    "      product_defaults:  Cloud-Height \n",
    "      spec:\n",
    "        variables:  [\"cld_height_base\", \"latitude\", \"longitude\"] \n",
    "        colormapper: \n",
    "          plugin: \n",
    "            name: colorful_cloud_height \n",
    "            arguments: {}\n",
    "```\n",
    "\n",
    "Once that's been added, let's create a new test script to make use of our new product."
   ]
  },
  {
   "cell_type": "code",
   "execution_count": null,
   "id": "35ad06a0",
   "metadata": {
    "vscode": {
     "languageId": "shellscript"
    }
   },
   "outputs": [],
   "source": [
    "%%bash\n",
    "\n",
    "cd $MY_PKG_DIR/tests/scripts\n",
    "cp clavrx.conus_annotated.my-cloud-top-height.sh clavrx.conus_annotated.cloud-base-python-colors.sh"
   ]
  },
  {
   "cell_type": "markdown",
   "id": "0a4abb6c",
   "metadata": {},
   "source": [
    "Now that we have a new test script, let's modify it to make use of our new product. <br />\n",
    "Replace the line that contains\n",
    "\n",
    "```bash\n",
    "--product_name My-Cloud-Top-Height \\\n",
    "```\n",
    "\n",
    "with\n",
    "\n",
    "```bash\n",
    "--product_name Cloud-Base-Python-Colors \\\n",
    "```\n",
    "\n",
    "Now, run your new script!"
   ]
  },
  {
   "cell_type": "code",
   "execution_count": null,
   "id": "5a44cdbe",
   "metadata": {
    "vscode": {
     "languageId": "shellscript"
    }
   },
   "outputs": [],
   "source": [
    "%%bash\n",
    "\n",
    "$MY_PKG_DIR/tests/scripts/clavrx.conus_annotated.cloud-base-python-colors.sh"
   ]
  },
  {
   "cell_type": "markdown",
   "id": "76ded29f",
   "metadata": {},
   "source": [
    "You should get the following image from that script:\n",
    "\n",
    "![Colorful Cloud Height](./images/colorful_cloud_height.png)"
   ]
  },
  {
   "cell_type": "markdown",
   "id": "1d7c679b",
   "metadata": {},
   "source": [
    "## Hands on: Creating a new Output Formatter"
   ]
  },
  {
   "cell_type": "markdown",
   "id": "7b328a3b",
   "metadata": {},
   "source": [
    "### What are output formatters? \n",
    "\n",
    "- Output formatters take native GeoIPS xarray data and convert it into something interpretable! \n",
    "    - NetCDF, an image, HDF5, <you name it!>\n",
    "- Required arguments depend on the intent of your output!\n",
    "\n",
    "You can see what arguments are required for each family of output formatters [here](https://github.com/NRLMMD-GEOIPS/geoips/blob/main/geoips/interfaces/module_based/output_formatters.py).\n",
    "\n",
    "You'll notice that output formatters have few to many arguments, depending on the family <br />\n",
    "they inherit from.\n",
    "\n",
    "![Easy output formatter](./images/easy_output_formatter.png)\n",
    "\n",
    "![Hard output formatter](./images/hard_output_formatter.png)"
   ]
  },
  {
   "cell_type": "markdown",
   "id": "0e651c2b",
   "metadata": {},
   "source": [
    "### Making your own output formatter\n",
    "\n",
    "Now, let's create our own output formatter. We'll begin by creating a directory for these <br />\n",
    "plugins and copying over an existing output formatter from GeoIPS."
   ]
  },
  {
   "cell_type": "code",
   "execution_count": null,
   "id": "97e8f7e5",
   "metadata": {
    "vscode": {
     "languageId": "shellscript"
    }
   },
   "outputs": [],
   "source": [
    "%%bash\n",
    "\n",
    "# Make a output_formatters folder and change directories into it\n",
    "mkdir -pv $MY_PKG_DIR/$MY_PKG_NAME/plugins/modules/output_formatters\n",
    "cd $MY_PKG_DIR/$MY_PKG_NAME/plugins/modules/output_formatters\n",
    "\n",
    "# Create an __init__.py file\n",
    "touch __init__.py\n",
    "\n",
    "# Copy a output_formatter file from GeoIPS\n",
    "geoips_path=\"$(pip show geoips | awk '/^Location: / {print $2 \"/geoips\"}')\"\n",
    "cp \"$geoips_path/plugins/modules/output_formatters/netcdf_geoips.py\" my_netcdf_output.py"
   ]
  },
  {
   "cell_type": "markdown",
   "id": "cd429f92",
   "metadata": {},
   "source": [
    "Now that we have our own output formatter file, let's edit it.\n",
    "\n",
    "`Step 1: Update this section` \n",
    "\n",
    "```python\n",
    "interface = \"output_formatters\"\n",
    "family = \"xarray_data\"\n",
    "name = \"my_netcdf_output\"\n",
    "```\n",
    "\n",
    "`Step 2: Add some new attributes!`\n",
    "\n",
    "```python\n",
    "# This is inside the call() function\n",
    "copy_standard_metadata (xarray_obj, prod_xarray) \n",
    "for product_name in product_names: \n",
    "    prod_xarray[product_name] = xarray_obj[product_name] \n",
    "# Let's add some additional attributes that are necessary for us \n",
    "# Add the section below! \n",
    "prod_xarray = prod_xarray. assign_attrs (\n",
    "    Starring= \"Richard Karn\" ,\n",
    "    Featuring= \"Jonathan Taylor Thomas\" ,\n",
    "    ProducedBy= \"Carmen Finestra\" ,\n",
    ")\n",
    "```\n",
    "\n",
    "Reminder: you can always review your plugins via `geoips describe`."
   ]
  },
  {
   "cell_type": "code",
   "execution_count": null,
   "id": "11d951a8",
   "metadata": {
    "vscode": {
     "languageId": "shellscript"
    }
   },
   "outputs": [],
   "source": [
    "%%bash\n",
    "\n",
    "geoips describe output-formatter my_netcdf_output"
   ]
  },
  {
   "cell_type": "markdown",
   "id": "17c62c34",
   "metadata": {},
   "source": [
    "### Using your new output_formatter\n",
    "\n",
    "Let's make use of our new output_formatter by creating a new test script that uses it."
   ]
  },
  {
   "cell_type": "code",
   "execution_count": null,
   "id": "d2edf16a",
   "metadata": {
    "vscode": {
     "languageId": "shellscript"
    }
   },
   "outputs": [],
   "source": [
    "%%bash\n",
    "\n",
    "cd $MY_PKG_DIR /tests/scripts\n",
    "cp clavrx.conus_netcdf.my-cloud-depth-netcdf.sh clavrx.conus_netcdf.my-cloud-top-height-my-netcdf.sh"
   ]
  },
  {
   "cell_type": "markdown",
   "id": "e9dff95f",
   "metadata": {},
   "source": [
    "Update the script you just created to make use of the new output formatter.\n",
    "\n",
    "Replace the following\n",
    "\n",
    "```bash\n",
    "--output_formatter netcdf_geoips \\\n",
    "```\n",
    "\n",
    "with\n",
    "\n",
    "```bash\n",
    "--output_formatter my_netcdf_output \\\n",
    "```\n",
    "\n",
    "Run your new script!"
   ]
  },
  {
   "cell_type": "code",
   "execution_count": null,
   "id": "fa4dcfab",
   "metadata": {
    "vscode": {
     "languageId": "shellscript"
    }
   },
   "outputs": [],
   "source": [
    "%%bash\n",
    "\n",
    "$MY_PKG_DIR/tests/scripts/clavrx.conus_netcdf.my-cloud-top-height-my-netcdf.sh"
   ]
  },
  {
   "cell_type": "markdown",
   "id": "0b7617db",
   "metadata": {},
   "source": [
    "If you open up the NetCDF file that this script produces, it should look something like this:\n",
    "\n",
    "![NetCDF Output](./images/netcdf_output.png)"
   ]
  },
  {
   "cell_type": "markdown",
   "id": "bc4a3aa0",
   "metadata": {},
   "source": [
    "## A word about Readers \n"
   ]
  },
  {
   "cell_type": "markdown",
   "id": "88f2f962",
   "metadata": {},
   "source": [
    "### Readers Overview - Content\n",
    "\n",
    "- GeoIPS readers return a dictionary of xarrays minimally containing the following variables:\n",
    "\n",
    "\n",
    "| Common Name(s) | Required name in xarray | Data format |\n",
    "| :------------: | :---------------------: | :---------: |\n",
    "| Latitude, Longitude | latitude, longitude | float or int |\n",
    "| Variables of Interest | **<customizable but should match <br /> names used by <br /> products!>** | float or int |\n",
    "| Time of Observation | time | datetime object |\n",
    "| Metadata attribute: Data Source | **source_name** | string |\n",
    "| Metadata attribute: Time of First <br /> Observation | start_datetime | datetime object |\n",
    "| Metadata attribute: Time of Final <br /> Observation | end_datetime | datetime object |"
   ]
  },
  {
   "cell_type": "markdown",
   "id": "751e7baf",
   "metadata": {},
   "source": [
    "### Why are those bolded ones so important? \n",
    "\n",
    "- Those two determine how GeoIPS interfaces with your reader and product! \n",
    "\n",
    "![Reader Bolded Items Explained](./images/reader_bolded_items.png)"
   ]
  },
  {
   "cell_type": "markdown",
   "id": "34955590",
   "metadata": {},
   "source": [
    "### Reader overview - Structure \n",
    "\n",
    "- A GeoIPS reader typically consists of the following: \n",
    "    - `The call function`<br />\n",
    "      The call function is the main driver of a GeoIPS reader. It accepts the kwargs that <br />\n",
    "      contain the list of files to be read, and a handful of instructions that adjust how <br />\n",
    "      the reader functions. \n",
    "    - `One or several read functions`<br />\n",
    "      Read functions populate xarrays with data from the files themselves. Read functions <br />\n",
    "      are technically optional... but they are a best practice! \n",
    "    - `Optional utility functions`<br />\n",
    "      Utility functions perform some kind of operation on inputs, typically to convert <br />\n",
    "      them to a format understandable by GeoIPS \n",
    "\n",
    "![Reader Functions](./images/reader_functions.png)"
   ]
  },
  {
   "cell_type": "markdown",
   "id": "baab41a8",
   "metadata": {},
   "source": [
    "### *call* function key points \n",
    "\n",
    "![Reader call function key points](./images/reader_call_function_key_points.png)"
   ]
  },
  {
   "cell_type": "markdown",
   "id": "ebdb324b",
   "metadata": {},
   "source": [
    "### A typical *read* function \n",
    "\n",
    "- Largely a *dealer’s choice* (and *you’re* the dealer!) \n",
    "    - The read function needs to open the file and read the contents (remember the minimum <br />\n",
    "      content slide) into a dictionary of xarrays to be passed along to GeoIPS \n",
    "- Common challenges to be aware of: \n",
    "    - 1D variables: It’s okay if your variables are 1D... so long as *all of them* are 1D.<br /> \n",
    "      You may need to do some array manipulation to get everything even! This is a common <br />\n",
    "      issue particularly with times! \n",
    "    - Seaking of times, time formatting is a common issue: TAI93… UTC… binary string... <br />\n",
    "      seconds since epoch… there are a lot of ways time is reported in data! Consult the <br /> \n",
    "      user’s guide for your data to figure out what how to convert time variables to the <br />\n",
    "      required datetime object format. \n",
    "    - Reading in necessary channels: GeoIPS cannot intelligently read required channels <br />\n",
    "      unless you code your reader to do so. Remember your call script is invoked with the <br />\n",
    "      *chans* parameter– use that information to save you and your customer’s time! \n"
   ]
  },
  {
   "cell_type": "markdown",
   "id": "b2237f5a",
   "metadata": {},
   "source": [
    "### An Example Read Function from GMI (1) \n",
    "\n",
    "![GMI Read Function](./images/gmi_read_function.png)\n",
    "\n",
    "Continued...\n",
    "\n",
    "![GMI Read Function 2](./images/gmi_read_function2.png)\n",
    "\n",
    "One last cool thing you can do!\n",
    "\n",
    "![Vertical data stacking](./images/vertical_stack_data.png)"
   ]
  },
  {
   "cell_type": "markdown",
   "id": "78a74231",
   "metadata": {},
   "source": [
    "## Wrap Up"
   ]
  },
  {
   "cell_type": "markdown",
   "id": "11c0fac4",
   "metadata": {},
   "source": [
    "### Additional Information \n",
    "\n",
    "- Bonus exercises can be found in the [slide package](https://docs.google.com/presentation/d/1tkdRUFjZh_AdA98G1jIjaEjXn_HjYQD3PcweVmTUmTo/edit?slide=id.g224c8803d80_0_82#slide=id.g224c8803d80_0_82) \n",
    "    - Read that NetCDF4 file to produce imagery \n",
    "    - Change which colormap you are using to create your imagery \n",
    "- GeoIPS Slack Workspace<br />\n",
    "  https://geoips.slack.com/  \n"
   ]
  },
  {
   "cell_type": "markdown",
   "id": "e42a0399",
   "metadata": {},
   "source": [
    "### Handy Links \n",
    "\n",
    "- Solution repository \n",
    "    - Github: https://github.com/NRLMMD-GEOIPS/plugin_tutorial_solution  \n",
    "- GeoIPS repository: https://github.com/NRLMMD-GEOIPS/geoips "
   ]
  }
 ],
 "metadata": {
  "kernelspec": {
   "display_name": "geoips",
   "language": "python",
   "name": "python3"
  },
  "language_info": {
   "name": "python",
   "version": "3.11.13"
  }
 },
 "nbformat": 4,
 "nbformat_minor": 5
}
