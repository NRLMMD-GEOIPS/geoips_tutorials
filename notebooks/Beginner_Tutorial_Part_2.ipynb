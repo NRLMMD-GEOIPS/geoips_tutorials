{
 "cells": [
  {
   "cell_type": "markdown",
   "id": "34c121a5",
   "metadata": {},
   "source": [
    "## Beginner GeoIPS Tutorial \n",
    "\n",
    "Adding Sectors, Feature and Gridline Annotators, Colormappers, and Output Formatters.\n",
    "\n",
    "\n",
    "Link to these slides can be found [here](https://github.com/NRLMMD-GEOIPS/presentations)"
   ]
  },
  {
   "cell_type": "markdown",
   "id": "4f3c4536",
   "metadata": {},
   "source": [
    "### To get the most out of this tutorial...\n",
    "\n",
    "[Solutions](https://github.com/NRLMMD-GEOIPS/plugin_tutorial_solutions/tree/main)\n",
    "\n",
    "Please keep the tutorial solutions up throughout this tutorial\n",
    "\n",
    "[Beginner Tutorial Part 2 Slides](https://docs.google.com/presentation/d/1tkdRUFjZh_AdA98G1jIjaEjXn_HjYQD3PcweVmTUmTo/edit?slide=id.g2e736e3f9ff_3_94#slide=id.g2e736e3f9ff_3_94)\n",
    "\n",
    "Also please keep these slides up to copy/paste from here as needed. \n"
   ]
  },
  {
   "cell_type": "markdown",
   "id": "5a3cb77a",
   "metadata": {},
   "source": [
    "### Tutorial Contents\n",
    "\n",
    "We're going to show you how to extend GeoIPS by adding new plugins for five new interfaces. \n",
    "\n",
    "We will add:  \n",
    "- One new sector \n",
    "- One new feature_annotator , one new gridline_annotator \n",
    "- Three new colormappers \n",
    "- One new output_formatter\n",
    "\n",
    "We will also show you how to: \n",
    "- Produce a NetCDF4 file using your algorithm output \n",
    "- Read your custom NetCDF4 file back in, and produce imagery from it "
   ]
  },
  {
   "cell_type": "markdown",
   "id": "ae9c4357",
   "metadata": {},
   "source": [
    "### Hands on: Outputting your new product as NetCDF \n",
    "\n",
    "1. Copy the Cloud Depth Imagery script to a new file \n",
    "    - **Note:** the reason to keep making new scripts rather than editing in place is that \n",
    "      you can use all of these later as regression tests for your package! \n",
    "2. Edit `clavrx.conus_netcdf.my-cloud-depth-netcdf.sh`"
   ]
  },
  {
   "cell_type": "markdown",
   "id": "35542daa",
   "metadata": {},
   "source": [
    "Update `clavrx.conus_netcdf.my-cloud-depth-netcdf.sh` with the following (we updated \n",
    "what output_formatter and file_formatter we use):\n",
    "\n",
    "```bash\n",
    "#!/bin/bash\n",
    "\n",
    "geoips run single_source \\\n",
    "   $GEOIPS_TESTDATA_DIR/test_data_clavrx/data/goes16_2023101_1600/clavrx_OR_ABI-L1b-RadF-M6C01_G16_s20231011600207.level2.hdf \\\n",
    "   --reader_name clavrx_hdf4 \\\n",
    "   --product_name My-Cloud-Depth \\\n",
    "   --output_formatter netcdf_geoips \\\n",
    "   --filename_formatter geoips_netcdf_fname \\\n",
    "   --minimum_coverage 0 \\\n",
    "   --sector_list conus\n",
    "ss_retval=$?\n",
    "\n",
    "exit $((ss_retval))\n",
    "```"
   ]
  },
  {
   "cell_type": "markdown",
   "id": "a1ea5f46",
   "metadata": {},
   "source": [
    "### Running Your Script \n",
    "\n",
    "Activate the code block below to run your modified script."
   ]
  },
  {
   "cell_type": "code",
   "execution_count": null,
   "id": "2345d8b5",
   "metadata": {
    "vscode": {
     "languageId": "shellscript"
    }
   },
   "outputs": [],
   "source": [
    "%%bash -s \"$MY_PKG_DIR\"\n",
    "\n",
    "cd $MY_PKG_DIR/tests/scripts\n",
    "$MY_PKG_DIR/tests/scripts/clavrx.conus_netcdf.my-cloud-depth.netcdf.sh"
   ]
  },
  {
   "cell_type": "markdown",
   "id": "d088a495",
   "metadata": {},
   "source": [
    "This will output a bunch of log output.\n",
    "\n",
    "If your script succeeded it will end with `INTERACTIVE: Return Value 0`.\n",
    "\n",
    "To view your output, look for a line that says `SINGLESOURCESUCCESS`.\n",
    "\n",
    "Open the NetCDF file to view its contents (e.g. with Panoply; shown below)\n",
    "\n",
    "![My Cloud Depth NetCDF Output](./images/panoply-netcdf-output.png)\n",
    "\n",
    "**Note** - For more information on the output_formatter \n",
    "you just used, run:  "
   ]
  },
  {
   "cell_type": "code",
   "execution_count": null,
   "id": "459fbc8e",
   "metadata": {
    "vscode": {
     "languageId": "shellscript"
    }
   },
   "outputs": [],
   "source": [
    "%%bash\n",
    "\n",
    "geoips describe output-formatter netcdf_geoips"
   ]
  },
  {
   "cell_type": "markdown",
   "id": "60953f5a",
   "metadata": {},
   "source": [
    "### A Word About Sectors\n",
    "\n",
    "Sectors are YAML plugins that define an area of interest for plotting in GeoIPS.\n",
    "\n",
    "**Two types:** \n",
    "- **static**: static sector of a specific area \n",
    "- **dynamic**: sectors that are generated at run-time to follow an event (e.g. \n",
    "  tropical cyclone, atmospheric river, pyro-Cb, etc.) \n",
    "\n",
    "For this tutorial, we will be creating a **static**  sector. \n",
    "\n",
    "**Static Sector Properties:** \n",
    "- **Metadata**: Contains information related to the origin of the sector. This includes \n",
    "  continent, country, state, etc.\n",
    "- **Projection**: Proj projection information \n",
    "  - **a**: The radius of the earth (in meters) \n",
    "  - **lat_0**: Center latitude coordinate \n",
    "  - **lon_0**: Center longitude coordinate \n",
    "  - **proj**: String representing projection type \n",
    "  - **units**: String representing units of the \n",
    "    projection \n",
    "- **Resolution**: The size of each pixel in meters \n",
    "- **Shape**: Image shape in pixels (width + height) \n",
    "- **Center**: The center x/y coordinates of the sector "
   ]
  },
  {
   "cell_type": "markdown",
   "id": "3321cbbe",
   "metadata": {},
   "source": [
    "### Example Sectors\n",
    "\n",
    "![Example Sectors](./images/example_sectors.png)\n",
    "\n",
    "You can run the following commands to get more information about each of the sectors \n",
    "shown here by running:"
   ]
  },
  {
   "cell_type": "code",
   "execution_count": null,
   "id": "1969cdc0",
   "metadata": {
    "vscode": {
     "languageId": "shellscript"
    }
   },
   "outputs": [],
   "source": [
    "%%bash\n",
    "\n",
    "geoips describe sector australia\n",
    "geoips describe sector central_america\n",
    "geoips describe sector south_pole"
   ]
  },
  {
   "cell_type": "markdown",
   "id": "5172e7b5",
   "metadata": {},
   "source": [
    "### Generating Static Sector Properties \n",
    "\n",
    "To generate the properties necessary to create a static sector, you must first define \n",
    "the area you want to display (captured by the appropriate satellite), based on center \n",
    "latitude and longitude bounds. \n",
    "\n",
    "The easiest way to do this is to open a [Google Maps](https://www.google.com/maps/) tab, \n",
    "then right click the center of your sector to obtain the center latitude and longitude \n",
    "values. \n",
    "\n",
    "Once you have those center latitude and longitude values, you’re ready to create \n",
    "your custom sector. \n",
    "\n",
    "The next slide will display the changes you will need to make to \n",
    "create a custom conus sector plugin. \n",
    "\n",
    "![Google Maps CONUS](./images/google_maps_conus.png)\n",
    "\n",
    "**Note** - For listing of sector plugins, run: "
   ]
  },
  {
   "cell_type": "code",
   "execution_count": null,
   "id": "3128657b",
   "metadata": {
    "vscode": {
     "languageId": "shellscript"
    }
   },
   "outputs": [],
   "source": [
    "%%bash\n",
    "\n",
    "geoips list sectors"
   ]
  },
  {
   "cell_type": "markdown",
   "id": "153c17eb",
   "metadata": {},
   "source": [
    "### Hands on: Creating Custom Sectors \n",
    "\n",
    "Let's start by copying a sector file to edit"
   ]
  },
  {
   "cell_type": "code",
   "execution_count": null,
   "id": "699d49d5",
   "metadata": {
    "vscode": {
     "languageId": "shellscript"
    }
   },
   "outputs": [],
   "source": [
    "%%bash -s \"$MY_PKG_DIR\" \"$MY_PKG_NAME\"\n",
    "\n",
    "# Make a sectors folder and change directories into it\n",
    "mkdir -pv $MY_PKG_DIR/$MY_PKG_NAME/plugins/yaml/sectors/static\n",
    "cd $MY_PKG_DIR/$MY_PKG_NAME/plugins/yaml/sectors/static\n",
    "\n",
    "# Copy a sector file from GeoIPS\n",
    "geoips_path=\"$(pip show geoips | awk '/^Location: / {print $2 \"/geoips\"}')\"\n",
    "cp \"$geoips_path/plugins/yaml/sectors/static/australia.yaml\" my_conus_sector.yaml"
   ]
  },
  {
   "cell_type": "markdown",
   "id": "026dca5e",
   "metadata": {},
   "source": [
    "### Slide 15\n",
    "\n",
    "Copy sector file to edit \n",
    "15Creating a Custom Sector \n",
    "Solutions on NRLMMD github.com \n",
    "mkdir -pv  $MY_PKG_DIR /$MY_PKG_NAME /plugins/yaml/sectors/static \n",
    "cd $MY_PKG_DIR /$MY_PKG_NAME /plugins/yaml/sectors/static \n",
    "cp $GEOIPS_PACKAGES_DIR /geoips/geoips/plugins/yaml/sectors/static/australia.yaml my_conus_sector.yaml \n",
    "vim my_conus_sector.yaml "
   ]
  },
  {
   "cell_type": "markdown",
   "id": "be932cd7",
   "metadata": {},
   "source": [
    "### Slide 16\n",
    "\n",
    "Generating Static Sector Properties \n",
    "The images to the left display the changes you \n",
    "will need to make to create a custom conus \n",
    "sector plugin. While you can leave the metadata \n",
    "untouched, it is very helpful to have additional \n",
    "information about the sector being displayed, \n",
    "not only for the backend of GeoIPS, but also for \n",
    "people using this sector plugin. \n",
    "Once you’ve made the appropriate changes, \n",
    "you will be ready to use your custom sector \n",
    "plugin with CLAVR-x data. Describes the \n",
    "projection type \n",
    "The resolution \n",
    "of each pixel \n",
    "in meters \n",
    "16Creating a Custom Sector \n",
    "Solutions on NRLMMD github.com \n",
    "interface: sectors\n",
    "family: area_definition_static \n",
    "name: my_conus_sector \n",
    "docstring: \"My CONUS Sector\" \n",
    "metadata: \n",
    "  region: \n",
    "    continent: NorthAmerica \n",
    "    country: UnitedStates \n",
    "    area: x\n",
    "    subarea: x\n",
    "    state: x\n",
    "    city: x\n",
    "spec:\n",
    "  area_id: my_conus_sector \n",
    "  description: CONUS\n",
    "  projection: \n",
    "    a: 6371228.0 \n",
    "    lat_0: 37.0\n",
    "    lon_0: -96.0\n",
    "    proj: eqc\n",
    "    units: m\n",
    "  resolution: \n",
    "    - 3000\n",
    "    - 3000\n",
    "  shape: \n",
    "    height: 1000\n",
    "    width: 2200\n",
    "  center: [0, 0]interface:  sectors\n",
    "family: area_definition_static \n",
    "name: australia \n",
    "docstring: \"Australian Continent\" \n",
    "metadata: \n",
    "  region:\n",
    "    continent: Australia \n",
    "    country: x\n",
    "    area: Continental \n",
    "    subarea: x\n",
    "    state: x\n",
    "    city: x\n",
    "spec:\n",
    "  area_id: australia \n",
    "  description: Australian  Continent \n",
    "  projection: \n",
    "    a: 6371228.0 \n",
    "    lat_0: -26.5\n",
    "    lon_0: 134.0\n",
    "    proj: stere\n",
    "    units: m\n",
    "  resolution: \n",
    "    - 2000\n",
    "    - 2000\n",
    "  shape:\n",
    "    height: 2100\n",
    "    width: 2400\n",
    "  center: [0, 0]Describes the \n",
    "projection type \n",
    "The resolution \n",
    "of each pixel \n",
    "in meters "
   ]
  },
  {
   "cell_type": "markdown",
   "id": "e8b7f66b",
   "metadata": {},
   "source": [
    "### Slide 17\n",
    "\n",
    "Testing Your Custom Static Sector \n",
    "The commands you ran in the previous slide create a \n",
    "custom conus sector. my_conus_sector.yaml  will be an \n",
    "example plugin, showing you that you can create sectors \n",
    "just like conus.yaml , to your own specifications. \n",
    "To quickly check whether or not you like the shape and \n",
    "resolution of your custom sector, you can use the \n",
    "command line function create_sector_image . This will \n",
    "plot and save images containing the borders and \n",
    "coastlines of the inputted sectors. For example, to test \n",
    "your custom sector, run the following: \n",
    "my_conus_sector.png \n",
    "Once completed, open the my_conus_sector.png  \n",
    "image to see what your sector will look like. \n",
    "17Creating a Custom Sector \n",
    "Solutions on NRLMMD github.com \n",
    "create_plugin_registries \n",
    "cd $MY_PKG_DIR /$MY_PKG_NAME \n",
    "geoips test sector my_conus_sector \n",
    "Note -  You can describe the sector plugin you just \n",
    "created by running: \n",
    "geoips describe sector my_conus_sector "
   ]
  },
  {
   "cell_type": "markdown",
   "id": "42e9b300",
   "metadata": {},
   "source": [
    "### Slide 18\n",
    "\n",
    "Using Your Custom Static Sector \n",
    "To use my_conus_sector.yaml  in your test script, \n",
    "simply replace ‘--sector_list conus’  with ‘--sector_list \n",
    "my_conus_sector’ . This change means that \n",
    "clavrx.conus_annotated.my-cloud-top-height.sh will use \n",
    "the sector you just created, rather than the GeoIPS \n",
    "conus sector we’ve been using previously. \n",
    "# Edit clavrx.my_conus_sector.my-cloud-top-height.sh to use new  my_conus_sector  sector plugin \n",
    "18Creating a Custom Sector \n",
    "Solutions on NRLMMD github.com \n",
    "--sector_list conus --sector_list my_conus_sector cd $MY_PKG_DIR /tests/scripts \n",
    "cp clavrx.conus_annotated.my-cloud-top-height.sh clavrx.my_conus_sector.my-cloud-top-height.sh \n",
    "vim clavrx.my_conus_sector.my-cloud-top-height.sh \n",
    "$MY_PKG_DIR /tests/scripts/clavrx.my_conus_sector.my-cloud-top-height.sh \n"
   ]
  },
  {
   "cell_type": "markdown",
   "id": "16133fd9",
   "metadata": {},
   "source": [
    "### Slide 19\n",
    "\n",
    "Hands on: Creating Custom Gridline/Feature \n",
    "Annotators \n",
    "(feature_annotators  and gridline_annotators \n",
    "interfaces) \n",
    "19Creating Custom Gridline/Feature Annotators \n",
    "Solutions on NRLMMD github.com "
   ]
  },
  {
   "cell_type": "markdown",
   "id": "d45e9248",
   "metadata": {},
   "source": [
    "### Slide 20\n",
    "\n",
    "Defining gridline_annotators and feature_annotators \n",
    "gridline_annotators: \n",
    "-Describe the format of the grid lines shown \n",
    "in your imagery. Can control: \n",
    "-Labels , and which to display \n",
    "-Lines , such as their color , linestyle , and \n",
    "linewidth \n",
    "-Spacing , such as the distance between \n",
    "latitude  and longitude  labels, and the \n",
    "grid lines that represent them. feature_annotators: \n",
    "-Describe the format of the features shown \n",
    "in your imagery. Can control: \n",
    "-Coastlines , Borders , States , and Rivers . \n",
    "All of these features have the same \n",
    "parameters: \n",
    "-Whether they are enabled \n",
    "-The color  of the feature \n",
    "-The linewidth  of the feature \n",
    "displayed \n",
    "20"
   ]
  },
  {
   "cell_type": "markdown",
   "id": "16387b0f",
   "metadata": {},
   "source": [
    "### Slide 21\n",
    "\n",
    "Example Gridline and Feature \n",
    "Annotators \n",
    "21Creating Custom Gridline/Feature Annotators \n",
    "Solutions on NRLMMD github.com "
   ]
  },
  {
   "cell_type": "markdown",
   "id": "b1ae2c74",
   "metadata": {},
   "source": [
    "### Slide 22\n",
    "\n",
    "Creating Custom gridline_annotator \n",
    "Defines which labels \n",
    "will be shown or \n",
    "omitted \n",
    "You can change these \n",
    "values to whatever you \n",
    "want! Defines lat/lon spacing \n",
    "(can be a float too) Defines line properties. Color \n",
    "can be matplotlib named color or \n",
    "hex string. Linestyle refers to \n",
    "[dash_width, dash_spacing] \n",
    "22Creating Custom Gridline/Feature Annotators \n",
    "Solutions on NRLMMD github.com \n",
    "interface: gridline_annotators \n",
    "family: cartopy\n",
    "name: tutorial \n",
    "docstring: |\n",
    "  The tutorial gridline_annotators configuration.  \n",
    "  All gridline labels enabled, latitude and \n",
    "  Longitude lines colored mediumseagreen, 2.5 degree \n",
    "  spacing, 1px linewidth, and [5, 3] linestyle. \n",
    "spec:\n",
    "  labels:  \n",
    "    top: true\n",
    "    bottom: true\n",
    "    left: true\n",
    "    right: true\n",
    "  lines:  \n",
    "    color: mediumseagreen \n",
    "    linestyle: [5, 3]\n",
    "    linewidth: 1\n",
    "  spacing:  \n",
    "    latitude: 2.5\n",
    "    longitude: 2.5mkdir -pv  $MY_PKG_DIR /$MY_PKG_NAME /plugins/yaml/gridline_annotators \n",
    "cd $MY_PKG_DIR /$MY_PKG_NAME /plugins/yaml/gridline_annotators \n",
    "cp $GEOIPS_PACKAGES_DIR /geoips/geoips/plugins/yaml/gridline_annotators/default.yaml tutorial.yaml \n",
    "vim tutorial.yaml "
   ]
  },
  {
   "cell_type": "markdown",
   "id": "db54de39",
   "metadata": {},
   "source": [
    "### Slide 23\n",
    "\n",
    "Creating Custom feature_annotator \n",
    "You can change these \n",
    "values to whatever you \n",
    "want! Defines if this feature is \n",
    "active, it’s color, and it’s \n",
    "linewidth \n",
    "23Creating Custom Gridline/Feature Annotators \n",
    "Solutions on NRLMMD github.com \n",
    "interface: feature_annotators \n",
    "family: cartopy\n",
    "name: tutorial \n",
    "docstring: |\n",
    "  The tutorial feature annotators configuration.  \n",
    "  All line types enabled. All colored  \n",
    "  [midnightblue, red, yellow, cyan]. 2px coastlines, \n",
    "  2px borders, 2px states, 1px rivers .\n",
    "spec:\n",
    "  coastline:  \n",
    "    enabled: true\n",
    "    edgecolor : midnightblue \n",
    "    linewidth : 2\n",
    "  borders:  \n",
    "    enabled: true\n",
    "    edgecolor: red\n",
    "    linewidth: 2\n",
    "  states:  \n",
    "    enabled: true\n",
    "    edgecolor: darkslategray \n",
    "    linewidth: 2\n",
    "  rivers:  \n",
    "    enabled: true\n",
    "    edgecolor: cyan\n",
    "    linewidth: 1mkdir -pv  $MY_PKG_DIR /$MY_PKG_NAME /plugins/yaml/feature_annotators \n",
    "cd $MY_PKG_DIR /$MY_PKG_NAME /plugins/yaml/feature_annotators \n",
    "cp $GEOIPS_PACKAGES_DIR /geoips/geoips/plugins/yaml/feature_annotators/default.yaml tutorial.yaml \n",
    "vim tutorial.yaml "
   ]
  },
  {
   "cell_type": "markdown",
   "id": "24ac66b2",
   "metadata": {},
   "source": [
    "### Slide 24\n",
    "\n",
    "Using Your Custom Annotators \n",
    "To implement these changes, simply add the following lines to your test script that uses the \n",
    "“imagery_annotated”  output formatter. \n",
    "Note -  If you named your custom feature_annotator or gridline_annotators with different names, replace  \n",
    "‘tutorial’ with such names. Don’t forget you can view your new plugins using geoips describe ! \n",
    "Run it: \n",
    " 24Creating Custom Gridline/Feature Annotators \n",
    "Solutions on NRLMMD github.com \n",
    "--feature_annotator tutorial \\ \n",
    "--gridline_annotator tutorial \\ create_plugin_registries \n",
    "cd $MY_PKG_DIR /tests/scripts \n",
    "cp clavrx.conus_annotated.my-cloud-depth.sh clavrx.conus_annotated_features_gridlines.my-cloud-depth.sh \n",
    "vim clavrx.conus_annotated_features_gridlines.my-cloud-depth.sh \n",
    "$MY_PKG_DIR /tests/scripts/clavrx.conus_annotated_features_gridlines.my-cloud-depth.sh "
   ]
  },
  {
   "cell_type": "markdown",
   "id": "41e3ea20",
   "metadata": {},
   "source": [
    "### Slide 25\n",
    "\n",
    "The Result \n",
    "25Creating Custom Gridline/Feature Annotators \n",
    "Solutions on NRLMMD github.com \n",
    "$MY_PKG_DIR /tests/scripts/clavrx.conus_annotated_features_gridlines.my-cloud-depth.sh "
   ]
  },
  {
   "cell_type": "markdown",
   "id": "1744c638",
   "metadata": {},
   "source": [
    "### Slide 26\n",
    "\n",
    "Colorbars and Colormaps \n",
    "Background and Introduction \n",
    "(colormappers  module-based interface) NOTE: This section is informational only - you don’t have to actually change \n",
    "anything in your code! \n",
    "26"
   ]
  },
  {
   "cell_type": "markdown",
   "id": "85ab7170",
   "metadata": {},
   "source": [
    "### Slide 27\n",
    "\n",
    "Using a Matplotlib Colormap \n",
    "Matplotlib has many predefined colormaps. \n",
    "The matplotlib_linear_norm  colormapper plugin is capable of using \n",
    "these predefined colormaps - simply provide the name of the \n",
    "colormap in the “cmap_name” argument when you define your \n",
    "product plugin. \n",
    "For now matplotlib_linear_norm  is the only plugin that can directly \n",
    "use named colormaps (which explicitly normalizes the colors using \n",
    "matplotlib’s “Normalize” function), though others may be added in \n",
    "the future with additional methods of manipulating the color \n",
    "scales. \n",
    "Sample Product using matplotlib \n",
    "built-in colormap 27"
   ]
  },
  {
   "cell_type": "markdown",
   "id": "4a4a6940",
   "metadata": {},
   "source": [
    "### Slide 28\n",
    "\n",
    "Using an ASCII Colormap \n",
    "The matplotlib_linear_norm  plugin can also leverage ASCII colormap files installed within GeoIPS, \n",
    "installed within a plugin package, or stored in an arbitrary location on disk. \n",
    "To use an ascii colormap, specify  \n",
    "● cmap_source: ascii \n",
    "● cmap_name: <cmap_name>   \n",
    "Installed ASCII colormaps are stored within a plugin package under plugins/txt/ascii_palettes/ .\n",
    "● The filename must be of the form <cmap_name>.txt  (this is how geoips finds the given \n",
    "cmap_name )\n",
    "● The colors are defined as RGB triplets ranging from 0 to 256 and should be formatted as three \n",
    "columns of 256 integers. \n",
    "● Commented lines are allowed (prefaced by “#”), to provide additional context relating to the \n",
    "physical meaning of the colormap (ie, min and max expected values/units, transition points, etc) \n",
    "● For an example, see the tpw_purple  colormap in the geoips package. \n",
    "If you would like t o specify an arbitrary full path on disk rather than installing your ascii palette within your  \n",
    "plugin package, additionally specify cmap_path . This is most useful for research, development, and testing  \n",
    "purposes. \n",
    "● cmap_path: <full_path>/<any_name>.txt \n",
    "matplotlib_linear_norm provides a number of options that can be used to customize how the colormap is  \n",
    "used and how the colorbar is drawn. \n",
    "Sample Product using ascii palette \n",
    "based colormap 28"
   ]
  },
  {
   "cell_type": "markdown",
   "id": "a6a867dd",
   "metadata": {},
   "source": [
    "### Slide 29\n",
    "\n",
    "Using a custom GeoIPS Python-based colormapper \n",
    "Color information can also be specified via \n",
    "a python-based GeoIPS “colormapper” \n",
    "plugin, allowing customization using \n",
    "specific matplotlib commands and utilities.  \n",
    "This is the most flexible method. \n",
    "Parameters are optional… but are useful for setting defaults! These? AGAIN?! Optional… but be kind to everyone and provide \n",
    "some logging information please. \n",
    "(Here’s where gradients are made) Here you set the values \n",
    "at which you want the \n",
    "colors to transition, as \n",
    "well as the colors each \n",
    "transition should be \n",
    "associated with. \n",
    "Gradient creation will \n",
    "be handled by GeoIPS. \n",
    "Optional. You can import any matplotlib \n",
    "manipulations you want! You can define these parameters in a \n",
    "number of ways– either in the call function, \n",
    "as values here, or even in the \n",
    "mpl_colors_info section. Your call, boss. \n",
    "29"
   ]
  },
  {
   "cell_type": "markdown",
   "id": "238efafb",
   "metadata": {},
   "source": [
    "### Slide 30\n",
    "\n",
    "Using a custom GeoIPS Python-based colormapper \n",
    "The “mpl_colors_info” return dictionary is \n",
    "what GeoIPS uses within the \n",
    "matplotlib-based utilities and output \n",
    "formatters in order to ensure consistent \n",
    "application of colors, in both the imagery \n",
    "and the colorbars. \n",
    "In the next slides, we will walk you through \n",
    "creating both GeoIPS Python-based \n",
    "colormapper, as well as ASCII-palette \n",
    "based matplotlib_linear_norm products. \n",
    "Accepts a list of \n",
    "alternative (aka \n",
    "non-numerical) \n",
    "interval labels Scales your values so the color bar \n",
    "covers the specified range. Optional. \n",
    "30Note -  For a listing of colormappers, run: \n",
    "geoips list colormappers "
   ]
  },
  {
   "cell_type": "markdown",
   "id": "3db892de",
   "metadata": {},
   "source": [
    "### Slide 31\n",
    "\n",
    "Hands on: Creating your own custom \n",
    "Python-based colormapper \n",
    "31Creating Custom Colormappers \n",
    "Solutions on NRLMMD github.com "
   ]
  },
  {
   "cell_type": "markdown",
   "id": "8e40f9e0",
   "metadata": {},
   "source": [
    "### Slide 32\n",
    "\n",
    "Creating your custom python-based colormapper \n",
    "Update the name. \n",
    "You can modify the docstring or \n",
    "data range if you desire. 32\"\"\"Module containing colormap for colorful cloud height product.\"\"\" \n",
    "import logging \n",
    "LOG = logging.getLogger(__name__) \n",
    "interface = \"colormappers\" \n",
    "family = \"matplotlib\" \n",
    "name = \"colorful_cloud_height\" \n",
    "def call(data_range=[ 0, 20]):\n",
    "    \"\"\"Colorful cloud height colormap. mkdir -pv  $MY_PKG_DIR /$MY_PKG_NAME /plugins/modules/colormappers \n",
    "cd $MY_PKG_DIR /$MY_PKG_NAME /plugins/modules/colormappers \n",
    "touch __init__.py \n",
    "cp $GEOIPS_PACKAGES_DIR /geoips_clavrx/geoips_clavrx/plugins/modules/colormappers/cmap_cldHeight.py colorful_cloud_height.py \n",
    "vim colorful_cloud_height.py Creating Custom Colormappers \n",
    "Solutions on NRLMMD github.com "
   ]
  },
  {
   "cell_type": "markdown",
   "id": "6ea01d14",
   "metadata": {},
   "source": [
    "### Slide 33\n",
    "\n",
    "Creating your custom python-based colormapper \n",
    "In this case, I only modified the colors, but you \n",
    "can modify anything in this plugin to meet your \n",
    "needs.  These are all just direct matplotlib/python \n",
    "commands creating the desired color info. 33Creating Custom Colormappers \n",
    "Solutions on NRLMMD github.com \n",
    "    transition_vals = [ \n",
    "        (min_val, 1),\n",
    "        ( 1, 2),\n",
    "        ( 2, 3),\n",
    "        ( 3, 4),\n",
    "        ( 4, 6),\n",
    "        ( 6, 8),\n",
    "        ( 8, 10),\n",
    "        ( 10, 15),\n",
    "        ( 15, max_val), \n",
    "    ]\n",
    "    transition_colors = [ \n",
    "        ( \"pink\", \"red\"),\n",
    "        ( \"paleturquoise\" , \"teal\"),\n",
    "        ( \"plum\", \"rebeccapurple\" ),\n",
    "        ( \"yellow\" , \"chartreuse\" ),\n",
    "        ( \"limegreen\" , \"darkgreen\" ),\n",
    "        ( \"wheat\", \"darkorange\" ),\n",
    "        ( \"darkgray\" , \"black\"),\n",
    "        ( \"lightgray\" , \"silver\" ),\n",
    "        ( \"lightskyblue\" , \"deepskyblue\" ),\n",
    "    ]\n"
   ]
  },
  {
   "cell_type": "markdown",
   "id": "fac3f314",
   "metadata": {},
   "source": [
    "### Slide 34\n",
    "\n",
    "Hands on: Using your new python-based \n",
    "colormapper  in a new product \n",
    "34"
   ]
  },
  {
   "cell_type": "markdown",
   "id": "37c09079",
   "metadata": {},
   "source": [
    "### Slide 35\n",
    "\n",
    "Add custom colormapper to new product. \n",
    "Create a new Cloud-Base-Python-Colors  product, using \n",
    "Cloud-Height as the product_defaults: \n",
    "Add a plugin entry to existing my_clavrx_products.yaml  \n",
    "file.\n",
    "35Creating Custom Colormappers \n",
    "Solutions on NRLMMD github.com \n",
    "    - name: Cloud-Base-Python-Colors \n",
    "      source_names:  [clavrx] \n",
    "      docstring:  |\n",
    "        CLAVR-x Colorful Cloud Base Height, \n",
    "        Using a python-based custom colormapper. \n",
    "      product_defaults:  Cloud-Height \n",
    "      spec:\n",
    "        variables:  [\"cld_height_base\", \"latitude\", \"longitude\"] \n",
    "        colormapper: \n",
    "          plugin: \n",
    "            name: colorful_cloud_height \n",
    "            arguments: {}cd $MY_PKG_DIR /$MY_PKG_NAME /plugins/yaml/products \n",
    "vim my_clavrx_products.yaml \n",
    "create_plugin_registries # New plugin entry using colorful_cloud_height  \n",
    "colormapper plugin \n",
    "# Add your new plugins to the registry! "
   ]
  },
  {
   "cell_type": "markdown",
   "id": "b947ddbd",
   "metadata": {},
   "source": [
    "### Slide 36\n",
    "\n",
    "Create test script to produce \n",
    "your new products \n",
    "Run your new product! Edit your new test script! \n",
    "36Creating Custom Colormappers \n",
    "Solutions on NRLMMD github.com \n",
    "cd $MY_PKG_DIR /tests/scripts \n",
    "cp clavrx.conus_annotated.my-cloud-top-height.sh clavrx.conus_annotated.cloud-base-python-colors.sh \n",
    "vim clavrx.conus_annotated.cloud-base-python-colors.sh \n",
    "$MY_PKG_DIR /tests/scripts/clavrx.conus_annotated.cloud-base-python-colors.sh --product_name My-Cloud-Top-Height \n",
    "--product_name Cloud-Base-Python-Colors # Using old product # Using new product "
   ]
  },
  {
   "cell_type": "markdown",
   "id": "2fdb1973",
   "metadata": {},
   "source": [
    "### Slide 37\n",
    "\n",
    "Admire the colors \n",
    "37\n"
   ]
  },
  {
   "cell_type": "markdown",
   "id": "1d7c679b",
   "metadata": {},
   "source": [
    "### Slide 38\n",
    "\n",
    "Hands on: Creating a new Output Formatter \n",
    "(output_formatters  python-based interface) \n",
    "38"
   ]
  },
  {
   "cell_type": "markdown",
   "id": "7b328a3b",
   "metadata": {},
   "source": [
    "### Slide 39\n",
    "\n",
    "What are output formatters? \n",
    "●Output formatters take native GeoIPS xarray \n",
    "data and convert it into something interpretable! \n",
    "○NetCDF, an image, HDF5, <you name it!> \n",
    "●Required arguments depend on the intent of your \n",
    "output! \n",
    "Easy! Hard! \n",
    "Read all about them in \n",
    "$GEOIPS_PKG_DIR/geoips/interfaces/module_based/output_formatters.py \n",
    "This one only needs the data, what’s being output and the file name(s)! This one requires all \n",
    "the formatting \n",
    "information for image \n",
    "output! \n",
    "39"
   ]
  },
  {
   "cell_type": "markdown",
   "id": "0e651c2b",
   "metadata": {},
   "source": [
    "### Slide 40\n",
    "\n",
    "Making your own output formatter: \n",
    "Step 1: Update this section Step 2: Add some new attributes! \n",
    "40Creating Output Formatters \n",
    "Solutions on NRLMMD github.com \n",
    "mkdir -pv  $MY_PKG_DIR /$MY_PKG_NAME /plugins/modules/output_formatters \n",
    "cd $MY_PKG_DIR /$MY_PKG_NAME /plugins/modules/output_formatters \n",
    "touch __init__.py \n",
    "cp $GEOIPS_PACKAGES_DIR /geoips/geoips/plugins/modules/output_formatters/netcdf_geoips.py my_netcdf_output.py \n",
    "vim my_netcdf_output.py Run these! \n",
    "interface = \"output_formatters\" \n",
    "family = \"xarray_data\" \n",
    "name = \"my_netcdf_output\" copy_standard_metadata (xarray_obj, prod_xarray) \n",
    "for product_name in product_names: \n",
    "    prod_xarray[product_name] = xarray_obj[product_name] \n",
    "# Let's add some additional attributes that are necessary for us \n",
    "# Add the section below! \n",
    "prod_xarray = prod_xarray. assign_attrs (\n",
    "    Starring= \"Richard Karn\" ,\n",
    "    Featuring= \"Jonathan Taylor Thomas\" ,\n",
    "    ProducedBy= \"Carmen Finestra\" ,\n",
    ")Add this! \n",
    "create_plugin_registries Step 3: Register your new product Note -  After you’ve registered your plugin, you can view it using: \n",
    "geoips describe output-formatter my_netcdf_output "
   ]
  },
  {
   "cell_type": "markdown",
   "id": "17c62c34",
   "metadata": {},
   "source": [
    "### Slide 41\n",
    "\n",
    "Installing and testing it! \n",
    "Inspect the output!  \n",
    "41Creating Output Formatters \n",
    "Solutions on NRLMMD github.com \n",
    "cd $MY_PKG_DIR /tests/scripts \n",
    "cp clavrx.conus_netcdf.my-cloud-depth-netcdf.sh clavrx.conus_netcdf.my-cloud-top-height-my-netcdf.sh \n",
    "vim clavrx.conus_netcdf.my-cloud-top-height-my-netcdf.sh Run these! \n",
    "--output_formatter netcdf_geoips --output_formatter my_netcdf_output Update to use your new output_formatter! \n",
    "$MY_PKG_DIR /tests/scripts/clavrx.conus_netcdf.my-cloud-top-height-my-netcdf.sh Run your new script! "
   ]
  },
  {
   "cell_type": "markdown",
   "id": "55b05f64",
   "metadata": {},
   "source": [
    "### Slide 42\n",
    "\n",
    "42\n"
   ]
  },
  {
   "cell_type": "markdown",
   "id": "bc4a3aa0",
   "metadata": {},
   "source": [
    "### Slide 43\n",
    "\n",
    "A word about Readers \n",
    "(readers  python-based interface) NOTE: This section is informational only - you don’t \n",
    "have to actually change anything in your code! \n",
    "43"
   ]
  },
  {
   "cell_type": "markdown",
   "id": "88f2f962",
   "metadata": {},
   "source": [
    "### Slide 44\n",
    "\n",
    "Readers Overview - Content \n",
    "●GeoIPS readers return a dictionary of xarrays minimally containing the \n",
    "following variables \n",
    "Common Name(s) Required name in xarray Data format \n",
    "Latitude, Longitude latitude, longitude float or int\n",
    "Variables of Interest <customizable but should \n",
    "match names used by \n",
    "products!> float or int\n",
    "Time of Observation time datetime object \n",
    "Metadata attribute: Data Source source_name string \n",
    "Metadata attribute: Time of First \n",
    "Observation start_datetime datetime object \n",
    "Metadata attribute: Time of Final \n",
    "Observation end_datetime datetime object \n",
    "44"
   ]
  },
  {
   "cell_type": "markdown",
   "id": "751e7baf",
   "metadata": {},
   "source": [
    "### Slide 45\n",
    "\n",
    "Why are those bolded ones so important? \n",
    "●Those two determine how GeoIPS interfaces with your reader and product! \n",
    "Remember these from your cool new product? This one tells GeoIPS that your source \n",
    "is compatible with the product! I.e., if \n",
    "your reader’s source_name was \n",
    "clavr-x, it wouldn’t work with this spec! \n",
    "These are the variable names in the \n",
    "product xarray! I.e., if you wrote \n",
    "clouds_height_acha  in your product, \n",
    "it wouldn’t work! \n",
    "45Note -  To get a listing of all reader plugins, run: \n",
    "geoips list readers "
   ]
  },
  {
   "cell_type": "markdown",
   "id": "34955590",
   "metadata": {},
   "source": [
    "### Slide 46\n",
    "\n",
    "Reader overview - Structure \n",
    "●A GeoIPS reader typically consists of the following: \n",
    "○The call function  \n",
    "The call function is the main driver of a GeoIPS reader. It accepts \n",
    "the kwargs that contain the list of files to be read, and a handful of \n",
    "instructions that adjust how the reader functions. \n",
    "○One or several read  functions \n",
    "Read  functions populate xarrays with data from the files themselves. Read  functions are technically \n",
    "optional… but they are a best practice! \n",
    "○Optional utility  functions \n",
    "Utility  functions perform some kind of operation on inputs, typically to convert them to a format \n",
    "understandable by GeoIPS \n",
    "Read function Utility function \n",
    "Call function \n",
    "These kwargs are important! \n",
    "46"
   ]
  },
  {
   "cell_type": "markdown",
   "id": "baab41a8",
   "metadata": {},
   "source": [
    "### Slide 47\n",
    "\n",
    "call function key points \n",
    "These are the big three pieces of metadata used by \n",
    "GeoIPS; source_name  is particularly important as it \n",
    "determines which product file is accessed! \n",
    "You don’t have to do this… but it’s a really  good idea. You don’t want to read large files twice! \n",
    "Remember… readers return a dictionary of xarrays , one of which is the METADATA xarray \n",
    "This is a slightly difference approach to the above that reads \n",
    "data and then sets the metadata afterward Here is where the read  function is invoked! \n",
    "47"
   ]
  },
  {
   "cell_type": "markdown",
   "id": "ebdb324b",
   "metadata": {},
   "source": [
    "### Slide 48\n",
    "\n",
    "A typical read function \n",
    "●Largely a dealer’s choice  (and you’re  the dealer!) \n",
    "○The read function needs to open the file and read the contents (remember the minimum \n",
    "content slide) into a dictionary of xarrays to be passed along to GeoIPS \n",
    "●Common challenges to be aware of: \n",
    "○1D variables: It’s okay if your variables are 1D… so long as all of them are 1D . You may need \n",
    "to do some array manipulation to get everything even! This is a common issue particularly with \n",
    "times! \n",
    "○SPeaking of times, time formatting is a common issue: TAI93… UTC… binary string… \n",
    "seconds since epoch… there are a lot of ways time is reported in data! Consult the user’s \n",
    "guide for your data to figure out what how to convert time variables to the required datetime \n",
    "object format. \n",
    "○Reading in necessary channels: GeoIPS cannot intelligently read required channels unless \n",
    "you code your reader to do so. Remember your call script is invoked with the Chans  \n",
    "parameter– use that information to save you and your customer’s time! \n",
    "48"
   ]
  },
  {
   "cell_type": "markdown",
   "id": "b2237f5a",
   "metadata": {},
   "source": [
    "### Slide 49\n",
    "\n",
    "An Example Read Function from GMI (1) \n",
    "Read in any of the data you need. tb and tb_hi are \n",
    "structured a little differently, but more on that later Open the file for reading \n",
    "As mentioned earlier, time is a bit finicky! In this \n",
    "case, GMI stores each element of the time separately, \n",
    "and it only comes as 1D! It needs to be 2D-ified to \n",
    "mesh with the 2D lat/long/tb data \n",
    "49"
   ]
  },
  {
   "cell_type": "markdown",
   "id": "50b8a6af",
   "metadata": {},
   "source": [
    "### Slide 50\n",
    "\n",
    "An Example Read Function from GMI (2) \n",
    "tb and \n",
    "tb_hi are \n",
    "all mashed \n",
    "together. \n",
    "You don’t \n",
    "have to \n",
    "separate \n",
    "them like \n",
    "this to fill \n",
    "the data \n",
    "into an \n",
    "xarray, but \n",
    "it’s good \n",
    "for bean \n",
    "counting \n",
    "Remember, time has to be \n",
    "dtobj \n",
    "50"
   ]
  },
  {
   "cell_type": "markdown",
   "id": "e978dff1",
   "metadata": {},
   "source": [
    "### Slide 51\n",
    "\n",
    "One last cool thing you can do! \n",
    "If your data come as many individual \n",
    "granules, and you want users to be able \n",
    "to read in many separate files, you can \n",
    "use numpy’s vstack function to combine \n",
    "the arrays into one larger one! \n",
    "Also… notice how this reader didn’t \n",
    "reference Chans anywhere? Every time \n",
    "this reader is invoked it will read the full \n",
    "contents of the file. Maybe not the \n",
    "biggest issue for smaller data like GMI… \n",
    "but beware for larger datasets! \n",
    "51"
   ]
  },
  {
   "cell_type": "markdown",
   "id": "78a74231",
   "metadata": {},
   "source": [
    "### Slide 52\n",
    "\n",
    "Wrap Up \n",
    "52"
   ]
  },
  {
   "cell_type": "markdown",
   "id": "11c0fac4",
   "metadata": {},
   "source": [
    "### Slide 53\n",
    "\n",
    "Additional Information \n",
    "●Bonus exercises in the slide package \n",
    "○Read that NetCDF4 file to produce imagery \n",
    "○Change which colormap you are using to create your imagery \n",
    "●GeoIPS Slack Workspace \n",
    "https://geoips.slack.com/  \n",
    "53"
   ]
  },
  {
   "cell_type": "markdown",
   "id": "e42a0399",
   "metadata": {},
   "source": [
    "### Slide 54\n",
    "\n",
    "Handy Links \n",
    "●Solution repository \n",
    "○Github: \n",
    "https://github.com/NRLMMD-GEOIPS/plugin_tutorial_solution  \n",
    "●GeoIPS repository: https://github.com/NRLMMD-GEOIPS/geoips \n",
    "54"
   ]
  },
  {
   "cell_type": "markdown",
   "id": "40d38133",
   "metadata": {},
   "source": [
    "### Slide 55\n",
    "\n",
    "Extras \n",
    "55"
   ]
  },
  {
   "cell_type": "markdown",
   "id": "5db4eff9",
   "metadata": {},
   "source": [
    "### Slide 56\n",
    "\n",
    "The Definition of a Plugin \n",
    "GeoIPS has two main categories of plugins: \n",
    "Module-based \n",
    "A python module that defines a new programmatic function \n",
    "YAML-based \n",
    "A static document that describes how an operation should be performed \n",
    "56"
   ]
  },
  {
   "cell_type": "markdown",
   "id": "8eaae39c",
   "metadata": {},
   "source": [
    "### Slide 57\n",
    "\n",
    "Module Based Plugins \n",
    "Module-based Python models containing \n",
    "specifically named variables and functions. \n",
    "There are a number of different types of \n",
    "module-based plugins. \n",
    "Today we will create a new algorithm plugin. \n",
    "-Algorithms \n",
    "-Colormaps \n",
    "-Coverage_checkers \n",
    "-Filename_formatters \n",
    "-Interpolators \n",
    "-Output_formatters \n",
    "-Procflows \n",
    "-Readers \n",
    "-Sector_metadata_generators \n",
    "-Sector_spec_generators \n",
    "-title_formatters \n",
    "57"
   ]
  },
  {
   "cell_type": "markdown",
   "id": "a201aa75",
   "metadata": {},
   "source": [
    "### Slide 58\n",
    "\n",
    "Module Based Plugins (cont.) \n",
    "These plugins largely control the \n",
    "functional side of GeoIPS. While \n",
    "yaml based plugins define the \n",
    "structure of GeoIPS, module based \n",
    "plugins control the functional aspect \n",
    "of GeoIPS. This includes data flow, \n",
    "visualization, managing files, and \n",
    "many other aspects as well. To get \n",
    "a better understanding of the \n",
    "purpose of Module Based Plugins, \n",
    "and the overall structure of GeoIPS, \n",
    "please refer to this documentation . \n",
    "58\n"
   ]
  },
  {
   "cell_type": "markdown",
   "id": "9ed9646a",
   "metadata": {},
   "source": [
    "### Slide 59\n",
    "\n",
    "YAML Based Plugins \n",
    "YAML based plugins define the structure and usage of the products configurable with \n",
    "GeoIPS. When defining a YAML plugin, it’s important to understand how these YAML files \n",
    "are structured. Any YAML plugin is defined via it’s “interface”, which refers to a YAML \n",
    "schema on GeoIPS that controls the structure of the current “interface” YAML plugin. Here \n",
    "are the types of YAML based interfaces that GeoIPS provides: \n",
    "-Feature Annotator \n",
    "-Gridline Annotator \n",
    "-Product defaults \n",
    "-Products \n",
    "-Dynamic sectors \n",
    "-Static sectors \n",
    "-ProcFlow configurations \n",
    "59"
   ]
  },
  {
   "cell_type": "markdown",
   "id": "77ff3f42",
   "metadata": {},
   "source": [
    "### Slide 60\n",
    "\n",
    "YAML based Products Plugins \n",
    "A products plugin is technically a list of \n",
    "products offered by the current \n",
    "product_package. For example, if you were \n",
    "to create a clavrx.yaml file, all of the \n",
    "products listed in this file would be a product \n",
    "that is “producible” via clavrx. \n",
    "Each product in this list contains their own \n",
    "“spec”, which is comprised of variables, and \n",
    "other optional arguments which can override \n",
    "values initially defined by product defaults. \n",
    "(Example Plugin shown to the right.) \n",
    "60"
   ]
  },
  {
   "cell_type": "markdown",
   "id": "50f18bb5",
   "metadata": {},
   "source": [
    "### Slide 61\n",
    "\n",
    "YAML Based product_defaults Plugins \n",
    "A product_defaults plugin defines the default state of a product. For example, if you were to \n",
    "have a “cloudHeight” product in the aforementioned clavrx.yaml (product plugin) file, you \n",
    "could have an associated cloudHeight.yaml product_defaults plugin, which defines the \n",
    "default state of a cloudHeight product. \n",
    "In the definition of the cloudHeight product in clavrx.yaml, we have the ability to omit such \n",
    "variables defined in the cloudHeight.yaml product_defaults plugin, and the ability to override \n",
    "such variables set, to our own custom definition. \n",
    "This functionality provides flexibility to developers who want to modify products based on \n",
    "their own needs. \n",
    "61"
   ]
  },
  {
   "cell_type": "markdown",
   "id": "45d527e6",
   "metadata": {},
   "source": [
    "### Slide 62\n",
    "\n",
    "Other YAML based plugins \n",
    "While the other YAML based plugins are out of the scope of this tutorial, we want to provide \n",
    "you with documentation just in case you’d like to dive deeper into these topics. \n",
    "To better understand the structure and definitions of other GeoIPS YAML plugins, click here \n",
    "and search through the corresponding plugin directories to view their corresponding YAML \n",
    "files.\n",
    "62"
   ]
  },
  {
   "cell_type": "markdown",
   "id": "351e5766",
   "metadata": {},
   "source": [
    "### Slide 63\n",
    "\n",
    "Add custom colormappers to new products. \n",
    "Set the name and \n",
    "docstring \n",
    "appropriately for each \n",
    "product! \n",
    "Set the colormapper \n",
    "plugins appropriately \n",
    "for each product! Optional \n",
    "cmap_path \n",
    "argument for \n",
    "cmap_source=\n",
    "ascii \n",
    "63Creating Custom Colormappers \n",
    "Solutions on NRLMMD github.com \n",
    "Other implementations of colormappers. Specifically, \n",
    "those using ascii-based colormaps, and another using \n",
    "matplotlib-named colormaps. "
   ]
  },
  {
   "cell_type": "markdown",
   "id": "cd0dd8bd",
   "metadata": {},
   "source": [
    "### Slide 64\n",
    "\n",
    "Add custom colormapper to new product. \n",
    "cd $MY_PKG_DIR/$MY_PKG_NAME/plugins/yaml/products \n",
    "vim my_clavrx_products.yaml Create 3 new products, using Cloud-Height as the \n",
    "product_defaults: Cloud-Base-ASCII-Palette-Colors , \n",
    "Cloud-Base-Python-Colors , and \n",
    "Cloud-Base-Builtin-Colors .  \n",
    "Add to existing my_clavrx_products.yaml  file.\n",
    "64Creating Custom Colormappers \n",
    "Solutions on NRLMMD github.com "
   ]
  },
  {
   "cell_type": "markdown",
   "id": "e800a6c9",
   "metadata": {},
   "source": [
    "### Slide 65\n",
    "\n",
    "Create test script to produce \n",
    "your new products \n",
    "cd $MY_PKG_DIR/tests/scripts \n",
    "cp clavrx.conus_annotated.my-cloud-top-height.sh clavrx.conus_annotated.cloud-base-python-colors.sh \n",
    "vim clavrx.conus_annotated.cloud-base-python-colors.sh \n",
    "./clavrx.conus_annotated.cloud-base-python-colors.sh \n",
    "Run your new product! Edit your new test script! \n",
    "65Creating Custom Colormappers \n",
    "Solutions on NRLMMD github.com \n",
    "geoips run single_source  \n",
    "$GEOIPS_TESTDATA_DIR /test_data_clavrx/ data/goes16_2023101_1600/ clavrx_OR_ABI-L1b-RadF-M6C01_G16_s20231011600207\n",
    ".level2.hdf \\ \n",
    "  --reader_name clavrx_hdf4 \\ \n",
    "  --product_name Cloud-Base-Python-Colors  \\\n",
    "  --output_formatter imagery_annotated \\ \n",
    "  --filename_formatter geoips_fname \\ \n",
    "  --minimum_coverage 0 \\\n",
    "  --sector_list conus \n",
    "ss_retval=$? \n",
    "exit $((ss_retval)) "
   ]
  },
  {
   "cell_type": "markdown",
   "id": "0cde1b9c",
   "metadata": {},
   "source": [
    "### Slide 66\n",
    "\n",
    "Admire the colors \n",
    "66"
   ]
  },
  {
   "cell_type": "markdown",
   "id": "cd71d55d",
   "metadata": {},
   "source": [
    "### Slide 67\n",
    "\n",
    "Create test scripts to produce your new products \n",
    "cd $MY_PKG_DIR/tests/scripts \n",
    "cp clavrx.conus_annotated.my-cloud-top-height.sh clavrx.conus_annotated.cloud-base-ascii-colors.sh \n",
    "cp clavrx.conus_annotated.my-cloud-top-height.sh clavrx.conus_annotated.cloud-base-python-colors.sh \n",
    "cp clavrx.conus_annotated.my-cloud-top-height.sh clavrx.conus_annotated.cloud-base-builtin-colors.sh \n",
    "./clavrx.conus_annotated.cloud-base-ascii-colors.sh \n",
    "./clavrx.conus_annotated.cloud-base-python-colors.sh \n",
    "./clavrx.conus_annotated.cloud-base-builtin-colors.sh vim clavrx.conus_annotated.cloud-base-builtin-colors.sh vim clavrx.conus_annotated.cloud-base-ascii-colors.sh \n",
    "vim clavrx.conus_annotated.cloud-base-python-colors.sh \n",
    "Run your new products! Edit your new test scripts! \n",
    "67  --reader_name clavrx_hdf4 \\ \n",
    "  --product_name Cloud-Base-ASCII-Palette-Colors  \\\n",
    "  --output_formatter imagery_annotated \\   --reader_name clavrx_hdf4 \\ \n",
    "  --product_name Cloud-Base-Builtin-Colors  \\\n",
    "  --output_formatter imagery_annotated \\ \n",
    "  --reader_name clavrx_hdf4 \\ \n",
    "  --product_name Cloud-Base-Python-Colors  \\\n",
    "  --output_formatter imagery_annotated \\ "
   ]
  },
  {
   "cell_type": "markdown",
   "id": "d788d90b",
   "metadata": {},
   "source": [
    "### Slide 68\n",
    "\n",
    "Tutorial Survey \n",
    "●Survey link will be e-mailed out, so please keep an eye out for that - we \n",
    "appreciate any and all feedback! \n",
    "68"
   ]
  }
 ],
 "metadata": {
  "language_info": {
   "name": "python"
  }
 },
 "nbformat": 4,
 "nbformat_minor": 5
}
