{
 "cells": [
  {
   "cell_type": "markdown",
   "id": "8e55f54d",
   "metadata": {},
   "source": [
    "### Welcome\n",
    "\n",
    "This is the first section of the introductory GeoIPS tutorial, which includes running GeoIPS \n",
    "using the CLI, and creating your first plugin! \n",
    "\n",
    "\n",
    "Link to these slides \n",
    "https://github.com/NRLMMD-GEOIPS/presentations"
   ]
  },
  {
   "cell_type": "markdown",
   "id": "7ca70cad",
   "metadata": {},
   "source": [
    "### Tutorial Scope\n",
    "\n",
    "This tutorial does not address running GeoIPS in near real-time. GeoIPS plugins \n",
    "are intended to be developed and tested on a specific dataset, and setting up the \n",
    "real-time processing infrastructure is a separate conversation. \n",
    "\n",
    "This tutorial focuses on: \n",
    "\n",
    "  - Installing GeoIPS \n",
    "  - Running GeoIPS \n",
    "  - Product development and testing \n"
   ]
  },
  {
   "cell_type": "markdown",
   "id": "a490cd6b",
   "metadata": {},
   "source": [
    "### To get the most out of this tutorial… \n",
    "\n",
    "- [Aug 2024 - Intro GeoIPS Tutorial - Google Slides](https://docs.google.com/presentation/d/151tR2hycoM3WqC9-7s9laMcCTZ9StY2fVLTpA_FwYBs/edit#slide=id.g2e736e3f9ff_3_94) \n",
    "- Please keep these slides up to copy/paste from as needed throughout the \n",
    "tutorial \n",
    "- Please copy/paste rather than typing everything word for word! \n",
    "  - Trick - Triple click to select a full code block for copy/paste! \n",
    "- [NRLMMD-GEOIPS/template_basic_plugin workshop-2024-beginner-solutions](https://github.com/NRLMMD-GEOIPS/template_basic_plugin/tree/workshop-2024-beginner-solutions) \n",
    "- If all else fails, you can access the solutions on github.com "
   ]
  },
  {
   "cell_type": "markdown",
   "id": "08e2692a",
   "metadata": {},
   "source": [
    "## System requirements\n",
    "\n",
    "- **CPU:** 1 CPU\n",
    "- **RAM:** 40GB as the notebook is written, but could use more if modified.\n",
    "  Reading the entire full-disk ABI image can take up to 100GB.\n",
    "- **Disk Space:** 3GB storage space.\n",
    "\n",
    "***To see the default storage location for your system, run the cell below.***\n",
    "To change the default location, change the value of `tmp_root` in the following cell."
   ]
  },
  {
   "cell_type": "code",
   "execution_count": null,
   "id": "6f147fab",
   "metadata": {},
   "outputs": [],
   "source": [
    "import tempfile\n",
    "from pathlib import Path\n",
    "\n",
    "# Set this to a different path if you would like to use a different location\n",
    "# `tempfile.gettempdir()` returns a different location on different OS.\n",
    "\n",
    "# tmp_root = \"/use/this/path/instead\"\n",
    "tmp_root = Path(tempfile.gettempdir()) / \"geoips_tutorial_tempdirs\"\n",
    "\n",
    "print(f\"Notebook temporary storage path: {tmp_root}\")"
   ]
  },
  {
   "cell_type": "markdown",
   "id": "b5c8fb66",
   "metadata": {},
   "source": [
    "## Important notes\n",
    "This notebook downloads approximately 2GB of data and produces another 1GB. It\n",
    "is stored in the location reported by running the next cell.\n",
    "\n",
    "This notebook makes an attempt at cleaning up after itself, but it is\n",
    "recommended that, when done using this notebook, you check to be sure that the\n",
    "directory reported by the next cell has been deleted.\n",
    "\n",
    "## Setting up your Environment\n",
    "\n",
    "**If you don't have an environment already set up, please follow the steps 2 and 3 of the instructions linked [here](https://nrlmmd-geoips.github.io/geoips/getting-started/installing/index.html) based on the architecture of your machine.**\n",
    "\n",
    "You can quit following the instructions after you've activated your geoips environment via <br />\n",
    "``conda activate geoips``.\n",
    "\n",
    "Run the cell below to set up your environment. This will initialize a session-specific <br />\n",
    "storage directory, add it to the global notebook environment, and add a hook that attempts <br />\n",
    "to clean up the temporary storage when the notebook is closed.\n",
    "\n",
    "❗\n",
    "***Important:*** While this notebook makes an effort to clean up after itself, if you <br />\n",
    "are running this notebook on your own system, ***it is advisable tomanually delete the <br />\n",
    "temporary directory reported above when you are done using the notebook.***"
   ]
  },
  {
   "cell_type": "code",
   "execution_count": null,
   "id": "293a0c9c",
   "metadata": {},
   "outputs": [],
   "source": [
    "import dotenv\n",
    "from IPython import get_ipython\n",
    "import os\n",
    "\n",
    "from utils import notebook_environment\n",
    "\n",
    "# Sets up the environment and sets a global variable named `temp_dir`\n",
    "notebook_environment.setup(tmp_root)\n",
    "\n",
    "with open(\"./.env\", \"w\") as env_file:\n",
    "    env_file.writelines(\n",
    "        [\n",
    "            f\"GEOIPS_TESTDATA_DIR={get_ipython().user_ns['temp_dir']}/test_data\\n\",\n",
    "            f\"GEOIPS_OUTDIRS={get_ipython().user_ns['temp_dir']}/outdirs\\n\",\n",
    "            f\"GEOIPS_PACKAGES_DIR={get_ipython().user_ns['temp_dir']}\\n\",\n",
    "            f\"MY_PKG_DIR={get_ipython().user_ns['temp_dir']}/cool_plugins\\n\",\n",
    "            \"MY_PKG_NAME=cool_plugins\"\n",
    "        ],\n",
    "    )\n",
    "\n",
    "dotenv.load_dotenv(\"./.env\", override=True)\n",
    "\n",
    "if not os.path.exists(os.environ[\"GEOIPS_TESTDATA_DIR\"]):\n",
    "    os.makedirs(os.environ[\"GEOIPS_TESTDATA_DIR\"])\n",
    "if not os.path.exists(os.environ[\"GEOIPS_OUTDIRS\"]):\n",
    "    os.makedirs(os.environ[\"GEOIPS_OUTDIRS\"])\n"
   ]
  },
  {
   "cell_type": "markdown",
   "id": "3fc4971a",
   "metadata": {},
   "source": [
    "### Installing GeoIPS and GeoIPS CLAVR-x\n",
    "\n",
    "Run the commands below to install geoips and geoips_clavrx python packages."
   ]
  },
  {
   "cell_type": "code",
   "execution_count": null,
   "id": "916c7fe1",
   "metadata": {
    "vscode": {
     "languageId": "shellscript"
    }
   },
   "outputs": [],
   "source": [
    "%%bash\n",
    "\n",
    "pip install --force-reinstall --upgrade geoips geoips_clavrx\n",
    "\n",
    "# Optional, only for the advanced tutorial\n",
    "# pip install --force-reinstall --upgrade data_fusion"
   ]
  },
  {
   "cell_type": "markdown",
   "id": "d4eae42e",
   "metadata": {},
   "source": [
    "### Installing Appropriate Test Datasets\n",
    "\n",
    "For this tutorial, you'll need GeoIPS test datasets that can be used to produce imagery \n",
    "or scientific datasets. \n",
    "\n",
    "If just attending the beginner tutorial, you'll need:\n",
    "\n",
    "  - `test_data_clavrx`\n",
    "\n",
    "If attending the advanced tutorial, you'll need:\n",
    "\n",
    "  - `test_data_fusion` NOT NEEDED\n",
    "\n",
    "These datasets might take a while to download so go ahead and download the appropriate \n",
    "datasets based on the following commands,."
   ]
  },
  {
   "cell_type": "code",
   "execution_count": null,
   "id": "7c518041",
   "metadata": {
    "vscode": {
     "languageId": "shellscript"
    }
   },
   "outputs": [],
   "source": [
    "%%bash\n",
    "\n",
    "# This is needed for both the beginner and advanced tutorial\n",
    "geoips config install test_data_clavrx"
   ]
  },
  {
   "cell_type": "code",
   "execution_count": null,
   "id": "9e164927",
   "metadata": {
    "vscode": {
     "languageId": "shellscript"
    }
   },
   "outputs": [],
   "source": [
    "%%bash\n",
    "\n",
    "# This is needed for the advanced tutorial\n",
    "geoips config install test_data_fusion"
   ]
  },
  {
   "cell_type": "markdown",
   "id": "26050255",
   "metadata": {},
   "source": [
    "### Introduction to GeoIPS\n",
    "\n",
    "GeoIPS is a plugin-based system for processing geolocated data: \n",
    "  - produce imagery in several formats (most often PNG). \n",
    "  - produce output data products in NetCDF4 format. \n",
    "  - extended to add other output formats via plugins. \n",
    "\n",
    "![1111𝝁 infrared imagery](./images/conus_infrared.png)\n",
    "\n",
    "![Himawari-9 CLAVR-x Cloud-Top-Height](./images/ahi_cloud_top_height.png)\n",
    "\n",
    "![ABI CLAVR-x Cloud Top Height](./images/abi_cloud_top_height.png)\n",
    "\n",
    "GeoIPS is almost entirely composed of plugins:\n",
    "\n",
    "  - GeoIPS can be extended by developing new plugins in external python packages. \n",
    "  - No need to edit the main GeoIPS code to add new functionality. \n",
    "  - Most types of functionality in GeoIPS can be extended (and if something can’t be \n",
    "  extended, and you think it should, let us know!). \n"
   ]
  },
  {
   "cell_type": "markdown",
   "id": "ec0cb1f2",
   "metadata": {},
   "source": [
    "### Vocabulary\n",
    "\n",
    "**YAML**\n",
    "  - \"Yet Another Markdown Language\" \n",
    "  - A human-readable data serialization language that is often used for writing configuration files \n",
    "\n",
    "**Plugin**\n",
    "  - A Python module or YAML file that defines GeoIPS functionality \n",
    "  - Stored in an installable Python package that registers its plugin payload with GeoIPS \n",
    "\n",
    "**Interface**\n",
    "  - A class of Python plugins that modify the same type of functionality within GeoIPS \n",
    "  (e.g., “the algorithms interface” or “the colormappers interface”) \n",
    "  \n",
    "**Family**\n",
    "  - A subset of an interface whose plugins accept different sets of arguments/properties \n",
    "  - Planning to deprecate this 'artifact' in the near future.\n"
   ]
  },
  {
   "cell_type": "markdown",
   "id": "5d35708b",
   "metadata": {},
   "source": [
    "### Commonly used GeoIPS Plugin Types \n",
    "\n",
    "**algorithm**\n",
    "  - Implements a function that modifies data and outputs new data\n",
    "\n",
    "**colormapper**\n",
    "  - Defines a method of applying a colormap to imagery\n",
    "\n",
    "**feature_annotator**\n",
    "  - Defines how to plot map features (e.g. coastlines, borders, rivers, etc.)\n",
    "\n",
    "**gridline_annotator**\n",
    "  - Defines how to plot gridlines and labels\n",
    "\n",
    "**interpolator**\n",
    "  - Defines a method of interpolating data to a sector\n",
    "\n",
    "**output_formatter**\n",
    "  - Defines a method for plotting imagery or outputting a data file \n",
    "\n",
    "**procflow**\n",
    "  - Defines the order of operations to use when producing a product from GeoIPS \n",
    "\n",
    "**product**\n",
    "  - Defines how to produce a specific product as a combination of other plugins\n",
    "  - Uses other plugins (e.g. algorithm, colormapper, interpolator)\n",
    "\n",
    "**product_defaults**\n",
    "  - Defines a default set of plugins and arguments for producing a specific type of product \n",
    "  - Can be reused across multiple products to allow consistency between similar products \n",
    "\n",
    "**reader**\n",
    "  - Defines a data reader \n",
    "\n",
    "**sector**\n",
    "  - Describes an domain for reprojection of data "
   ]
  },
  {
   "cell_type": "markdown",
   "id": "26530c2b",
   "metadata": {},
   "source": [
    "## Hands On: Modify a plugin template to create your own installable plugin package  \n"
   ]
  },
  {
   "cell_type": "markdown",
   "id": "b6833494",
   "metadata": {},
   "source": [
    "### Get the Template Repo\n",
    "\n",
    "Run the following series of commands to get the template repository."
   ]
  },
  {
   "cell_type": "code",
   "execution_count": null,
   "id": "4d4f2703",
   "metadata": {
    "vscode": {
     "languageId": "shellscript"
    }
   },
   "outputs": [],
   "source": [
    "%%bash\n",
    "\n",
    "cd $GEOIPS_PACKAGES_DIR\n",
    "git clone --no-tags --single-branch $GEOIPS_REPO_URL/template_basic_plugin.git\n",
    "# Rename your package\n",
    "mv template_basic_plugin/ $MY_PKG_NAME\n",
    "cd $MY_PKG_NAME\n",
    "# No longer point to github.com template_basic_plugin.git\n",
    "git remote remove origin"
   ]
  },
  {
   "cell_type": "markdown",
   "id": "e1917a32",
   "metadata": {},
   "source": [
    "### Update the Package Name\n",
    "\n",
    "Ensure you’re in your package directory and look around.\n",
    "\n",
    "This repository is set up with a working installable plugin called \"my_package\", so we \n",
    "just need to swap out the name and build upon what's already there! "
   ]
  },
  {
   "cell_type": "code",
   "execution_count": null,
   "id": "2b4aa1ed",
   "metadata": {
    "vscode": {
     "languageId": "shellscript"
    }
   },
   "outputs": [],
   "source": [
    "%%bash\n",
    "\n",
    "cd $MY_PKG_DIR\n",
    "ls"
   ]
  },
  {
   "cell_type": "markdown",
   "id": "a80053e8",
   "metadata": {},
   "source": [
    "![Package listing](./images/cool_plugins_top_level.png)\n",
    "\n",
    "This repository is set up with a working installable plugin called \"my_package\", so we \n",
    "just need to swap out the name and build upon what's already there!"
   ]
  },
  {
   "cell_type": "markdown",
   "id": "9e4f7ec3",
   "metadata": {},
   "source": [
    "### Structure of a Plugin Package\n",
    "\n",
    "Rename the default plugin package directory to your new package name"
   ]
  },
  {
   "cell_type": "code",
   "execution_count": null,
   "id": "ed17c6cd",
   "metadata": {
    "vscode": {
     "languageId": "shellscript"
    }
   },
   "outputs": [],
   "source": [
    "%%bash\n",
    "\n",
    "cd $MY_PKG_DIR\n",
    "git mv my_package $MY_PKG_NAME"
   ]
  },
  {
   "cell_type": "markdown",
   "id": "88c91376",
   "metadata": {},
   "source": [
    "### Your directory structure should now look like this:"
   ]
  },
  {
   "cell_type": "markdown",
   "id": "47a3f8e8",
   "metadata": {},
   "source": [
    "![cool_plugins directory structure](./images/cool_plugins_directory_structure.png)"
   ]
  },
  {
   "cell_type": "code",
   "execution_count": null,
   "id": "3aae8120",
   "metadata": {
    "vscode": {
     "languageId": "shellscript"
    }
   },
   "outputs": [],
   "source": [
    "%%bash\n",
    "\n",
    "cd $MY_PKG_DIR/cool_plugins"
   ]
  },
  {
   "cell_type": "markdown",
   "id": "917a042b",
   "metadata": {},
   "source": [
    "![plugins directory structure](./images/plugins_directory_structure.png)"
   ]
  },
  {
   "cell_type": "markdown",
   "id": "edebaf05",
   "metadata": {},
   "source": [
    "### Update Pertinent Files\n",
    "\n",
    "1. Update README.md (`vim README.md`)\n",
    "  - Find/replace all occurrences of @package@  with your package name \n",
    "  - Vim Tip :%s/@package@/cool_plugins/g \n",
    "  \n",
    "**Note**: The @ symbols are for ease of searching, take them out when you put your \n",
    "package name in!\n",
    "\n",
    "2. Update pyproject.toml (`vim pyproject.toml`, more on this in soon.)\n",
    "  - Find/replace all occurrences of my_package  with your package name \n",
    "\n",
    "3. Add and commit your changes."
   ]
  },
  {
   "cell_type": "code",
   "execution_count": null,
   "id": "441118ae",
   "metadata": {
    "vscode": {
     "languageId": "shellscript"
    }
   },
   "outputs": [],
   "source": [
    "%%bash\n",
    "\n",
    "git add README.md pyproject.toml\n",
    "git commit -m \"Updated name of template plugin package to mine\""
   ]
  },
  {
   "cell_type": "markdown",
   "id": "4028932b",
   "metadata": {},
   "source": [
    "4. Install your package (-e means `editable` so we can edit the package after it is \n",
    "installed and changes will be reflected in the installed package)\n",
    "\n",
    "Maybe mention a symlink -- similar to if you've symlinked your package to python installation path (site-packages)"
   ]
  },
  {
   "cell_type": "code",
   "execution_count": null,
   "id": "e2241759",
   "metadata": {
    "vscode": {
     "languageId": "shellscript"
    }
   },
   "outputs": [],
   "source": [
    "%%bash\n",
    "\n",
    "pip install -e $MY_PKG_DIR"
   ]
  },
  {
   "cell_type": "markdown",
   "id": "74253bb8",
   "metadata": {},
   "source": [
    "5. Register your plugins so GeoIPS knows where to find them"
   ]
  },
  {
   "cell_type": "code",
   "execution_count": null,
   "id": "e4d29a61",
   "metadata": {
    "vscode": {
     "languageId": "shellscript"
    }
   },
   "outputs": [],
   "source": [
    "%%bash\n",
    "\n",
    "geoips config create-registries"
   ]
  },
  {
   "cell_type": "markdown",
   "id": "4871f0fa",
   "metadata": {},
   "source": [
    "### See what you just installed \n",
    "\n",
    "List all installed packages:"
   ]
  },
  {
   "cell_type": "code",
   "execution_count": null,
   "id": "b69ec482",
   "metadata": {
    "vscode": {
     "languageId": "shellscript"
    }
   },
   "outputs": [],
   "source": [
    "%%bash\n",
    "\n",
    "geoips list packages"
   ]
  },
  {
   "cell_type": "markdown",
   "id": "d92d21f5",
   "metadata": {},
   "source": [
    "List all installed plugins:"
   ]
  },
  {
   "cell_type": "code",
   "execution_count": null,
   "id": "bf82e148",
   "metadata": {
    "vscode": {
     "languageId": "shellscript"
    }
   },
   "outputs": [],
   "source": [
    "%%bash\n",
    "\n",
    "geoips list plugins"
   ]
  },
  {
   "cell_type": "markdown",
   "id": "38b296ca",
   "metadata": {},
   "source": [
    "### A bit about pyproject.toml\n",
    "\n",
    "Installing Python packages requires metadata that describes the package and how to \n",
    "install it. \n",
    "\n",
    "`pyproject.toml` defines this information for pip, including: \n",
    "  - Package name, version, description, license, etc. \n",
    "  - Which files should be contained in the package when installed \n",
    "  - How to build the package \n",
    "\n",
    "We make GeoIPS aware of our package using the `geoips.plugin_packages` namespace.\n",
    "This allows GeoIPS to find all plugins within packages registered to this namespace.\n",
    "\n",
    "GeoIPS automatically identifies all plugins defined within a plugin package via a plugin\n",
    "registry. You can manually create these files via `geoips config create-registries`, \n",
    "however, GeoIPS will automatically create these files if a requested plugin cannot be\n",
    "found. This usually occurs the first time GeoIPS is initialized.\n",
    "\n",
    "**NOTE** for plugin registries to write successfully: \n",
    "\n",
    "1. All installed  plugin names within a given interface must be unique \n",
    "\n",
    "2. All installed plugins must be formatted and defined correctly \n",
    "\n",
    "We will make use of this more later! Modify plugin template solutions on \n",
    "[NRLMMD github.com](https://github.com/NRLMMD-GEOIPS/template_basic_plugin/tree/workshop-2023-solutions).\n",
    "\n",
    "```\n",
    "[tool.poetry.plugins.\"geoips.plugin_packages\"]\n",
    "\"cool_plugins\" = \"cool_plugins\" \n",
    "``` "
   ]
  },
  {
   "cell_type": "markdown",
   "id": "89cc9dab",
   "metadata": {},
   "source": [
    "## GeoIPS Command Line Interface (CLI) Tutorial\n",
    "\n",
    "Please follow this [Jupyter Notebook](./CLI_Tutorial.ipynb) for instructions on how to \n",
    "make use of the GeoIPS CLI."
   ]
  },
  {
   "cell_type": "markdown",
   "id": "73093623",
   "metadata": {},
   "source": [
    "## Hands on: Create a Product Plugin (products  YAML-based interface) \n",
    "\n",
    "Solutions on \n",
    "[NRLMMD github.com](https://github.com/NRLMMD-GEOIPS/template_basic_plugin/tree/workshop-2023-solutions)."
   ]
  },
  {
   "cell_type": "markdown",
   "id": "9fa30ad4",
   "metadata": {},
   "source": [
    "### First Product Plugin: Cloud Top Height (CTH) from CLAVR-x data\n",
    "\n",
    "- Copy the existing product plugin to a new file to modify "
   ]
  },
  {
   "cell_type": "code",
   "execution_count": null,
   "id": "2f1e5dc8",
   "metadata": {
    "vscode": {
     "languageId": "shellscript"
    }
   },
   "outputs": [],
   "source": [
    "%%bash\n",
    "\n",
    "cd $MY_PKG_DIR/$MY_PKG_NAME/plugins/yaml/products\n",
    "cp amsr2_using_product_defaults.yaml my_clavrx_products.yaml"
   ]
  },
  {
   "cell_type": "markdown",
   "id": "a8480dad",
   "metadata": {},
   "source": [
    "- Edit my_clavrx_products.yaml properties (I.e. `vim my_clavrx_products.yaml`)\n",
    "\n",
    "    a. (Feel free to remove all lines preceded by `# @`) \n",
    "  \n",
    "![Product top level keys](./images/product_top_level_keys.png)\n",
    "\n",
    "All YAML plugins will begin with these same four properties!\n",
    "\n",
    "Replace the contents of the YAML shown on the left with the following in my_clavrx_products.yaml\n",
    "\n",
    "```yaml\n",
    "interface: products\n",
    "family: list\n",
    "name: my_clavrx_products\n",
    "docstring: |\n",
    "  CLAVR-x imagery products\n",
    "```"
   ]
  },
  {
   "cell_type": "markdown",
   "id": "0e9152fd",
   "metadata": {},
   "source": [
    "### First Product Plugin: Cloud Top Height (CTH) from CLAVR-x data \n",
    "\n",
    "Edit the product specifications as shown below:\n",
    "\n",
    "![Update product spec](./images/update_product_spec.png)\n",
    "\n",
    "Replace the contents of the YAML shown on the upper left with the following in my_clavrx_products.yaml\n",
    "\n",
    "```yaml\n",
    "spec:\n",
    "  products:\n",
    "    - name: My-Cloud-Top-Height\n",
    "      source_names: [clavrx]\n",
    "      docstring: |\n",
    "        CLAVR-x Cloud Top Height\n",
    "      product_defaults: Cloud-Height\n",
    "      spec:\n",
    "        variables: [\"cld_height_acha\", \"latitude\", \"longitude\"]\n",
    "```"
   ]
  },
  {
   "cell_type": "markdown",
   "id": "a293753a",
   "metadata": {},
   "source": [
    "### Command: `geoips describe`\n",
    "\n",
    " \n",
    "Let's use the CLI to get more information about the plugin we just created. \n",
    "\n",
    "You'll notice that the plugin registry is rebuilt, as GeoIPS was unable to locate the \n",
    "plugin we just created (since it was not already in the registry)."
   ]
  },
  {
   "cell_type": "code",
   "execution_count": null,
   "id": "30028ff5",
   "metadata": {
    "vscode": {
     "languageId": "shellscript"
    }
   },
   "outputs": [],
   "source": [
    "%%bash\n",
    "\n",
    "geoips describe product clavrx.My-Cloud-Top-Height"
   ]
  },
  {
   "cell_type": "markdown",
   "id": "88f99a2a",
   "metadata": {},
   "source": [
    "If you need a reminder what your new product is called, you can always check via:"
   ]
  },
  {
   "cell_type": "code",
   "execution_count": null,
   "id": "3bf3de9c",
   "metadata": {
    "vscode": {
     "languageId": "shellscript"
    }
   },
   "outputs": [],
   "source": [
    "%%bash\n",
    "\n",
    "geoips ls products -p cool_plugins"
   ]
  },
  {
   "cell_type": "markdown",
   "id": "132bd869",
   "metadata": {},
   "source": [
    "For any description of a product plugin, this is the generic format to follow via the CLI:\n",
    "\n",
    "`geoips describe <interface_name> <source_name>.<plugin_name>`"
   ]
  },
  {
   "cell_type": "markdown",
   "id": "c8c0486a",
   "metadata": {},
   "source": [
    "### `family: null`\n",
    "\n",
    "You may have noticed that your product’s family was `null` in the output of \n",
    "\n",
    "`geoips describe product clavrx.My-Cloud-Top-Height`. \n",
    "\n",
    "This isn’t the actual case. \n",
    "\n",
    "Products are the only plugin that can depend on another type of plugin \n",
    "(product_defaults), and that is where this information lies. \n",
    "\n",
    "For now, an easy way to check the family of your product is by describing its product \n",
    "default plugin. \n",
    "\n",
    "The family of the derived product_default is the same family as the product plugin."
   ]
  },
  {
   "cell_type": "code",
   "execution_count": null,
   "id": "abaa68da",
   "metadata": {
    "vscode": {
     "languageId": "shellscript"
    }
   },
   "outputs": [],
   "source": [
    "%%bash\n",
    "\n",
    "geoips desc pdef Cloud-Height"
   ]
  },
  {
   "cell_type": "markdown",
   "id": "ac555aaf",
   "metadata": {},
   "source": [
    "### Create a Script\n",
    "\n",
    "To use the plugin you just created, let's create a bash script.\n",
    "\n",
    "- GeoIPS is called via a command line interface (CLI), as we've shown previously.\n",
    "- The main command that you will use is `geoips run single_source`, which will run your \n",
    "  data through the specified procflow using the specified plugins \n",
    "- It's easiest to do this via a script, and scripts are stored in your plugin package's \n",
    "  `tests/` directory because they can be used later to regression test your package \n",
    "- Copy the existing test script into a new file to modify "
   ]
  },
  {
   "cell_type": "code",
   "execution_count": null,
   "id": "f6a796b0",
   "metadata": {
    "vscode": {
     "languageId": "shellscript"
    }
   },
   "outputs": [],
   "source": [
    "%%bash\n",
    "\n",
    "cd $MY_PKG_DIR/tests/scripts\n",
    "cp amsr2.global_clean.89-PCT-Using-Product-Defaults.sh clavrx.conus_annotated.my-cloud-top-height.sh"
   ]
  },
  {
   "cell_type": "markdown",
   "id": "e28892e1",
   "metadata": {},
   "source": [
    "- Replace the contents of `clavrx.conus_annotated.my-cloud-top-height.sh` with the \n",
    "  following:\n",
    "\n",
    "```bash\n",
    "#!/bin/bash\n",
    "\n",
    "geoips run single_source \\\n",
    "    $GEOIPS_TESTDATA_DIR/test_data_clavrx/data/goes16_2023101_1600/clavrx_OR_ABI-L1b-RadF-M6C01_G16_s20231011600207.level2.hdf \\\n",
    "  --reader_name clavrx_hdf4 \\\n",
    "  --product_name My-Cloud-Top-Height \\\n",
    "  --output_formatter imagery_annotated \\\n",
    "  --filename_formatter geoips_fname \\\n",
    "  --minimum_coverage 0 \\\n",
    "  --sector_list conus\n",
    "ss_retval=$?\n",
    "\n",
    "exit $((ss_retval))\n",
    "```\n",
    "\n"
   ]
  },
  {
   "cell_type": "markdown",
   "id": "bc7cf745",
   "metadata": {},
   "source": [
    "### Using Your Product Plugin \n",
    "Let's run the script you just created. \n",
    "\n",
    "This will write some log output.  If your script succeeded it will end with \n",
    "`INTERACTIVE: Return Value 0`.\n",
    "\n",
    "To view your output, look for a line that says `SINGLESOURCESUCCESS`.\n",
    "\n",
    "Open the PNG file that this script produces."
   ]
  },
  {
   "cell_type": "code",
   "execution_count": null,
   "id": "00196ec9",
   "metadata": {
    "vscode": {
     "languageId": "shellscript"
    }
   },
   "outputs": [],
   "source": [
    "%%bash\n",
    "\n",
    "$MY_PKG_DIR/tests/scripts/clavrx.conus_annotated.my-cloud-top-height.sh"
   ]
  },
  {
   "cell_type": "markdown",
   "id": "174f07a2",
   "metadata": {},
   "source": [
    "If successful, the output image should look like this:\n",
    "\n",
    "![CLAVR-x CONUS My-Cloud-Top-Height](./images/clavrx-conus-my-cloud-top-height.png)"
   ]
  },
  {
   "cell_type": "markdown",
   "id": "d71d027e",
   "metadata": {},
   "source": [
    "### A word about Product Defaults \n",
    "\n",
    "- GeoIPS has a number of product_defaults plugins defined to help you not reinvent the \n",
    "  wheel, **but**\n",
    "    - You can override any of the product defaults within your product definition \n",
    "    - You can absolutely define all of the available options within your product plugin \n",
    "- [Pre-defined CLAVR-x product defaults](https://github.com/NRLMMD-GEOIPS/geoips_clavrx/tree/main/geoips_clavrx/plugins/yaml/product_defaults) (part of the CLAVR-x plugin) \n",
    "- [Pre-defined GeoIPS product defaults](https://github.com/NRLMMD-GEOIPS/geoips/tree/main/geoips/plugins/yaml/product_defaults) \n",
    "- If you have product definition parameters that you want to reuse (i.e. if you're \n",
    "  copy/pasting product definition parameters!),consider creating a product default for \n",
    "  your plugin \n",
    "\n",
    "  ![Cloud-Height Product Defaults](./images/Cloud-Height-product_defaults.png)"
   ]
  },
  {
   "cell_type": "markdown",
   "id": "fb25312b",
   "metadata": {},
   "source": [
    "### Different Implementations of Product Defaults within a Product \n",
    "\n",
    "In your product you can use the product_defaults verbatim. \n",
    "\n",
    "![Product using product default](./images/product_using_product_default.png)"
   ]
  },
  {
   "cell_type": "markdown",
   "id": "ebad57c6",
   "metadata": {},
   "source": [
    "### Different Implementations of Product Defaults within a Product \n",
    "\n",
    "You can also override just some parts of the product_defaults. \n",
    "\n",
    "In this example, we override the `algorithm` plugin contained in the Cloud-Height \n",
    "product_defaults, with our own specification. \n",
    "\n",
    "![Product default overridden](./images/product_default_overridden.png)"
   ]
  },
  {
   "cell_type": "markdown",
   "id": "f193c6c3",
   "metadata": {},
   "source": [
    "### Different Implementations of Product Defaults within a Product\n",
    "\n",
    "We also have the option to define a product without using product_defaults.\n",
    "\n",
    "To do this: \n",
    "  - remove the `product_defaults` property \n",
    "  - add the `family` property\n",
    "\n",
    "![Product fully specified](./images/product_fully_specified.png)"
   ]
  },
  {
   "cell_type": "markdown",
   "id": "2011b415",
   "metadata": {},
   "source": [
    "## Hands on: Add Additional Products to Your Product Plugin \n"
   ]
  },
  {
   "cell_type": "markdown",
   "id": "83371ed2",
   "metadata": {},
   "source": [
    "### Add Cloud Base Height (CBH) to the CLAVR-x Product Definition\n",
    "\n",
    "- Using your definition of `My-Cloud-Top-Height` as an example, create a product \n",
    "  definition for `My-Cloud-Base-Height`\n",
    "\n",
    "**Helpful Hints:** \n",
    "- The relevant variable in the CLAVR-x output file (and the equivalent GeoIPS reader) \n",
    "  is called `cld_height_base`\n",
    "- The Cloud-Height product_default  can be used to simplify this product \n",
    "  definition (or you can DIY or override if you'd like!) "
   ]
  },
  {
   "cell_type": "code",
   "execution_count": null,
   "id": "03f864a5",
   "metadata": {
    "vscode": {
     "languageId": "shellscript"
    }
   },
   "outputs": [],
   "source": [
    "%%bash\n",
    "\n",
    "cd $MY_PKG_DIR/$MY_PKG_NAME/plugins/yaml/products\n",
    "vim my_clavrx_products.yaml # or another method of editing a file (if you're using an IDE, you can just open the file and edit it)"
   ]
  },
  {
   "cell_type": "markdown",
   "id": "2d12d702",
   "metadata": {},
   "source": [
    "### First Product Plugins: CTH and CBH from CLAVR-x data (my_clavrx_products.yaml) \n",
    "\n",
    "The `spec` portion of `my_clavrx_products.yaml` should now look like this:\n",
    "\n",
    "```yaml\n",
    "spec:\n",
    "  products: \n",
    "    - name: My-Cloud-Top-Height \n",
    "      source_names: [clavrx] \n",
    "      docstring:  |\n",
    "        CLAVR-x Cloud Top Height \n",
    "      product_defaults: Cloud-Height \n",
    "      spec:\n",
    "        variables: [\"cld_height_acha\", \"latitude\", \"longitude\"] \n",
    "    - name: My-Cloud-Base-Height \n",
    "      source_names: [clavrx] \n",
    "      docstring:  |\n",
    "        CLAVR-x Cloud Base Height \n",
    "      product_defaults: Cloud-Height \n",
    "      spec:\n",
    "        variables: [\"cld_height_base\", \"latitude\", \"longitude\"] \n",
    "```"
   ]
  },
  {
   "cell_type": "markdown",
   "id": "a3041738",
   "metadata": {},
   "source": [
    "### Add Cloud Depth to the CLAVR-x Product Definition \n",
    "\n",
    "- Using your definitions of `My-Cloud-Top-Height` and `My-Cloud-Base-Height` as examples, \n",
    "  create a product definition for `My-Cloud-Depth`\n",
    "\n",
    "**Helpful Hints:** \n",
    "- We will define Cloud Depth for this tutorial as the difference between CTH and CBH \n",
    "\n",
    "**Note:**\n",
    "- This is meant to challenge you a bit! Give it a try and we'll go over the solution in \n",
    "  the next markdown block "
   ]
  },
  {
   "cell_type": "code",
   "execution_count": null,
   "id": "2d368ee4",
   "metadata": {
    "vscode": {
     "languageId": "shellscript"
    }
   },
   "outputs": [],
   "source": [
    "%%bash\n",
    "\n",
    "cd $MY_PKG_DIR/$MY_PKG_NAME/plugins/yaml/products\n",
    "vim my_clavrx_products.yaml # or another method of editing a file (if you're using an IDE, you can just open the file and edit it)"
   ]
  },
  {
   "cell_type": "markdown",
   "id": "b9d1f6f9",
   "metadata": {},
   "source": [
    "### Cloud Depth Product with Default Algorithm Applied (my_clavrx_products.yaml) \n",
    "\n",
    "The `spec` portion of `my_clavrx_products.yaml` should now look like this:\n",
    "\n",
    "```yaml\n",
    "spec:\n",
    "  products: \n",
    "    - name: My-Cloud-Top-Height \n",
    "      source_names: [clavrx] \n",
    "      docstring:  |\n",
    "        CLAVR-x Cloud Top Height \n",
    "      product_defaults: Cloud-Height \n",
    "      spec:\n",
    "        variables: [\"cld_height_acha\", \"latitude\", \"longitude\"] \n",
    "    - name: My-Cloud-Base-Height \n",
    "      source_names: [clavrx] \n",
    "      docstring:  |\n",
    "        CLAVR-x Cloud Base Height \n",
    "      product_defaults: Cloud-Height \n",
    "      spec:\n",
    "        variables: [\"cld_height_base\", \"latitude\", \"longitude\"]\n",
    "    - name: My-Cloud-Depth\n",
    "      source_names: [clavrx]\n",
    "      docstring: |\n",
    "        CLAVR-x Cloud my Cloud Depth\n",
    "      product_defaults: Cloud-Height\n",
    "      spec:\n",
    "        variables: [\"cld_height_acha\", \"cld_height_base\", \"latitude\", \"longitude\"]\n",
    "```\n",
    "\n",
    "We now have two variables, but if we examine the Cloud-Height Product Defaults we see \n",
    "that it uses the `single_channel` algorithm.\n",
    "\n",
    "This algorithm just manipulates a single data variable and plots it. \n",
    "\n",
    "Therefore, we need a new algorithm plugin!"
   ]
  },
  {
   "cell_type": "markdown",
   "id": "75c7ae02",
   "metadata": {},
   "source": [
    "### Validate your new product plugins\n",
    "\n",
    "Before you go ahead creating your new algorithm plugin, let's validate that the product\n",
    "plugins we just created are working as expected."
   ]
  },
  {
   "cell_type": "code",
   "execution_count": null,
   "id": "88f9f6d6",
   "metadata": {
    "vscode": {
     "languageId": "shellscript"
    }
   },
   "outputs": [],
   "source": [
    "%%bash\n",
    "\n",
    "geoips describe product clavrx.My-Cloud-Top-Height\n",
    "geoips describe product clavrx.My-Cloud-Base-Height\n",
    "geoips describe product clavrx.My-Cloud-Depth"
   ]
  },
  {
   "cell_type": "markdown",
   "id": "b6adff9e",
   "metadata": {},
   "source": [
    "### Command: `geoips list`\n",
    "\n",
    "Additionally, before creating a new algorithm, let’s make sure your products are \n",
    "registered within GeoIPS. "
   ]
  },
  {
   "cell_type": "code",
   "execution_count": null,
   "id": "0117e109",
   "metadata": {
    "vscode": {
     "languageId": "shellscript"
    }
   },
   "outputs": [],
   "source": [
    "%%bash\n",
    "\n",
    "geoips list products -p cool_plugins"
   ]
  },
  {
   "cell_type": "markdown",
   "id": "e1f5f6fc",
   "metadata": {},
   "source": [
    "## Hands on: Create an Algorithm Plugin \n",
    "\n",
    "1. Copy the existing algorithm plugin to a new file to modify"
   ]
  },
  {
   "cell_type": "code",
   "execution_count": null,
   "id": "c65e6eb7",
   "metadata": {
    "vscode": {
     "languageId": "shellscript"
    }
   },
   "outputs": [],
   "source": [
    "%%bash\n",
    "\n",
    "cd $MY_PKG_DIR/$MY_PKG_NAME/plugins/module/algorithms\n",
    "cp pmw_89test.py my_cloud_depth.py\n",
    "vim my_cloud_depth.py # or another method of editing a file (if you're using an IDE, you can just open the file and edit it)"
   ]
  },
  {
   "cell_type": "markdown",
   "id": "fe61306c",
   "metadata": {},
   "source": [
    "![Updating top level portions of new algorithm](./images/updating_algorithm_top_level.png)"
   ]
  },
  {
   "cell_type": "markdown",
   "id": "a2ebc285",
   "metadata": {},
   "source": [
    "Shown in the image above, let's update our `my_cloud_depth` algorithm with the following:\n",
    "\n",
    "```python\n",
    "\"\"\"Cloud depth product.\n",
    "\n",
    "Difference of cloud top height and cloud base height.\n",
    "\"\"\"\n",
    "\n",
    "import logging\n",
    "\n",
    "from xarray import DataArray\n",
    "\n",
    "LOG = logging.getLogger(__name__)\n",
    "\n",
    "interface = \"algorithms\"\n",
    "family = \"xarray_to_xarray\"\n",
    "name = \"my_cloud_depth\"\n",
    "```"
   ]
  },
  {
   "cell_type": "markdown",
   "id": "5da6e56b",
   "metadata": {},
   "source": [
    "### Updating your Algorithm\n",
    "\n",
    "Algorithms (alongside all `module-based` plugins) must include a `call()` function.\n",
    "\n",
    "This function is what is called when the algorithm is used.\n",
    "\n",
    "The `cal()` function's signature is determined by the algorithm's family.\n",
    "\n",
    "To create your new algorithm, add the `\"scale_factor\"` parameter to the call signature.\n",
    "\n",
    "Replace the signature of the `call()` function and its docstring with the following. You \n",
    "can remove the comments if desired.\n",
    "\n",
    "```python\n",
    "def call(\n",
    "    xobj,  # Xarray Dataset holding DataArrays\n",
    "    variables, # list of required input variables for the algorithm. These are ordered as specified in your product plugin.\n",
    "    product_name,\n",
    "    output_data_range,\n",
    "    scale_factor,  # Adding a scale factor here for use in converting input meters to output kilometers\n",
    "    min_outbounds=\"crop\",\n",
    "    max_outbounds=\"mask\",\n",
    "    norm=False,\n",
    "    inverse=False,\n",
    "):\n",
    "    \"\"\"My cloud depth product algorithm manipulation steps.\"\"\"\n",
    "```"
   ]
  },
  {
   "cell_type": "markdown",
   "id": "f428a6ec",
   "metadata": {},
   "source": [
    "### Updating your algorithm\n",
    "\n",
    "This is where the actual data manipulation occurs. Make sure to index the variable list \n",
    "to the order of the variables you defined in your product.\n",
    "\n",
    "Replace the contents of the `call()` function with the following. You can remove the \n",
    "comments if desired.\n",
    "\n",
    "```python\n",
    "    # Variables in the order defined in your Cloud-Depth Plugin\n",
    "    cth = xobj[variables[0]]\n",
    "    cbh = xobj[variables[1]]\n",
    "\n",
    "    out = (cth - cbh) * scale_factor\n",
    "\n",
    "    from geoips.data_manipulations.corrections import apply_data_range\n",
    "\n",
    "    # Data manipulation: Anything you want!\n",
    "    data = apply_data_range(\n",
    "        out,\n",
    "        min_val=output_data_range[0],\n",
    "        max_val=output_data_range[1],\n",
    "        min_outbounds=min_outbounds,\n",
    "        max_outbounds=max_outbounds,\n",
    "        norm=norm,\n",
    "        inverse=inverse,\n",
    "    )\n",
    "    xobj[product_name] = DataArray(data)\n",
    "\n",
    "    return xobj\n",
    "```\n",
    "\n",
    "Once complete, let's describe the plugin you just created to make sure it registered\n",
    "appropriately."
   ]
  },
  {
   "cell_type": "code",
   "execution_count": null,
   "id": "22bed150",
   "metadata": {
    "vscode": {
     "languageId": "shellscript"
    }
   },
   "outputs": [],
   "source": [
    "%%bash\n",
    "\n",
    "# In case you forgot the name of your plugin, you can run:\n",
    "geoips ls algs -p cool_plugins\n",
    "# Now let's describe that plugin\n",
    "geoips describe algorithm my_cloud_depth"
   ]
  },
  {
   "cell_type": "markdown",
   "id": "ab261cf2",
   "metadata": {},
   "source": [
    "### Override Product Defaults to Use Our Algorithm (my_clavrx_products.yaml) \n",
    "\n",
    "Let's revisit our My-Cloud-Depth product definition to use the algorithm we just created."
   ]
  },
  {
   "cell_type": "code",
   "execution_count": null,
   "id": "e527b6d4",
   "metadata": {
    "vscode": {
     "languageId": "shellscript"
    }
   },
   "outputs": [],
   "source": [
    "%%bash\n",
    "\n",
    "cd $MY_PKG_DIR/$MY_PKG_NAME/plugins/yaml/products\n",
    "vim my_clavrx_products.yaml # or another method of editing a file (if you're using an IDE, you can just open the file and edit it)"
   ]
  },
  {
   "cell_type": "markdown",
   "id": "cd07d252",
   "metadata": {},
   "source": [
    "### Overriding the My-Cloud-Depth Algorithm\n",
    "\n",
    "As mentioned earlier, we can override a product's defaults by adding new information to\n",
    "that product's `spec` object. Let's override the default algorithm for our \n",
    "`My-Cloud-Depth` algorithm with the following.\n",
    "\n",
    "```yaml\n",
    "spec:\n",
    "  products:\n",
    "    - name: My-Cloud-Top-Height \n",
    "      source_names: [clavrx] \n",
    "      docstring:  |\n",
    "        CLAVR-x Cloud Top Height \n",
    "      product_defaults: Cloud-Height \n",
    "      spec:\n",
    "        variables: [\"cld_height_acha\", \"latitude\", \"longitude\"] \n",
    "    - name: My-Cloud-Base-Height \n",
    "      source_names: [clavrx] \n",
    "      docstring:  |\n",
    "        CLAVR-x Cloud Base Height \n",
    "      product_defaults: Cloud-Height \n",
    "      spec:\n",
    "        variables: [\"cld_height_base\", \"latitude\", \"longitude\"]\n",
    "    # Update the code block below\n",
    "    - name: My-Cloud-Depth \n",
    "      source_names:  [clavrx] \n",
    "      docstring:  |\n",
    "        CLAVR-x Cloud my Cloud Depth \n",
    "      product_defaults:  Cloud-Height \n",
    "      spec:\n",
    "        variables:  [\"cld_height_acha\", \"cld_height_base\", \"latitude\", \"longitude\"] \n",
    "        # Algorithm override portion\n",
    "        algorithm: \n",
    "          plugin:\n",
    "            name: my_cloud_depth # The name we assigned our algorithm when we defined it\n",
    "            arguments: \n",
    "              output_data_range:  [0, 20]\n",
    "              scale_factor:  0.001\n",
    "```"
   ]
  },
  {
   "cell_type": "markdown",
   "id": "29954277",
   "metadata": {},
   "source": [
    "### Hands on: Using Your Algorithm Plugin\n",
    "\n",
    "1. Copy the script we made previously for creating Cloud Top Height imagery to a new \n",
    "file for Cloud Depth imagery \n",
    "2. Edit clavrx.conus_annotated.my-cloud-depth.sh"
   ]
  },
  {
   "cell_type": "code",
   "execution_count": null,
   "id": "cca29812",
   "metadata": {
    "vscode": {
     "languageId": "shellscript"
    }
   },
   "outputs": [],
   "source": [
    "%%bash\n",
    "\n",
    "cd $MY_PKG_DIR/tests/scripts\n",
    "cp clavrx.conus_annotated.my-cloud-top-height.sh clavrx.conus_annotated.my-cloud-depth.sh"
   ]
  },
  {
   "cell_type": "markdown",
   "id": "0a176c40",
   "metadata": {},
   "source": [
    "### Update your bash script\n",
    "\n",
    "Replace the contents of `clavrx.conus_annotated.my-cloud-depth.sh` with the following (the only thing we change is the product name):\n",
    "\n",
    "```bash\n",
    "#!/bin/bash\n",
    "\n",
    "geoips run single_source \\ \n",
    "    $GEOIPS_TESTDATA_DIR/test_data_clavrx/data/goes16_2023101_1600/clavrx_OR_ABI-L1b-RadF-M6C01_G16_s20231011600207.level2.hdf \\ \n",
    "  --reader_name clavrx_hdf4 \\ \n",
    "  --product_name My-Cloud-Depth \\ \n",
    "  --output_formatter imagery_annotated \\\n",
    "  --filename_formatter geoips_fname \\ \n",
    "  --minimum_coverage 0 \\ \n",
    "  --sector_list conus\n",
    "ss_retval=$?\n",
    "\n",
    "exit $((ss_retval))\n",
    "```"
   ]
  },
  {
   "cell_type": "markdown",
   "id": "271d4ac5",
   "metadata": {},
   "source": [
    "### Using Your Algorithm Plugin \n",
    "\n",
    "Run your script.\n",
    "\n",
    "This will output a bunch of log output.  \n",
    "\n",
    "If your script succeeded it will end with `INTERACTIVE: Return Value 0`.\n",
    "\n",
    "To view your output, look for a line that says `SINGLESOURCESUCCESS`.\n",
    "\n",
    "Open the PNG file. It should look like this:\n",
    "\n",
    "![My Cloud Depth Image](./images/my-cloud-depth.png)\n"
   ]
  }
 ],
 "metadata": {
  "kernelspec": {
   "display_name": "geoips",
   "language": "python",
   "name": "python3"
  },
  "language_info": {
   "codemirror_mode": {
    "name": "ipython",
    "version": 3
   },
   "file_extension": ".py",
   "mimetype": "text/x-python",
   "name": "python",
   "nbconvert_exporter": "python",
   "pygments_lexer": "ipython3",
   "version": "3.11.13"
  }
 },
 "nbformat": 4,
 "nbformat_minor": 5
}
