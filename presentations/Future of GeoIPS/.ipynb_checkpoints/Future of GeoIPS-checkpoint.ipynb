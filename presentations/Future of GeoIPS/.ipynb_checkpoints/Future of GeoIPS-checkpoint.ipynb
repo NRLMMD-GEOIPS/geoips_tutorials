{
 "cells": [
  {
   "cell_type": "markdown",
   "id": "2a28fdca-3869-41f7-8c3f-d631bda779f5",
   "metadata": {
    "editable": true,
    "slideshow": {
     "slide_type": "slide"
    },
    "tags": []
   },
   "source": [
    "# Future of GeoIPS\n",
    "### Gwyn Uttmark (CIRA)"
   ]
  },
  {
   "cell_type": "markdown",
   "id": "62f2f206-b05a-473a-b13f-f369e199509e",
   "metadata": {
    "editable": true,
    "slideshow": {
     "slide_type": "slide"
    },
    "tags": []
   },
   "source": [
    "# Future of GeoIPS\n",
    "\n",
    "- Procflow Overhaul\n",
    "- Easier Install\n",
    "- Cloud-native\n",
    "- Making Things Simple\n",
    "- Paralelization, GPU and ML Support\n",
    "- Beyond 2-Dimensions"
   ]
  },
  {
   "cell_type": "markdown",
   "id": "04b96075-e280-4b68-aa20-f6800b2e89a3",
   "metadata": {
    "editable": true,
    "slideshow": {
     "slide_type": "slide"
    },
    "tags": []
   },
   "source": [
    "## Order Based Procflow"
   ]
  },
  {
   "cell_type": "markdown",
   "id": "f3e5c887-2ec5-4b23-a949-701ad80a4d1f",
   "metadata": {
    "editable": true,
    "slideshow": {
     "slide_type": ""
    },
    "tags": []
   },
   "source": [
    "We're switching from the single procflow and the data fusion procflow to the **Order Based Procflow (OBP)**. This represents a major improvement in our ability to synthesize many different types of data and inputs into a workflow."
   ]
  },
  {
   "cell_type": "markdown",
   "id": "6ed902e2-334e-4fc4-acb6-27a433fb5f5d",
   "metadata": {
    "editable": true,
    "slideshow": {
     "slide_type": ""
    },
    "tags": []
   },
   "source": [
    "### Why things are the way they are\n",
    "- Previously: Single source of data input with heuristic-based checks (described as a \"plinko machine\")\n",
    "- Now: Order-based specification in YAML that runs steps in \"order\"\n",
    "- Much more flexible and reflective of how meteorological data can be processed today"
   ]
  },
  {
   "cell_type": "markdown",
   "id": "fee8cfe6-fe89-4688-8d51-33fdd5e9a7ad",
   "metadata": {
    "editable": true,
    "slideshow": {
     "slide_type": "slide"
    },
    "tags": []
   },
   "source": [
    "``` yaml\n",
    "interface: workflows\n",
    "family: order_based\n",
    "name: order_based_IR_BD\n",
    "docstring: |\n",
    "  The IR_BD default configuration.\n",
    "spec:\n",
    "  steps:\n",
    "    interpolator:\n",
    "      kind: interpolator\n",
    "      name: interp_nearest\n",
    "      arguments: {}\n",
    "    algorithm:\n",
    "      kind: algorithm\n",
    "      name: single_channel\n",
    "      arguments:\n",
    "        output_data_range: [-90.0, 40.0]\n",
    "        input_units: Kelvin\n",
    "        output_units: celsius\n",
    "        min_outbounds: crop\n",
    "        max_outbounds: crop\n",
    "        norm: null\n",
    "        inverse: null\n",
    "    output_formatter:\n",
    "      kind: output_formatter\n",
    "      name: imagery_annotated\n",
    "      arguments:\n",
    "        colormapper:\n",
    "          kind: colormapper\n",
    "          name: IR_BD\n",
    "          arguments:\n",
    "            data_range: [-90.0, 40.0]\n",
    "        filename_formatter:\n",
    "          kind: filename_formatter\n",
    "          name: geoips_fname\n",
    "          arguments:\n",
    "            suffix: \".png\"\n",
    "```"
   ]
  },
  {
   "cell_type": "markdown",
   "id": "2fd89bc4-04c3-4398-99c3-e34dcb5c6ca5",
   "metadata": {
    "editable": true,
    "slideshow": {
     "slide_type": "slide"
    },
    "tags": []
   },
   "source": [
    "### Why\n",
    "- **Idiomatic and clear**: \"What you see is what you get\"\n",
    "- **Backwards compatible**: Mechanisms to translate existing procflows\n",
    "- **Supports complex workflows**: Multiple inputs → multiple outputs\n",
    "- **Eliminates black box processing**: No more (or fewer at least) invisible heuristics\n",
    "- **Cloud-native eventually**: Designed with cloud deployment in mind"
   ]
  },
  {
   "cell_type": "markdown",
   "id": "4f1571e7-7132-47a6-84b0-5d281cffb8d2",
   "metadata": {
    "editable": true,
    "slideshow": {
     "slide_type": "slide"
    },
    "tags": []
   },
   "source": [
    "## Install\n",
    "\n",
    "```bash\n",
    "pip install geoips\n",
    "```\n",
    "- No need to clone repo for basic usage\n",
    "- Non-editable mode installation\n",
    "- Only need repo clone if developing core functionality\n",
    "\n",
    "**Plugin Installation**\n",
    "```bash\n",
    "pip install geoips-plugin-name geoips_clavrx geoips_data_fusion\n",
    "```\n",
    "\n",
    "**End users can simply**\n",
    "```bash\n",
    "pip install geoips your-magical-weather-package\n",
    "```\n",
    "And have a complete working solution."
   ]
  },
  {
   "cell_type": "markdown",
   "id": "4136ae9e-abef-4ef3-9c4d-59a168d64327",
   "metadata": {
    "editable": true,
    "slideshow": {
     "slide_type": "slide"
    },
    "tags": []
   },
   "source": [
    "### Docker\n",
    "- Development Docker image available now\n",
    "- Dockerfile with multiple build stages\n",
    "- Seeking feedback on dockerization needs\n",
    "\n",
    "**Goals:**\n",
    "- Smaller images for cloud-native applications\n",
    "- Reduced dependencies for minimal deployments\n",
    "- Clearer file organization\n",
    "- Fewer installation steps\n",
    "\n"
   ]
  },
  {
   "cell_type": "markdown",
   "id": "34f13957-45d7-46a0-8916-88e280ec401d",
   "metadata": {
    "editable": true,
    "slideshow": {
     "slide_type": "slide"
    },
    "tags": []
   },
   "source": [
    "## Cloud-native"
   ]
  },
  {
   "cell_type": "markdown",
   "id": "f96497c5-38e5-42e1-bfe7-e69e027ec6bb",
   "metadata": {
    "editable": true,
    "slideshow": {
     "slide_type": ""
    },
    "tags": []
   },
   "source": [
    "Moving toward deployment where **installing GeoIPS locally isn't even necessary**.\n",
    "\n",
    "**Benefits:**\n",
    "- Scalability\n",
    "- Division of concerns\n",
    "- Service-based architecture"
   ]
  },
  {
   "cell_type": "markdown",
   "id": "ca3d7c24-1280-4a3f-8585-e89dcab825f0",
   "metadata": {
    "editable": true,
    "slideshow": {
     "slide_type": "slide"
    },
    "tags": []
   },
   "source": [
    "## Infrastructure\n",
    "\n",
    "- On-prem/remote Kubernetes\n",
    "- Docker Swarm\n",
    "- Other clustering services, pick your poison\n",
    "- Quick AWS/Azure/Google Cloud cluster deployment\n",
    "\n",
    "**GeoIPS Driver (Open Source):**\n",
    "- File watcher\n",
    "- File database\n",
    "- Job dispatcher/query system\n",
    "- Complete clustered workflow deployment"
   ]
  },
  {
   "cell_type": "markdown",
   "id": "e3a842db-38ad-422c-95fe-735e77b33c47",
   "metadata": {
    "editable": true,
    "slideshow": {
     "slide_type": "slide"
    },
    "tags": []
   },
   "source": [
    "## Making Things Simple"
   ]
  },
  {
   "cell_type": "markdown",
   "id": "80816e26-5057-4c63-96c3-f2f6b1690a91",
   "metadata": {
    "editable": true,
    "slideshow": {
     "slide_type": ""
    },
    "tags": []
   },
   "source": [
    "**Current:**\n",
    "```bash\n",
    "# Current command (complex)\n",
    "geoips run single_source $GEOIPS_TESTDATA_DIR/test_data_noaa_aws/data/goes16/20200918/1950/* \\\n",
    "  --procflow single_source \\\n",
    "  --reader_name abi_netcdf \\\n",
    "  --product_name geocolor \\\n",
    "  --compare_path $GEOIPS_PACKAGES_DIR/geoips/tests/outputs/abi.tc.geocolor \\\n",
    "  --output_formatter imagery_annotated \\\n",
    "  --filename_formatter tc_fname \\\n",
    "  --resampled_read \\\n",
    "  --sector_list tc2020al20laura\n",
    "```\n"
   ]
  },
  {
   "cell_type": "markdown",
   "id": "6573ac26-c645-45e5-8b17-0021dd80f0f1",
   "metadata": {
    "editable": true,
    "slideshow": {
     "slide_type": "slide"
    },
    "tags": []
   },
   "source": [
    "## Sometimes you need simple\n",
    "```bash\n",
    "geoips create geocolor data_files/*\n",
    "```"
   ]
  },
  {
   "cell_type": "markdown",
   "id": "4eb89374-4f3b-4d0d-ab2e-e6cb1083f3de",
   "metadata": {
    "editable": true,
    "slideshow": {
     "slide_type": "slide"
    },
    "tags": []
   },
   "source": [
    "### Configuration\n",
    "- **Config file implementation**: Replace multiple environment variables\n",
    "- **Sane defaults**: Works out-of-the-box for basic use cases\n",
    "- **Better documentation**: Live, internet-accessible documentation\n",
    "- **Training partnerships**: Working with experts at CIRA"
   ]
  },
  {
   "cell_type": "markdown",
   "id": "fbebc3fc-d4d8-4bcc-90d7-ec6e130416a8",
   "metadata": {
    "editable": true,
    "slideshow": {
     "slide_type": "slide"
    },
    "tags": []
   },
   "source": [
    "### Philosophy\n",
    "- Simple for daily use\n",
    "- Order-based procflow for operational complexity\n",
    "- Clear documentation for advanced options"
   ]
  },
  {
   "cell_type": "markdown",
   "id": "b02e8e72-5e52-4782-b0aa-436f655622ee",
   "metadata": {
    "editable": true,
    "slideshow": {
     "slide_type": "slide"
    },
    "tags": []
   },
   "source": [
    "## Paralelization, GPU and ML Support\n",
    "\n",
    "- Consistent interfaces across different computational backends\n",
    "- Cloud-native parallelization tools"
   ]
  },
  {
   "cell_type": "markdown",
   "id": "40681f83-d81b-4bc5-a216-867c913b5dc6",
   "metadata": {
    "editable": true,
    "slideshow": {
     "slide_type": "slide"
    },
    "tags": []
   },
   "source": [
    "### Parallelization\n",
    "- Cluster/cloud-native deployment focused\n",
    "- Consistent and controllable resource usage\n",
    "- Avoid \"bursty\" usage patterns (1 core → 30 cores → 1 core)\n",
    "- Our goal is steady resource usage (e.g., consistent 4-core usage)"
   ]
  },
  {
   "cell_type": "markdown",
   "id": "6f23b50d-09d2-4bc1-8b52-229581cd9da7",
   "metadata": {
    "editable": true,
    "slideshow": {
     "slide_type": "slide"
    },
    "tags": []
   },
   "source": [
    "### GPU Support:\n",
    "- Already supports GPU-heavy algorithms\n",
    "- Example: Temporal interpolation work by Jason Apke at CIRA\n",
    "- Providing better guidance for GPU tooling setup"
   ]
  },
  {
   "cell_type": "markdown",
   "id": "a282d6b8-8de9-4c3b-9682-7f552d4893d6",
   "metadata": {
    "editable": true,
    "slideshow": {
     "slide_type": "slide"
    },
    "tags": []
   },
   "source": [
    "### Machine Learning Support\n",
    "- Product generation for ML model training\n",
    "- Data augmentation with labels\n",
    "- Real-time validation metrics\n",
    "- Integration with training workflows"
   ]
  },
  {
   "cell_type": "markdown",
   "id": "775befa4-4ce1-4cf1-bc08-6ab03e09aa09",
   "metadata": {
    "editable": true,
    "slideshow": {
     "slide_type": "slide"
    },
    "tags": []
   },
   "source": [
    "## Beyond 2-Dimensions"
   ]
  },
  {
   "cell_type": "markdown",
   "id": "d26591b6-762d-4205-9259-891d77f683e2",
   "metadata": {
    "editable": true,
    "slideshow": {
     "slide_type": ""
    },
    "tags": []
   },
   "source": [
    "- Typicaly: 2D spatial + 1D temporal data (satellite imagery)\n",
    "- Possible but somewhat difficult: Higher dimensional data\n",
    "\n",
    "**But there's so much more...**\n",
    "- **3D spatial + 1D temporal**: Volume data over time\n",
    "- **2D spatial + 2D temporal**: Time series imagery\n",
    "- **Hyperspectral**: 2D spatial + spectral dimensions\n",
    "- **Spectrum files**: 1D spatial, 0D temporal\n",
    "- **Arbitrary n-dimensional data**"
   ]
  },
  {
   "cell_type": "markdown",
   "id": "b8fded0a-7fda-4187-a032-5e7c17897fc0",
   "metadata": {
    "editable": true,
    "slideshow": {
     "slide_type": "slide"
    },
    "tags": []
   },
   "source": [
    "```python\n",
    "# Instead of separate interpolators for each dimension\n",
    "interpolate_2d(data_xobj)\n",
    "interpolate_3d(data_xobj)\n",
    "interpolate_4d(data_xobj)\n",
    "\n",
    "# Single interface with metadata awareness\n",
    "interpolate(data_xobj)  # Handles multiple dimensionalities\n",
    "```\n",
    "\n",
    "- Metadata-aware processing (don't interpolate time with space)\n",
    "- Transparent algorithm support\n",
    "- Coherent interface across dimensions\n",
    "- Support for complex data structures\n",
    "- Easy-to-use n-dimensional output formatters"
   ]
  },
  {
   "cell_type": "markdown",
   "id": "2b9ea619-f765-430f-a14e-a1bd0b96807a",
   "metadata": {
    "editable": true,
    "slideshow": {
     "slide_type": "slide"
    },
    "tags": []
   },
   "source": [
    "## Validation"
   ]
  },
  {
   "cell_type": "markdown",
   "id": "22e8d52e-dc15-4636-8051-3069c7a544cc",
   "metadata": {
    "editable": true,
    "slideshow": {
     "slide_type": ""
    },
    "tags": []
   },
   "source": [
    "**Real-time Quality Metrics:**\n",
    "- Percentage cloud coverage validation\n",
    "- Clear sky/ocean percentage checks\n",
    "- Sanity value checking (avoid 110% cloud, -5% ocean)\n",
    "  \n",
    "**Cross-platform Validation:**\n",
    "- **EarthCARE integration**: LIDAR/radar cloud depth/height data\n",
    "- Compare against CLAVRX outputs\n",
    "- Connecting procflow loops with validation"
   ]
  },
  {
   "cell_type": "markdown",
   "id": "eccf24b9-d847-4d89-b872-f1abc36692f7",
   "metadata": {
    "editable": true,
    "slideshow": {
     "slide_type": "slide"
    },
    "tags": []
   },
   "source": [
    "**Validation Products:**\n",
    "- Not operational products, but validation outputs\n",
    "- Quality level assessment\n",
    "- Performance monitoring\n",
    "- \"Tighten the loop\" feedback system\n",
    "\n",
    "**New Interfaces:**\n",
    "- Dedicated validation interface\n",
    "- Simplified validation product creation\n",
    "- Automated quality assessment tools"
   ]
  },
  {
   "cell_type": "markdown",
   "id": "4dcd4ea6-ddbd-4e0b-8b6d-fbc4b04ec9f2",
   "metadata": {
    "editable": true,
    "slideshow": {
     "slide_type": "slide"
    },
    "tags": []
   },
   "source": [
    "## Testing"
   ]
  },
  {
   "cell_type": "markdown",
   "id": "b603040d-6fdb-452e-a532-d6929439aefa",
   "metadata": {
    "editable": true,
    "slideshow": {
     "slide_type": ""
    },
    "tags": []
   },
   "source": [
    "**Recent Improvements:**\n",
    "- More efficient test execution\n",
    "- Reduced test data requirements (small sectors vs. full disk/CONUS)\n",
    "- Increased continuous integration testing\n",
    "- More Python unit tests"
   ]
  },
  {
   "cell_type": "markdown",
   "id": "bfabdcad-acec-4e62-b921-256d9b188f44",
   "metadata": {
    "editable": true,
    "slideshow": {
     "slide_type": "slide"
    },
    "tags": []
   },
   "source": [
    "**Future Goals:**\n",
    "- **95% line coverage**: Most of GeoIPS code touched by tests\n",
    "- **Faster integration tests**: \n",
    "  - Tokenizing and hashing\n",
    "  - In-memory comparisons\n",
    "  - Reduced pixel-by-pixel image comparisons"
   ]
  },
  {
   "cell_type": "markdown",
   "id": "9722a95a-c3f5-4082-b6ea-d18b242b5c69",
   "metadata": {
    "editable": true,
    "slideshow": {
     "slide_type": ""
    },
    "tags": []
   },
   "source": [
    "**Tooling Development:**\n",
    "- Meteorological data testing tools\n",
    "- Faster, more efficient testing workflows\n",
    "- Better test data management"
   ]
  },
  {
   "cell_type": "markdown",
   "id": "249e1f04-b00a-4524-8586-83a30e3aea3b",
   "metadata": {
    "editable": true,
    "slideshow": {
     "slide_type": "slide"
    },
    "tags": []
   },
   "source": [
    "**We're especially interested in feedback on:**\n",
    "- Dockerization requirements\n",
    "- Parallelization needs  \n",
    "- GPU workflows\n",
    "- Cloud-native deployments\n",
    "\n",
    "**Now is the time to speak up** - our roadmaps are still flexible!"
   ]
  }
 ],
 "metadata": {
  "kernelspec": {
   "display_name": "Python 3 (ipykernel)",
   "language": "python",
   "name": "python3"
  },
  "language_info": {
   "codemirror_mode": {
    "name": "ipython",
    "version": 3
   },
   "file_extension": ".py",
   "mimetype": "text/x-python",
   "name": "python",
   "nbconvert_exporter": "python",
   "pygments_lexer": "ipython3",
   "version": "3.9.6"
  }
 },
 "nbformat": 4,
 "nbformat_minor": 5
}
